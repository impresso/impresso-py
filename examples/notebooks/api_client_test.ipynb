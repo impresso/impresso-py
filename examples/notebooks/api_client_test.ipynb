{
 "cells": [
  {
   "cell_type": "markdown",
   "id": "d177d0ef-fea9-4d30-8be3-64f74beb55f9",
   "metadata": {},
   "source": [
    "Enter username and password to log into Impresso"
   ]
  },
  {
   "cell_type": "code",
   "execution_count": null,
   "id": "c8728bd1-06c4-4ff9-9992-d81680b77da8",
   "metadata": {},
   "outputs": [],
   "source": [
    "import getpass\n",
    "\n",
    "username = input(\"Enter your username: \")\n",
    "password = getpass.getpass(\"Enter your password: \")"
   ]
  },
  {
   "cell_type": "code",
   "execution_count": null,
   "id": "885bd870-64a2-43d9-9ad1-ceb51fb9660e",
   "metadata": {},
   "outputs": [],
   "source": [
    "from impresso.api_client import ApiClient, AuthenticationApi, AuthRequestSchema, Configuration, SearchApi\n",
    "from impresso.api_client.rest import ApiException\n",
    "import pprint\n",
    "\n",
    "configuration = Configuration(\n",
    "    host = \"http://localhost:3030\"\n",
    ")\n",
    "print(f\"Using Public API running on {configuration.host}\")"
   ]
  },
  {
   "cell_type": "code",
   "execution_count": null,
   "id": "42bbcf9b-0e0d-45e5-83af-1b79d9d56673",
   "metadata": {},
   "outputs": [],
   "source": [
    "def get_token(username: str, password: str, configuration: Configuration):\n",
    "    with ApiClient(configuration) as api_client:\n",
    "        api_instance = AuthenticationApi(api_client)\n",
    "        auth_request_schema = AuthRequestSchema(\n",
    "            email = username,\n",
    "            password = password,\n",
    "            strategy = \"local\",\n",
    "        )\n",
    "        try:\n",
    "            api_response = api_instance.authentication_post(auth_request_schema)\n",
    "            print(\"The response of AuthenticationApi->authentication_post:\\n\")\n",
    "            pprint(api_response)\n",
    "            return api_response.access_token\n",
    "        except ApiException as e:\n",
    "            print(\"Exception when calling AuthenticationApi->authentication_post: %s\\n\" % e)\n",
    "\n",
    "\n",
    "configuration.access_token = get_token(username, password, configuration)"
   ]
  },
  {
   "cell_type": "code",
   "execution_count": null,
   "id": "10d98b01-6871-43f8-b2fb-ff59ea0ff097",
   "metadata": {},
   "outputs": [],
   "source": [
    "with ApiClient(configuration) as api_client:\n",
    "    search_api = SearchApi(api_client)\n",
    "    response = search_api.search_get(\n",
    "        q=\"python\",\n",
    "        group_by='articles',\n",
    "        limit=1\n",
    "    )\n",
    "    print(\"The response of SearchApi->search_get:\\n\")\n",
    "    pprint(response)"
   ]
  }
 ],
 "metadata": {
  "kernelspec": {
   "display_name": "Python 3 (ipykernel)",
   "language": "python",
   "name": "python3"
  },
  "language_info": {
   "codemirror_mode": {
    "name": "ipython",
    "version": 3
   },
   "file_extension": ".py",
   "mimetype": "text/x-python",
   "name": "python",
   "nbconvert_exporter": "python",
   "pygments_lexer": "ipython3",
   "version": "3.11.8"
  }
 },
 "nbformat": 4,
 "nbformat_minor": 5
}
