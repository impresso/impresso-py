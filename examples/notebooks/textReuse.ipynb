{
 "cells": [
  {
   "cell_type": "code",
   "execution_count": 1,
   "metadata": {},
   "outputs": [
    {
     "name": "stdout",
     "output_type": "stream",
     "text": [
      "🎉 You are now connected to the Impresso API!  🎉\n",
      "🔗 Using API: https://dev.impresso-project.ch/public-api/v1\n"
     ]
    }
   ],
   "source": [
    "from impresso import connect, AND, OR\n",
    "\n",
    "impresso = connect()"
   ]
  },
  {
   "cell_type": "markdown",
   "metadata": {},
   "source": [
    "# Text reuse clusters"
   ]
  },
  {
   "cell_type": "markdown",
   "metadata": {},
   "source": [
    "## Find clusters mentioning text"
   ]
  },
  {
   "cell_type": "code",
   "execution_count": 2,
   "metadata": {},
   "outputs": [
    {
     "data": {
      "text/html": [
       "<div style=\"display: grid; \">\n",
       "<div>\n",
       "<h2>FindTextReuseClusters result</h2>\n",
       "<div>Contains <b>5</b> items (<b>2</b> - <b>7</b>) of <b>10</b> total items.</div>\n",
       "<br/>\n",
       "See this result in the <a href=\"https://impresso-project.ch/app/text-reuse/clusters?orderBy=passages-count&sq=CgoYByoGYmFuYW5h&p=1\">Impresso App</a>.\n",
       "</div>\n",
       "</div>\n",
       "<h3>Data preview:</h3>\n",
       "<div>\n",
       "<style scoped>\n",
       "    .dataframe tbody tr th:only-of-type {\n",
       "        vertical-align: middle;\n",
       "    }\n",
       "\n",
       "    .dataframe tbody tr th {\n",
       "        vertical-align: top;\n",
       "    }\n",
       "\n",
       "    .dataframe thead th {\n",
       "        text-align: right;\n",
       "    }\n",
       "</style>\n",
       "<table border=\"1\" class=\"dataframe\">\n",
       "  <thead>\n",
       "    <tr style=\"text-align: right;\">\n",
       "      <th></th>\n",
       "      <th>lexicalOverlap</th>\n",
       "      <th>clusterSize</th>\n",
       "      <th>textSample</th>\n",
       "      <th>timeCoverage.startDate</th>\n",
       "      <th>timeCoverage.endDate</th>\n",
       "    </tr>\n",
       "    <tr>\n",
       "      <th>uid</th>\n",
       "      <th></th>\n",
       "      <th></th>\n",
       "      <th></th>\n",
       "      <th></th>\n",
       "      <th></th>\n",
       "    </tr>\n",
       "  </thead>\n",
       "  <tbody>\n",
       "    <tr>\n",
       "      <th>tr-all-v1-24-c77310101729</th>\n",
       "      <td>79.439252</td>\n",
       "      <td>2</td>\n",
       "      <td>sont pas admis.\\nTaxe fr. 3, 50 ( bonification...</td>\n",
       "      <td>1887-06-22</td>\n",
       "      <td>1887-06-23</td>\n",
       "    </tr>\n",
       "    <tr>\n",
       "      <th>tr-all-v1-24-c77310101732</th>\n",
       "      <td>39.743590</td>\n",
       "      <td>2</td>\n",
       "      <td>sont pas admis.\\nTaxe fr. 3, 50 ( bonification...</td>\n",
       "      <td>1887-06-23</td>\n",
       "      <td>1887-06-23</td>\n",
       "    </tr>\n",
       "    <tr>\n",
       "      <th>tr-all-v1-24-c244588</th>\n",
       "      <td>78.823529</td>\n",
       "      <td>2</td>\n",
       "      <td>Suisses à l’étranger. — La Suisse aura mainten...</td>\n",
       "      <td>1884-08-20</td>\n",
       "      <td>1884-08-21</td>\n",
       "    </tr>\n",
       "  </tbody>\n",
       "</table>\n",
       "</div>"
      ],
      "text/plain": [
       "<impresso.resources.text_reuse.clusters.FindTextReuseClustersContainer at 0x11b49c5d0>"
      ]
     },
     "execution_count": 2,
     "metadata": {},
     "output_type": "execute_result"
    }
   ],
   "source": [
    "impresso.text_reuse.clusters.find(\n",
    "    term=\"banana\",\n",
    "    offset=2,\n",
    "    limit=5,\n",
    "    order_by=\"passages-count\",\n",
    ")"
   ]
  },
  {
   "cell_type": "markdown",
   "metadata": {},
   "source": [
    "### Pagination"
   ]
  },
  {
   "cell_type": "code",
   "execution_count": 3,
   "metadata": {},
   "outputs": [
    {
     "name": "stdout",
     "output_type": "stream",
     "text": [
      "Total items in the result set: 10. Limit: 5. Offset: 0. Size: 5.\n",
      "Got page 0 - 5 of 10. The first title is tr-all-v1-24-c8590049316\n",
      "Got page 5 - 10 of 10. The first title is tr-all-v1-24-c51540329030\n"
     ]
    }
   ],
   "source": [
    "result = impresso.text_reuse.clusters.find(\n",
    "    term=\"banana\",\n",
    "    limit=5,\n",
    "    order_by=\"passages-count\",\n",
    ")\n",
    "\n",
    "print(f\"Total items in the result set: {result.total}. Limit: {result.limit}. Offset: {result.offset}. Size: {result.size}.\")\n",
    "for page in result.pages():\n",
    "    print(\n",
    "        f\"Got page {page.offset} - {page.offset + page.size} of {page.total}. \"\n",
    "        + f\"The first title is {page.raw['data'][0]['uid']}\"\n",
    "    )"
   ]
  },
  {
   "cell_type": "markdown",
   "metadata": {},
   "source": [
    "## Cluster size"
   ]
  },
  {
   "cell_type": "code",
   "execution_count": 4,
   "metadata": {},
   "outputs": [
    {
     "data": {
      "text/html": [
       "<div style=\"display: grid; \">\n",
       "<div>\n",
       "<h2>FindTextReuseClusters result</h2>\n",
       "<div>Contains <b>0</b> items of <b>0</b> total items.</div>\n",
       "<br/>\n",
       "See this result in the <a href=\"https://impresso-project.ch/app/text-reuse/clusters?sq=CgoYByoGYmFuYW5hCg0YGioJNTAgVE8gMTAw&p=1\">Impresso App</a>.\n",
       "</div>\n",
       "</div>\n",
       "<h3>Data preview:</h3>\n",
       "<div>\n",
       "<style scoped>\n",
       "    .dataframe tbody tr th:only-of-type {\n",
       "        vertical-align: middle;\n",
       "    }\n",
       "\n",
       "    .dataframe tbody tr th {\n",
       "        vertical-align: top;\n",
       "    }\n",
       "\n",
       "    .dataframe thead th {\n",
       "        text-align: right;\n",
       "    }\n",
       "</style>\n",
       "<table border=\"1\" class=\"dataframe\">\n",
       "  <thead>\n",
       "    <tr style=\"text-align: right;\">\n",
       "      <th></th>\n",
       "    </tr>\n",
       "  </thead>\n",
       "  <tbody>\n",
       "  </tbody>\n",
       "</table>\n",
       "</div>"
      ],
      "text/plain": [
       "<impresso.resources.text_reuse.clusters.FindTextReuseClustersContainer at 0x11b61cd90>"
      ]
     },
     "execution_count": 4,
     "metadata": {},
     "output_type": "execute_result"
    }
   ],
   "source": [
    "impresso.text_reuse.clusters.find(\n",
    "    term=\"banana\",\n",
    "    cluster_size=(50, 100),\n",
    ")"
   ]
  },
  {
   "cell_type": "markdown",
   "metadata": {},
   "source": [
    "## Mentioning text in title"
   ]
  },
  {
   "cell_type": "code",
   "execution_count": 5,
   "metadata": {},
   "outputs": [
    {
     "data": {
      "text/html": [
       "<div style=\"display: grid; \">\n",
       "<div>\n",
       "<h2>FindTextReuseClusters result</h2>\n",
       "<div>Contains <b>0</b> items of <b>0</b> total items.</div>\n",
       "<br/>\n",
       "See this result in the <a href=\"https://impresso-project.ch/app/text-reuse/clusters?sq=Cg4YGioKMTAwIFRPIDIwMAoYEAEYAyoGc3Vpc3NlKgpsdXhlbWJvdXJn&p=1\">Impresso App</a>.\n",
       "</div>\n",
       "</div>\n",
       "<h3>Data preview:</h3>\n",
       "<div>\n",
       "<style scoped>\n",
       "    .dataframe tbody tr th:only-of-type {\n",
       "        vertical-align: middle;\n",
       "    }\n",
       "\n",
       "    .dataframe tbody tr th {\n",
       "        vertical-align: top;\n",
       "    }\n",
       "\n",
       "    .dataframe thead th {\n",
       "        text-align: right;\n",
       "    }\n",
       "</style>\n",
       "<table border=\"1\" class=\"dataframe\">\n",
       "  <thead>\n",
       "    <tr style=\"text-align: right;\">\n",
       "      <th></th>\n",
       "    </tr>\n",
       "  </thead>\n",
       "  <tbody>\n",
       "  </tbody>\n",
       "</table>\n",
       "</div>"
      ],
      "text/plain": [
       "<impresso.resources.text_reuse.clusters.FindTextReuseClustersContainer at 0x11bc4e390>"
      ]
     },
     "execution_count": 5,
     "metadata": {},
     "output_type": "execute_result"
    }
   ],
   "source": [
    "impresso.text_reuse.clusters.find(\n",
    "    title=AND(\"luxembourg\", \"suisse\"),\n",
    "    cluster_size=(100, 200),\n",
    ")"
   ]
  },
  {
   "cell_type": "markdown",
   "metadata": {},
   "source": [
    "## Lexical overlap"
   ]
  },
  {
   "cell_type": "code",
   "execution_count": 6,
   "metadata": {},
   "outputs": [
    {
     "data": {
      "text/html": [
       "<div style=\"display: grid; \">\n",
       "<div>\n",
       "<h2>FindTextReuseClusters result</h2>\n",
       "<div>Contains <b>0</b> items of <b>0</b> total items.</div>\n",
       "<br/>\n",
       "See this result in the <a href=\"https://impresso-project.ch/app/text-reuse/clusters?sq=CgoYByoGYmFuYW5hCgwYGyoINTAgVE8gNTE=&p=1\">Impresso App</a>.\n",
       "</div>\n",
       "</div>\n",
       "<h3>Data preview:</h3>\n",
       "<div>\n",
       "<style scoped>\n",
       "    .dataframe tbody tr th:only-of-type {\n",
       "        vertical-align: middle;\n",
       "    }\n",
       "\n",
       "    .dataframe tbody tr th {\n",
       "        vertical-align: top;\n",
       "    }\n",
       "\n",
       "    .dataframe thead th {\n",
       "        text-align: right;\n",
       "    }\n",
       "</style>\n",
       "<table border=\"1\" class=\"dataframe\">\n",
       "  <thead>\n",
       "    <tr style=\"text-align: right;\">\n",
       "      <th></th>\n",
       "    </tr>\n",
       "  </thead>\n",
       "  <tbody>\n",
       "  </tbody>\n",
       "</table>\n",
       "</div>"
      ],
      "text/plain": [
       "<impresso.resources.text_reuse.clusters.FindTextReuseClustersContainer at 0x11bd2ed50>"
      ]
     },
     "execution_count": 6,
     "metadata": {},
     "output_type": "execute_result"
    }
   ],
   "source": [
    "impresso.text_reuse.clusters.find(\n",
    "    term=\"banana\",\n",
    "    lexical_overlap=(50, 51),\n",
    ")"
   ]
  },
  {
   "cell_type": "markdown",
   "metadata": {},
   "source": [
    "## Day delta\n",
    "\n",
    "Number of days between the first and last mention of the text in the cluster."
   ]
  },
  {
   "cell_type": "code",
   "execution_count": 7,
   "metadata": {},
   "outputs": [
    {
     "data": {
      "text/html": [
       "<div style=\"display: grid; \">\n",
       "<div>\n",
       "<h2>FindTextReuseClusters result</h2>\n",
       "<div>Contains <b>1</b> items of <b>1</b> total items.</div>\n",
       "<br/>\n",
       "See this result in the <a href=\"https://impresso-project.ch/app/text-reuse/clusters?sq=CgoYByoGYmFuYW5hCg0YHCoJNTAgVE8gMTAw&p=1\">Impresso App</a>.\n",
       "</div>\n",
       "</div>\n",
       "<h3>Data preview:</h3>\n",
       "<div>\n",
       "<style scoped>\n",
       "    .dataframe tbody tr th:only-of-type {\n",
       "        vertical-align: middle;\n",
       "    }\n",
       "\n",
       "    .dataframe tbody tr th {\n",
       "        vertical-align: top;\n",
       "    }\n",
       "\n",
       "    .dataframe thead th {\n",
       "        text-align: right;\n",
       "    }\n",
       "</style>\n",
       "<table border=\"1\" class=\"dataframe\">\n",
       "  <thead>\n",
       "    <tr style=\"text-align: right;\">\n",
       "      <th></th>\n",
       "      <th>lexicalOverlap</th>\n",
       "      <th>clusterSize</th>\n",
       "      <th>textSample</th>\n",
       "      <th>timeCoverage.startDate</th>\n",
       "      <th>timeCoverage.endDate</th>\n",
       "    </tr>\n",
       "    <tr>\n",
       "      <th>uid</th>\n",
       "      <th></th>\n",
       "      <th></th>\n",
       "      <th></th>\n",
       "      <th></th>\n",
       "      <th></th>\n",
       "    </tr>\n",
       "  </thead>\n",
       "  <tbody>\n",
       "    <tr>\n",
       "      <th>tr-all-v1-24-c137439334025</th>\n",
       "      <td>78.536585</td>\n",
       "      <td>2</td>\n",
       "      <td>Les Sociétés anonymes suisses\\npendant la cris...</td>\n",
       "      <td>1937-05-08</td>\n",
       "      <td>1937-07-10</td>\n",
       "    </tr>\n",
       "  </tbody>\n",
       "</table>\n",
       "</div>"
      ],
      "text/plain": [
       "<impresso.resources.text_reuse.clusters.FindTextReuseClustersContainer at 0x11bd2fad0>"
      ]
     },
     "execution_count": 7,
     "metadata": {},
     "output_type": "execute_result"
    }
   ],
   "source": [
    "impresso.text_reuse.clusters.find(\n",
    "    term=\"banana\",\n",
    "    day_delta=(50, 100),\n",
    ")"
   ]
  },
  {
   "cell_type": "markdown",
   "metadata": {},
   "source": [
    "## Date range"
   ]
  },
  {
   "cell_type": "code",
   "execution_count": 8,
   "metadata": {},
   "outputs": [
    {
     "data": {
      "text/html": [
       "<div style=\"display: grid; \">\n",
       "<div>\n",
       "<h2>FindTextReuseClusters result</h2>\n",
       "<div>Contains <b>5</b> items of <b>5</b> total items.</div>\n",
       "<br/>\n",
       "See this result in the <a href=\"https://impresso-project.ch/app/text-reuse/clusters?sq=CgoYByoGYmFuYW5hCjAYCiosMTkyMS0wNS0yMVQwMDowMDowMFogVE8gMjAwMS0wMS0wMlQwMDowMDowMFo=&p=1\">Impresso App</a>.\n",
       "</div>\n",
       "</div>\n",
       "<h3>Data preview:</h3>\n",
       "<div>\n",
       "<style scoped>\n",
       "    .dataframe tbody tr th:only-of-type {\n",
       "        vertical-align: middle;\n",
       "    }\n",
       "\n",
       "    .dataframe tbody tr th {\n",
       "        vertical-align: top;\n",
       "    }\n",
       "\n",
       "    .dataframe thead th {\n",
       "        text-align: right;\n",
       "    }\n",
       "</style>\n",
       "<table border=\"1\" class=\"dataframe\">\n",
       "  <thead>\n",
       "    <tr style=\"text-align: right;\">\n",
       "      <th></th>\n",
       "      <th>lexicalOverlap</th>\n",
       "      <th>clusterSize</th>\n",
       "      <th>textSample</th>\n",
       "      <th>timeCoverage.startDate</th>\n",
       "      <th>timeCoverage.endDate</th>\n",
       "    </tr>\n",
       "    <tr>\n",
       "      <th>uid</th>\n",
       "      <th></th>\n",
       "      <th></th>\n",
       "      <th></th>\n",
       "      <th></th>\n",
       "      <th></th>\n",
       "    </tr>\n",
       "  </thead>\n",
       "  <tbody>\n",
       "    <tr>\n",
       "      <th>tr-all-v1-24-c85900161645</th>\n",
       "      <td>53.061224</td>\n",
       "      <td>4</td>\n",
       "      <td>werden.\\nAls Reise-Neuheiten präsentiert die p...</td>\n",
       "      <td>1977-01-20</td>\n",
       "      <td>1977-02-09</td>\n",
       "    </tr>\n",
       "    <tr>\n",
       "      <th>tr-all-v1-24-c77310034000</th>\n",
       "      <td>52.046784</td>\n",
       "      <td>2</td>\n",
       "      <td>Nos brochures con-\\ntiennent davantage d'atout...</td>\n",
       "      <td>1977-04-06</td>\n",
       "      <td>1977-04-15</td>\n",
       "    </tr>\n",
       "    <tr>\n",
       "      <th>tr-all-v1-24-c51540329030</th>\n",
       "      <td>90.476190</td>\n",
       "      <td>2</td>\n",
       "      <td>Un slogan pour les catalogues Popularis en cou...</td>\n",
       "      <td>1977-04-06</td>\n",
       "      <td>1977-04-15</td>\n",
       "    </tr>\n",
       "  </tbody>\n",
       "</table>\n",
       "</div>"
      ],
      "text/plain": [
       "<impresso.resources.text_reuse.clusters.FindTextReuseClustersContainer at 0x11baa4d90>"
      ]
     },
     "execution_count": 8,
     "metadata": {},
     "output_type": "execute_result"
    }
   ],
   "source": [
    "from impresso import DateRange\n",
    "\n",
    "impresso.text_reuse.clusters.find(\n",
    "    term=\"banana\", \n",
    "    date_range=DateRange(\"1921-05-21\", \"2001-01-02\")\n",
    ")"
   ]
  },
  {
   "cell_type": "markdown",
   "metadata": {},
   "source": [
    "## Newspaper"
   ]
  },
  {
   "cell_type": "code",
   "execution_count": 9,
   "metadata": {},
   "outputs": [
    {
     "data": {
      "text/html": [
       "<div style=\"display: grid; \">\n",
       "<div>\n",
       "<h2>FindTextReuseClusters result</h2>\n",
       "<div>Contains <b>0</b> items of <b>0</b> total items.</div>\n",
       "<br/>\n",
       "See this result in the <a href=\"https://impresso-project.ch/app/text-reuse/clusters?sq=CgoYByoGYmFuYW5hCgwYCSoDR0RMKgNFWFA=&p=1\">Impresso App</a>.\n",
       "</div>\n",
       "</div>\n",
       "<h3>Data preview:</h3>\n",
       "<div>\n",
       "<style scoped>\n",
       "    .dataframe tbody tr th:only-of-type {\n",
       "        vertical-align: middle;\n",
       "    }\n",
       "\n",
       "    .dataframe tbody tr th {\n",
       "        vertical-align: top;\n",
       "    }\n",
       "\n",
       "    .dataframe thead th {\n",
       "        text-align: right;\n",
       "    }\n",
       "</style>\n",
       "<table border=\"1\" class=\"dataframe\">\n",
       "  <thead>\n",
       "    <tr style=\"text-align: right;\">\n",
       "      <th></th>\n",
       "    </tr>\n",
       "  </thead>\n",
       "  <tbody>\n",
       "  </tbody>\n",
       "</table>\n",
       "</div>"
      ],
      "text/plain": [
       "<impresso.resources.text_reuse.clusters.FindTextReuseClustersContainer at 0x11bd2d5d0>"
      ]
     },
     "execution_count": 9,
     "metadata": {},
     "output_type": "execute_result"
    }
   ],
   "source": [
    "impresso.text_reuse.clusters.find(\n",
    "    term=\"banana\", \n",
    "    newspaper_id=OR(\"EXP\", \"GDL\"),\n",
    ")"
   ]
  },
  {
   "cell_type": "markdown",
   "metadata": {},
   "source": [
    "## Collection"
   ]
  },
  {
   "cell_type": "code",
   "execution_count": 10,
   "metadata": {},
   "outputs": [
    {
     "data": {
      "text/html": [
       "<div style=\"display: grid; \">\n",
       "<div>\n",
       "<h2>FindTextReuseClusters result</h2>\n",
       "<div>Contains <b>0</b> items of <b>0</b> total items.</div>\n",
       "<br/>\n",
       "See this result in the <a href=\"https://impresso-project.ch/app/text-reuse/clusters?sq=CgwYEyoIMTIzMTIzMTI=&p=1\">Impresso App</a>.\n",
       "</div>\n",
       "</div>\n",
       "<h3>Data preview:</h3>\n",
       "<div>\n",
       "<style scoped>\n",
       "    .dataframe tbody tr th:only-of-type {\n",
       "        vertical-align: middle;\n",
       "    }\n",
       "\n",
       "    .dataframe tbody tr th {\n",
       "        vertical-align: top;\n",
       "    }\n",
       "\n",
       "    .dataframe thead th {\n",
       "        text-align: right;\n",
       "    }\n",
       "</style>\n",
       "<table border=\"1\" class=\"dataframe\">\n",
       "  <thead>\n",
       "    <tr style=\"text-align: right;\">\n",
       "      <th></th>\n",
       "    </tr>\n",
       "  </thead>\n",
       "  <tbody>\n",
       "  </tbody>\n",
       "</table>\n",
       "</div>"
      ],
      "text/plain": [
       "<impresso.resources.text_reuse.clusters.FindTextReuseClustersContainer at 0x11bd22690>"
      ]
     },
     "execution_count": 10,
     "metadata": {},
     "output_type": "execute_result"
    }
   ],
   "source": [
    "impresso.text_reuse.clusters.find(collection_id=\"12312312\")"
   ]
  },
  {
   "cell_type": "markdown",
   "metadata": {},
   "source": [
    "## Front page"
   ]
  },
  {
   "cell_type": "code",
   "execution_count": 11,
   "metadata": {},
   "outputs": [
    {
     "data": {
      "text/html": [
       "<div style=\"display: grid; \">\n",
       "<div>\n",
       "<h2>FindTextReuseClusters result</h2>\n",
       "<div>Contains <b>0</b> items of <b>0</b> total items.</div>\n",
       "<br/>\n",
       "See this result in the <a href=\"https://impresso-project.ch/app/text-reuse/clusters?sq=CgoYByoGYmFuYW5hCgIYBA==&p=1\">Impresso App</a>.\n",
       "</div>\n",
       "</div>\n",
       "<h3>Data preview:</h3>\n",
       "<div>\n",
       "<style scoped>\n",
       "    .dataframe tbody tr th:only-of-type {\n",
       "        vertical-align: middle;\n",
       "    }\n",
       "\n",
       "    .dataframe tbody tr th {\n",
       "        vertical-align: top;\n",
       "    }\n",
       "\n",
       "    .dataframe thead th {\n",
       "        text-align: right;\n",
       "    }\n",
       "</style>\n",
       "<table border=\"1\" class=\"dataframe\">\n",
       "  <thead>\n",
       "    <tr style=\"text-align: right;\">\n",
       "      <th></th>\n",
       "    </tr>\n",
       "  </thead>\n",
       "  <tbody>\n",
       "  </tbody>\n",
       "</table>\n",
       "</div>"
      ],
      "text/plain": [
       "<impresso.resources.text_reuse.clusters.FindTextReuseClustersContainer at 0x11bd20a50>"
      ]
     },
     "execution_count": 11,
     "metadata": {},
     "output_type": "execute_result"
    }
   ],
   "source": [
    "impresso.text_reuse.clusters.find(\n",
    "    term=\"banana\", \n",
    "    front_page=True,\n",
    ")"
   ]
  },
  {
   "cell_type": "markdown",
   "metadata": {},
   "source": [
    "## Topic"
   ]
  },
  {
   "cell_type": "code",
   "execution_count": 12,
   "metadata": {},
   "outputs": [
    {
     "data": {
      "text/html": [
       "<div style=\"display: grid; \">\n",
       "<div>\n",
       "<h2>FindTextReuseClusters result</h2>\n",
       "<div>Contains <b>0</b> items of <b>0</b> total items.</div>\n",
       "<br/>\n",
       "See this result in the <a href=\"https://impresso-project.ch/app/text-reuse/clusters?sq=CgoYByoGYmFuYW5hCjIYEioWdG0tZnItYWxsLXYyLjBfdHAwN19mcioWdG0tZnItYWxsLXYyLjBfdHA0OF9mcg==&p=1\">Impresso App</a>.\n",
       "</div>\n",
       "</div>\n",
       "<h3>Data preview:</h3>\n",
       "<div>\n",
       "<style scoped>\n",
       "    .dataframe tbody tr th:only-of-type {\n",
       "        vertical-align: middle;\n",
       "    }\n",
       "\n",
       "    .dataframe tbody tr th {\n",
       "        vertical-align: top;\n",
       "    }\n",
       "\n",
       "    .dataframe thead th {\n",
       "        text-align: right;\n",
       "    }\n",
       "</style>\n",
       "<table border=\"1\" class=\"dataframe\">\n",
       "  <thead>\n",
       "    <tr style=\"text-align: right;\">\n",
       "      <th></th>\n",
       "    </tr>\n",
       "  </thead>\n",
       "  <tbody>\n",
       "  </tbody>\n",
       "</table>\n",
       "</div>"
      ],
      "text/plain": [
       "<impresso.resources.text_reuse.clusters.FindTextReuseClustersContainer at 0x11bd3ab50>"
      ]
     },
     "execution_count": 12,
     "metadata": {},
     "output_type": "execute_result"
    }
   ],
   "source": [
    "impresso.text_reuse.clusters.find(\n",
    "    term=\"banana\", \n",
    "    topic_id=OR(\"tm-fr-all-v2.0_tp07_fr\", \"tm-fr-all-v2.0_tp48_fr\")\n",
    ")"
   ]
  },
  {
   "cell_type": "markdown",
   "metadata": {},
   "source": [
    "## Language"
   ]
  },
  {
   "cell_type": "code",
   "execution_count": 13,
   "metadata": {},
   "outputs": [
    {
     "data": {
      "text/html": [
       "<div style=\"display: grid; \">\n",
       "<div>\n",
       "<h2>FindTextReuseClusters result</h2>\n",
       "<div>Contains <b>5</b> items of <b>5</b> total items.</div>\n",
       "<br/>\n",
       "See this result in the <a href=\"https://impresso-project.ch/app/text-reuse/clusters?sq=Cg4YByoKbHV4ZW1ib3VyZwoKGAwqAmVuKgJpdA==&p=1\">Impresso App</a>.\n",
       "</div>\n",
       "</div>\n",
       "<h3>Data preview:</h3>\n",
       "<div>\n",
       "<style scoped>\n",
       "    .dataframe tbody tr th:only-of-type {\n",
       "        vertical-align: middle;\n",
       "    }\n",
       "\n",
       "    .dataframe tbody tr th {\n",
       "        vertical-align: top;\n",
       "    }\n",
       "\n",
       "    .dataframe thead th {\n",
       "        text-align: right;\n",
       "    }\n",
       "</style>\n",
       "<table border=\"1\" class=\"dataframe\">\n",
       "  <thead>\n",
       "    <tr style=\"text-align: right;\">\n",
       "      <th></th>\n",
       "      <th>lexicalOverlap</th>\n",
       "      <th>clusterSize</th>\n",
       "      <th>textSample</th>\n",
       "      <th>timeCoverage.startDate</th>\n",
       "      <th>timeCoverage.endDate</th>\n",
       "    </tr>\n",
       "    <tr>\n",
       "      <th>uid</th>\n",
       "      <th></th>\n",
       "      <th></th>\n",
       "      <th></th>\n",
       "      <th></th>\n",
       "      <th></th>\n",
       "    </tr>\n",
       "  </thead>\n",
       "  <tbody>\n",
       "    <tr>\n",
       "      <th>tr-all-v1-24-c8589980257</th>\n",
       "      <td>66.153846</td>\n",
       "      <td>2</td>\n",
       "      <td>The British- Luxembourg Society\\nbeg to call t...</td>\n",
       "      <td>1948-04-01</td>\n",
       "      <td>1948-04-01</td>\n",
       "    </tr>\n",
       "    <tr>\n",
       "      <th>tr-all-v1-24-c336675</th>\n",
       "      <td>76.923077</td>\n",
       "      <td>2</td>\n",
       "      <td>Amsterdam, Atlanta, Barcelona, Brussels, Chica...</td>\n",
       "      <td>1989-12-02</td>\n",
       "      <td>1990-04-13</td>\n",
       "    </tr>\n",
       "    <tr>\n",
       "      <th>tr-all-v1-24-c10636</th>\n",
       "      <td>18.840580</td>\n",
       "      <td>30</td>\n",
       "      <td>INTERNATIONAL\\nHOLDING S.A.\\nSociété Anonyme\\n...</td>\n",
       "      <td>1975-07-11</td>\n",
       "      <td>1997-03-26</td>\n",
       "    </tr>\n",
       "  </tbody>\n",
       "</table>\n",
       "</div>"
      ],
      "text/plain": [
       "<impresso.resources.text_reuse.clusters.FindTextReuseClustersContainer at 0x11bd43550>"
      ]
     },
     "execution_count": 13,
     "metadata": {},
     "output_type": "execute_result"
    }
   ],
   "source": [
    "impresso.text_reuse.clusters.find(\n",
    "    term=\"luxembourg\", \n",
    "    language=OR(\"it\", \"en\")\n",
    ")"
   ]
  },
  {
   "cell_type": "markdown",
   "metadata": {},
   "source": [
    "## Country"
   ]
  },
  {
   "cell_type": "code",
   "execution_count": 14,
   "metadata": {},
   "outputs": [
    {
     "data": {
      "text/html": [
       "<div style=\"display: grid; \">\n",
       "<div>\n",
       "<h2>FindTextReuseClusters result</h2>\n",
       "<div>Contains <b>1</b> items of <b>1</b> total items.</div>\n",
       "<br/>\n",
       "See this result in the <a href=\"https://impresso-project.ch/app/text-reuse/clusters?sq=CgwYByoIc2NoZW5nZW4KChgWKgJDSCoCRlI=&p=1\">Impresso App</a>.\n",
       "</div>\n",
       "</div>\n",
       "<h3>Data preview:</h3>\n",
       "<div>\n",
       "<style scoped>\n",
       "    .dataframe tbody tr th:only-of-type {\n",
       "        vertical-align: middle;\n",
       "    }\n",
       "\n",
       "    .dataframe tbody tr th {\n",
       "        vertical-align: top;\n",
       "    }\n",
       "\n",
       "    .dataframe thead th {\n",
       "        text-align: right;\n",
       "    }\n",
       "</style>\n",
       "<table border=\"1\" class=\"dataframe\">\n",
       "  <thead>\n",
       "    <tr style=\"text-align: right;\">\n",
       "      <th></th>\n",
       "      <th>lexicalOverlap</th>\n",
       "      <th>clusterSize</th>\n",
       "      <th>textSample</th>\n",
       "      <th>timeCoverage.startDate</th>\n",
       "      <th>timeCoverage.endDate</th>\n",
       "    </tr>\n",
       "    <tr>\n",
       "      <th>uid</th>\n",
       "      <th></th>\n",
       "      <th></th>\n",
       "      <th></th>\n",
       "      <th></th>\n",
       "      <th></th>\n",
       "    </tr>\n",
       "  </thead>\n",
       "  <tbody>\n",
       "    <tr>\n",
       "      <th>tr-all-v1-24-c68720183505</th>\n",
       "      <td>92.741935</td>\n",
       "      <td>2</td>\n",
       "      <td>Asile en Suisse\\nRien ne va plus!\\nIl faut en ...</td>\n",
       "      <td>1991-02-20</td>\n",
       "      <td>1991-02-27</td>\n",
       "    </tr>\n",
       "  </tbody>\n",
       "</table>\n",
       "</div>"
      ],
      "text/plain": [
       "<impresso.resources.text_reuse.clusters.FindTextReuseClustersContainer at 0x11bd41150>"
      ]
     },
     "execution_count": 14,
     "metadata": {},
     "output_type": "execute_result"
    }
   ],
   "source": [
    "impresso.text_reuse.clusters.find(\n",
    "    term=\"schengen\", \n",
    "    country=OR(\"FR\", \"CH\")\n",
    ")"
   ]
  },
  {
   "cell_type": "markdown",
   "metadata": {},
   "source": [
    "## Entity mention"
   ]
  },
  {
   "cell_type": "code",
   "execution_count": 15,
   "metadata": {},
   "outputs": [
    {
     "data": {
      "text/html": [
       "<div style=\"display: grid; \">\n",
       "<div>\n",
       "<h2>FindTextReuseClusters result</h2>\n",
       "<div>Contains <b>0</b> items of <b>0</b> total items.</div>\n",
       "<br/>\n",
       "See this result in the <a href=\"https://impresso-project.ch/app/text-reuse/clusters?sq=CgwYByoIc2NoZW5nZW4KFBgPKgZCZWx2YWwqCExhdXNhbm5l&p=1\">Impresso App</a>.\n",
       "</div>\n",
       "</div>\n",
       "<h3>Data preview:</h3>\n",
       "<div>\n",
       "<style scoped>\n",
       "    .dataframe tbody tr th:only-of-type {\n",
       "        vertical-align: middle;\n",
       "    }\n",
       "\n",
       "    .dataframe tbody tr th {\n",
       "        vertical-align: top;\n",
       "    }\n",
       "\n",
       "    .dataframe thead th {\n",
       "        text-align: right;\n",
       "    }\n",
       "</style>\n",
       "<table border=\"1\" class=\"dataframe\">\n",
       "  <thead>\n",
       "    <tr style=\"text-align: right;\">\n",
       "      <th></th>\n",
       "    </tr>\n",
       "  </thead>\n",
       "  <tbody>\n",
       "  </tbody>\n",
       "</table>\n",
       "</div>"
      ],
      "text/plain": [
       "<impresso.resources.text_reuse.clusters.FindTextReuseClustersContainer at 0x11bd53b10>"
      ]
     },
     "execution_count": 15,
     "metadata": {},
     "output_type": "execute_result"
    }
   ],
   "source": [
    "impresso.text_reuse.clusters.find(\n",
    "    term=\"schengen\", \n",
    "    mention=OR(\"Belval\", \"Lausanne\")\n",
    ")"
   ]
  },
  {
   "cell_type": "markdown",
   "metadata": {},
   "source": [
    "## Entity by ID"
   ]
  },
  {
   "cell_type": "code",
   "execution_count": 16,
   "metadata": {},
   "outputs": [
    {
     "data": {
      "text/html": [
       "<div style=\"display: grid; \">\n",
       "<div>\n",
       "<h2>FindTextReuseClusters result</h2>\n",
       "<div>Contains <b>0</b> items of <b>0</b> total items.</div>\n",
       "<br/>\n",
       "See this result in the <a href=\"https://impresso-project.ch/app/text-reuse/clusters?sq=CgoYByoGYmFuYW5hChwYCCoYYWlkYS0wMDAxLTU0LVN3aXR6ZXJsYW5k&p=1\">Impresso App</a>.\n",
       "</div>\n",
       "</div>\n",
       "<h3>Data preview:</h3>\n",
       "<div>\n",
       "<style scoped>\n",
       "    .dataframe tbody tr th:only-of-type {\n",
       "        vertical-align: middle;\n",
       "    }\n",
       "\n",
       "    .dataframe tbody tr th {\n",
       "        vertical-align: top;\n",
       "    }\n",
       "\n",
       "    .dataframe thead th {\n",
       "        text-align: right;\n",
       "    }\n",
       "</style>\n",
       "<table border=\"1\" class=\"dataframe\">\n",
       "  <thead>\n",
       "    <tr style=\"text-align: right;\">\n",
       "      <th></th>\n",
       "    </tr>\n",
       "  </thead>\n",
       "  <tbody>\n",
       "  </tbody>\n",
       "</table>\n",
       "</div>"
      ],
      "text/plain": [
       "<impresso.resources.text_reuse.clusters.FindTextReuseClustersContainer at 0x11bd41290>"
      ]
     },
     "execution_count": 16,
     "metadata": {},
     "output_type": "execute_result"
    }
   ],
   "source": [
    "impresso.text_reuse.clusters.find(\n",
    "    term=\"banana\",\n",
    "    entity_id=\"aida-0001-54-Switzerland\"\n",
    ")"
   ]
  },
  {
   "cell_type": "markdown",
   "metadata": {},
   "source": [
    "# Text reuse clusters facets"
   ]
  },
  {
   "cell_type": "markdown",
   "metadata": {},
   "source": [
    "## Date range"
   ]
  },
  {
   "cell_type": "code",
   "execution_count": 17,
   "metadata": {},
   "outputs": [
    {
     "data": {
      "text/html": [
       "<div style=\"display: grid; grid-template-columns: minmax(200px, 1fr) auto;\">\n",
       "<div>\n",
       "<h2>Facet result</h2>\n",
       "<div>Contains <b>10</b> items (<b>0</b> - <b>10</b>) of <b>281</b> total items.</div>\n",
       "<br/>\n",
       "See this result in the <a href=\"https://impresso-project.ch/app/text-reuse/clusters?orderBy=value&sq=CgoYGyoGMSBUTyAy&p=1\">Impresso App</a>.\n",
       "</div>\n",
       "<div style=\"align-content: center;\"><img src=\"data:image/png;base64,iVBORw0KGgoAAAANSUhEUgAAA7YAAABhCAYAAADiKT2SAAAAOXRFWHRTb2Z0d2FyZQBNYXRwbG90bGliIHZlcnNpb24zLjkuMiwgaHR0cHM6Ly9tYXRwbG90bGliLm9yZy8hTgPZAAAACXBIWXMAAA9hAAAPYQGoP6dpAAACWElEQVR4nO3XQQ0AIBDAMMC/50MED7KkVbDv9swsAAAAqDq/AwAAAOCFsQUAACDN2AIAAJBmbAEAAEgztgAAAKQZWwAAANKMLQAAAGnGFgAAgDRjCwAAQJqxBQAAIM3YAgAAkGZsAQAASDO2AAAApBlbAAAA0owtAAAAacYWAACANGMLAABAmrEFAAAgzdgCAACQZmwBAABIM7YAAACkGVsAAADSjC0AAABpxhYAAIA0YwsAAECasQUAACDN2AIAAJBmbAEAAEgztgAAAKQZWwAAANKMLQAAAGnGFgAAgDRjCwAAQJqxBQAAIM3YAgAAkGZsAQAASDO2AAAApBlbAAAA0owtAAAAacYWAACANGMLAABAmrEFAAAgzdgCAACQZmwBAABIM7YAAACkGVsAAADSjC0AAABpxhYAAIA0YwsAAECasQUAACDN2AIAAJBmbAEAAEgztgAAAKQZWwAAANKMLQAAAGnGFgAAgDRjCwAAQJqxBQAAIM3YAgAAkGZsAQAASDO2AAAApBlbAAAA0owtAAAAacYWAACANGMLAABAmrEFAAAgzdgCAACQZmwBAABIM7YAAACkGVsAAADSjC0AAABpxhYAAIA0YwsAAECasQUAACDN2AIAAJBmbAEAAEgztgAAAKQZWwAAANKMLQAAAGnGFgAAgDRjCwAAQJqxBQAAIM3YAgAAkGZsAQAASDO2AAAApBlbAAAA0owtAAAAacYWAACANGMLAABAmrEFAAAgzdgCAACQZmwBAABIM7YAAACkGVsAAADSjC0AAABpxhYAAIC0Cza1A7+XKuInAAAAAElFTkSuQmCC\" style=\"max-width: 800px; width: 100%;\"></div>\n",
       "</div>\n",
       "<h3>Data preview:</h3>\n",
       "<div>\n",
       "<style scoped>\n",
       "    .dataframe tbody tr th:only-of-type {\n",
       "        vertical-align: middle;\n",
       "    }\n",
       "\n",
       "    .dataframe tbody tr th {\n",
       "        vertical-align: top;\n",
       "    }\n",
       "\n",
       "    .dataframe thead th {\n",
       "        text-align: right;\n",
       "    }\n",
       "</style>\n",
       "<table border=\"1\" class=\"dataframe\">\n",
       "  <thead>\n",
       "    <tr style=\"text-align: right;\">\n",
       "      <th></th>\n",
       "      <th>count</th>\n",
       "    </tr>\n",
       "    <tr>\n",
       "      <th>value</th>\n",
       "      <th></th>\n",
       "    </tr>\n",
       "  </thead>\n",
       "  <tbody>\n",
       "    <tr>\n",
       "      <th>1738-01-01T00:00:00Z</th>\n",
       "      <td>0</td>\n",
       "    </tr>\n",
       "    <tr>\n",
       "      <th>1739-01-01T00:00:00Z</th>\n",
       "      <td>0</td>\n",
       "    </tr>\n",
       "    <tr>\n",
       "      <th>1740-01-01T00:00:00Z</th>\n",
       "      <td>0</td>\n",
       "    </tr>\n",
       "  </tbody>\n",
       "</table>\n",
       "</div>"
      ],
      "text/plain": [
       "<impresso.resources.search.FacetDataContainer at 0x11afa6c90>"
      ]
     },
     "execution_count": 17,
     "metadata": {},
     "output_type": "execute_result"
    }
   ],
   "source": [
    "impresso.text_reuse.clusters.facet(\"daterange\", lexical_overlap=(1, 2))"
   ]
  },
  {
   "cell_type": "markdown",
   "metadata": {},
   "source": [
    "### Pagination"
   ]
  },
  {
   "cell_type": "code",
   "execution_count": 18,
   "metadata": {},
   "outputs": [
    {
     "name": "stdout",
     "output_type": "stream",
     "text": [
      "Total items in the result set: 281. Limit: 50. Offset: 0. Size: 50.\n",
      "Got page 0 - 50 of 281. The first title is 1738-01-01T00:00:00Z\n",
      "Got page 50 - 100 of 281. The first title is 1788-01-01T00:00:00Z\n",
      "Got page 100 - 150 of 281. The first title is 1838-01-01T00:00:00Z\n",
      "Got page 150 - 200 of 281. The first title is 1888-01-01T00:00:00Z\n",
      "Got page 200 - 250 of 281. The first title is 1938-01-01T00:00:00Z\n",
      "Got page 250 - 281 of 281. The first title is 1988-01-01T00:00:00Z\n"
     ]
    }
   ],
   "source": [
    "result = impresso.text_reuse.clusters.facet(\"daterange\", lexical_overlap=(1, 2), limit=50)\n",
    "\n",
    "print(f\"Total items in the result set: {result.total}. Limit: {result.limit}. Offset: {result.offset}. Size: {result.size}.\")\n",
    "for page in result.pages():\n",
    "    print(\n",
    "        f\"Got page {page.offset} - {page.offset + page.size} of {page.total}. \"\n",
    "        + f\"The first title is {page.raw['data'][0]['value']}\"\n",
    "    )"
   ]
  },
  {
   "cell_type": "markdown",
   "metadata": {},
   "source": [
    "## Cluster size"
   ]
  },
  {
   "cell_type": "code",
   "execution_count": 19,
   "metadata": {},
   "outputs": [
    {
     "data": {
      "text/html": [
       "<div style=\"display: grid; grid-template-columns: minmax(200px, 1fr) auto;\">\n",
       "<div>\n",
       "<h2>Facet result</h2>\n",
       "<div>Contains <b>10</b> items of <b>10</b> total items.</div>\n",
       "<br/>\n",
       "See this result in the <a href=\"https://impresso-project.ch/app/text-reuse/clusters?orderBy=value&sq=CgoYGyoGMSBUTyAy&p=1\">Impresso App</a>.\n",
       "</div>\n",
       "<div style=\"align-content: center;\"><img src=\"data:image/png;base64,iVBORw0KGgoAAAANSUhEUgAAA7YAAABhCAYAAADiKT2SAAAAOXRFWHRTb2Z0d2FyZQBNYXRwbG90bGliIHZlcnNpb24zLjkuMiwgaHR0cHM6Ly9tYXRwbG90bGliLm9yZy8hTgPZAAAACXBIWXMAAA9hAAAPYQGoP6dpAAACWElEQVR4nO3XQQ0AIBDAMMC/50MED7KkVbDv9swsAAAAqDq/AwAAAOCFsQUAACDN2AIAAJBmbAEAAEgztgAAAKQZWwAAANKMLQAAAGnGFgAAgDRjCwAAQJqxBQAAIM3YAgAAkGZsAQAASDO2AAAApBlbAAAA0owtAAAAacYWAACANGMLAABAmrEFAAAgzdgCAACQZmwBAABIM7YAAACkGVsAAADSjC0AAABpxhYAAIA0YwsAAECasQUAACDN2AIAAJBmbAEAAEgztgAAAKQZWwAAANKMLQAAAGnGFgAAgDRjCwAAQJqxBQAAIM3YAgAAkGZsAQAASDO2AAAApBlbAAAA0owtAAAAacYWAACANGMLAABAmrEFAAAgzdgCAACQZmwBAABIM7YAAACkGVsAAADSjC0AAABpxhYAAIA0YwsAAECasQUAACDN2AIAAJBmbAEAAEgztgAAAKQZWwAAANKMLQAAAGnGFgAAgDRjCwAAQJqxBQAAIM3YAgAAkGZsAQAASDO2AAAApBlbAAAA0owtAAAAacYWAACANGMLAABAmrEFAAAgzdgCAACQZmwBAABIM7YAAACkGVsAAADSjC0AAABpxhYAAIA0YwsAAECasQUAACDN2AIAAJBmbAEAAEgztgAAAKQZWwAAANKMLQAAAGnGFgAAgDRjCwAAQJqxBQAAIM3YAgAAkGZsAQAASDO2AAAApBlbAAAA0owtAAAAacYWAACANGMLAABAmrEFAAAgzdgCAACQZmwBAABIM7YAAACkGVsAAADSjC0AAABpxhYAAIC0Cza1A7+XKuInAAAAAElFTkSuQmCC\" style=\"max-width: 800px; width: 100%;\"></div>\n",
       "</div>\n",
       "<h3>Data preview:</h3>\n",
       "<div>\n",
       "<style scoped>\n",
       "    .dataframe tbody tr th:only-of-type {\n",
       "        vertical-align: middle;\n",
       "    }\n",
       "\n",
       "    .dataframe tbody tr th {\n",
       "        vertical-align: top;\n",
       "    }\n",
       "\n",
       "    .dataframe thead th {\n",
       "        text-align: right;\n",
       "    }\n",
       "</style>\n",
       "<table border=\"1\" class=\"dataframe\">\n",
       "  <thead>\n",
       "    <tr style=\"text-align: right;\">\n",
       "      <th></th>\n",
       "      <th>count</th>\n",
       "    </tr>\n",
       "    <tr>\n",
       "      <th>value</th>\n",
       "      <th></th>\n",
       "    </tr>\n",
       "  </thead>\n",
       "  <tbody>\n",
       "    <tr>\n",
       "      <th>1</th>\n",
       "      <td>2647</td>\n",
       "    </tr>\n",
       "    <tr>\n",
       "      <th>4223</th>\n",
       "      <td>0</td>\n",
       "    </tr>\n",
       "    <tr>\n",
       "      <th>8445</th>\n",
       "      <td>0</td>\n",
       "    </tr>\n",
       "  </tbody>\n",
       "</table>\n",
       "</div>"
      ],
      "text/plain": [
       "<impresso.resources.search.FacetDataContainer at 0x11bda8790>"
      ]
     },
     "execution_count": 19,
     "metadata": {},
     "output_type": "execute_result"
    }
   ],
   "source": [
    "impresso.text_reuse.clusters.facet(\n",
    "    \"textReuseClusterSize\",\n",
    "    lexical_overlap=(1, 2)\n",
    ")"
   ]
  },
  {
   "cell_type": "markdown",
   "metadata": {},
   "source": [
    "## Lexical overlap"
   ]
  },
  {
   "cell_type": "code",
   "execution_count": 20,
   "metadata": {},
   "outputs": [
    {
     "data": {
      "text/html": [
       "<div style=\"display: grid; grid-template-columns: minmax(200px, 1fr) auto;\">\n",
       "<div>\n",
       "<h2>Facet result</h2>\n",
       "<div>Contains <b>10</b> items of <b>10</b> total items.</div>\n",
       "<br/>\n",
       "See this result in the <a href=\"https://impresso-project.ch/app/text-reuse/clusters?orderBy=value&sq=CgoYGyoGMSBUTyAy&p=1\">Impresso App</a>.\n",
       "</div>\n",
       "<div style=\"align-content: center;\"><img src=\"data:image/png;base64,iVBORw0KGgoAAAANSUhEUgAAA7YAAABhCAYAAADiKT2SAAAAOXRFWHRTb2Z0d2FyZQBNYXRwbG90bGliIHZlcnNpb24zLjkuMiwgaHR0cHM6Ly9tYXRwbG90bGliLm9yZy8hTgPZAAAACXBIWXMAAA9hAAAPYQGoP6dpAAACeElEQVR4nO3ZSw0CQBAFQZYgBD8YQgKG8IOTwQEHfptOqq5zedfOrJk5AAAAQNVx9wAAAAD4hLAFAAAgTdgCAACQJmwBAABIE7YAAACkCVsAAADShC0AAABpwhYAAIA0YQsAAECasAUAACBN2AIAAJAmbAEAAEgTtgAAAKSddg/4tvP1Pq/uj9tl/WsLAAAAv+djCwAAQJqwBQAAIE3YAgAAkCZsAQAASBO2AAAApAlbAAAA0oQtAAAAacIWAACANGELAABAmrAFAAAgTdgCAACQJmwBAABIE7YAAACkCVsAAADShC0AAABpwhYAAIA0YQsAAECasAUAACBN2AIAAJAmbAEAAEgTtgAAAKQJWwAAANKELQAAAGnCFgAAgDRhCwAAQJqwBQAAIE3YAgAAkCZsAQAASBO2AAAApAlbAAAA0oQtAAAAacIWAACANGELAABAmrAFAAAgTdgCAACQJmwBAABIE7YAAACkCVsAAADShC0AAABpwhYAAIA0YQsAAECasAUAACBN2AIAAJAmbAEAAEgTtgAAAKQJWwAAANKELQAAAGnCFgAAgDRhCwAAQJqwBQAAIE3YAgAAkCZsAQAASBO2AAAApAlbAAAA0oQtAAAAacIWAACANGELAABAmrAFAAAgTdgCAACQJmwBAABIE7YAAACkCVsAAADShC0AAABpwhYAAIA0YQsAAECasAUAACBN2AIAAJAmbAEAAEgTtgAAAKQJWwAAANKELQAAAGnCFgAAgLQ1M7s3AAAAwNt8bAEAAEgTtgAAAKQJWwAAANKELQAAAGnCFgAAgDRhCwAAQJqwBQAAIE3YAgAAkCZsAQAASHsCFEUKvdvzfj4AAAAASUVORK5CYII=\" style=\"max-width: 800px; width: 100%;\"></div>\n",
       "</div>\n",
       "<h3>Data preview:</h3>\n",
       "<div>\n",
       "<style scoped>\n",
       "    .dataframe tbody tr th:only-of-type {\n",
       "        vertical-align: middle;\n",
       "    }\n",
       "\n",
       "    .dataframe tbody tr th {\n",
       "        vertical-align: top;\n",
       "    }\n",
       "\n",
       "    .dataframe thead th {\n",
       "        text-align: right;\n",
       "    }\n",
       "</style>\n",
       "<table border=\"1\" class=\"dataframe\">\n",
       "  <thead>\n",
       "    <tr style=\"text-align: right;\">\n",
       "      <th></th>\n",
       "      <th>count</th>\n",
       "    </tr>\n",
       "    <tr>\n",
       "      <th>value</th>\n",
       "      <th></th>\n",
       "    </tr>\n",
       "  </thead>\n",
       "  <tbody>\n",
       "    <tr>\n",
       "      <th>0</th>\n",
       "      <td>2647</td>\n",
       "    </tr>\n",
       "    <tr>\n",
       "      <th>10</th>\n",
       "      <td>0</td>\n",
       "    </tr>\n",
       "    <tr>\n",
       "      <th>20</th>\n",
       "      <td>0</td>\n",
       "    </tr>\n",
       "  </tbody>\n",
       "</table>\n",
       "</div>"
      ],
      "text/plain": [
       "<impresso.resources.search.FacetDataContainer at 0x11bd586d0>"
      ]
     },
     "execution_count": 20,
     "metadata": {},
     "output_type": "execute_result"
    }
   ],
   "source": [
    "impresso.text_reuse.clusters.facet(\n",
    "    \"textReuseClusterLexicalOverlap\",\n",
    "    lexical_overlap=(1, 2)\n",
    ")"
   ]
  },
  {
   "cell_type": "markdown",
   "metadata": {},
   "source": [
    "## Day delta"
   ]
  },
  {
   "cell_type": "code",
   "execution_count": 21,
   "metadata": {},
   "outputs": [
    {
     "data": {
      "text/html": [
       "<div style=\"display: grid; grid-template-columns: minmax(200px, 1fr) auto;\">\n",
       "<div>\n",
       "<h2>Facet result</h2>\n",
       "<div>Contains <b>10</b> items (<b>0</b> - <b>10</b>) of <b>11</b> total items.</div>\n",
       "<br/>\n",
       "See this result in the <a href=\"https://impresso-project.ch/app/text-reuse/clusters?orderBy=value&sq=CgoYGyoGMSBUTyAy&p=1\">Impresso App</a>.\n",
       "</div>\n",
       "<div style=\"align-content: center;\"><img src=\"data:image/png;base64,iVBORw0KGgoAAAANSUhEUgAAA7YAAABhCAYAAADiKT2SAAAAOXRFWHRTb2Z0d2FyZQBNYXRwbG90bGliIHZlcnNpb24zLjkuMiwgaHR0cHM6Ly9tYXRwbG90bGliLm9yZy8hTgPZAAAACXBIWXMAAA9hAAAPYQGoP6dpAAACWElEQVR4nO3XQQ0AIBDAMMC/50MED7KkVbDv9swsAAAAqDq/AwAAAOCFsQUAACDN2AIAAJBmbAEAAEgztgAAAKQZWwAAANKMLQAAAGnGFgAAgDRjCwAAQJqxBQAAIM3YAgAAkGZsAQAASDO2AAAApBlbAAAA0owtAAAAacYWAACANGMLAABAmrEFAAAgzdgCAACQZmwBAABIM7YAAACkGVsAAADSjC0AAABpxhYAAIA0YwsAAECasQUAACDN2AIAAJBmbAEAAEgztgAAAKQZWwAAANKMLQAAAGnGFgAAgDRjCwAAQJqxBQAAIM3YAgAAkGZsAQAASDO2AAAApBlbAAAA0owtAAAAacYWAACANGMLAABAmrEFAAAgzdgCAACQZmwBAABIM7YAAACkGVsAAADSjC0AAABpxhYAAIA0YwsAAECasQUAACDN2AIAAJBmbAEAAEgztgAAAKQZWwAAANKMLQAAAGnGFgAAgDRjCwAAQJqxBQAAIM3YAgAAkGZsAQAASDO2AAAApBlbAAAA0owtAAAAacYWAACANGMLAABAmrEFAAAgzdgCAACQZmwBAABIM7YAAACkGVsAAADSjC0AAABpxhYAAIA0YwsAAECasQUAACDN2AIAAJBmbAEAAEgztgAAAKQZWwAAANKMLQAAAGnGFgAAgDRjCwAAQJqxBQAAIM3YAgAAkGZsAQAASDO2AAAApBlbAAAA0owtAAAAacYWAACANGMLAABAmrEFAAAgzdgCAACQZmwBAABIM7YAAACkGVsAAADSjC0AAABpxhYAAIC0Cza1A7+XKuInAAAAAElFTkSuQmCC\" style=\"max-width: 800px; width: 100%;\"></div>\n",
       "</div>\n",
       "<h3>Data preview:</h3>\n",
       "<div>\n",
       "<style scoped>\n",
       "    .dataframe tbody tr th:only-of-type {\n",
       "        vertical-align: middle;\n",
       "    }\n",
       "\n",
       "    .dataframe tbody tr th {\n",
       "        vertical-align: top;\n",
       "    }\n",
       "\n",
       "    .dataframe thead th {\n",
       "        text-align: right;\n",
       "    }\n",
       "</style>\n",
       "<table border=\"1\" class=\"dataframe\">\n",
       "  <thead>\n",
       "    <tr style=\"text-align: right;\">\n",
       "      <th></th>\n",
       "      <th>count</th>\n",
       "    </tr>\n",
       "    <tr>\n",
       "      <th>value</th>\n",
       "      <th></th>\n",
       "    </tr>\n",
       "  </thead>\n",
       "  <tbody>\n",
       "    <tr>\n",
       "      <th>0</th>\n",
       "      <td>2176</td>\n",
       "    </tr>\n",
       "    <tr>\n",
       "      <th>9470</th>\n",
       "      <td>284</td>\n",
       "    </tr>\n",
       "    <tr>\n",
       "      <th>18940</th>\n",
       "      <td>87</td>\n",
       "    </tr>\n",
       "  </tbody>\n",
       "</table>\n",
       "</div>"
      ],
      "text/plain": [
       "<impresso.resources.search.FacetDataContainer at 0x11be0e710>"
      ]
     },
     "execution_count": 21,
     "metadata": {},
     "output_type": "execute_result"
    }
   ],
   "source": [
    "impresso.text_reuse.clusters.facet(\n",
    "    \"textReuseClusterDayDelta\",\n",
    "    lexical_overlap=(1, 2)\n",
    ")"
   ]
  },
  {
   "cell_type": "markdown",
   "metadata": {},
   "source": [
    "## Newspaper"
   ]
  },
  {
   "cell_type": "code",
   "execution_count": 22,
   "metadata": {},
   "outputs": [
    {
     "data": {
      "text/html": [
       "<div style=\"display: grid; grid-template-columns: minmax(200px, 1fr) auto;\">\n",
       "<div>\n",
       "<h2>Facet result</h2>\n",
       "<div>Contains <b>10</b> items (<b>0</b> - <b>10</b>) of <b>88</b> total items.</div>\n",
       "<br/>\n",
       "See this result in the <a href=\"https://impresso-project.ch/app/text-reuse/clusters?orderBy=value&sq=CgoYGyoGMSBUTyAy&p=1\">Impresso App</a>.\n",
       "</div>\n",
       "<div style=\"align-content: center;\"><img src=\"data:image/png;base64,iVBORw0KGgoAAAANSUhEUgAAA7YAAABhCAYAAADiKT2SAAAAOXRFWHRTb2Z0d2FyZQBNYXRwbG90bGliIHZlcnNpb24zLjkuMiwgaHR0cHM6Ly9tYXRwbG90bGliLm9yZy8hTgPZAAAACXBIWXMAAA9hAAAPYQGoP6dpAAACpklEQVR4nO3bQY0CQRBA0Z0NQvCDISRgCD84aQTMBcJOip99T0GdOvmp6m2t9QMAAABVv9MDAAAAwCeELQAAAGnCFgAAgDRhCwAAQJqwBQAAIE3YAgAAkCZsAQAASBO2AAAApAlbAAAA0oQtAAAAacIWAACANGELAABAmrAFAAAg7TQ9AADAUc7X+5qe4ds8bpdtegaAv2ZjCwAAQJqwBQAAIE3YAgAAkCZsAQAASBO2AAAApAlbAAAA0oQtAAAAacIWAACANGELAABAmrAFAAAgTdgCAACQJmwBAABIE7YAAACkCVsAAADShC0AAABpwhYAAIA0YQsAAECasAUAACBN2AIAAJAmbAEAAEgTtgAAAKQJWwAAANKELQAAAGnCFgAAgDRhCwAAQJqwBQAAIE3YAgAAkCZsAQAASBO2AAAApAlbAAAA0oQtAAAAacIWAACANGELAABAmrAFAAAgTdgCAACQJmwBAABIE7YAAACkCVsAAADShC0AAABpwhYAAIA0YQsAAECasAUAACBN2AIAAJAmbAEAAEgTtgAAAKQJWwAAANKELQAAAGnCFgAAgDRhCwAAQJqwBQAAIE3YAgAAkCZsAQAASBO2AAAApAlbAAAA0oQtAAAAacIWAACANGELAABAmrAFAAAgTdgCAACQJmwBAABIE7YAAACkCVsAAADShC0AAABpwhYAAIA0YQsAAEDaaXoAgCOcr/c1PcO3edwu2/QMAABHsLEFAAAgzcYWhtks7tksAgDwDmHLywTYngADAIB5TpEBAABIE7YAAACkOUUG4GW+JOz5ksB/5C3Y8xbArG0t7xIAAABdTpEBAABIE7YAAACkCVsAAADShC0AAABpwhYAAIA0YQsAAECasAUAACBN2AIAAJAmbAEAAEh7AsUxHsUwc46GAAAAAElFTkSuQmCC\" style=\"max-width: 800px; width: 100%;\"></div>\n",
       "</div>\n",
       "<h3>Data preview:</h3>\n",
       "<div>\n",
       "<style scoped>\n",
       "    .dataframe tbody tr th:only-of-type {\n",
       "        vertical-align: middle;\n",
       "    }\n",
       "\n",
       "    .dataframe tbody tr th {\n",
       "        vertical-align: top;\n",
       "    }\n",
       "\n",
       "    .dataframe thead th {\n",
       "        text-align: right;\n",
       "    }\n",
       "</style>\n",
       "<table border=\"1\" class=\"dataframe\">\n",
       "  <thead>\n",
       "    <tr style=\"text-align: right;\">\n",
       "      <th></th>\n",
       "      <th>count</th>\n",
       "      <th>label</th>\n",
       "    </tr>\n",
       "    <tr>\n",
       "      <th>value</th>\n",
       "      <th></th>\n",
       "      <th></th>\n",
       "    </tr>\n",
       "  </thead>\n",
       "  <tbody>\n",
       "    <tr>\n",
       "      <th>AV</th>\n",
       "      <td>1</td>\n",
       "      <td>Indicateur de Lausanne</td>\n",
       "    </tr>\n",
       "    <tr>\n",
       "      <th>BNN</th>\n",
       "      <td>10</td>\n",
       "      <td>Bündner Nachrichten</td>\n",
       "    </tr>\n",
       "    <tr>\n",
       "      <th>CDV</th>\n",
       "      <td>12</td>\n",
       "      <td>Courrier du Valais</td>\n",
       "    </tr>\n",
       "  </tbody>\n",
       "</table>\n",
       "</div>"
      ],
      "text/plain": [
       "<impresso.resources.search.FacetDataContainer at 0x11bd7b610>"
      ]
     },
     "execution_count": 22,
     "metadata": {},
     "output_type": "execute_result"
    }
   ],
   "source": [
    "impresso.text_reuse.clusters.facet(\n",
    "    \"newspaper\",\n",
    "    lexical_overlap=(1, 2)\n",
    ")"
   ]
  },
  {
   "cell_type": "markdown",
   "metadata": {},
   "source": [
    "# Text reuse passages"
   ]
  },
  {
   "cell_type": "markdown",
   "metadata": {},
   "source": [
    "## Find passages mentioning text"
   ]
  },
  {
   "cell_type": "code",
   "execution_count": 23,
   "metadata": {},
   "outputs": [
    {
     "data": {
      "text/html": [
       "<div style=\"display: grid; \">\n",
       "<div>\n",
       "<h2>FindTextReusePassages result</h2>\n",
       "<div>Contains <b>5</b> items (<b>2</b> - <b>7</b>) of <b>360</b> total items.</div>\n",
       "<br/>\n",
       "See this result in the <a href=\"https://impresso-project.ch/app/text-reuse/passages?sort=clusterSize&sq=CgoYByoGYmVsdmFs&p=1\">Impresso App</a>.\n",
       "</div>\n",
       "</div>\n",
       "<h3>Data preview:</h3>\n",
       "<div>\n",
       "<style scoped>\n",
       "    .dataframe tbody tr th:only-of-type {\n",
       "        vertical-align: middle;\n",
       "    }\n",
       "\n",
       "    .dataframe tbody tr th {\n",
       "        vertical-align: top;\n",
       "    }\n",
       "\n",
       "    .dataframe thead th {\n",
       "        text-align: right;\n",
       "    }\n",
       "</style>\n",
       "<table border=\"1\" class=\"dataframe\">\n",
       "  <thead>\n",
       "    <tr style=\"text-align: right;\">\n",
       "      <th></th>\n",
       "      <th>content</th>\n",
       "      <th>contentItemId</th>\n",
       "      <th>offset.start</th>\n",
       "      <th>offset.end</th>\n",
       "    </tr>\n",
       "    <tr>\n",
       "      <th>uid</th>\n",
       "      <th></th>\n",
       "      <th></th>\n",
       "      <th></th>\n",
       "      <th></th>\n",
       "    </tr>\n",
       "  </thead>\n",
       "  <tbody>\n",
       "    <tr>\n",
       "      <th>c103079374309-tageblatt-1946-04-12-a-i0117@23:645</th>\n",
       "      <td>Mme Jean BOULTGEN et son fils\\nNicolas et les ...</td>\n",
       "      <td>tageblatt-1946-04-12-a-i0117</td>\n",
       "      <td>23</td>\n",
       "      <td>645</td>\n",
       "    </tr>\n",
       "    <tr>\n",
       "      <th>c103079419312-JV-1875-01-09-a-i0001@6137:7961</th>\n",
       "      <td>se trouvaient MM. Buffet, le duc d’Audiffret-\\...</td>\n",
       "      <td>JV-1875-01-09-a-i0001</td>\n",
       "      <td>6137</td>\n",
       "      <td>7961</td>\n",
       "    </tr>\n",
       "    <tr>\n",
       "      <th>c103079498166-tageblatt-1933-02-28-a-i0073@225:1486</th>\n",
       "      <td>à Esch-sur-Alzette, rue de l'Industrie 48;\\nPo...</td>\n",
       "      <td>tageblatt-1933-02-28-a-i0073</td>\n",
       "      <td>225</td>\n",
       "      <td>1486</td>\n",
       "    </tr>\n",
       "  </tbody>\n",
       "</table>\n",
       "</div>"
      ],
      "text/plain": [
       "<impresso.resources.text_reuse.passages.FindTextReusePassagesContainer at 0x11be2df90>"
      ]
     },
     "execution_count": 23,
     "metadata": {},
     "output_type": "execute_result"
    }
   ],
   "source": [
    "impresso.text_reuse.passages.find(\n",
    "    term=\"belval\",\n",
    "    offset=2,\n",
    "    limit=5,\n",
    "    order_by=\"clusterSize\",\n",
    ")"
   ]
  },
  {
   "cell_type": "markdown",
   "metadata": {},
   "source": [
    "### Pagination"
   ]
  },
  {
   "cell_type": "code",
   "execution_count": 24,
   "metadata": {},
   "outputs": [
    {
     "name": "stdout",
     "output_type": "stream",
     "text": [
      "Total items in the result set: 360. Limit: 50. Offset: 2. Size: 50.\n",
      "Got page 2 - 52 of 360. The first title is c103079374309-tageblatt-1946-04-12-a-i0117@23:645\n",
      "Got page 52 - 102 of 360. The first title is c137439596821-tageblatt-1946-12-06-a-i0087@16:897\n",
      "Got page 102 - 152 of 360. The first title is c206159066754-tageblatt-1946-01-17-a-i0053@0:706\n",
      "Got page 152 - 202 of 360. The first title is c51539607640-tageblatt-1949-07-21-a-i0052@827:1730\n",
      "Got page 202 - 252 of 360. The first title is c68719908844-buergerbeamten-1911-04-01-b-i0009@2802:3174\n",
      "Got page 252 - 302 of 360. The first title is c94489329094-tageblatt-1947-08-21-a-i0053@331:679\n",
      "Got page 302 - 352 of 360. The first title is c94489496965-dunioun-1946-12-04-a-i0082@0:5041\n",
      "Got page 352 - 360 of 360. The first title is c4836-dunioun-1947-06-27-a-i0120@589:1072\n"
     ]
    }
   ],
   "source": [
    "result = impresso.text_reuse.passages.find(\n",
    "    term=\"belval\",\n",
    "    offset=2,\n",
    "    limit=50,\n",
    "    order_by=\"clusterSize\",\n",
    ")\n",
    "\n",
    "print(f\"Total items in the result set: {result.total}. Limit: {result.limit}. Offset: {result.offset}. Size: {result.size}.\")\n",
    "for page in result.pages():\n",
    "    print(\n",
    "        f\"Got page {page.offset} - {page.offset + page.size} of {page.total}. \"\n",
    "        + f\"The first title is {page.raw['data'][0]['uid']}\"\n",
    "    )"
   ]
  },
  {
   "cell_type": "markdown",
   "metadata": {},
   "source": [
    "### Find passages for a cluster by its ID"
   ]
  },
  {
   "cell_type": "code",
   "execution_count": 25,
   "metadata": {},
   "outputs": [
    {
     "data": {
      "text/html": [
       "<div style=\"display: grid; \">\n",
       "<div>\n",
       "<h2>FindTextReusePassages result</h2>\n",
       "<div>Contains <b>0</b> items of <b>0</b> total items.</div>\n",
       "<br/>\n",
       "See this result in the <a href=\"https://impresso-project.ch/app/text-reuse/passages?sort=clusterSize&sq=CiEYHSoddHItbm9icC1hbGwtdjAxLWMxMzc0Mzg5NzgzMzI=&p=1\">Impresso App</a>.\n",
       "</div>\n",
       "</div>\n",
       "<h3>Data preview:</h3>\n",
       "<div>\n",
       "<style scoped>\n",
       "    .dataframe tbody tr th:only-of-type {\n",
       "        vertical-align: middle;\n",
       "    }\n",
       "\n",
       "    .dataframe tbody tr th {\n",
       "        vertical-align: top;\n",
       "    }\n",
       "\n",
       "    .dataframe thead th {\n",
       "        text-align: right;\n",
       "    }\n",
       "</style>\n",
       "<table border=\"1\" class=\"dataframe\">\n",
       "  <thead>\n",
       "    <tr style=\"text-align: right;\">\n",
       "      <th></th>\n",
       "    </tr>\n",
       "  </thead>\n",
       "  <tbody>\n",
       "  </tbody>\n",
       "</table>\n",
       "</div>"
      ],
      "text/plain": [
       "<impresso.resources.text_reuse.passages.FindTextReusePassagesContainer at 0x11bd9c690>"
      ]
     },
     "execution_count": 25,
     "metadata": {},
     "output_type": "execute_result"
    }
   ],
   "source": [
    "impresso.text_reuse.passages.find(\n",
    "    cluster_id=\"tr-nobp-all-v01-c137438978332\",\n",
    "    order_by=\"clusterSize\",\n",
    ")"
   ]
  },
  {
   "cell_type": "markdown",
   "metadata": {},
   "source": [
    "## Cluster size"
   ]
  },
  {
   "cell_type": "code",
   "execution_count": 26,
   "metadata": {},
   "outputs": [
    {
     "data": {
      "text/html": [
       "<div style=\"display: grid; \">\n",
       "<div>\n",
       "<h2>FindTextReusePassages result</h2>\n",
       "<div>Contains <b>0</b> items of <b>0</b> total items.</div>\n",
       "<br/>\n",
       "See this result in the <a href=\"https://impresso-project.ch/app/text-reuse/passages?sq=Cg0YGioJNTAgVE8gMTAwCgoYByoGYmFuYW5h&p=1\">Impresso App</a>.\n",
       "</div>\n",
       "</div>\n",
       "<h3>Data preview:</h3>\n",
       "<div>\n",
       "<style scoped>\n",
       "    .dataframe tbody tr th:only-of-type {\n",
       "        vertical-align: middle;\n",
       "    }\n",
       "\n",
       "    .dataframe tbody tr th {\n",
       "        vertical-align: top;\n",
       "    }\n",
       "\n",
       "    .dataframe thead th {\n",
       "        text-align: right;\n",
       "    }\n",
       "</style>\n",
       "<table border=\"1\" class=\"dataframe\">\n",
       "  <thead>\n",
       "    <tr style=\"text-align: right;\">\n",
       "      <th></th>\n",
       "    </tr>\n",
       "  </thead>\n",
       "  <tbody>\n",
       "  </tbody>\n",
       "</table>\n",
       "</div>"
      ],
      "text/plain": [
       "<impresso.resources.text_reuse.passages.FindTextReusePassagesContainer at 0x11bd2f4d0>"
      ]
     },
     "execution_count": 26,
     "metadata": {},
     "output_type": "execute_result"
    }
   ],
   "source": [
    "impresso.text_reuse.passages.find(\n",
    "    term=\"banana\",\n",
    "    cluster_size=(50, 100),\n",
    ")"
   ]
  },
  {
   "cell_type": "markdown",
   "metadata": {},
   "source": [
    "## Mentioning text in title"
   ]
  },
  {
   "cell_type": "code",
   "execution_count": 27,
   "metadata": {},
   "outputs": [
    {
     "data": {
      "text/html": [
       "<div style=\"display: grid; \">\n",
       "<div>\n",
       "<h2>FindTextReusePassages result</h2>\n",
       "<div>Contains <b>0</b> items of <b>0</b> total items.</div>\n",
       "<br/>\n",
       "See this result in the <a href=\"https://impresso-project.ch/app/text-reuse/passages?sq=Cg4YGioKMTAwIFRPIDIwMAoYEAEYAyoGc3Vpc3NlKgpsdXhlbWJvdXJn&p=1\">Impresso App</a>.\n",
       "</div>\n",
       "</div>\n",
       "<h3>Data preview:</h3>\n",
       "<div>\n",
       "<style scoped>\n",
       "    .dataframe tbody tr th:only-of-type {\n",
       "        vertical-align: middle;\n",
       "    }\n",
       "\n",
       "    .dataframe tbody tr th {\n",
       "        vertical-align: top;\n",
       "    }\n",
       "\n",
       "    .dataframe thead th {\n",
       "        text-align: right;\n",
       "    }\n",
       "</style>\n",
       "<table border=\"1\" class=\"dataframe\">\n",
       "  <thead>\n",
       "    <tr style=\"text-align: right;\">\n",
       "      <th></th>\n",
       "    </tr>\n",
       "  </thead>\n",
       "  <tbody>\n",
       "  </tbody>\n",
       "</table>\n",
       "</div>"
      ],
      "text/plain": [
       "<impresso.resources.text_reuse.passages.FindTextReusePassagesContainer at 0x11bea9c10>"
      ]
     },
     "execution_count": 27,
     "metadata": {},
     "output_type": "execute_result"
    }
   ],
   "source": [
    "impresso.text_reuse.passages.find(\n",
    "    title=AND(\"luxembourg\", \"suisse\"),\n",
    "    cluster_size=(100, 200),\n",
    ")"
   ]
  },
  {
   "cell_type": "markdown",
   "metadata": {},
   "source": [
    "## Lexical overlap"
   ]
  },
  {
   "cell_type": "code",
   "execution_count": 28,
   "metadata": {},
   "outputs": [
    {
     "data": {
      "text/html": [
       "<div style=\"display: grid; \">\n",
       "<div>\n",
       "<h2>FindTextReusePassages result</h2>\n",
       "<div>Contains <b>0</b> items of <b>0</b> total items.</div>\n",
       "<br/>\n",
       "See this result in the <a href=\"https://impresso-project.ch/app/text-reuse/passages?sq=CgwYGyoINTAgVE8gNTEKChgHKgZiYW5hbmE=&p=1\">Impresso App</a>.\n",
       "</div>\n",
       "</div>\n",
       "<h3>Data preview:</h3>\n",
       "<div>\n",
       "<style scoped>\n",
       "    .dataframe tbody tr th:only-of-type {\n",
       "        vertical-align: middle;\n",
       "    }\n",
       "\n",
       "    .dataframe tbody tr th {\n",
       "        vertical-align: top;\n",
       "    }\n",
       "\n",
       "    .dataframe thead th {\n",
       "        text-align: right;\n",
       "    }\n",
       "</style>\n",
       "<table border=\"1\" class=\"dataframe\">\n",
       "  <thead>\n",
       "    <tr style=\"text-align: right;\">\n",
       "      <th></th>\n",
       "    </tr>\n",
       "  </thead>\n",
       "  <tbody>\n",
       "  </tbody>\n",
       "</table>\n",
       "</div>"
      ],
      "text/plain": [
       "<impresso.resources.text_reuse.passages.FindTextReusePassagesContainer at 0x11bd04f10>"
      ]
     },
     "execution_count": 28,
     "metadata": {},
     "output_type": "execute_result"
    }
   ],
   "source": [
    "impresso.text_reuse.passages.find(\n",
    "    term=\"banana\",\n",
    "    lexical_overlap=(50, 51),\n",
    ")"
   ]
  },
  {
   "cell_type": "markdown",
   "metadata": {},
   "source": [
    "## Day delta\n",
    "\n",
    "Number of days between the first and last mention of the text in the cluster."
   ]
  },
  {
   "cell_type": "code",
   "execution_count": 29,
   "metadata": {},
   "outputs": [
    {
     "data": {
      "text/html": [
       "<div style=\"display: grid; \">\n",
       "<div>\n",
       "<h2>FindTextReusePassages result</h2>\n",
       "<div>Contains <b>1</b> items of <b>1</b> total items.</div>\n",
       "<br/>\n",
       "See this result in the <a href=\"https://impresso-project.ch/app/text-reuse/passages?sq=Cg0YHCoJNTAgVE8gMTAwCgoYByoGYmFuYW5h&p=1\">Impresso App</a>.\n",
       "</div>\n",
       "</div>\n",
       "<h3>Data preview:</h3>\n",
       "<div>\n",
       "<style scoped>\n",
       "    .dataframe tbody tr th:only-of-type {\n",
       "        vertical-align: middle;\n",
       "    }\n",
       "\n",
       "    .dataframe tbody tr th {\n",
       "        vertical-align: top;\n",
       "    }\n",
       "\n",
       "    .dataframe thead th {\n",
       "        text-align: right;\n",
       "    }\n",
       "</style>\n",
       "<table border=\"1\" class=\"dataframe\">\n",
       "  <thead>\n",
       "    <tr style=\"text-align: right;\">\n",
       "      <th></th>\n",
       "      <th>content</th>\n",
       "      <th>contentItemId</th>\n",
       "      <th>offset.start</th>\n",
       "      <th>offset.end</th>\n",
       "    </tr>\n",
       "    <tr>\n",
       "      <th>uid</th>\n",
       "      <th></th>\n",
       "      <th></th>\n",
       "      <th></th>\n",
       "      <th></th>\n",
       "    </tr>\n",
       "  </thead>\n",
       "  <tbody>\n",
       "    <tr>\n",
       "      <th>c137439334025-LLS-1937-05-08-a-i0020@0:2709</th>\n",
       "      <td>Les Sociétés anonymes suisses\\npendant la cris...</td>\n",
       "      <td>LLS-1937-05-08-a-i0020</td>\n",
       "      <td>0</td>\n",
       "      <td>2709</td>\n",
       "    </tr>\n",
       "  </tbody>\n",
       "</table>\n",
       "</div>"
      ],
      "text/plain": [
       "<impresso.resources.text_reuse.passages.FindTextReusePassagesContainer at 0x11bea4350>"
      ]
     },
     "execution_count": 29,
     "metadata": {},
     "output_type": "execute_result"
    }
   ],
   "source": [
    "impresso.text_reuse.passages.find(\n",
    "    term=\"banana\",\n",
    "    day_delta=(50, 100),\n",
    ")"
   ]
  },
  {
   "cell_type": "markdown",
   "metadata": {},
   "source": [
    "## Date range"
   ]
  },
  {
   "cell_type": "code",
   "execution_count": 30,
   "metadata": {},
   "outputs": [
    {
     "data": {
      "text/html": [
       "<div style=\"display: grid; \">\n",
       "<div>\n",
       "<h2>FindTextReusePassages result</h2>\n",
       "<div>Contains <b>10</b> items of <b>10</b> total items.</div>\n",
       "<br/>\n",
       "See this result in the <a href=\"https://impresso-project.ch/app/text-reuse/passages?sq=CjAYCiosMTkyMS0wNS0yMVQwMDowMDowMFogVE8gMjAwMS0wMS0wMlQwMDowMDowMFoKChgHKgZiYW5hbmE=&p=1\">Impresso App</a>.\n",
       "</div>\n",
       "</div>\n",
       "<h3>Data preview:</h3>\n",
       "<div>\n",
       "<style scoped>\n",
       "    .dataframe tbody tr th:only-of-type {\n",
       "        vertical-align: middle;\n",
       "    }\n",
       "\n",
       "    .dataframe tbody tr th {\n",
       "        vertical-align: top;\n",
       "    }\n",
       "\n",
       "    .dataframe thead th {\n",
       "        text-align: right;\n",
       "    }\n",
       "</style>\n",
       "<table border=\"1\" class=\"dataframe\">\n",
       "  <thead>\n",
       "    <tr style=\"text-align: right;\">\n",
       "      <th></th>\n",
       "      <th>content</th>\n",
       "      <th>contentItemId</th>\n",
       "      <th>offset.start</th>\n",
       "      <th>offset.end</th>\n",
       "    </tr>\n",
       "    <tr>\n",
       "      <th>uid</th>\n",
       "      <th></th>\n",
       "      <th></th>\n",
       "      <th></th>\n",
       "      <th></th>\n",
       "    </tr>\n",
       "  </thead>\n",
       "  <tbody>\n",
       "    <tr>\n",
       "      <th>c85900161645-SMZ-1977-02-02-a-i0036@629:2044</th>\n",
       "      <td>werden. Als Reise-Neuheiten präsentiert Popula...</td>\n",
       "      <td>SMZ-1977-02-02-a-i0036</td>\n",
       "      <td>629</td>\n",
       "      <td>2044</td>\n",
       "    </tr>\n",
       "    <tr>\n",
       "      <th>c85900161645-OIZ-1977-01-27-a-i0037@627:2010</th>\n",
       "      <td>werden.\\nAls Reise-Neuheiten präsentiert die p...</td>\n",
       "      <td>OIZ-1977-01-27-a-i0037</td>\n",
       "      <td>627</td>\n",
       "      <td>2010</td>\n",
       "    </tr>\n",
       "    <tr>\n",
       "      <th>c85900161645-VHT-1977-02-09-a-i0022@630:2034</th>\n",
       "      <td>werden.\\nAls Reise-Neuheiten präsentiert die p...</td>\n",
       "      <td>VHT-1977-02-09-a-i0022</td>\n",
       "      <td>630</td>\n",
       "      <td>2034</td>\n",
       "    </tr>\n",
       "  </tbody>\n",
       "</table>\n",
       "</div>"
      ],
      "text/plain": [
       "<impresso.resources.text_reuse.passages.FindTextReusePassagesContainer at 0x11be0e890>"
      ]
     },
     "execution_count": 30,
     "metadata": {},
     "output_type": "execute_result"
    }
   ],
   "source": [
    "from impresso import DateRange\n",
    "\n",
    "impresso.text_reuse.passages.find(\n",
    "    term=\"banana\", \n",
    "    date_range=DateRange(\"1921-05-21\", \"2001-01-02\")\n",
    ")"
   ]
  },
  {
   "cell_type": "markdown",
   "metadata": {},
   "source": [
    "## Newspaper"
   ]
  },
  {
   "cell_type": "code",
   "execution_count": 31,
   "metadata": {},
   "outputs": [
    {
     "data": {
      "text/html": [
       "<div style=\"display: grid; \">\n",
       "<div>\n",
       "<h2>FindTextReusePassages result</h2>\n",
       "<div>Contains <b>0</b> items of <b>0</b> total items.</div>\n",
       "<br/>\n",
       "See this result in the <a href=\"https://impresso-project.ch/app/text-reuse/passages?sq=CgwYCSoDR0RMKgNFWFAKChgHKgZiYW5hbmE=&p=1\">Impresso App</a>.\n",
       "</div>\n",
       "</div>\n",
       "<h3>Data preview:</h3>\n",
       "<div>\n",
       "<style scoped>\n",
       "    .dataframe tbody tr th:only-of-type {\n",
       "        vertical-align: middle;\n",
       "    }\n",
       "\n",
       "    .dataframe tbody tr th {\n",
       "        vertical-align: top;\n",
       "    }\n",
       "\n",
       "    .dataframe thead th {\n",
       "        text-align: right;\n",
       "    }\n",
       "</style>\n",
       "<table border=\"1\" class=\"dataframe\">\n",
       "  <thead>\n",
       "    <tr style=\"text-align: right;\">\n",
       "      <th></th>\n",
       "    </tr>\n",
       "  </thead>\n",
       "  <tbody>\n",
       "  </tbody>\n",
       "</table>\n",
       "</div>"
      ],
      "text/plain": [
       "<impresso.resources.text_reuse.passages.FindTextReusePassagesContainer at 0x11bea4e10>"
      ]
     },
     "execution_count": 31,
     "metadata": {},
     "output_type": "execute_result"
    }
   ],
   "source": [
    "impresso.text_reuse.passages.find(\n",
    "    term=\"banana\", \n",
    "    newspaper_id=OR(\"EXP\", \"GDL\"),\n",
    ")"
   ]
  },
  {
   "cell_type": "markdown",
   "metadata": {},
   "source": [
    "## Collection"
   ]
  },
  {
   "cell_type": "code",
   "execution_count": 32,
   "metadata": {},
   "outputs": [
    {
     "data": {
      "text/html": [
       "<div style=\"display: grid; \">\n",
       "<div>\n",
       "<h2>FindTextReusePassages result</h2>\n",
       "<div>Contains <b>0</b> items of <b>0</b> total items.</div>\n",
       "<br/>\n",
       "See this result in the <a href=\"https://impresso-project.ch/app/text-reuse/passages?sq=CgwYEyoIMTIzMTIzMTI=&p=1\">Impresso App</a>.\n",
       "</div>\n",
       "</div>\n",
       "<h3>Data preview:</h3>\n",
       "<div>\n",
       "<style scoped>\n",
       "    .dataframe tbody tr th:only-of-type {\n",
       "        vertical-align: middle;\n",
       "    }\n",
       "\n",
       "    .dataframe tbody tr th {\n",
       "        vertical-align: top;\n",
       "    }\n",
       "\n",
       "    .dataframe thead th {\n",
       "        text-align: right;\n",
       "    }\n",
       "</style>\n",
       "<table border=\"1\" class=\"dataframe\">\n",
       "  <thead>\n",
       "    <tr style=\"text-align: right;\">\n",
       "      <th></th>\n",
       "    </tr>\n",
       "  </thead>\n",
       "  <tbody>\n",
       "  </tbody>\n",
       "</table>\n",
       "</div>"
      ],
      "text/plain": [
       "<impresso.resources.text_reuse.passages.FindTextReusePassagesContainer at 0x11b8dd050>"
      ]
     },
     "execution_count": 32,
     "metadata": {},
     "output_type": "execute_result"
    }
   ],
   "source": [
    "impresso.text_reuse.passages.find(collection_id=\"12312312\")"
   ]
  },
  {
   "cell_type": "markdown",
   "metadata": {},
   "source": [
    "## Front page"
   ]
  },
  {
   "cell_type": "code",
   "execution_count": 33,
   "metadata": {},
   "outputs": [
    {
     "data": {
      "text/html": [
       "<div style=\"display: grid; \">\n",
       "<div>\n",
       "<h2>FindTextReusePassages result</h2>\n",
       "<div>Contains <b>0</b> items of <b>0</b> total items.</div>\n",
       "<br/>\n",
       "See this result in the <a href=\"https://impresso-project.ch/app/text-reuse/passages?sq=CgIYBAoKGAcqBmJhbmFuYQ==&p=1\">Impresso App</a>.\n",
       "</div>\n",
       "</div>\n",
       "<h3>Data preview:</h3>\n",
       "<div>\n",
       "<style scoped>\n",
       "    .dataframe tbody tr th:only-of-type {\n",
       "        vertical-align: middle;\n",
       "    }\n",
       "\n",
       "    .dataframe tbody tr th {\n",
       "        vertical-align: top;\n",
       "    }\n",
       "\n",
       "    .dataframe thead th {\n",
       "        text-align: right;\n",
       "    }\n",
       "</style>\n",
       "<table border=\"1\" class=\"dataframe\">\n",
       "  <thead>\n",
       "    <tr style=\"text-align: right;\">\n",
       "      <th></th>\n",
       "    </tr>\n",
       "  </thead>\n",
       "  <tbody>\n",
       "  </tbody>\n",
       "</table>\n",
       "</div>"
      ],
      "text/plain": [
       "<impresso.resources.text_reuse.passages.FindTextReusePassagesContainer at 0x11bec3790>"
      ]
     },
     "execution_count": 33,
     "metadata": {},
     "output_type": "execute_result"
    }
   ],
   "source": [
    "impresso.text_reuse.passages.find(\n",
    "    term=\"banana\", \n",
    "    front_page=True,\n",
    ")"
   ]
  },
  {
   "cell_type": "markdown",
   "metadata": {},
   "source": [
    "## Topic"
   ]
  },
  {
   "cell_type": "code",
   "execution_count": 34,
   "metadata": {},
   "outputs": [
    {
     "data": {
      "text/html": [
       "<div style=\"display: grid; \">\n",
       "<div>\n",
       "<h2>FindTextReusePassages result</h2>\n",
       "<div>Contains <b>0</b> items of <b>0</b> total items.</div>\n",
       "<br/>\n",
       "See this result in the <a href=\"https://impresso-project.ch/app/text-reuse/passages?sq=CjIYEioWdG0tZnItYWxsLXYyLjBfdHAwN19mcioWdG0tZnItYWxsLXYyLjBfdHA0OF9mcgoKGAcqBmJhbmFuYQ==&p=1\">Impresso App</a>.\n",
       "</div>\n",
       "</div>\n",
       "<h3>Data preview:</h3>\n",
       "<div>\n",
       "<style scoped>\n",
       "    .dataframe tbody tr th:only-of-type {\n",
       "        vertical-align: middle;\n",
       "    }\n",
       "\n",
       "    .dataframe tbody tr th {\n",
       "        vertical-align: top;\n",
       "    }\n",
       "\n",
       "    .dataframe thead th {\n",
       "        text-align: right;\n",
       "    }\n",
       "</style>\n",
       "<table border=\"1\" class=\"dataframe\">\n",
       "  <thead>\n",
       "    <tr style=\"text-align: right;\">\n",
       "      <th></th>\n",
       "    </tr>\n",
       "  </thead>\n",
       "  <tbody>\n",
       "  </tbody>\n",
       "</table>\n",
       "</div>"
      ],
      "text/plain": [
       "<impresso.resources.text_reuse.passages.FindTextReusePassagesContainer at 0x11beaa310>"
      ]
     },
     "execution_count": 34,
     "metadata": {},
     "output_type": "execute_result"
    }
   ],
   "source": [
    "impresso.text_reuse.passages.find(\n",
    "    term=\"banana\", \n",
    "    topic_id=OR(\"tm-fr-all-v2.0_tp07_fr\", \"tm-fr-all-v2.0_tp48_fr\")\n",
    ")"
   ]
  },
  {
   "cell_type": "markdown",
   "metadata": {},
   "source": [
    "## Language"
   ]
  },
  {
   "cell_type": "code",
   "execution_count": 35,
   "metadata": {},
   "outputs": [
    {
     "data": {
      "text/html": [
       "<div style=\"display: grid; \">\n",
       "<div>\n",
       "<h2>FindTextReusePassages result</h2>\n",
       "<div>Contains <b>10</b> items (<b>0</b> - <b>10</b>) of <b>27</b> total items.</div>\n",
       "<br/>\n",
       "See this result in the <a href=\"https://impresso-project.ch/app/text-reuse/passages?sq=CgoYDCoCZW4qAml0Cg4YByoKbHV4ZW1ib3VyZw==&p=1\">Impresso App</a>.\n",
       "</div>\n",
       "</div>\n",
       "<h3>Data preview:</h3>\n",
       "<div>\n",
       "<style scoped>\n",
       "    .dataframe tbody tr th:only-of-type {\n",
       "        vertical-align: middle;\n",
       "    }\n",
       "\n",
       "    .dataframe tbody tr th {\n",
       "        vertical-align: top;\n",
       "    }\n",
       "\n",
       "    .dataframe thead th {\n",
       "        text-align: right;\n",
       "    }\n",
       "</style>\n",
       "<table border=\"1\" class=\"dataframe\">\n",
       "  <thead>\n",
       "    <tr style=\"text-align: right;\">\n",
       "      <th></th>\n",
       "      <th>content</th>\n",
       "      <th>contentItemId</th>\n",
       "      <th>offset.start</th>\n",
       "      <th>offset.end</th>\n",
       "    </tr>\n",
       "    <tr>\n",
       "      <th>uid</th>\n",
       "      <th></th>\n",
       "      <th></th>\n",
       "      <th></th>\n",
       "      <th></th>\n",
       "    </tr>\n",
       "  </thead>\n",
       "  <tbody>\n",
       "    <tr>\n",
       "      <th>c8589980257-dunioun-1948-04-01-a-i0009@0:509</th>\n",
       "      <td>The British- Luxembourg Society\\nbeg to call t...</td>\n",
       "      <td>dunioun-1948-04-01-a-i0009</td>\n",
       "      <td>0</td>\n",
       "      <td>509</td>\n",
       "    </tr>\n",
       "    <tr>\n",
       "      <th>c10636-luxland-1982-07-16-a-i0048@10:631</th>\n",
       "      <td>Société Anonyme\\nHeadoffice:\\nLuxembourg,\\n47,...</td>\n",
       "      <td>luxland-1982-07-16-a-i0048</td>\n",
       "      <td>10</td>\n",
       "      <td>631</td>\n",
       "    </tr>\n",
       "    <tr>\n",
       "      <th>c10636-luxland-1987-10-09-a-i0050@17:566</th>\n",
       "      <td>Société Anonyme\\nLuxembourg,\\n37, rue Notre-Da...</td>\n",
       "      <td>luxland-1987-10-09-a-i0050</td>\n",
       "      <td>17</td>\n",
       "      <td>566</td>\n",
       "    </tr>\n",
       "  </tbody>\n",
       "</table>\n",
       "</div>"
      ],
      "text/plain": [
       "<impresso.resources.text_reuse.passages.FindTextReusePassagesContainer at 0x11be2ecd0>"
      ]
     },
     "execution_count": 35,
     "metadata": {},
     "output_type": "execute_result"
    }
   ],
   "source": [
    "impresso.text_reuse.passages.find(\n",
    "    term=\"luxembourg\", \n",
    "    language=OR(\"it\", \"en\")\n",
    ")"
   ]
  },
  {
   "cell_type": "markdown",
   "metadata": {},
   "source": [
    "## Country"
   ]
  },
  {
   "cell_type": "code",
   "execution_count": 36,
   "metadata": {},
   "outputs": [
    {
     "data": {
      "text/html": [
       "<div style=\"display: grid; \">\n",
       "<div>\n",
       "<h2>FindTextReusePassages result</h2>\n",
       "<div>Contains <b>2</b> items of <b>2</b> total items.</div>\n",
       "<br/>\n",
       "See this result in the <a href=\"https://impresso-project.ch/app/text-reuse/passages?sq=CgoYFioCQ0gqAkZSCgwYByoIc2NoZW5nZW4=&p=1\">Impresso App</a>.\n",
       "</div>\n",
       "</div>\n",
       "<h3>Data preview:</h3>\n",
       "<div>\n",
       "<style scoped>\n",
       "    .dataframe tbody tr th:only-of-type {\n",
       "        vertical-align: middle;\n",
       "    }\n",
       "\n",
       "    .dataframe tbody tr th {\n",
       "        vertical-align: top;\n",
       "    }\n",
       "\n",
       "    .dataframe thead th {\n",
       "        text-align: right;\n",
       "    }\n",
       "</style>\n",
       "<table border=\"1\" class=\"dataframe\">\n",
       "  <thead>\n",
       "    <tr style=\"text-align: right;\">\n",
       "      <th></th>\n",
       "      <th>content</th>\n",
       "      <th>contentItemId</th>\n",
       "      <th>offset.start</th>\n",
       "      <th>offset.end</th>\n",
       "    </tr>\n",
       "    <tr>\n",
       "      <th>uid</th>\n",
       "      <th></th>\n",
       "      <th></th>\n",
       "      <th></th>\n",
       "      <th></th>\n",
       "    </tr>\n",
       "  </thead>\n",
       "  <tbody>\n",
       "    <tr>\n",
       "      <th>c68720183505-SDT-1991-02-27-a-i0012@0:9876</th>\n",
       "      <td>Asile en Suisse\\nRien ne va plus!\\nIl faut en ...</td>\n",
       "      <td>SDT-1991-02-27-a-i0012</td>\n",
       "      <td>0</td>\n",
       "      <td>9876</td>\n",
       "    </tr>\n",
       "    <tr>\n",
       "      <th>c68720183505-LLS-1991-02-20-a-i0016@0:9916</th>\n",
       "      <td>Asile en Suisse\\nRien ne va plus!\\nIl faut en ...</td>\n",
       "      <td>LLS-1991-02-20-a-i0016</td>\n",
       "      <td>0</td>\n",
       "      <td>9916</td>\n",
       "    </tr>\n",
       "  </tbody>\n",
       "</table>\n",
       "</div>"
      ],
      "text/plain": [
       "<impresso.resources.text_reuse.passages.FindTextReusePassagesContainer at 0x11bea8b10>"
      ]
     },
     "execution_count": 36,
     "metadata": {},
     "output_type": "execute_result"
    }
   ],
   "source": [
    "impresso.text_reuse.passages.find(\n",
    "    term=\"schengen\", \n",
    "    country=OR(\"FR\", \"CH\")\n",
    ")"
   ]
  },
  {
   "cell_type": "markdown",
   "metadata": {},
   "source": [
    "## Entity mention"
   ]
  },
  {
   "cell_type": "code",
   "execution_count": 37,
   "metadata": {},
   "outputs": [
    {
     "data": {
      "text/html": [
       "<div style=\"display: grid; \">\n",
       "<div>\n",
       "<h2>FindTextReusePassages result</h2>\n",
       "<div>Contains <b>0</b> items of <b>0</b> total items.</div>\n",
       "<br/>\n",
       "See this result in the <a href=\"https://impresso-project.ch/app/text-reuse/passages?sq=ChQYDyoGQmVsdmFsKghMYXVzYW5uZQoMGAcqCHNjaGVuZ2Vu&p=1\">Impresso App</a>.\n",
       "</div>\n",
       "</div>\n",
       "<h3>Data preview:</h3>\n",
       "<div>\n",
       "<style scoped>\n",
       "    .dataframe tbody tr th:only-of-type {\n",
       "        vertical-align: middle;\n",
       "    }\n",
       "\n",
       "    .dataframe tbody tr th {\n",
       "        vertical-align: top;\n",
       "    }\n",
       "\n",
       "    .dataframe thead th {\n",
       "        text-align: right;\n",
       "    }\n",
       "</style>\n",
       "<table border=\"1\" class=\"dataframe\">\n",
       "  <thead>\n",
       "    <tr style=\"text-align: right;\">\n",
       "      <th></th>\n",
       "    </tr>\n",
       "  </thead>\n",
       "  <tbody>\n",
       "  </tbody>\n",
       "</table>\n",
       "</div>"
      ],
      "text/plain": [
       "<impresso.resources.text_reuse.passages.FindTextReusePassagesContainer at 0x11bd5a090>"
      ]
     },
     "execution_count": 37,
     "metadata": {},
     "output_type": "execute_result"
    }
   ],
   "source": [
    "impresso.text_reuse.passages.find(\n",
    "    term=\"schengen\", \n",
    "    mention=OR(\"Belval\", \"Lausanne\")\n",
    ")"
   ]
  },
  {
   "cell_type": "markdown",
   "metadata": {},
   "source": [
    "## Entity by ID"
   ]
  },
  {
   "cell_type": "code",
   "execution_count": 38,
   "metadata": {},
   "outputs": [
    {
     "data": {
      "text/html": [
       "<div style=\"display: grid; \">\n",
       "<div>\n",
       "<h2>FindTextReusePassages result</h2>\n",
       "<div>Contains <b>0</b> items of <b>0</b> total items.</div>\n",
       "<br/>\n",
       "See this result in the <a href=\"https://impresso-project.ch/app/text-reuse/passages?sq=ChwYCCoYYWlkYS0wMDAxLTU0LVN3aXR6ZXJsYW5kCgoYByoGYmFuYW5h&p=1\">Impresso App</a>.\n",
       "</div>\n",
       "</div>\n",
       "<h3>Data preview:</h3>\n",
       "<div>\n",
       "<style scoped>\n",
       "    .dataframe tbody tr th:only-of-type {\n",
       "        vertical-align: middle;\n",
       "    }\n",
       "\n",
       "    .dataframe tbody tr th {\n",
       "        vertical-align: top;\n",
       "    }\n",
       "\n",
       "    .dataframe thead th {\n",
       "        text-align: right;\n",
       "    }\n",
       "</style>\n",
       "<table border=\"1\" class=\"dataframe\">\n",
       "  <thead>\n",
       "    <tr style=\"text-align: right;\">\n",
       "      <th></th>\n",
       "    </tr>\n",
       "  </thead>\n",
       "  <tbody>\n",
       "  </tbody>\n",
       "</table>\n",
       "</div>"
      ],
      "text/plain": [
       "<impresso.resources.text_reuse.passages.FindTextReusePassagesContainer at 0x11bdf6a10>"
      ]
     },
     "execution_count": 38,
     "metadata": {},
     "output_type": "execute_result"
    }
   ],
   "source": [
    "impresso.text_reuse.passages.find(\n",
    "    term=\"banana\",\n",
    "    entity_id=\"aida-0001-54-Switzerland\"\n",
    ")"
   ]
  },
  {
   "cell_type": "markdown",
   "metadata": {},
   "source": [
    "# Text reuse passages facets"
   ]
  },
  {
   "cell_type": "markdown",
   "metadata": {},
   "source": [
    "## newspaper"
   ]
  },
  {
   "cell_type": "code",
   "execution_count": 39,
   "metadata": {},
   "outputs": [
    {
     "data": {
      "text/html": [
       "<div style=\"display: grid; grid-template-columns: minmax(200px, 1fr) auto;\">\n",
       "<div>\n",
       "<h2>Facet result</h2>\n",
       "<div>Contains <b>10</b> items (<b>0</b> - <b>10</b>) of <b>130</b> total items.</div>\n",
       "<br/>\n",
       "See this result in the <a href=\"https://impresso-project.ch/app/text-reuse/clusters?orderBy=value&p=1\">Impresso App</a>.\n",
       "</div>\n",
       "<div style=\"align-content: center;\"><img src=\"data:image/png;base64,iVBORw0KGgoAAAANSUhEUgAAA7YAAABhCAYAAADiKT2SAAAAOXRFWHRTb2Z0d2FyZQBNYXRwbG90bGliIHZlcnNpb24zLjkuMiwgaHR0cHM6Ly9tYXRwbG90bGliLm9yZy8hTgPZAAAACXBIWXMAAA9hAAAPYQGoP6dpAAACwElEQVR4nO3bwW3CQBRFURy5EPfjhlwCDdGPO5kUwCZRiMYXzqngiZWvPrOMMW4AAABQ9TV7AAAAAPyFsAUAACBN2AIAAJAmbAEAAEgTtgAAAKQJWwAAANKELQAAAGnCFgAAgDRhCwAAQJqwBQAAIE3YAgAAkCZsAQAASBO2AAAApK2zBwAA/JfteIzZG67mvO/L7A0Ar+ZiCwAAQJqwBQAAIE3YAgAAkCZsAQAASBO2AAAApAlbAAAA0oQtAAAAacIWAACANGELAABAmrAFAAAgTdgCAACQJmwBAABIE7YAAACkCVsAAADShC0AAABpwhYAAIA0YQsAAECasAUAACBN2AIAAJAmbAEAAEgTtgAAAKQJWwAAANKELQAAAGnCFgAAgDRhCwAAQJqwBQAAIE3YAgAAkCZsAQAASBO2AAAApAlbAAAA0oQtAAAAacIWAACANGELAABAmrAFAAAgTdgCAACQts4eAABAy3Y8xuwNV3Pe92X2BvhkLrYAAACkCVsAAADShC0AAABpwhYAAIA0YQsAAECasAUAACBN2AIAAJAmbAEAAEgTtgAAAKStswcA0LEdjzF7w9Wc932ZvQEAPp2LLQAAAGnCFgAAgDRhCwAAQJqwBQAAIE3YAgAAkCZsAQAASBO2AAAApAlbAAAA0oQtAAAAacIWAACANGELAABAmrAFAAAgTdgCAACQJmwBAABIE7YAAACkCVsAAADShC0AAABpwhYAAIA0YQsAAEDaOnsAAABwu23HY8zecDXnfV9mb6DBxRYAAIA0YQsAAECasAUAACDNG1vgLXmn9Mw7JQDgXbnYAgAAkOZiy4+5gD17xQXM7/rMZREAgN9YxvBNDQAAQJe/IgMAAJAmbAEAAEgTtgAAAKQJWwAAANKELQAAAGnCFgAAgDRhCwAAQJqwBQAAIE3YAgAAkPYN4roix5zYtyUAAAAASUVORK5CYII=\" style=\"max-width: 800px; width: 100%;\"></div>\n",
       "</div>\n",
       "<h3>Data preview:</h3>\n",
       "<div>\n",
       "<style scoped>\n",
       "    .dataframe tbody tr th:only-of-type {\n",
       "        vertical-align: middle;\n",
       "    }\n",
       "\n",
       "    .dataframe tbody tr th {\n",
       "        vertical-align: top;\n",
       "    }\n",
       "\n",
       "    .dataframe thead th {\n",
       "        text-align: right;\n",
       "    }\n",
       "</style>\n",
       "<table border=\"1\" class=\"dataframe\">\n",
       "  <thead>\n",
       "    <tr style=\"text-align: right;\">\n",
       "      <th></th>\n",
       "      <th>count</th>\n",
       "      <th>label</th>\n",
       "    </tr>\n",
       "    <tr>\n",
       "      <th>value</th>\n",
       "      <th></th>\n",
       "      <th></th>\n",
       "    </tr>\n",
       "  </thead>\n",
       "  <tbody>\n",
       "    <tr>\n",
       "      <th>ACI</th>\n",
       "      <td>1</td>\n",
       "      <td>Almanach pour le commerce</td>\n",
       "    </tr>\n",
       "    <tr>\n",
       "      <th>AV</th>\n",
       "      <td>206</td>\n",
       "      <td>Indicateur de Lausanne</td>\n",
       "    </tr>\n",
       "    <tr>\n",
       "      <th>BDC</th>\n",
       "      <td>226</td>\n",
       "      <td>Bulletin des séances de la Constituante</td>\n",
       "    </tr>\n",
       "  </tbody>\n",
       "</table>\n",
       "</div>"
      ],
      "text/plain": [
       "<impresso.resources.search.FacetDataContainer at 0x11bdf5050>"
      ]
     },
     "execution_count": 39,
     "metadata": {},
     "output_type": "execute_result"
    }
   ],
   "source": [
    "impresso.text_reuse.clusters.facet(\"newspaper\")"
   ]
  },
  {
   "cell_type": "markdown",
   "metadata": {},
   "source": [
    "### Pagination"
   ]
  },
  {
   "cell_type": "code",
   "execution_count": 40,
   "metadata": {},
   "outputs": [
    {
     "name": "stdout",
     "output_type": "stream",
     "text": [
      "Total items in the result set: 130. Limit: 50. Offset: 0. Size: 50.\n",
      "Got page 0 - 50 of 130. The first title is Almanach pour le commerce\n",
      "Got page 50 - 100 of 130. The first title is Le Courrier fribourgeois\n",
      "Got page 100 - 130 of 130. The first title is Excelsior\n"
     ]
    }
   ],
   "source": [
    "result = impresso.text_reuse.clusters.facet(\"newspaper\", limit=50)\n",
    "\n",
    "print(f\"Total items in the result set: {result.total}. Limit: {result.limit}. Offset: {result.offset}. Size: {result.size}.\")\n",
    "for page in result.pages():\n",
    "    print(\n",
    "        f\"Got page {page.offset} - {page.offset + page.size} of {page.total}. \"\n",
    "        + f\"The first title is {page.raw['data'][0]['label']}\"\n",
    "    )"
   ]
  },
  {
   "cell_type": "markdown",
   "metadata": {},
   "source": [
    "## daterange"
   ]
  },
  {
   "cell_type": "code",
   "execution_count": 41,
   "metadata": {},
   "outputs": [
    {
     "data": {
      "text/html": [
       "<div style=\"display: grid; \">\n",
       "<div>\n",
       "<h2>PassagesFacet result</h2>\n",
       "<div>Contains <b>6</b> items of <b>6</b> total items.</div>\n",
       "<br/>\n",
       "See this result in the <a href=\"https://impresso-project.ch/app/text-reuse/passages?sq=CgoYByoGYmFuYW5h&p=1\">Impresso App</a>.\n",
       "</div>\n",
       "</div>\n",
       "<h3>Data preview:</h3>\n",
       "<div>\n",
       "<style scoped>\n",
       "    .dataframe tbody tr th:only-of-type {\n",
       "        vertical-align: middle;\n",
       "    }\n",
       "\n",
       "    .dataframe tbody tr th {\n",
       "        vertical-align: top;\n",
       "    }\n",
       "\n",
       "    .dataframe thead th {\n",
       "        text-align: right;\n",
       "    }\n",
       "</style>\n",
       "<table border=\"1\" class=\"dataframe\">\n",
       "  <thead>\n",
       "    <tr style=\"text-align: right;\">\n",
       "      <th></th>\n",
       "      <th>count</th>\n",
       "    </tr>\n",
       "    <tr>\n",
       "      <th>value</th>\n",
       "      <th></th>\n",
       "    </tr>\n",
       "  </thead>\n",
       "  <tbody>\n",
       "    <tr>\n",
       "      <th>1883-07-01T00:00:00Z</th>\n",
       "      <td>1</td>\n",
       "    </tr>\n",
       "    <tr>\n",
       "      <th>1884-07-01T00:00:00Z</th>\n",
       "      <td>1</td>\n",
       "    </tr>\n",
       "    <tr>\n",
       "      <th>1885-07-01T00:00:00Z</th>\n",
       "      <td>2</td>\n",
       "    </tr>\n",
       "  </tbody>\n",
       "</table>\n",
       "</div>"
      ],
      "text/plain": [
       "<impresso.resources.text_reuse.passages.PassagesFacetDataContainer at 0x11b49df90>"
      ]
     },
     "execution_count": 41,
     "metadata": {},
     "output_type": "execute_result"
    }
   ],
   "source": [
    "impresso.text_reuse.passages.facet(\n",
    "    \"daterange\",\n",
    "    term=\"banana\"\n",
    ")"
   ]
  },
  {
   "cell_type": "markdown",
   "metadata": {},
   "source": [
    "## yearmonth"
   ]
  },
  {
   "cell_type": "code",
   "execution_count": 42,
   "metadata": {},
   "outputs": [
    {
     "data": {
      "text/html": [
       "<div style=\"display: grid; \">\n",
       "<div>\n",
       "<h2>PassagesFacet result</h2>\n",
       "<div>Contains <b>0</b> items of <b>0</b> total items.</div>\n",
       "<br/>\n",
       "See this result in the <a href=\"https://impresso-project.ch/app/text-reuse/passages?sq=CgoYByoGYmFuYW5h&p=1\">Impresso App</a>.\n",
       "</div>\n",
       "</div>\n",
       "<h3>Data preview:</h3>\n",
       "<div>\n",
       "<style scoped>\n",
       "    .dataframe tbody tr th:only-of-type {\n",
       "        vertical-align: middle;\n",
       "    }\n",
       "\n",
       "    .dataframe tbody tr th {\n",
       "        vertical-align: top;\n",
       "    }\n",
       "\n",
       "    .dataframe thead th {\n",
       "        text-align: right;\n",
       "    }\n",
       "</style>\n",
       "<table border=\"1\" class=\"dataframe\">\n",
       "  <thead>\n",
       "    <tr style=\"text-align: right;\">\n",
       "      <th></th>\n",
       "    </tr>\n",
       "  </thead>\n",
       "  <tbody>\n",
       "  </tbody>\n",
       "</table>\n",
       "</div>"
      ],
      "text/plain": [
       "<impresso.resources.text_reuse.passages.PassagesFacetDataContainer at 0x11bdd6fd0>"
      ]
     },
     "execution_count": 42,
     "metadata": {},
     "output_type": "execute_result"
    }
   ],
   "source": [
    "impresso.text_reuse.passages.facet(\n",
    "    \"yearmonth\",\n",
    "    term=\"banana\"\n",
    ")"
   ]
  },
  {
   "cell_type": "markdown",
   "metadata": {},
   "source": [
    "## year"
   ]
  },
  {
   "cell_type": "code",
   "execution_count": 43,
   "metadata": {},
   "outputs": [
    {
     "data": {
      "text/html": [
       "<div style=\"display: grid; \">\n",
       "<div>\n",
       "<h2>PassagesFacet result</h2>\n",
       "<div>Contains <b>0</b> items of <b>0</b> total items.</div>\n",
       "<br/>\n",
       "See this result in the <a href=\"https://impresso-project.ch/app/text-reuse/passages?sq=CgoYByoGYmFuYW5h&p=1\">Impresso App</a>.\n",
       "</div>\n",
       "</div>\n",
       "<h3>Data preview:</h3>\n",
       "<div>\n",
       "<style scoped>\n",
       "    .dataframe tbody tr th:only-of-type {\n",
       "        vertical-align: middle;\n",
       "    }\n",
       "\n",
       "    .dataframe tbody tr th {\n",
       "        vertical-align: top;\n",
       "    }\n",
       "\n",
       "    .dataframe thead th {\n",
       "        text-align: right;\n",
       "    }\n",
       "</style>\n",
       "<table border=\"1\" class=\"dataframe\">\n",
       "  <thead>\n",
       "    <tr style=\"text-align: right;\">\n",
       "      <th></th>\n",
       "    </tr>\n",
       "  </thead>\n",
       "  <tbody>\n",
       "  </tbody>\n",
       "</table>\n",
       "</div>"
      ],
      "text/plain": [
       "<impresso.resources.text_reuse.passages.PassagesFacetDataContainer at 0x11bec54d0>"
      ]
     },
     "execution_count": 43,
     "metadata": {},
     "output_type": "execute_result"
    }
   ],
   "source": [
    "impresso.text_reuse.passages.facet(\n",
    "    \"year\",\n",
    "    term=\"banana\"\n",
    ")"
   ]
  },
  {
   "cell_type": "markdown",
   "metadata": {},
   "source": [
    "## connectedClusters"
   ]
  },
  {
   "cell_type": "code",
   "execution_count": 44,
   "metadata": {},
   "outputs": [
    {
     "data": {
      "text/html": [
       "<div style=\"display: grid; \">\n",
       "<div>\n",
       "<h2>PassagesFacet result</h2>\n",
       "<div>Contains <b>10</b> items (<b>0</b> - <b>10</b>) of <b>57</b> total items.</div>\n",
       "<br/>\n",
       "See this result in the <a href=\"https://impresso-project.ch/app/text-reuse/passages?sq=CgoYByoGYmFuYW5h&p=1\">Impresso App</a>.\n",
       "</div>\n",
       "</div>\n",
       "<h3>Data preview:</h3>\n",
       "<div>\n",
       "<style scoped>\n",
       "    .dataframe tbody tr th:only-of-type {\n",
       "        vertical-align: middle;\n",
       "    }\n",
       "\n",
       "    .dataframe tbody tr th {\n",
       "        vertical-align: top;\n",
       "    }\n",
       "\n",
       "    .dataframe thead th {\n",
       "        text-align: right;\n",
       "    }\n",
       "</style>\n",
       "<table border=\"1\" class=\"dataframe\">\n",
       "  <thead>\n",
       "    <tr style=\"text-align: right;\">\n",
       "      <th></th>\n",
       "      <th>count</th>\n",
       "    </tr>\n",
       "    <tr>\n",
       "      <th>value</th>\n",
       "      <th></th>\n",
       "    </tr>\n",
       "  </thead>\n",
       "  <tbody>\n",
       "    <tr>\n",
       "      <th>tr-all-v1-24-c103079453365</th>\n",
       "      <td>1</td>\n",
       "    </tr>\n",
       "    <tr>\n",
       "      <th>tr-all-v1-24-c111669295627</th>\n",
       "      <td>2</td>\n",
       "    </tr>\n",
       "    <tr>\n",
       "      <th>tr-all-v1-24-c111669295628</th>\n",
       "      <td>1</td>\n",
       "    </tr>\n",
       "  </tbody>\n",
       "</table>\n",
       "</div>"
      ],
      "text/plain": [
       "<impresso.resources.text_reuse.passages.PassagesFacetDataContainer at 0x11bd7b250>"
      ]
     },
     "execution_count": 44,
     "metadata": {},
     "output_type": "execute_result"
    }
   ],
   "source": [
    "impresso.text_reuse.passages.facet(\n",
    "    \"connectedClusters\",\n",
    "    term=\"banana\"\n",
    ")"
   ]
  },
  {
   "cell_type": "markdown",
   "metadata": {},
   "source": [
    "## textReuseClusterSize"
   ]
  },
  {
   "cell_type": "code",
   "execution_count": 45,
   "metadata": {},
   "outputs": [
    {
     "data": {
      "text/html": [
       "<div style=\"display: grid; \">\n",
       "<div>\n",
       "<h2>PassagesFacet result</h2>\n",
       "<div>Contains <b>10</b> items (<b>0</b> - <b>10</b>) of <b>200</b> total items.</div>\n",
       "<br/>\n",
       "See this result in the <a href=\"https://impresso-project.ch/app/text-reuse/passages?sq=CgoYByoGYmFuYW5h&p=1\">Impresso App</a>.\n",
       "</div>\n",
       "</div>\n",
       "<h3>Data preview:</h3>\n",
       "<div>\n",
       "<style scoped>\n",
       "    .dataframe tbody tr th:only-of-type {\n",
       "        vertical-align: middle;\n",
       "    }\n",
       "\n",
       "    .dataframe tbody tr th {\n",
       "        vertical-align: top;\n",
       "    }\n",
       "\n",
       "    .dataframe thead th {\n",
       "        text-align: right;\n",
       "    }\n",
       "</style>\n",
       "<table border=\"1\" class=\"dataframe\">\n",
       "  <thead>\n",
       "    <tr style=\"text-align: right;\">\n",
       "      <th></th>\n",
       "      <th>count</th>\n",
       "    </tr>\n",
       "    <tr>\n",
       "      <th>value</th>\n",
       "      <th></th>\n",
       "    </tr>\n",
       "  </thead>\n",
       "  <tbody>\n",
       "    <tr>\n",
       "      <th>2</th>\n",
       "      <td>16</td>\n",
       "    </tr>\n",
       "    <tr>\n",
       "      <th>252</th>\n",
       "      <td>0</td>\n",
       "    </tr>\n",
       "    <tr>\n",
       "      <th>502</th>\n",
       "      <td>0</td>\n",
       "    </tr>\n",
       "  </tbody>\n",
       "</table>\n",
       "</div>"
      ],
      "text/plain": [
       "<impresso.resources.text_reuse.passages.PassagesFacetDataContainer at 0x11bd7ab50>"
      ]
     },
     "execution_count": 45,
     "metadata": {},
     "output_type": "execute_result"
    }
   ],
   "source": [
    "impresso.text_reuse.passages.facet(\n",
    "    \"textReuseClusterSize\",\n",
    "    term=\"banana\"\n",
    ")"
   ]
  },
  {
   "cell_type": "markdown",
   "metadata": {},
   "source": [
    "## textReuseClusterLexicalOverlap"
   ]
  },
  {
   "cell_type": "code",
   "execution_count": 46,
   "metadata": {},
   "outputs": [
    {
     "data": {
      "text/html": [
       "<div style=\"display: grid; \">\n",
       "<div>\n",
       "<h2>PassagesFacet result</h2>\n",
       "<div>Contains <b>10</b> items (<b>0</b> - <b>10</b>) of <b>100</b> total items.</div>\n",
       "<br/>\n",
       "See this result in the <a href=\"https://impresso-project.ch/app/text-reuse/passages?sq=CgoYByoGYmFuYW5h&p=1\">Impresso App</a>.\n",
       "</div>\n",
       "</div>\n",
       "<h3>Data preview:</h3>\n",
       "<div>\n",
       "<style scoped>\n",
       "    .dataframe tbody tr th:only-of-type {\n",
       "        vertical-align: middle;\n",
       "    }\n",
       "\n",
       "    .dataframe tbody tr th {\n",
       "        vertical-align: top;\n",
       "    }\n",
       "\n",
       "    .dataframe thead th {\n",
       "        text-align: right;\n",
       "    }\n",
       "</style>\n",
       "<table border=\"1\" class=\"dataframe\">\n",
       "  <thead>\n",
       "    <tr style=\"text-align: right;\">\n",
       "      <th></th>\n",
       "      <th>count</th>\n",
       "    </tr>\n",
       "    <tr>\n",
       "      <th>value</th>\n",
       "      <th></th>\n",
       "    </tr>\n",
       "  </thead>\n",
       "  <tbody>\n",
       "    <tr>\n",
       "      <th>0</th>\n",
       "      <td>0</td>\n",
       "    </tr>\n",
       "    <tr>\n",
       "      <th>1</th>\n",
       "      <td>0</td>\n",
       "    </tr>\n",
       "    <tr>\n",
       "      <th>2</th>\n",
       "      <td>0</td>\n",
       "    </tr>\n",
       "  </tbody>\n",
       "</table>\n",
       "</div>"
      ],
      "text/plain": [
       "<impresso.resources.text_reuse.passages.PassagesFacetDataContainer at 0x11baa5f90>"
      ]
     },
     "execution_count": 46,
     "metadata": {},
     "output_type": "execute_result"
    }
   ],
   "source": [
    "impresso.text_reuse.passages.facet(\n",
    "    \"textReuseClusterLexicalOverlap\",\n",
    "    term=\"banana\"\n",
    ")"
   ]
  },
  {
   "cell_type": "markdown",
   "metadata": {},
   "source": [
    "## textReuseClusterDayDelta"
   ]
  },
  {
   "cell_type": "code",
   "execution_count": 47,
   "metadata": {},
   "outputs": [
    {
     "data": {
      "text/html": [
       "<div style=\"display: grid; \">\n",
       "<div>\n",
       "<h2>PassagesFacet result</h2>\n",
       "<div>Contains <b>10</b> items (<b>0</b> - <b>10</b>) of <b>803</b> total items.</div>\n",
       "<br/>\n",
       "See this result in the <a href=\"https://impresso-project.ch/app/text-reuse/passages?sq=CgoYByoGYmFuYW5h&p=1\">Impresso App</a>.\n",
       "</div>\n",
       "</div>\n",
       "<h3>Data preview:</h3>\n",
       "<div>\n",
       "<style scoped>\n",
       "    .dataframe tbody tr th:only-of-type {\n",
       "        vertical-align: middle;\n",
       "    }\n",
       "\n",
       "    .dataframe tbody tr th {\n",
       "        vertical-align: top;\n",
       "    }\n",
       "\n",
       "    .dataframe thead th {\n",
       "        text-align: right;\n",
       "    }\n",
       "</style>\n",
       "<table border=\"1\" class=\"dataframe\">\n",
       "  <thead>\n",
       "    <tr style=\"text-align: right;\">\n",
       "      <th></th>\n",
       "      <th>count</th>\n",
       "    </tr>\n",
       "    <tr>\n",
       "      <th>value</th>\n",
       "      <th></th>\n",
       "    </tr>\n",
       "  </thead>\n",
       "  <tbody>\n",
       "    <tr>\n",
       "      <th>0</th>\n",
       "      <td>16</td>\n",
       "    </tr>\n",
       "    <tr>\n",
       "      <th>118</th>\n",
       "      <td>0</td>\n",
       "    </tr>\n",
       "    <tr>\n",
       "      <th>236</th>\n",
       "      <td>0</td>\n",
       "    </tr>\n",
       "  </tbody>\n",
       "</table>\n",
       "</div>"
      ],
      "text/plain": [
       "<impresso.resources.text_reuse.passages.PassagesFacetDataContainer at 0x11bd75750>"
      ]
     },
     "execution_count": 47,
     "metadata": {},
     "output_type": "execute_result"
    }
   ],
   "source": [
    "impresso.text_reuse.passages.facet(\n",
    "    \"textReuseClusterDayDelta\",\n",
    "    term=\"banana\"\n",
    ")"
   ]
  },
  {
   "cell_type": "markdown",
   "metadata": {},
   "source": [
    "## textReuseCluster"
   ]
  },
  {
   "cell_type": "code",
   "execution_count": 48,
   "metadata": {},
   "outputs": [
    {
     "data": {
      "text/html": [
       "<div style=\"display: grid; \">\n",
       "<div>\n",
       "<h2>PassagesFacet result</h2>\n",
       "<div>Contains <b>10</b> items of <b>10</b> total items.</div>\n",
       "<br/>\n",
       "See this result in the <a href=\"https://impresso-project.ch/app/text-reuse/passages?sq=CgoYByoGYmFuYW5h&p=1\">Impresso App</a>.\n",
       "</div>\n",
       "</div>\n",
       "<h3>Data preview:</h3>\n",
       "<div>\n",
       "<style scoped>\n",
       "    .dataframe tbody tr th:only-of-type {\n",
       "        vertical-align: middle;\n",
       "    }\n",
       "\n",
       "    .dataframe tbody tr th {\n",
       "        vertical-align: top;\n",
       "    }\n",
       "\n",
       "    .dataframe thead th {\n",
       "        text-align: right;\n",
       "    }\n",
       "</style>\n",
       "<table border=\"1\" class=\"dataframe\">\n",
       "  <thead>\n",
       "    <tr style=\"text-align: right;\">\n",
       "      <th></th>\n",
       "      <th>count</th>\n",
       "    </tr>\n",
       "    <tr>\n",
       "      <th>value</th>\n",
       "      <th></th>\n",
       "    </tr>\n",
       "  </thead>\n",
       "  <tbody>\n",
       "    <tr>\n",
       "      <th>tr-all-v1-24-c111669295627</th>\n",
       "      <td>2</td>\n",
       "    </tr>\n",
       "    <tr>\n",
       "      <th>tr-all-v1-24-c137439334025</th>\n",
       "      <td>1</td>\n",
       "    </tr>\n",
       "    <tr>\n",
       "      <th>tr-all-v1-24-c244588</th>\n",
       "      <td>1</td>\n",
       "    </tr>\n",
       "  </tbody>\n",
       "</table>\n",
       "</div>"
      ],
      "text/plain": [
       "<impresso.resources.text_reuse.passages.PassagesFacetDataContainer at 0x11bbb8310>"
      ]
     },
     "execution_count": 48,
     "metadata": {},
     "output_type": "execute_result"
    }
   ],
   "source": [
    "impresso.text_reuse.passages.facet(\n",
    "    \"textReuseCluster\",\n",
    "    term=\"banana\"\n",
    ")"
   ]
  },
  {
   "cell_type": "markdown",
   "metadata": {},
   "source": [
    "## collection"
   ]
  },
  {
   "cell_type": "code",
   "execution_count": 49,
   "metadata": {},
   "outputs": [
    {
     "data": {
      "text/html": [
       "<div style=\"display: grid; \">\n",
       "<div>\n",
       "<h2>PassagesFacet result</h2>\n",
       "<div>Contains <b>0</b> items of <b>0</b> total items.</div>\n",
       "<br/>\n",
       "See this result in the <a href=\"https://impresso-project.ch/app/text-reuse/passages?sq=CgoYByoGYmFuYW5h&p=1\">Impresso App</a>.\n",
       "</div>\n",
       "</div>\n",
       "<h3>Data preview:</h3>\n",
       "<div>\n",
       "<style scoped>\n",
       "    .dataframe tbody tr th:only-of-type {\n",
       "        vertical-align: middle;\n",
       "    }\n",
       "\n",
       "    .dataframe tbody tr th {\n",
       "        vertical-align: top;\n",
       "    }\n",
       "\n",
       "    .dataframe thead th {\n",
       "        text-align: right;\n",
       "    }\n",
       "</style>\n",
       "<table border=\"1\" class=\"dataframe\">\n",
       "  <thead>\n",
       "    <tr style=\"text-align: right;\">\n",
       "      <th></th>\n",
       "    </tr>\n",
       "  </thead>\n",
       "  <tbody>\n",
       "  </tbody>\n",
       "</table>\n",
       "</div>"
      ],
      "text/plain": [
       "<impresso.resources.text_reuse.passages.PassagesFacetDataContainer at 0x11bec73d0>"
      ]
     },
     "execution_count": 49,
     "metadata": {},
     "output_type": "execute_result"
    }
   ],
   "source": [
    "impresso.text_reuse.passages.facet(\n",
    "    \"collection\",\n",
    "    term=\"banana\"\n",
    ")"
   ]
  },
  {
   "cell_type": "markdown",
   "metadata": {},
   "source": [
    "## topic"
   ]
  },
  {
   "cell_type": "code",
   "execution_count": 50,
   "metadata": {},
   "outputs": [
    {
     "data": {
      "text/html": [
       "<div style=\"display: grid; \">\n",
       "<div>\n",
       "<h2>PassagesFacet result</h2>\n",
       "<div>Contains <b>0</b> items of <b>0</b> total items.</div>\n",
       "<br/>\n",
       "See this result in the <a href=\"https://impresso-project.ch/app/text-reuse/passages?sq=CgoYByoGYmFuYW5h&p=1\">Impresso App</a>.\n",
       "</div>\n",
       "</div>\n",
       "<h3>Data preview:</h3>\n",
       "<div>\n",
       "<style scoped>\n",
       "    .dataframe tbody tr th:only-of-type {\n",
       "        vertical-align: middle;\n",
       "    }\n",
       "\n",
       "    .dataframe tbody tr th {\n",
       "        vertical-align: top;\n",
       "    }\n",
       "\n",
       "    .dataframe thead th {\n",
       "        text-align: right;\n",
       "    }\n",
       "</style>\n",
       "<table border=\"1\" class=\"dataframe\">\n",
       "  <thead>\n",
       "    <tr style=\"text-align: right;\">\n",
       "      <th></th>\n",
       "    </tr>\n",
       "  </thead>\n",
       "  <tbody>\n",
       "  </tbody>\n",
       "</table>\n",
       "</div>"
      ],
      "text/plain": [
       "<impresso.resources.text_reuse.passages.PassagesFacetDataContainer at 0x11bdf7390>"
      ]
     },
     "execution_count": 50,
     "metadata": {},
     "output_type": "execute_result"
    }
   ],
   "source": [
    "impresso.text_reuse.passages.facet(\"topic\", term=\"banana\")"
   ]
  },
  {
   "cell_type": "markdown",
   "metadata": {},
   "source": [
    "## person"
   ]
  },
  {
   "cell_type": "code",
   "execution_count": 51,
   "metadata": {},
   "outputs": [
    {
     "data": {
      "text/html": [
       "<div style=\"display: grid; \">\n",
       "<div>\n",
       "<h2>PassagesFacet result</h2>\n",
       "<div>Contains <b>0</b> items of <b>0</b> total items.</div>\n",
       "<br/>\n",
       "See this result in the <a href=\"https://impresso-project.ch/app/text-reuse/passages?sq=CgoYByoGYmFuYW5h&p=1\">Impresso App</a>.\n",
       "</div>\n",
       "</div>\n",
       "<h3>Data preview:</h3>\n",
       "<div>\n",
       "<style scoped>\n",
       "    .dataframe tbody tr th:only-of-type {\n",
       "        vertical-align: middle;\n",
       "    }\n",
       "\n",
       "    .dataframe tbody tr th {\n",
       "        vertical-align: top;\n",
       "    }\n",
       "\n",
       "    .dataframe thead th {\n",
       "        text-align: right;\n",
       "    }\n",
       "</style>\n",
       "<table border=\"1\" class=\"dataframe\">\n",
       "  <thead>\n",
       "    <tr style=\"text-align: right;\">\n",
       "      <th></th>\n",
       "    </tr>\n",
       "  </thead>\n",
       "  <tbody>\n",
       "  </tbody>\n",
       "</table>\n",
       "</div>"
      ],
      "text/plain": [
       "<impresso.resources.text_reuse.passages.PassagesFacetDataContainer at 0x11be0c5d0>"
      ]
     },
     "execution_count": 51,
     "metadata": {},
     "output_type": "execute_result"
    }
   ],
   "source": [
    "impresso.text_reuse.passages.facet(\"person\", term=\"banana\")"
   ]
  },
  {
   "cell_type": "markdown",
   "metadata": {},
   "source": [
    "## location"
   ]
  },
  {
   "cell_type": "code",
   "execution_count": 52,
   "metadata": {},
   "outputs": [
    {
     "data": {
      "text/html": [
       "<div style=\"display: grid; \">\n",
       "<div>\n",
       "<h2>PassagesFacet result</h2>\n",
       "<div>Contains <b>0</b> items of <b>0</b> total items.</div>\n",
       "<br/>\n",
       "See this result in the <a href=\"https://impresso-project.ch/app/text-reuse/passages?sq=CgoYByoGYmFuYW5h&p=1\">Impresso App</a>.\n",
       "</div>\n",
       "</div>\n",
       "<h3>Data preview:</h3>\n",
       "<div>\n",
       "<style scoped>\n",
       "    .dataframe tbody tr th:only-of-type {\n",
       "        vertical-align: middle;\n",
       "    }\n",
       "\n",
       "    .dataframe tbody tr th {\n",
       "        vertical-align: top;\n",
       "    }\n",
       "\n",
       "    .dataframe thead th {\n",
       "        text-align: right;\n",
       "    }\n",
       "</style>\n",
       "<table border=\"1\" class=\"dataframe\">\n",
       "  <thead>\n",
       "    <tr style=\"text-align: right;\">\n",
       "      <th></th>\n",
       "    </tr>\n",
       "  </thead>\n",
       "  <tbody>\n",
       "  </tbody>\n",
       "</table>\n",
       "</div>"
      ],
      "text/plain": [
       "<impresso.resources.text_reuse.passages.PassagesFacetDataContainer at 0x11bdea110>"
      ]
     },
     "execution_count": 52,
     "metadata": {},
     "output_type": "execute_result"
    }
   ],
   "source": [
    "impresso.text_reuse.passages.facet(\"location\", term=\"banana\")"
   ]
  },
  {
   "cell_type": "markdown",
   "metadata": {},
   "source": [
    "## nag"
   ]
  },
  {
   "cell_type": "code",
   "execution_count": 53,
   "metadata": {},
   "outputs": [
    {
     "data": {
      "text/html": [
       "<div style=\"display: grid; \">\n",
       "<div>\n",
       "<h2>PassagesFacet result</h2>\n",
       "<div>Contains <b>0</b> items of <b>0</b> total items.</div>\n",
       "<br/>\n",
       "See this result in the <a href=\"https://impresso-project.ch/app/text-reuse/passages?sq=CgoYByoGYmFuYW5h&p=1\">Impresso App</a>.\n",
       "</div>\n",
       "</div>\n",
       "<h3>Data preview:</h3>\n",
       "<div>\n",
       "<style scoped>\n",
       "    .dataframe tbody tr th:only-of-type {\n",
       "        vertical-align: middle;\n",
       "    }\n",
       "\n",
       "    .dataframe tbody tr th {\n",
       "        vertical-align: top;\n",
       "    }\n",
       "\n",
       "    .dataframe thead th {\n",
       "        text-align: right;\n",
       "    }\n",
       "</style>\n",
       "<table border=\"1\" class=\"dataframe\">\n",
       "  <thead>\n",
       "    <tr style=\"text-align: right;\">\n",
       "      <th></th>\n",
       "    </tr>\n",
       "  </thead>\n",
       "  <tbody>\n",
       "  </tbody>\n",
       "</table>\n",
       "</div>"
      ],
      "text/plain": [
       "<impresso.resources.text_reuse.passages.PassagesFacetDataContainer at 0x11bdf4610>"
      ]
     },
     "execution_count": 53,
     "metadata": {},
     "output_type": "execute_result"
    }
   ],
   "source": [
    "impresso.text_reuse.passages.facet(\"nag\", term=\"banana\")"
   ]
  },
  {
   "cell_type": "markdown",
   "metadata": {},
   "source": [
    "## language"
   ]
  },
  {
   "cell_type": "code",
   "execution_count": 54,
   "metadata": {},
   "outputs": [
    {
     "data": {
      "text/html": [
       "<div style=\"display: grid; \">\n",
       "<div>\n",
       "<h2>PassagesFacet result</h2>\n",
       "<div>Contains <b>2</b> items of <b>2</b> total items.</div>\n",
       "<br/>\n",
       "See this result in the <a href=\"https://impresso-project.ch/app/text-reuse/passages?sq=CgoYByoGYmFuYW5h&p=1\">Impresso App</a>.\n",
       "</div>\n",
       "</div>\n",
       "<h3>Data preview:</h3>\n",
       "<div>\n",
       "<style scoped>\n",
       "    .dataframe tbody tr th:only-of-type {\n",
       "        vertical-align: middle;\n",
       "    }\n",
       "\n",
       "    .dataframe tbody tr th {\n",
       "        vertical-align: top;\n",
       "    }\n",
       "\n",
       "    .dataframe thead th {\n",
       "        text-align: right;\n",
       "    }\n",
       "</style>\n",
       "<table border=\"1\" class=\"dataframe\">\n",
       "  <thead>\n",
       "    <tr style=\"text-align: right;\">\n",
       "      <th></th>\n",
       "      <th>count</th>\n",
       "    </tr>\n",
       "    <tr>\n",
       "      <th>value</th>\n",
       "      <th></th>\n",
       "    </tr>\n",
       "  </thead>\n",
       "  <tbody>\n",
       "    <tr>\n",
       "      <th>de</th>\n",
       "      <td>6</td>\n",
       "    </tr>\n",
       "    <tr>\n",
       "      <th>fr</th>\n",
       "      <td>10</td>\n",
       "    </tr>\n",
       "  </tbody>\n",
       "</table>\n",
       "</div>"
      ],
      "text/plain": [
       "<impresso.resources.text_reuse.passages.PassagesFacetDataContainer at 0x11b624e90>"
      ]
     },
     "execution_count": 54,
     "metadata": {},
     "output_type": "execute_result"
    }
   ],
   "source": [
    "impresso.text_reuse.passages.facet(\"language\", term=\"banana\")"
   ]
  },
  {
   "cell_type": "markdown",
   "metadata": {},
   "source": [
    "## country"
   ]
  },
  {
   "cell_type": "code",
   "execution_count": 55,
   "metadata": {},
   "outputs": [
    {
     "data": {
      "text/html": [
       "<div style=\"display: grid; \">\n",
       "<div>\n",
       "<h2>PassagesFacet result</h2>\n",
       "<div>Contains <b>1</b> items of <b>1</b> total items.</div>\n",
       "<br/>\n",
       "See this result in the <a href=\"https://impresso-project.ch/app/text-reuse/passages?sq=CgoYByoGYmFuYW5h&p=1\">Impresso App</a>.\n",
       "</div>\n",
       "</div>\n",
       "<h3>Data preview:</h3>\n",
       "<div>\n",
       "<style scoped>\n",
       "    .dataframe tbody tr th:only-of-type {\n",
       "        vertical-align: middle;\n",
       "    }\n",
       "\n",
       "    .dataframe tbody tr th {\n",
       "        vertical-align: top;\n",
       "    }\n",
       "\n",
       "    .dataframe thead th {\n",
       "        text-align: right;\n",
       "    }\n",
       "</style>\n",
       "<table border=\"1\" class=\"dataframe\">\n",
       "  <thead>\n",
       "    <tr style=\"text-align: right;\">\n",
       "      <th></th>\n",
       "      <th>count</th>\n",
       "    </tr>\n",
       "    <tr>\n",
       "      <th>value</th>\n",
       "      <th></th>\n",
       "    </tr>\n",
       "  </thead>\n",
       "  <tbody>\n",
       "    <tr>\n",
       "      <th>CH</th>\n",
       "      <td>16</td>\n",
       "    </tr>\n",
       "  </tbody>\n",
       "</table>\n",
       "</div>"
      ],
      "text/plain": [
       "<impresso.resources.text_reuse.passages.PassagesFacetDataContainer at 0x11bd767d0>"
      ]
     },
     "execution_count": 55,
     "metadata": {},
     "output_type": "execute_result"
    }
   ],
   "source": [
    "impresso.text_reuse.passages.facet(\"country\", term=\"banana\")"
   ]
  }
 ],
 "metadata": {
  "kernelspec": {
   "display_name": "impresso-py3.11",
   "language": "python",
   "name": "python3"
  },
  "language_info": {
   "codemirror_mode": {
    "name": "ipython",
    "version": 3
   },
   "file_extension": ".py",
   "mimetype": "text/x-python",
   "name": "python",
   "nbconvert_exporter": "python",
   "pygments_lexer": "ipython3",
   "version": "3.11.11"
  }
 },
 "nbformat": 4,
 "nbformat_minor": 2
}
