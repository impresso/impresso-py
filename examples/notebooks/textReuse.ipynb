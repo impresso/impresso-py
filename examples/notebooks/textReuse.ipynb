{
 "cells": [
  {
   "cell_type": "code",
   "execution_count": 58,
   "metadata": {},
   "outputs": [
    {
     "name": "stdout",
     "output_type": "stream",
     "text": [
      "🎉 You are now connected to the Impresso API!  🎉\n",
      "🔗 Using API: https://dev.impresso-project.ch/public-api\n"
     ]
    }
   ],
   "source": [
    "from impresso import connect, AND, OR\n",
    "\n",
    "impresso = connect()"
   ]
  },
  {
   "cell_type": "markdown",
   "metadata": {},
   "source": [
    "# Text reuse clusters"
   ]
  },
  {
   "cell_type": "markdown",
   "metadata": {},
   "source": [
    "## Find clusters mentioning text"
   ]
  },
  {
   "cell_type": "code",
   "execution_count": 59,
   "metadata": {},
   "outputs": [
    {
     "data": {
      "text/html": [
       "<div style=\"display: grid; \">\n",
       "<div>\n",
       "<h2>FindTextReuseClusters result</h2>\n",
       "<div>Contains <b>5</b> items (<b>2</b> - <b>7</b>) of <b>190</b> total items.</div>\n",
       "<br/>\n",
       "See this result in the <a href=\"https://impresso-project.ch/app/text-reuse/clusters?orderBy=passages-count&sq=CgoYByoGYmFuYW5h&p=1\">Impresso App</a>.\n",
       "</div>\n",
       "</div>\n",
       "<h3>Data preview:</h3>\n",
       "<div>\n",
       "<style scoped>\n",
       "    .dataframe tbody tr th:only-of-type {\n",
       "        vertical-align: middle;\n",
       "    }\n",
       "\n",
       "    .dataframe tbody tr th {\n",
       "        vertical-align: top;\n",
       "    }\n",
       "\n",
       "    .dataframe thead th {\n",
       "        text-align: right;\n",
       "    }\n",
       "</style>\n",
       "<table border=\"1\" class=\"dataframe\">\n",
       "  <thead>\n",
       "    <tr style=\"text-align: right;\">\n",
       "      <th></th>\n",
       "      <th>lexicalOverlap</th>\n",
       "      <th>clusterSize</th>\n",
       "      <th>textSample</th>\n",
       "      <th>timeCoverage.startDate</th>\n",
       "      <th>timeCoverage.endDate</th>\n",
       "    </tr>\n",
       "    <tr>\n",
       "      <th>uid</th>\n",
       "      <th></th>\n",
       "      <th></th>\n",
       "      <th></th>\n",
       "      <th></th>\n",
       "      <th></th>\n",
       "    </tr>\n",
       "  </thead>\n",
       "  <tbody>\n",
       "    <tr>\n",
       "      <th>tr-nobp-all-v01-c137438978332</th>\n",
       "      <td>59.183673</td>\n",
       "      <td>2</td>\n",
       "      <td>[REDACTED]</td>\n",
       "      <td>1891-07-20</td>\n",
       "      <td>1891-07-21</td>\n",
       "    </tr>\n",
       "    <tr>\n",
       "      <th>tr-nobp-all-v01-c60129939020</th>\n",
       "      <td>51.000000</td>\n",
       "      <td>2</td>\n",
       "      <td>[REDACTED]</td>\n",
       "      <td>1896-02-06</td>\n",
       "      <td>1896-02-21</td>\n",
       "    </tr>\n",
       "    <tr>\n",
       "      <th>tr-nobp-all-v01-c42949726081</th>\n",
       "      <td>55.405405</td>\n",
       "      <td>2</td>\n",
       "      <td>[REDACTED]</td>\n",
       "      <td>1961-03-10</td>\n",
       "      <td>1961-03-10</td>\n",
       "    </tr>\n",
       "  </tbody>\n",
       "</table>\n",
       "</div>"
      ],
      "text/plain": [
       "<impresso.resources.text_reuse.clusters.FindTextReuseClustersContainer at 0x11d8ec4d0>"
      ]
     },
     "execution_count": 59,
     "metadata": {},
     "output_type": "execute_result"
    }
   ],
   "source": [
    "impresso.text_reuse.clusters.find(\n",
    "    term=\"banana\",\n",
    "    offset=2,\n",
    "    limit=5,\n",
    "    order_by=\"passages-count\",\n",
    ")"
   ]
  },
  {
   "cell_type": "markdown",
   "metadata": {},
   "source": [
    "## Cluster size"
   ]
  },
  {
   "cell_type": "code",
   "execution_count": 60,
   "metadata": {},
   "outputs": [
    {
     "data": {
      "text/html": [
       "<div style=\"display: grid; \">\n",
       "<div>\n",
       "<h2>FindTextReuseClusters result</h2>\n",
       "<div>Contains <b>2</b> items of <b>2</b> total items.</div>\n",
       "<br/>\n",
       "See this result in the <a href=\"https://impresso-project.ch/app/text-reuse/clusters?sq=CgoYByoGYmFuYW5hCg0YGioJNTAgVE8gMTAw&p=1\">Impresso App</a>.\n",
       "</div>\n",
       "</div>\n",
       "<h3>Data preview:</h3>\n",
       "<div>\n",
       "<style scoped>\n",
       "    .dataframe tbody tr th:only-of-type {\n",
       "        vertical-align: middle;\n",
       "    }\n",
       "\n",
       "    .dataframe tbody tr th {\n",
       "        vertical-align: top;\n",
       "    }\n",
       "\n",
       "    .dataframe thead th {\n",
       "        text-align: right;\n",
       "    }\n",
       "</style>\n",
       "<table border=\"1\" class=\"dataframe\">\n",
       "  <thead>\n",
       "    <tr style=\"text-align: right;\">\n",
       "      <th></th>\n",
       "      <th>lexicalOverlap</th>\n",
       "      <th>clusterSize</th>\n",
       "      <th>textSample</th>\n",
       "      <th>timeCoverage.startDate</th>\n",
       "      <th>timeCoverage.endDate</th>\n",
       "    </tr>\n",
       "    <tr>\n",
       "      <th>uid</th>\n",
       "      <th></th>\n",
       "      <th></th>\n",
       "      <th></th>\n",
       "      <th></th>\n",
       "      <th></th>\n",
       "    </tr>\n",
       "  </thead>\n",
       "  <tbody>\n",
       "    <tr>\n",
       "      <th>tr-nobp-all-v01-c200886</th>\n",
       "      <td>1.010101</td>\n",
       "      <td>63</td>\n",
       "      <td>[REDACTED]</td>\n",
       "      <td>2007-05-15</td>\n",
       "      <td>2011-12-29</td>\n",
       "    </tr>\n",
       "    <tr>\n",
       "      <th>tr-nobp-all-v01-c117172</th>\n",
       "      <td>38.571429</td>\n",
       "      <td>50</td>\n",
       "      <td>[REDACTED]</td>\n",
       "      <td>2008-01-14</td>\n",
       "      <td>2008-12-22</td>\n",
       "    </tr>\n",
       "  </tbody>\n",
       "</table>\n",
       "</div>"
      ],
      "text/plain": [
       "<impresso.resources.text_reuse.clusters.FindTextReuseClustersContainer at 0x11e1aa610>"
      ]
     },
     "execution_count": 60,
     "metadata": {},
     "output_type": "execute_result"
    }
   ],
   "source": [
    "impresso.text_reuse.clusters.find(\n",
    "    term=\"banana\",\n",
    "    cluster_size=(50, 100),\n",
    ")"
   ]
  },
  {
   "cell_type": "markdown",
   "metadata": {},
   "source": [
    "## Mentioning text in title"
   ]
  },
  {
   "cell_type": "code",
   "execution_count": 61,
   "metadata": {},
   "outputs": [
    {
     "data": {
      "text/html": [
       "<div style=\"display: grid; \">\n",
       "<div>\n",
       "<h2>FindTextReuseClusters result</h2>\n",
       "<div>Contains <b>2</b> items of <b>2</b> total items.</div>\n",
       "<br/>\n",
       "See this result in the <a href=\"https://impresso-project.ch/app/text-reuse/clusters?sq=Cg4YGioKMTAwIFRPIDIwMAoYEAEYAyoGc3Vpc3NlKgpsdXhlbWJvdXJn&p=1\">Impresso App</a>.\n",
       "</div>\n",
       "</div>\n",
       "<h3>Data preview:</h3>\n",
       "<div>\n",
       "<style scoped>\n",
       "    .dataframe tbody tr th:only-of-type {\n",
       "        vertical-align: middle;\n",
       "    }\n",
       "\n",
       "    .dataframe tbody tr th {\n",
       "        vertical-align: top;\n",
       "    }\n",
       "\n",
       "    .dataframe thead th {\n",
       "        text-align: right;\n",
       "    }\n",
       "</style>\n",
       "<table border=\"1\" class=\"dataframe\">\n",
       "  <thead>\n",
       "    <tr style=\"text-align: right;\">\n",
       "      <th></th>\n",
       "      <th>lexicalOverlap</th>\n",
       "      <th>clusterSize</th>\n",
       "      <th>textSample</th>\n",
       "      <th>timeCoverage.startDate</th>\n",
       "      <th>timeCoverage.endDate</th>\n",
       "    </tr>\n",
       "    <tr>\n",
       "      <th>uid</th>\n",
       "      <th></th>\n",
       "      <th></th>\n",
       "      <th></th>\n",
       "      <th></th>\n",
       "      <th></th>\n",
       "    </tr>\n",
       "  </thead>\n",
       "  <tbody>\n",
       "    <tr>\n",
       "      <th>tr-nobp-all-v01-c433978</th>\n",
       "      <td>0.581395</td>\n",
       "      <td>139</td>\n",
       "      <td>[REDACTED]</td>\n",
       "      <td>1931-02-16</td>\n",
       "      <td>1958-01-17</td>\n",
       "    </tr>\n",
       "    <tr>\n",
       "      <th>tr-nobp-all-v01-c325226</th>\n",
       "      <td>36.000000</td>\n",
       "      <td>143</td>\n",
       "      <td>[REDACTED]</td>\n",
       "      <td>1991-12-13</td>\n",
       "      <td>1993-11-30</td>\n",
       "    </tr>\n",
       "  </tbody>\n",
       "</table>\n",
       "</div>"
      ],
      "text/plain": [
       "<impresso.resources.text_reuse.clusters.FindTextReuseClustersContainer at 0x11e1a9410>"
      ]
     },
     "execution_count": 61,
     "metadata": {},
     "output_type": "execute_result"
    }
   ],
   "source": [
    "impresso.text_reuse.clusters.find(\n",
    "    title=AND(\"luxembourg\", \"suisse\"),\n",
    "    cluster_size=(100, 200),\n",
    ")"
   ]
  },
  {
   "cell_type": "markdown",
   "metadata": {},
   "source": [
    "## Lexical overlap"
   ]
  },
  {
   "cell_type": "code",
   "execution_count": 62,
   "metadata": {},
   "outputs": [
    {
     "data": {
      "text/html": [
       "<div style=\"display: grid; \">\n",
       "<div>\n",
       "<h2>FindTextReuseClusters result</h2>\n",
       "<div>Contains <b>3</b> items of <b>3</b> total items.</div>\n",
       "<br/>\n",
       "See this result in the <a href=\"https://impresso-project.ch/app/text-reuse/clusters?sq=CgoYByoGYmFuYW5hCgwYGyoINTAgVE8gNTE=&p=1\">Impresso App</a>.\n",
       "</div>\n",
       "</div>\n",
       "<h3>Data preview:</h3>\n",
       "<div>\n",
       "<style scoped>\n",
       "    .dataframe tbody tr th:only-of-type {\n",
       "        vertical-align: middle;\n",
       "    }\n",
       "\n",
       "    .dataframe tbody tr th {\n",
       "        vertical-align: top;\n",
       "    }\n",
       "\n",
       "    .dataframe thead th {\n",
       "        text-align: right;\n",
       "    }\n",
       "</style>\n",
       "<table border=\"1\" class=\"dataframe\">\n",
       "  <thead>\n",
       "    <tr style=\"text-align: right;\">\n",
       "      <th></th>\n",
       "      <th>lexicalOverlap</th>\n",
       "      <th>clusterSize</th>\n",
       "      <th>textSample</th>\n",
       "      <th>timeCoverage.startDate</th>\n",
       "      <th>timeCoverage.endDate</th>\n",
       "    </tr>\n",
       "    <tr>\n",
       "      <th>uid</th>\n",
       "      <th></th>\n",
       "      <th></th>\n",
       "      <th></th>\n",
       "      <th></th>\n",
       "      <th></th>\n",
       "    </tr>\n",
       "  </thead>\n",
       "  <tbody>\n",
       "    <tr>\n",
       "      <th>tr-nobp-all-v01-c154619006960</th>\n",
       "      <td>50.980392</td>\n",
       "      <td>4</td>\n",
       "      <td>[REDACTED]</td>\n",
       "      <td>1961-03-04</td>\n",
       "      <td>1961-03-04</td>\n",
       "    </tr>\n",
       "    <tr>\n",
       "      <th>tr-nobp-all-v01-c60129939020</th>\n",
       "      <td>51.000000</td>\n",
       "      <td>2</td>\n",
       "      <td>[REDACTED]</td>\n",
       "      <td>1896-02-06</td>\n",
       "      <td>1896-02-21</td>\n",
       "    </tr>\n",
       "    <tr>\n",
       "      <th>tr-nobp-all-v01-c240518594491</th>\n",
       "      <td>50.000000</td>\n",
       "      <td>2</td>\n",
       "      <td>[REDACTED]</td>\n",
       "      <td>2007-08-28</td>\n",
       "      <td>2008-09-02</td>\n",
       "    </tr>\n",
       "  </tbody>\n",
       "</table>\n",
       "</div>"
      ],
      "text/plain": [
       "<impresso.resources.text_reuse.clusters.FindTextReuseClustersContainer at 0x11e224350>"
      ]
     },
     "execution_count": 62,
     "metadata": {},
     "output_type": "execute_result"
    }
   ],
   "source": [
    "impresso.text_reuse.clusters.find(\n",
    "    term=\"banana\",\n",
    "    lexical_overlap=(50, 51),\n",
    ")"
   ]
  },
  {
   "cell_type": "markdown",
   "metadata": {},
   "source": [
    "## Day delta\n",
    "\n",
    "Number of days between the first and last mention of the text in the cluster."
   ]
  },
  {
   "cell_type": "code",
   "execution_count": 63,
   "metadata": {},
   "outputs": [
    {
     "data": {
      "text/html": [
       "<div style=\"display: grid; \">\n",
       "<div>\n",
       "<h2>FindTextReuseClusters result</h2>\n",
       "<div>Contains <b>1</b> items of <b>1</b> total items.</div>\n",
       "<br/>\n",
       "See this result in the <a href=\"https://impresso-project.ch/app/text-reuse/clusters?sq=CgoYByoGYmFuYW5hCg0YHCoJNTAgVE8gMTAw&p=1\">Impresso App</a>.\n",
       "</div>\n",
       "</div>\n",
       "<h3>Data preview:</h3>\n",
       "<div>\n",
       "<style scoped>\n",
       "    .dataframe tbody tr th:only-of-type {\n",
       "        vertical-align: middle;\n",
       "    }\n",
       "\n",
       "    .dataframe tbody tr th {\n",
       "        vertical-align: top;\n",
       "    }\n",
       "\n",
       "    .dataframe thead th {\n",
       "        text-align: right;\n",
       "    }\n",
       "</style>\n",
       "<table border=\"1\" class=\"dataframe\">\n",
       "  <thead>\n",
       "    <tr style=\"text-align: right;\">\n",
       "      <th></th>\n",
       "      <th>lexicalOverlap</th>\n",
       "      <th>clusterSize</th>\n",
       "      <th>textSample</th>\n",
       "      <th>timeCoverage.startDate</th>\n",
       "      <th>timeCoverage.endDate</th>\n",
       "    </tr>\n",
       "    <tr>\n",
       "      <th>uid</th>\n",
       "      <th></th>\n",
       "      <th></th>\n",
       "      <th></th>\n",
       "      <th></th>\n",
       "      <th></th>\n",
       "    </tr>\n",
       "  </thead>\n",
       "  <tbody>\n",
       "    <tr>\n",
       "      <th>tr-nobp-all-v01-c34359907704</th>\n",
       "      <td>78.536585</td>\n",
       "      <td>2</td>\n",
       "      <td>[REDACTED]</td>\n",
       "      <td>1937-05-08</td>\n",
       "      <td>1937-07-10</td>\n",
       "    </tr>\n",
       "  </tbody>\n",
       "</table>\n",
       "</div>"
      ],
      "text/plain": [
       "<impresso.resources.text_reuse.clusters.FindTextReuseClustersContainer at 0x11e2261d0>"
      ]
     },
     "execution_count": 63,
     "metadata": {},
     "output_type": "execute_result"
    }
   ],
   "source": [
    "impresso.text_reuse.clusters.find(\n",
    "    term=\"banana\",\n",
    "    day_delta=(50, 100),\n",
    ")"
   ]
  },
  {
   "cell_type": "markdown",
   "metadata": {},
   "source": [
    "## Date range"
   ]
  },
  {
   "cell_type": "code",
   "execution_count": 64,
   "metadata": {},
   "outputs": [
    {
     "data": {
      "text/html": [
       "<div style=\"display: grid; \">\n",
       "<div>\n",
       "<h2>FindTextReuseClusters result</h2>\n",
       "<div>Contains <b>10</b> items (<b>0</b> - <b>10</b>) of <b>95</b> total items.</div>\n",
       "<br/>\n",
       "See this result in the <a href=\"https://impresso-project.ch/app/text-reuse/clusters?sq=CgoYByoGYmFuYW5hCjAYCiosMTkyMS0wNS0yMVQwMDowMDowMFogVE8gMjAwMS0wMS0wMlQwMDowMDowMFo=&p=1\">Impresso App</a>.\n",
       "</div>\n",
       "</div>\n",
       "<h3>Data preview:</h3>\n",
       "<div>\n",
       "<style scoped>\n",
       "    .dataframe tbody tr th:only-of-type {\n",
       "        vertical-align: middle;\n",
       "    }\n",
       "\n",
       "    .dataframe tbody tr th {\n",
       "        vertical-align: top;\n",
       "    }\n",
       "\n",
       "    .dataframe thead th {\n",
       "        text-align: right;\n",
       "    }\n",
       "</style>\n",
       "<table border=\"1\" class=\"dataframe\">\n",
       "  <thead>\n",
       "    <tr style=\"text-align: right;\">\n",
       "      <th></th>\n",
       "      <th>lexicalOverlap</th>\n",
       "      <th>clusterSize</th>\n",
       "      <th>textSample</th>\n",
       "      <th>timeCoverage.startDate</th>\n",
       "      <th>timeCoverage.endDate</th>\n",
       "    </tr>\n",
       "    <tr>\n",
       "      <th>uid</th>\n",
       "      <th></th>\n",
       "      <th></th>\n",
       "      <th></th>\n",
       "      <th></th>\n",
       "      <th></th>\n",
       "    </tr>\n",
       "  </thead>\n",
       "  <tbody>\n",
       "    <tr>\n",
       "      <th>tr-nobp-all-v01-c171798985973</th>\n",
       "      <td>66.956522</td>\n",
       "      <td>2</td>\n",
       "      <td>[REDACTED]</td>\n",
       "      <td>1961-03-07</td>\n",
       "      <td>1961-03-07</td>\n",
       "    </tr>\n",
       "    <tr>\n",
       "      <th>tr-nobp-all-v01-c214748626011</th>\n",
       "      <td>89.221557</td>\n",
       "      <td>2</td>\n",
       "      <td>[REDACTED]</td>\n",
       "      <td>1980-04-12</td>\n",
       "      <td>1980-04-12</td>\n",
       "    </tr>\n",
       "    <tr>\n",
       "      <th>tr-nobp-all-v01-c85899364059</th>\n",
       "      <td>43.137255</td>\n",
       "      <td>3</td>\n",
       "      <td>[REDACTED]</td>\n",
       "      <td>1955-08-16</td>\n",
       "      <td>1955-08-19</td>\n",
       "    </tr>\n",
       "  </tbody>\n",
       "</table>\n",
       "</div>"
      ],
      "text/plain": [
       "<impresso.resources.text_reuse.clusters.FindTextReuseClustersContainer at 0x11e22d250>"
      ]
     },
     "execution_count": 64,
     "metadata": {},
     "output_type": "execute_result"
    }
   ],
   "source": [
    "from impresso import DateRange\n",
    "\n",
    "impresso.text_reuse.clusters.find(\n",
    "    term=\"banana\", \n",
    "    date_range=DateRange(\"1921-05-21\", \"2001-01-02\")\n",
    ")"
   ]
  },
  {
   "cell_type": "markdown",
   "metadata": {},
   "source": [
    "## Newspaper"
   ]
  },
  {
   "cell_type": "code",
   "execution_count": 65,
   "metadata": {},
   "outputs": [
    {
     "data": {
      "text/html": [
       "<div style=\"display: grid; \">\n",
       "<div>\n",
       "<h2>FindTextReuseClusters result</h2>\n",
       "<div>Contains <b>10</b> items (<b>0</b> - <b>10</b>) of <b>139</b> total items.</div>\n",
       "<br/>\n",
       "See this result in the <a href=\"https://impresso-project.ch/app/text-reuse/clusters?sq=CgoYByoGYmFuYW5hCgwYCSoDRVhQKgNHREw=&p=1\">Impresso App</a>.\n",
       "</div>\n",
       "</div>\n",
       "<h3>Data preview:</h3>\n",
       "<div>\n",
       "<style scoped>\n",
       "    .dataframe tbody tr th:only-of-type {\n",
       "        vertical-align: middle;\n",
       "    }\n",
       "\n",
       "    .dataframe tbody tr th {\n",
       "        vertical-align: top;\n",
       "    }\n",
       "\n",
       "    .dataframe thead th {\n",
       "        text-align: right;\n",
       "    }\n",
       "</style>\n",
       "<table border=\"1\" class=\"dataframe\">\n",
       "  <thead>\n",
       "    <tr style=\"text-align: right;\">\n",
       "      <th></th>\n",
       "      <th>lexicalOverlap</th>\n",
       "      <th>clusterSize</th>\n",
       "      <th>textSample</th>\n",
       "      <th>timeCoverage.startDate</th>\n",
       "      <th>timeCoverage.endDate</th>\n",
       "    </tr>\n",
       "    <tr>\n",
       "      <th>uid</th>\n",
       "      <th></th>\n",
       "      <th></th>\n",
       "      <th></th>\n",
       "      <th></th>\n",
       "      <th></th>\n",
       "    </tr>\n",
       "  </thead>\n",
       "  <tbody>\n",
       "    <tr>\n",
       "      <th>tr-nobp-all-v01-c51539934627</th>\n",
       "      <td>100.000</td>\n",
       "      <td>2</td>\n",
       "      <td>[REDACTED]</td>\n",
       "      <td>2013-08-31</td>\n",
       "      <td>2013-08-31</td>\n",
       "    </tr>\n",
       "    <tr>\n",
       "      <th>tr-nobp-all-v01-c117193</th>\n",
       "      <td>100.000</td>\n",
       "      <td>2</td>\n",
       "      <td>[REDACTED]</td>\n",
       "      <td>2008-07-10</td>\n",
       "      <td>2008-07-10</td>\n",
       "    </tr>\n",
       "    <tr>\n",
       "      <th>tr-nobp-all-v01-c299325</th>\n",
       "      <td>34.375</td>\n",
       "      <td>2</td>\n",
       "      <td>[REDACTED]</td>\n",
       "      <td>1967-06-22</td>\n",
       "      <td>1967-10-02</td>\n",
       "    </tr>\n",
       "  </tbody>\n",
       "</table>\n",
       "</div>"
      ],
      "text/plain": [
       "<impresso.resources.text_reuse.clusters.FindTextReuseClustersContainer at 0x11e22dc10>"
      ]
     },
     "execution_count": 65,
     "metadata": {},
     "output_type": "execute_result"
    }
   ],
   "source": [
    "impresso.text_reuse.clusters.find(\n",
    "    term=\"banana\", \n",
    "    newspaper_id=OR(\"EXP\", \"GDL\"),\n",
    ")"
   ]
  },
  {
   "cell_type": "markdown",
   "metadata": {},
   "source": [
    "## Collection"
   ]
  },
  {
   "cell_type": "code",
   "execution_count": 66,
   "metadata": {},
   "outputs": [
    {
     "data": {
      "text/html": [
       "<div style=\"display: grid; \">\n",
       "<div>\n",
       "<h2>FindTextReuseClusters result</h2>\n",
       "<div>Contains <b>0</b> items of <b>0</b> total items.</div>\n",
       "<br/>\n",
       "See this result in the <a href=\"https://impresso-project.ch/app/text-reuse/clusters?sq=CgwYEyoIMTIzMTIzMTI=&p=1\">Impresso App</a>.\n",
       "</div>\n",
       "</div>\n",
       "<h3>Data preview:</h3>\n",
       "<div>\n",
       "<style scoped>\n",
       "    .dataframe tbody tr th:only-of-type {\n",
       "        vertical-align: middle;\n",
       "    }\n",
       "\n",
       "    .dataframe tbody tr th {\n",
       "        vertical-align: top;\n",
       "    }\n",
       "\n",
       "    .dataframe thead th {\n",
       "        text-align: right;\n",
       "    }\n",
       "</style>\n",
       "<table border=\"1\" class=\"dataframe\">\n",
       "  <thead>\n",
       "    <tr style=\"text-align: right;\">\n",
       "      <th></th>\n",
       "    </tr>\n",
       "  </thead>\n",
       "  <tbody>\n",
       "  </tbody>\n",
       "</table>\n",
       "</div>"
      ],
      "text/plain": [
       "<impresso.resources.text_reuse.clusters.FindTextReuseClustersContainer at 0x11e22d690>"
      ]
     },
     "execution_count": 66,
     "metadata": {},
     "output_type": "execute_result"
    }
   ],
   "source": [
    "impresso.text_reuse.clusters.find(collection_id=\"12312312\")"
   ]
  },
  {
   "cell_type": "markdown",
   "metadata": {},
   "source": [
    "## Front page"
   ]
  },
  {
   "cell_type": "code",
   "execution_count": 67,
   "metadata": {},
   "outputs": [
    {
     "data": {
      "text/html": [
       "<div style=\"display: grid; \">\n",
       "<div>\n",
       "<h2>FindTextReuseClusters result</h2>\n",
       "<div>Contains <b>10</b> items (<b>0</b> - <b>10</b>) of <b>16</b> total items.</div>\n",
       "<br/>\n",
       "See this result in the <a href=\"https://impresso-project.ch/app/text-reuse/clusters?sq=CgoYByoGYmFuYW5hCgIYBA==&p=1\">Impresso App</a>.\n",
       "</div>\n",
       "</div>\n",
       "<h3>Data preview:</h3>\n",
       "<div>\n",
       "<style scoped>\n",
       "    .dataframe tbody tr th:only-of-type {\n",
       "        vertical-align: middle;\n",
       "    }\n",
       "\n",
       "    .dataframe tbody tr th {\n",
       "        vertical-align: top;\n",
       "    }\n",
       "\n",
       "    .dataframe thead th {\n",
       "        text-align: right;\n",
       "    }\n",
       "</style>\n",
       "<table border=\"1\" class=\"dataframe\">\n",
       "  <thead>\n",
       "    <tr style=\"text-align: right;\">\n",
       "      <th></th>\n",
       "      <th>lexicalOverlap</th>\n",
       "      <th>clusterSize</th>\n",
       "      <th>textSample</th>\n",
       "      <th>timeCoverage.startDate</th>\n",
       "      <th>timeCoverage.endDate</th>\n",
       "    </tr>\n",
       "    <tr>\n",
       "      <th>uid</th>\n",
       "      <th></th>\n",
       "      <th></th>\n",
       "      <th></th>\n",
       "      <th></th>\n",
       "      <th></th>\n",
       "    </tr>\n",
       "  </thead>\n",
       "  <tbody>\n",
       "    <tr>\n",
       "      <th>tr-nobp-all-v01-c231928631691</th>\n",
       "      <td>60.606061</td>\n",
       "      <td>2</td>\n",
       "      <td>[REDACTED]</td>\n",
       "      <td>1914-09-29</td>\n",
       "      <td>1914-09-29</td>\n",
       "    </tr>\n",
       "    <tr>\n",
       "      <th>tr-nobp-all-v01-c68719627685</th>\n",
       "      <td>53.658537</td>\n",
       "      <td>3</td>\n",
       "      <td>[REDACTED]</td>\n",
       "      <td>1961-03-21</td>\n",
       "      <td>1961-03-21</td>\n",
       "    </tr>\n",
       "    <tr>\n",
       "      <th>tr-nobp-all-v01-c94489677052</th>\n",
       "      <td>64.800000</td>\n",
       "      <td>3</td>\n",
       "      <td>[REDACTED]</td>\n",
       "      <td>1960-09-09</td>\n",
       "      <td>1960-09-09</td>\n",
       "    </tr>\n",
       "  </tbody>\n",
       "</table>\n",
       "</div>"
      ],
      "text/plain": [
       "<impresso.resources.text_reuse.clusters.FindTextReuseClustersContainer at 0x11d972dd0>"
      ]
     },
     "execution_count": 67,
     "metadata": {},
     "output_type": "execute_result"
    }
   ],
   "source": [
    "impresso.text_reuse.clusters.find(\n",
    "    term=\"banana\", \n",
    "    front_page=True,\n",
    ")"
   ]
  },
  {
   "cell_type": "markdown",
   "metadata": {},
   "source": [
    "## Topic"
   ]
  },
  {
   "cell_type": "code",
   "execution_count": 68,
   "metadata": {},
   "outputs": [
    {
     "data": {
      "text/html": [
       "<div style=\"display: grid; \">\n",
       "<div>\n",
       "<h2>FindTextReuseClusters result</h2>\n",
       "<div>Contains <b>10</b> items (<b>0</b> - <b>10</b>) of <b>16</b> total items.</div>\n",
       "<br/>\n",
       "See this result in the <a href=\"https://impresso-project.ch/app/text-reuse/clusters?sq=CgoYByoGYmFuYW5hCjIYEioWdG0tZnItYWxsLXYyLjBfdHA0OF9mcioWdG0tZnItYWxsLXYyLjBfdHAwN19mcg==&p=1\">Impresso App</a>.\n",
       "</div>\n",
       "</div>\n",
       "<h3>Data preview:</h3>\n",
       "<div>\n",
       "<style scoped>\n",
       "    .dataframe tbody tr th:only-of-type {\n",
       "        vertical-align: middle;\n",
       "    }\n",
       "\n",
       "    .dataframe tbody tr th {\n",
       "        vertical-align: top;\n",
       "    }\n",
       "\n",
       "    .dataframe thead th {\n",
       "        text-align: right;\n",
       "    }\n",
       "</style>\n",
       "<table border=\"1\" class=\"dataframe\">\n",
       "  <thead>\n",
       "    <tr style=\"text-align: right;\">\n",
       "      <th></th>\n",
       "      <th>lexicalOverlap</th>\n",
       "      <th>clusterSize</th>\n",
       "      <th>textSample</th>\n",
       "      <th>timeCoverage.startDate</th>\n",
       "      <th>timeCoverage.endDate</th>\n",
       "    </tr>\n",
       "    <tr>\n",
       "      <th>uid</th>\n",
       "      <th></th>\n",
       "      <th></th>\n",
       "      <th></th>\n",
       "      <th></th>\n",
       "      <th></th>\n",
       "    </tr>\n",
       "  </thead>\n",
       "  <tbody>\n",
       "    <tr>\n",
       "      <th>tr-nobp-all-v01-c117193</th>\n",
       "      <td>100.000000</td>\n",
       "      <td>2</td>\n",
       "      <td>[REDACTED]</td>\n",
       "      <td>2008-07-10</td>\n",
       "      <td>2008-07-10</td>\n",
       "    </tr>\n",
       "    <tr>\n",
       "      <th>tr-nobp-all-v01-c17180190458</th>\n",
       "      <td>53.846154</td>\n",
       "      <td>5</td>\n",
       "      <td>[REDACTED]</td>\n",
       "      <td>2005-03-30</td>\n",
       "      <td>2008-07-07</td>\n",
       "    </tr>\n",
       "    <tr>\n",
       "      <th>tr-nobp-all-v01-c17180190457</th>\n",
       "      <td>78.813559</td>\n",
       "      <td>3</td>\n",
       "      <td>[REDACTED]</td>\n",
       "      <td>2008-07-07</td>\n",
       "      <td>2008-07-07</td>\n",
       "    </tr>\n",
       "  </tbody>\n",
       "</table>\n",
       "</div>"
      ],
      "text/plain": [
       "<impresso.resources.text_reuse.clusters.FindTextReuseClustersContainer at 0x11e227490>"
      ]
     },
     "execution_count": 68,
     "metadata": {},
     "output_type": "execute_result"
    }
   ],
   "source": [
    "impresso.text_reuse.clusters.find(\n",
    "    term=\"banana\", \n",
    "    topic_id=OR(\"tm-fr-all-v2.0_tp07_fr\", \"tm-fr-all-v2.0_tp48_fr\")\n",
    ")"
   ]
  },
  {
   "cell_type": "markdown",
   "metadata": {},
   "source": [
    "## Language"
   ]
  },
  {
   "cell_type": "code",
   "execution_count": 69,
   "metadata": {},
   "outputs": [
    {
     "data": {
      "text/html": [
       "<div style=\"display: grid; \">\n",
       "<div>\n",
       "<h2>FindTextReuseClusters result</h2>\n",
       "<div>Contains <b>3</b> items of <b>3</b> total items.</div>\n",
       "<br/>\n",
       "See this result in the <a href=\"https://impresso-project.ch/app/text-reuse/clusters?sq=Cg4YByoKbHV4ZW1ib3VyZwoKGAwqAml0KgJlbg==&p=1\">Impresso App</a>.\n",
       "</div>\n",
       "</div>\n",
       "<h3>Data preview:</h3>\n",
       "<div>\n",
       "<style scoped>\n",
       "    .dataframe tbody tr th:only-of-type {\n",
       "        vertical-align: middle;\n",
       "    }\n",
       "\n",
       "    .dataframe tbody tr th {\n",
       "        vertical-align: top;\n",
       "    }\n",
       "\n",
       "    .dataframe thead th {\n",
       "        text-align: right;\n",
       "    }\n",
       "</style>\n",
       "<table border=\"1\" class=\"dataframe\">\n",
       "  <thead>\n",
       "    <tr style=\"text-align: right;\">\n",
       "      <th></th>\n",
       "      <th>lexicalOverlap</th>\n",
       "      <th>clusterSize</th>\n",
       "      <th>textSample</th>\n",
       "      <th>timeCoverage.startDate</th>\n",
       "      <th>timeCoverage.endDate</th>\n",
       "    </tr>\n",
       "    <tr>\n",
       "      <th>uid</th>\n",
       "      <th></th>\n",
       "      <th></th>\n",
       "      <th></th>\n",
       "      <th></th>\n",
       "      <th></th>\n",
       "    </tr>\n",
       "  </thead>\n",
       "  <tbody>\n",
       "    <tr>\n",
       "      <th>tr-nobp-all-v01-c8590352366</th>\n",
       "      <td>18.840580</td>\n",
       "      <td>30</td>\n",
       "      <td>[REDACTED]</td>\n",
       "      <td>1975-07-11</td>\n",
       "      <td>1997-03-26</td>\n",
       "    </tr>\n",
       "    <tr>\n",
       "      <th>tr-nobp-all-v01-c322228</th>\n",
       "      <td>76.923077</td>\n",
       "      <td>2</td>\n",
       "      <td>[REDACTED]</td>\n",
       "      <td>1989-12-02</td>\n",
       "      <td>1990-04-13</td>\n",
       "    </tr>\n",
       "    <tr>\n",
       "      <th>tr-nobp-all-v01-c223338773787</th>\n",
       "      <td>59.677419</td>\n",
       "      <td>2</td>\n",
       "      <td>[REDACTED]</td>\n",
       "      <td>1947-03-13</td>\n",
       "      <td>1947-03-13</td>\n",
       "    </tr>\n",
       "  </tbody>\n",
       "</table>\n",
       "</div>"
      ],
      "text/plain": [
       "<impresso.resources.text_reuse.clusters.FindTextReuseClustersContainer at 0x11e1a98d0>"
      ]
     },
     "execution_count": 69,
     "metadata": {},
     "output_type": "execute_result"
    }
   ],
   "source": [
    "impresso.text_reuse.clusters.find(\n",
    "    term=\"luxembourg\", \n",
    "    language=OR(\"it\", \"en\")\n",
    ")"
   ]
  },
  {
   "cell_type": "markdown",
   "metadata": {},
   "source": [
    "## Country"
   ]
  },
  {
   "cell_type": "code",
   "execution_count": 70,
   "metadata": {},
   "outputs": [
    {
     "data": {
      "text/html": [
       "<div style=\"display: grid; \">\n",
       "<div>\n",
       "<h2>FindTextReuseClusters result</h2>\n",
       "<div>Contains <b>10</b> items (<b>0</b> - <b>10</b>) of <b>1792</b> total items.</div>\n",
       "<br/>\n",
       "See this result in the <a href=\"https://impresso-project.ch/app/text-reuse/clusters?sq=CgwYByoIc2NoZW5nZW4KChgWKgJGUioCQ0g=&p=1\">Impresso App</a>.\n",
       "</div>\n",
       "</div>\n",
       "<h3>Data preview:</h3>\n",
       "<div>\n",
       "<style scoped>\n",
       "    .dataframe tbody tr th:only-of-type {\n",
       "        vertical-align: middle;\n",
       "    }\n",
       "\n",
       "    .dataframe tbody tr th {\n",
       "        vertical-align: top;\n",
       "    }\n",
       "\n",
       "    .dataframe thead th {\n",
       "        text-align: right;\n",
       "    }\n",
       "</style>\n",
       "<table border=\"1\" class=\"dataframe\">\n",
       "  <thead>\n",
       "    <tr style=\"text-align: right;\">\n",
       "      <th></th>\n",
       "      <th>lexicalOverlap</th>\n",
       "      <th>clusterSize</th>\n",
       "      <th>textSample</th>\n",
       "      <th>timeCoverage.startDate</th>\n",
       "      <th>timeCoverage.endDate</th>\n",
       "    </tr>\n",
       "    <tr>\n",
       "      <th>uid</th>\n",
       "      <th></th>\n",
       "      <th></th>\n",
       "      <th></th>\n",
       "      <th></th>\n",
       "      <th></th>\n",
       "    </tr>\n",
       "  </thead>\n",
       "  <tbody>\n",
       "    <tr>\n",
       "      <th>tr-nobp-all-v01-c249108133968</th>\n",
       "      <td>97.297297</td>\n",
       "      <td>2</td>\n",
       "      <td>[REDACTED]</td>\n",
       "      <td>2001-03-27</td>\n",
       "      <td>2001-03-27</td>\n",
       "    </tr>\n",
       "    <tr>\n",
       "      <th>tr-nobp-all-v01-c111669500795</th>\n",
       "      <td>70.833333</td>\n",
       "      <td>3</td>\n",
       "      <td>[REDACTED]</td>\n",
       "      <td>2005-06-02</td>\n",
       "      <td>2005-06-03</td>\n",
       "    </tr>\n",
       "    <tr>\n",
       "      <th>tr-nobp-all-v01-c25770065012</th>\n",
       "      <td>100.000000</td>\n",
       "      <td>2</td>\n",
       "      <td>[REDACTED]</td>\n",
       "      <td>1998-04-02</td>\n",
       "      <td>1998-04-02</td>\n",
       "    </tr>\n",
       "  </tbody>\n",
       "</table>\n",
       "</div>"
      ],
      "text/plain": [
       "<impresso.resources.text_reuse.clusters.FindTextReuseClustersContainer at 0x11e1b3f50>"
      ]
     },
     "execution_count": 70,
     "metadata": {},
     "output_type": "execute_result"
    }
   ],
   "source": [
    "impresso.text_reuse.clusters.find(\n",
    "    term=\"schengen\", \n",
    "    country=OR(\"FR\", \"CH\")\n",
    ")"
   ]
  },
  {
   "cell_type": "markdown",
   "metadata": {},
   "source": [
    "## Entity mention"
   ]
  },
  {
   "cell_type": "code",
   "execution_count": 71,
   "metadata": {},
   "outputs": [
    {
     "data": {
      "text/html": [
       "<div style=\"display: grid; \">\n",
       "<div>\n",
       "<h2>FindTextReuseClusters result</h2>\n",
       "<div>Contains <b>10</b> items (<b>0</b> - <b>10</b>) of <b>43</b> total items.</div>\n",
       "<br/>\n",
       "See this result in the <a href=\"https://impresso-project.ch/app/text-reuse/clusters?sq=CgwYByoIc2NoZW5nZW4KFBgPKghMYXVzYW5uZSoGQmVsdmFs&p=1\">Impresso App</a>.\n",
       "</div>\n",
       "</div>\n",
       "<h3>Data preview:</h3>\n",
       "<div>\n",
       "<style scoped>\n",
       "    .dataframe tbody tr th:only-of-type {\n",
       "        vertical-align: middle;\n",
       "    }\n",
       "\n",
       "    .dataframe tbody tr th {\n",
       "        vertical-align: top;\n",
       "    }\n",
       "\n",
       "    .dataframe thead th {\n",
       "        text-align: right;\n",
       "    }\n",
       "</style>\n",
       "<table border=\"1\" class=\"dataframe\">\n",
       "  <thead>\n",
       "    <tr style=\"text-align: right;\">\n",
       "      <th></th>\n",
       "      <th>lexicalOverlap</th>\n",
       "      <th>clusterSize</th>\n",
       "      <th>textSample</th>\n",
       "      <th>timeCoverage.startDate</th>\n",
       "      <th>timeCoverage.endDate</th>\n",
       "    </tr>\n",
       "    <tr>\n",
       "      <th>uid</th>\n",
       "      <th></th>\n",
       "      <th></th>\n",
       "      <th></th>\n",
       "      <th></th>\n",
       "      <th></th>\n",
       "    </tr>\n",
       "  </thead>\n",
       "  <tbody>\n",
       "    <tr>\n",
       "      <th>tr-nobp-all-v01-c60129931875</th>\n",
       "      <td>46.153846</td>\n",
       "      <td>2</td>\n",
       "      <td>[REDACTED]</td>\n",
       "      <td>1946-07-31</td>\n",
       "      <td>1946-09-20</td>\n",
       "    </tr>\n",
       "    <tr>\n",
       "      <th>tr-nobp-all-v01-c42949763205</th>\n",
       "      <td>100.000000</td>\n",
       "      <td>2</td>\n",
       "      <td>[REDACTED]</td>\n",
       "      <td>1993-05-14</td>\n",
       "      <td>1993-05-14</td>\n",
       "    </tr>\n",
       "    <tr>\n",
       "      <th>tr-nobp-all-v01-c68719674988</th>\n",
       "      <td>86.206897</td>\n",
       "      <td>2</td>\n",
       "      <td>[REDACTED]</td>\n",
       "      <td>1995-06-28</td>\n",
       "      <td>1995-06-28</td>\n",
       "    </tr>\n",
       "  </tbody>\n",
       "</table>\n",
       "</div>"
      ],
      "text/plain": [
       "<impresso.resources.text_reuse.clusters.FindTextReuseClustersContainer at 0x11e1b1c50>"
      ]
     },
     "execution_count": 71,
     "metadata": {},
     "output_type": "execute_result"
    }
   ],
   "source": [
    "impresso.text_reuse.clusters.find(\n",
    "    term=\"schengen\", \n",
    "    mention=OR(\"Belval\", \"Lausanne\")\n",
    ")"
   ]
  },
  {
   "cell_type": "markdown",
   "metadata": {},
   "source": [
    "## Entity by ID"
   ]
  },
  {
   "cell_type": "code",
   "execution_count": 72,
   "metadata": {},
   "outputs": [
    {
     "data": {
      "text/html": [
       "<div style=\"display: grid; \">\n",
       "<div>\n",
       "<h2>FindTextReuseClusters result</h2>\n",
       "<div>Contains <b>10</b> items (<b>0</b> - <b>10</b>) of <b>21</b> total items.</div>\n",
       "<br/>\n",
       "See this result in the <a href=\"https://impresso-project.ch/app/text-reuse/clusters?sq=CgoYByoGYmFuYW5hChwYCCoYYWlkYS0wMDAxLTU0LVN3aXR6ZXJsYW5k&p=1\">Impresso App</a>.\n",
       "</div>\n",
       "</div>\n",
       "<h3>Data preview:</h3>\n",
       "<div>\n",
       "<style scoped>\n",
       "    .dataframe tbody tr th:only-of-type {\n",
       "        vertical-align: middle;\n",
       "    }\n",
       "\n",
       "    .dataframe tbody tr th {\n",
       "        vertical-align: top;\n",
       "    }\n",
       "\n",
       "    .dataframe thead th {\n",
       "        text-align: right;\n",
       "    }\n",
       "</style>\n",
       "<table border=\"1\" class=\"dataframe\">\n",
       "  <thead>\n",
       "    <tr style=\"text-align: right;\">\n",
       "      <th></th>\n",
       "      <th>lexicalOverlap</th>\n",
       "      <th>clusterSize</th>\n",
       "      <th>textSample</th>\n",
       "      <th>timeCoverage.startDate</th>\n",
       "      <th>timeCoverage.endDate</th>\n",
       "    </tr>\n",
       "    <tr>\n",
       "      <th>uid</th>\n",
       "      <th></th>\n",
       "      <th></th>\n",
       "      <th></th>\n",
       "      <th></th>\n",
       "      <th></th>\n",
       "    </tr>\n",
       "  </thead>\n",
       "  <tbody>\n",
       "    <tr>\n",
       "      <th>tr-nobp-all-v01-c128849280553</th>\n",
       "      <td>71.527778</td>\n",
       "      <td>2</td>\n",
       "      <td>[REDACTED]</td>\n",
       "      <td>1892-02-19</td>\n",
       "      <td>1892-02-20</td>\n",
       "    </tr>\n",
       "    <tr>\n",
       "      <th>tr-nobp-all-v01-c68719627685</th>\n",
       "      <td>53.658537</td>\n",
       "      <td>3</td>\n",
       "      <td>[REDACTED]</td>\n",
       "      <td>1961-03-21</td>\n",
       "      <td>1961-03-21</td>\n",
       "    </tr>\n",
       "    <tr>\n",
       "      <th>tr-nobp-all-v01-c111669354290</th>\n",
       "      <td>60.937500</td>\n",
       "      <td>3</td>\n",
       "      <td>[REDACTED]</td>\n",
       "      <td>1987-08-14</td>\n",
       "      <td>1987-08-15</td>\n",
       "    </tr>\n",
       "  </tbody>\n",
       "</table>\n",
       "</div>"
      ],
      "text/plain": [
       "<impresso.resources.text_reuse.clusters.FindTextReuseClustersContainer at 0x11da08ad0>"
      ]
     },
     "execution_count": 72,
     "metadata": {},
     "output_type": "execute_result"
    }
   ],
   "source": [
    "impresso.text_reuse.clusters.find(\n",
    "    term=\"banana\",\n",
    "    entity_id=\"aida-0001-54-Switzerland\"\n",
    ")"
   ]
  },
  {
   "cell_type": "markdown",
   "metadata": {},
   "source": [
    "# Text reuse clusters facets"
   ]
  },
  {
   "cell_type": "markdown",
   "metadata": {},
   "source": [
    "## Date range"
   ]
  },
  {
   "cell_type": "code",
   "execution_count": 73,
   "metadata": {},
   "outputs": [
    {
     "data": {
      "text/html": [
       "<div style=\"display: grid; grid-template-columns: minmax(200px, 1fr) auto;\">\n",
       "<div>\n",
       "<h2>Facet result</h2>\n",
       "<div>Contains <b>321</b> items of <b>321</b> total items.</div>\n",
       "<br/>\n",
       "See this result in the <a href=\"https://impresso-project.ch/app/text-reuse/clusters?orderBy=value&sq=CgoYGyoGMSBUTyAy&p=1\">Impresso App</a>.\n",
       "</div>\n",
       "<div style=\"align-content: center;\"><img src=\"data:image/png;base64,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\" style=\"max-width: 800px; width: 100%;\"></div>\n",
       "</div>\n",
       "<h3>Data preview:</h3>\n",
       "<div>\n",
       "<style scoped>\n",
       "    .dataframe tbody tr th:only-of-type {\n",
       "        vertical-align: middle;\n",
       "    }\n",
       "\n",
       "    .dataframe tbody tr th {\n",
       "        vertical-align: top;\n",
       "    }\n",
       "\n",
       "    .dataframe thead th {\n",
       "        text-align: right;\n",
       "    }\n",
       "</style>\n",
       "<table border=\"1\" class=\"dataframe\">\n",
       "  <thead>\n",
       "    <tr style=\"text-align: right;\">\n",
       "      <th></th>\n",
       "      <th>count</th>\n",
       "    </tr>\n",
       "    <tr>\n",
       "      <th>value</th>\n",
       "      <th></th>\n",
       "    </tr>\n",
       "  </thead>\n",
       "  <tbody>\n",
       "    <tr>\n",
       "      <th>1700-01-01T00:00:00Z</th>\n",
       "      <td>0</td>\n",
       "    </tr>\n",
       "    <tr>\n",
       "      <th>1701-01-01T00:00:00Z</th>\n",
       "      <td>0</td>\n",
       "    </tr>\n",
       "    <tr>\n",
       "      <th>1702-01-01T00:00:00Z</th>\n",
       "      <td>0</td>\n",
       "    </tr>\n",
       "  </tbody>\n",
       "</table>\n",
       "</div>"
      ],
      "text/plain": [
       "<impresso.resources.search.FacetDataContainer at 0x11dc7b050>"
      ]
     },
     "execution_count": 73,
     "metadata": {},
     "output_type": "execute_result"
    }
   ],
   "source": [
    "impresso.text_reuse.clusters.facet(\"daterange\", lexical_overlap=(1, 2))"
   ]
  },
  {
   "cell_type": "markdown",
   "metadata": {},
   "source": [
    "## Cluster size"
   ]
  },
  {
   "cell_type": "code",
   "execution_count": 74,
   "metadata": {},
   "outputs": [
    {
     "data": {
      "text/html": [
       "<div style=\"display: grid; grid-template-columns: minmax(200px, 1fr) auto;\">\n",
       "<div>\n",
       "<h2>Facet result</h2>\n",
       "<div>Contains <b>10</b> items of <b>10</b> total items.</div>\n",
       "<br/>\n",
       "See this result in the <a href=\"https://impresso-project.ch/app/text-reuse/clusters?orderBy=value&sq=CgoYGyoGMSBUTyAy&p=1\">Impresso App</a>.\n",
       "</div>\n",
       "<div style=\"align-content: center;\"><img src=\"data:image/png;base64,iVBORw0KGgoAAAANSUhEUgAAA7YAAABhCAYAAADiKT2SAAAAOXRFWHRTb2Z0d2FyZQBNYXRwbG90bGliIHZlcnNpb24zLjkuMiwgaHR0cHM6Ly9tYXRwbG90bGliLm9yZy8hTgPZAAAACXBIWXMAAA9hAAAPYQGoP6dpAAACWElEQVR4nO3XQQ0AIBDAMMC/50MED7KkVbDv9swsAAAAqDq/AwAAAOCFsQUAACDN2AIAAJBmbAEAAEgztgAAAKQZWwAAANKMLQAAAGnGFgAAgDRjCwAAQJqxBQAAIM3YAgAAkGZsAQAASDO2AAAApBlbAAAA0owtAAAAacYWAACANGMLAABAmrEFAAAgzdgCAACQZmwBAABIM7YAAACkGVsAAADSjC0AAABpxhYAAIA0YwsAAECasQUAACDN2AIAAJBmbAEAAEgztgAAAKQZWwAAANKMLQAAAGnGFgAAgDRjCwAAQJqxBQAAIM3YAgAAkGZsAQAASDO2AAAApBlbAAAA0owtAAAAacYWAACANGMLAABAmrEFAAAgzdgCAACQZmwBAABIM7YAAACkGVsAAADSjC0AAABpxhYAAIA0YwsAAECasQUAACDN2AIAAJBmbAEAAEgztgAAAKQZWwAAANKMLQAAAGnGFgAAgDRjCwAAQJqxBQAAIM3YAgAAkGZsAQAASDO2AAAApBlbAAAA0owtAAAAacYWAACANGMLAABAmrEFAAAgzdgCAACQZmwBAABIM7YAAACkGVsAAADSjC0AAABpxhYAAIA0YwsAAECasQUAACDN2AIAAJBmbAEAAEgztgAAAKQZWwAAANKMLQAAAGnGFgAAgDRjCwAAQJqxBQAAIM3YAgAAkGZsAQAASDO2AAAApBlbAAAA0owtAAAAacYWAACANGMLAABAmrEFAAAgzdgCAACQZmwBAABIM7YAAACkGVsAAADSjC0AAABpxhYAAIC0Cza1A7+XKuInAAAAAElFTkSuQmCC\" style=\"max-width: 800px; width: 100%;\"></div>\n",
       "</div>\n",
       "<h3>Data preview:</h3>\n",
       "<div>\n",
       "<style scoped>\n",
       "    .dataframe tbody tr th:only-of-type {\n",
       "        vertical-align: middle;\n",
       "    }\n",
       "\n",
       "    .dataframe tbody tr th {\n",
       "        vertical-align: top;\n",
       "    }\n",
       "\n",
       "    .dataframe thead th {\n",
       "        text-align: right;\n",
       "    }\n",
       "</style>\n",
       "<table border=\"1\" class=\"dataframe\">\n",
       "  <thead>\n",
       "    <tr style=\"text-align: right;\">\n",
       "      <th></th>\n",
       "      <th>count</th>\n",
       "    </tr>\n",
       "    <tr>\n",
       "      <th>value</th>\n",
       "      <th></th>\n",
       "    </tr>\n",
       "  </thead>\n",
       "  <tbody>\n",
       "    <tr>\n",
       "      <th>0</th>\n",
       "      <td>1687</td>\n",
       "    </tr>\n",
       "    <tr>\n",
       "      <th>10000</th>\n",
       "      <td>0</td>\n",
       "    </tr>\n",
       "    <tr>\n",
       "      <th>20000</th>\n",
       "      <td>0</td>\n",
       "    </tr>\n",
       "  </tbody>\n",
       "</table>\n",
       "</div>"
      ],
      "text/plain": [
       "<impresso.resources.search.FacetDataContainer at 0x11e227810>"
      ]
     },
     "execution_count": 74,
     "metadata": {},
     "output_type": "execute_result"
    }
   ],
   "source": [
    "impresso.text_reuse.clusters.facet(\n",
    "    \"textReuseClusterSize\",\n",
    "    lexical_overlap=(1, 2)\n",
    ")"
   ]
  },
  {
   "cell_type": "markdown",
   "metadata": {},
   "source": [
    "## Lexical overlap"
   ]
  },
  {
   "cell_type": "code",
   "execution_count": 75,
   "metadata": {},
   "outputs": [
    {
     "data": {
      "text/html": [
       "<div style=\"display: grid; grid-template-columns: minmax(200px, 1fr) auto;\">\n",
       "<div>\n",
       "<h2>Facet result</h2>\n",
       "<div>Contains <b>10</b> items of <b>10</b> total items.</div>\n",
       "<br/>\n",
       "See this result in the <a href=\"https://impresso-project.ch/app/text-reuse/clusters?orderBy=value&sq=CgoYGyoGMSBUTyAy&p=1\">Impresso App</a>.\n",
       "</div>\n",
       "<div style=\"align-content: center;\"><img src=\"data:image/png;base64,iVBORw0KGgoAAAANSUhEUgAAA7YAAABhCAYAAADiKT2SAAAAOXRFWHRTb2Z0d2FyZQBNYXRwbG90bGliIHZlcnNpb24zLjkuMiwgaHR0cHM6Ly9tYXRwbG90bGliLm9yZy8hTgPZAAAACXBIWXMAAA9hAAAPYQGoP6dpAAACeElEQVR4nO3ZSw0CQBAFQZYgBD8YQgKG8IOTwQEHfptOqq5zedfOrJk5AAAAQNVx9wAAAAD4hLAFAAAgTdgCAACQJmwBAABIE7YAAACkCVsAAADShC0AAABpwhYAAIA0YQsAAECasAUAACBN2AIAAJAmbAEAAEgTtgAAAKSddg/4tvP1Pq/uj9tl/WsLAAAAv+djCwAAQJqwBQAAIE3YAgAAkCZsAQAASBO2AAAApAlbAAAA0oQtAAAAacIWAACANGELAABAmrAFAAAgTdgCAACQJmwBAABIE7YAAACkCVsAAADShC0AAABpwhYAAIA0YQsAAECasAUAACBN2AIAAJAmbAEAAEgTtgAAAKQJWwAAANKELQAAAGnCFgAAgDRhCwAAQJqwBQAAIE3YAgAAkCZsAQAASBO2AAAApAlbAAAA0oQtAAAAacIWAACANGELAABAmrAFAAAgTdgCAACQJmwBAABIE7YAAACkCVsAAADShC0AAABpwhYAAIA0YQsAAECasAUAACBN2AIAAJAmbAEAAEgTtgAAAKQJWwAAANKELQAAAGnCFgAAgDRhCwAAQJqwBQAAIE3YAgAAkCZsAQAASBO2AAAApAlbAAAA0oQtAAAAacIWAACANGELAABAmrAFAAAgTdgCAACQJmwBAABIE7YAAACkCVsAAADShC0AAABpwhYAAIA0YQsAAECasAUAACBN2AIAAJAmbAEAAEgTtgAAAKQJWwAAANKELQAAAGnCFgAAgLQ1M7s3AAAAwNt8bAEAAEgTtgAAAKQJWwAAANKELQAAAGnCFgAAgDRhCwAAQJqwBQAAIE3YAgAAkCZsAQAASHsCFEUKvdvzfj4AAAAASUVORK5CYII=\" style=\"max-width: 800px; width: 100%;\"></div>\n",
       "</div>\n",
       "<h3>Data preview:</h3>\n",
       "<div>\n",
       "<style scoped>\n",
       "    .dataframe tbody tr th:only-of-type {\n",
       "        vertical-align: middle;\n",
       "    }\n",
       "\n",
       "    .dataframe tbody tr th {\n",
       "        vertical-align: top;\n",
       "    }\n",
       "\n",
       "    .dataframe thead th {\n",
       "        text-align: right;\n",
       "    }\n",
       "</style>\n",
       "<table border=\"1\" class=\"dataframe\">\n",
       "  <thead>\n",
       "    <tr style=\"text-align: right;\">\n",
       "      <th></th>\n",
       "      <th>count</th>\n",
       "    </tr>\n",
       "    <tr>\n",
       "      <th>value</th>\n",
       "      <th></th>\n",
       "    </tr>\n",
       "  </thead>\n",
       "  <tbody>\n",
       "    <tr>\n",
       "      <th>0</th>\n",
       "      <td>1687</td>\n",
       "    </tr>\n",
       "    <tr>\n",
       "      <th>10</th>\n",
       "      <td>0</td>\n",
       "    </tr>\n",
       "    <tr>\n",
       "      <th>20</th>\n",
       "      <td>0</td>\n",
       "    </tr>\n",
       "  </tbody>\n",
       "</table>\n",
       "</div>"
      ],
      "text/plain": [
       "<impresso.resources.search.FacetDataContainer at 0x11d095f10>"
      ]
     },
     "execution_count": 75,
     "metadata": {},
     "output_type": "execute_result"
    }
   ],
   "source": [
    "impresso.text_reuse.clusters.facet(\n",
    "    \"textReuseClusterLexicalOverlap\",\n",
    "    lexical_overlap=(1, 2)\n",
    ")"
   ]
  },
  {
   "cell_type": "markdown",
   "metadata": {},
   "source": [
    "## Day delta"
   ]
  },
  {
   "cell_type": "code",
   "execution_count": 76,
   "metadata": {},
   "outputs": [
    {
     "data": {
      "text/html": [
       "<div style=\"display: grid; grid-template-columns: minmax(200px, 1fr) auto;\">\n",
       "<div>\n",
       "<h2>Facet result</h2>\n",
       "<div>Contains <b>10</b> items of <b>10</b> total items.</div>\n",
       "<br/>\n",
       "See this result in the <a href=\"https://impresso-project.ch/app/text-reuse/clusters?orderBy=value&sq=CgoYGyoGMSBUTyAy&p=1\">Impresso App</a>.\n",
       "</div>\n",
       "<div style=\"align-content: center;\"><img src=\"data:image/png;base64,iVBORw0KGgoAAAANSUhEUgAAA7YAAABhCAYAAADiKT2SAAAAOXRFWHRTb2Z0d2FyZQBNYXRwbG90bGliIHZlcnNpb24zLjkuMiwgaHR0cHM6Ly9tYXRwbG90bGliLm9yZy8hTgPZAAAACXBIWXMAAA9hAAAPYQGoP6dpAAACrUlEQVR4nO3duw3CMBRAUYIYhH1YiBFYiH3YxFRQRkh8wk3Oad28JlGuLTnTGGMHAAAAVfulBwAAAIB3CFsAAADShC0AAABpwhYAAIA0YQsAAECasAUAACBN2AIAAJAmbAEAAEgTtgAAAKQJWwAAANKELQAAAGnCFgAAgDRhCwAAQNph6QE+7Xi+jrn12+U0/WoWAAAAvs+JLQAAAGnCFgAAgDRhCwAAQJqwBQAAIE3YAgAAkCZsAQAASBO2AAAApAlbAAAA0oQtAAAAacIWAACANGELAABAmrAFAAAgTdgCAACQJmwBAABIE7YAAACkCVsAAADShC0AAABpwhYAAIA0YQsAAECasAUAACBN2AIAAJAmbAEAAEgTtgAAAKQJWwAAANKELQAAAGnCFgAAgDRhCwAAQJqwBQAAIE3YAgAAkCZsAQAASBO2AAAApAlbAAAA0oQtAAAAacIWAACANGELAABAmrAFAAAgTdgCAACQJmwBAABIE7YAAACkCVsAAADShC0AAABpwhYAAIA0YQsAAECasAUAACBN2AIAAJAmbAEAAEgTtgAAAKQJWwAAANKELQAAAGnCFgAAgDRhCwAAQJqwBQAAIE3YAgAAkCZsAQAASBO2AAAApAlbAAAA0oQtAAAAacIWAACANGELAABAmrAFAAAgTdgCAACQJmwBAABIE7YAAACkHZYegL7j+Trm1m+X0/SrWQAAgO1xYgsAAECasAUAACBN2AIAAJAmbAEAAEhzeRQAf2vucjoX0wEAD8IWAHiymQCwDlv7c4mwhaCtvagA1sxmAlvg24VvE7YAL/LxCbAOIgvWZxpj9rkGAACAv+ZWZAAAANKELQAAAGnCFgAAgDRhCwAAQJqwBQAAIE3YAgAAkCZsAQAASBO2AAAApAlbAAAA0u7mdy7HYRgwNQAAAABJRU5ErkJggg==\" style=\"max-width: 800px; width: 100%;\"></div>\n",
       "</div>\n",
       "<h3>Data preview:</h3>\n",
       "<div>\n",
       "<style scoped>\n",
       "    .dataframe tbody tr th:only-of-type {\n",
       "        vertical-align: middle;\n",
       "    }\n",
       "\n",
       "    .dataframe tbody tr th {\n",
       "        vertical-align: top;\n",
       "    }\n",
       "\n",
       "    .dataframe thead th {\n",
       "        text-align: right;\n",
       "    }\n",
       "</style>\n",
       "<table border=\"1\" class=\"dataframe\">\n",
       "  <thead>\n",
       "    <tr style=\"text-align: right;\">\n",
       "      <th></th>\n",
       "      <th>count</th>\n",
       "    </tr>\n",
       "    <tr>\n",
       "      <th>value</th>\n",
       "      <th></th>\n",
       "    </tr>\n",
       "  </thead>\n",
       "  <tbody>\n",
       "    <tr>\n",
       "      <th>0</th>\n",
       "      <td>219</td>\n",
       "    </tr>\n",
       "    <tr>\n",
       "      <th>10</th>\n",
       "      <td>28</td>\n",
       "    </tr>\n",
       "    <tr>\n",
       "      <th>20</th>\n",
       "      <td>5</td>\n",
       "    </tr>\n",
       "  </tbody>\n",
       "</table>\n",
       "</div>"
      ],
      "text/plain": [
       "<impresso.resources.search.FacetDataContainer at 0x11e27e8d0>"
      ]
     },
     "execution_count": 76,
     "metadata": {},
     "output_type": "execute_result"
    }
   ],
   "source": [
    "impresso.text_reuse.clusters.facet(\n",
    "    \"textReuseClusterDayDelta\",\n",
    "    lexical_overlap=(1, 2)\n",
    ")"
   ]
  },
  {
   "cell_type": "markdown",
   "metadata": {},
   "source": [
    "## Newspaper"
   ]
  },
  {
   "cell_type": "code",
   "execution_count": 77,
   "metadata": {},
   "outputs": [
    {
     "data": {
      "text/html": [
       "<div style=\"display: grid; grid-template-columns: minmax(200px, 1fr) auto;\">\n",
       "<div>\n",
       "<h2>Facet result</h2>\n",
       "<div>Contains <b>10</b> items (<b>0</b> - <b>10</b>) of <b>54</b> total items.</div>\n",
       "<br/>\n",
       "See this result in the <a href=\"https://impresso-project.ch/app/text-reuse/clusters?orderBy=value&sq=CgoYGyoGMSBUTyAy&p=1\">Impresso App</a>.\n",
       "</div>\n",
       "<div style=\"align-content: center;\"><img src=\"data:image/png;base64,iVBORw0KGgoAAAANSUhEUgAAA7YAAABhCAYAAADiKT2SAAAAOXRFWHRTb2Z0d2FyZQBNYXRwbG90bGliIHZlcnNpb24zLjkuMiwgaHR0cHM6Ly9tYXRwbG90bGliLm9yZy8hTgPZAAAACXBIWXMAAA9hAAAPYQGoP6dpAAACl0lEQVR4nO3ZUXGEQABEweMKIfjBEBIwhB+cbDwkd7W8SreC+X01yxjjBQAAAFXv2QMAAADgL4QtAAAAacIWAACANGELAABAmrAFAAAgTdgCAACQJmwBAABIE7YAAACkCVsAAADShC0AAABpwhYAAIA0YQsAAECasAUAACBtnT0AAOBbtuMaszc8zX3uy+wNAJ/msQUAACBN2AIAAJAmbAEAAEgTtgAAAKQJWwAAANKELQAAAGnCFgAAgDRhCwAAQJqwBQAAIE3YAgAAkCZsAQAASBO2AAAApAlbAAAA0oQtAAAAacIWAACANGELAABAmrAFAAAgTdgCAACQJmwBAABIE7YAAACkCVsAAADShC0AAABpwhYAAIA0YQsAAECasAUAACBN2AIAAJAmbAEAAEgTtgAAAKQJWwAAANKELQAAAGnCFgAAgDRhCwAAQJqwBQAAIE3YAgAAkCZsAQAASBO2AAAApAlbAAAA0oQtAAAAacIWAACANGELAABAmrAFAAAgTdgCAACQJmwBAABIE7YAAACkCVsAAADS1tkDAAAAvmk7rjF7w9Pc577M3vBJHlsAAADShC0AAABpwhYAAIA0YQsAAECasAUAACBN2AIAAJAmbAEAAEgTtgAAAKQJWwAAANKELQAAAGnCFgAAgDRhCwAAQJqwBQAAIE3YAgAAkCZsAQAASBO2AAAApK2zBwDQsR3XmL3hae5zX2ZvAID/zmMLAABAmrAFAAAgTdgCAACQJmwBAABIE7YAAACkCVsAAADShC0AAABpwhYAAIA0YQsAAEDaMsaYvQEAAAB+zWMLAABAmrAFAAAgTdgCAACQJmwBAABIE7YAAACkCVsAAADShC0AAABpwhYAAIA0YQsAAEDaD1VJEsGxOY/UAAAAAElFTkSuQmCC\" style=\"max-width: 800px; width: 100%;\"></div>\n",
       "</div>\n",
       "<h3>Data preview:</h3>\n",
       "<div>\n",
       "<style scoped>\n",
       "    .dataframe tbody tr th:only-of-type {\n",
       "        vertical-align: middle;\n",
       "    }\n",
       "\n",
       "    .dataframe tbody tr th {\n",
       "        vertical-align: top;\n",
       "    }\n",
       "\n",
       "    .dataframe thead th {\n",
       "        text-align: right;\n",
       "    }\n",
       "</style>\n",
       "<table border=\"1\" class=\"dataframe\">\n",
       "  <thead>\n",
       "    <tr style=\"text-align: right;\">\n",
       "      <th></th>\n",
       "      <th>count</th>\n",
       "      <th>label</th>\n",
       "    </tr>\n",
       "    <tr>\n",
       "      <th>value</th>\n",
       "      <th></th>\n",
       "      <th></th>\n",
       "    </tr>\n",
       "  </thead>\n",
       "  <tbody>\n",
       "    <tr>\n",
       "      <th>BNN</th>\n",
       "      <td>4</td>\n",
       "      <td>Bündner Nachrichten</td>\n",
       "    </tr>\n",
       "    <tr>\n",
       "      <th>CDV</th>\n",
       "      <td>6</td>\n",
       "      <td>Courrier du Valais</td>\n",
       "    </tr>\n",
       "    <tr>\n",
       "      <th>CON</th>\n",
       "      <td>1</td>\n",
       "      <td>La Contrée</td>\n",
       "    </tr>\n",
       "  </tbody>\n",
       "</table>\n",
       "</div>"
      ],
      "text/plain": [
       "<impresso.resources.search.FacetDataContainer at 0x11e27c210>"
      ]
     },
     "execution_count": 77,
     "metadata": {},
     "output_type": "execute_result"
    }
   ],
   "source": [
    "impresso.text_reuse.clusters.facet(\n",
    "    \"newspaper\",\n",
    "    lexical_overlap=(1, 2)\n",
    ")"
   ]
  },
  {
   "cell_type": "markdown",
   "metadata": {},
   "source": [
    "# Text reuse passages"
   ]
  },
  {
   "cell_type": "markdown",
   "metadata": {},
   "source": [
    "## Find passages mentioning text"
   ]
  },
  {
   "cell_type": "code",
   "execution_count": 78,
   "metadata": {},
   "outputs": [
    {
     "data": {
      "text/html": [
       "<div style=\"display: grid; \">\n",
       "<div>\n",
       "<h2>FindTextReusePassages result</h2>\n",
       "<div>Contains <b>5</b> items (<b>2</b> - <b>7</b>) of <b>247</b> total items.</div>\n",
       "<br/>\n",
       "See this result in the <a href=\"https://impresso-project.ch/app/text-reuse/passages?sort=clusterSize&sq=CgoYByoGYmVsdmFs&p=1\">Impresso App</a>.\n",
       "</div>\n",
       "</div>\n",
       "<h3>Data preview:</h3>\n",
       "<div>\n",
       "<style scoped>\n",
       "    .dataframe tbody tr th:only-of-type {\n",
       "        vertical-align: middle;\n",
       "    }\n",
       "\n",
       "    .dataframe tbody tr th {\n",
       "        vertical-align: top;\n",
       "    }\n",
       "\n",
       "    .dataframe thead th {\n",
       "        text-align: right;\n",
       "    }\n",
       "</style>\n",
       "<table border=\"1\" class=\"dataframe\">\n",
       "  <thead>\n",
       "    <tr style=\"text-align: right;\">\n",
       "      <th></th>\n",
       "      <th>content</th>\n",
       "      <th>contentItemId</th>\n",
       "      <th>offset.start</th>\n",
       "      <th>offset.end</th>\n",
       "    </tr>\n",
       "    <tr>\n",
       "      <th>uid</th>\n",
       "      <th></th>\n",
       "      <th></th>\n",
       "      <th></th>\n",
       "      <th></th>\n",
       "    </tr>\n",
       "  </thead>\n",
       "  <tbody>\n",
       "    <tr>\n",
       "      <th>c103079291010-IMP-2008-04-28-a-i0300@0:2689</th>\n",
       "      <td>[REDACTED]</td>\n",
       "      <td>IMP-2008-04-28-a-i0300</td>\n",
       "      <td>0</td>\n",
       "      <td>2689</td>\n",
       "    </tr>\n",
       "    <tr>\n",
       "      <th>c103079305149-tageblatt-1941-02-10-a-i0068@0:3569</th>\n",
       "      <td>[REDACTED]</td>\n",
       "      <td>tageblatt-1941-02-10-a-i0068</td>\n",
       "      <td>0</td>\n",
       "      <td>3569</td>\n",
       "    </tr>\n",
       "    <tr>\n",
       "      <th>c103079397256-luxwort-1941-04-12-a-i0078@0:803</th>\n",
       "      <td>[REDACTED]</td>\n",
       "      <td>luxwort-1941-04-12-a-i0078</td>\n",
       "      <td>0</td>\n",
       "      <td>803</td>\n",
       "    </tr>\n",
       "  </tbody>\n",
       "</table>\n",
       "</div>"
      ],
      "text/plain": [
       "<impresso.resources.text_reuse.passages.FindTextReusePassagesContainer at 0x11d9ffa50>"
      ]
     },
     "execution_count": 78,
     "metadata": {},
     "output_type": "execute_result"
    }
   ],
   "source": [
    "impresso.text_reuse.passages.find(\n",
    "    term=\"belval\",\n",
    "    offset=2,\n",
    "    limit=5,\n",
    "    order_by=\"clusterSize\",\n",
    ")"
   ]
  },
  {
   "cell_type": "markdown",
   "metadata": {},
   "source": [
    "### Find passages for a cluster by its ID"
   ]
  },
  {
   "cell_type": "code",
   "execution_count": 79,
   "metadata": {},
   "outputs": [
    {
     "data": {
      "text/html": [
       "<div style=\"display: grid; \">\n",
       "<div>\n",
       "<h2>FindTextReusePassages result</h2>\n",
       "<div>Contains <b>2</b> items of <b>2</b> total items.</div>\n",
       "<br/>\n",
       "See this result in the <a href=\"https://impresso-project.ch/app/text-reuse/passages?sort=clusterSize&sq=CiEYHSoddHItbm9icC1hbGwtdjAxLWMxMzc0Mzg5NzgzMzI=&p=1\">Impresso App</a>.\n",
       "</div>\n",
       "</div>\n",
       "<h3>Data preview:</h3>\n",
       "<div>\n",
       "<style scoped>\n",
       "    .dataframe tbody tr th:only-of-type {\n",
       "        vertical-align: middle;\n",
       "    }\n",
       "\n",
       "    .dataframe tbody tr th {\n",
       "        vertical-align: top;\n",
       "    }\n",
       "\n",
       "    .dataframe thead th {\n",
       "        text-align: right;\n",
       "    }\n",
       "</style>\n",
       "<table border=\"1\" class=\"dataframe\">\n",
       "  <thead>\n",
       "    <tr style=\"text-align: right;\">\n",
       "      <th></th>\n",
       "      <th>content</th>\n",
       "      <th>contentItemId</th>\n",
       "      <th>offset.start</th>\n",
       "      <th>offset.end</th>\n",
       "    </tr>\n",
       "    <tr>\n",
       "      <th>uid</th>\n",
       "      <th></th>\n",
       "      <th></th>\n",
       "      <th></th>\n",
       "      <th></th>\n",
       "    </tr>\n",
       "  </thead>\n",
       "  <tbody>\n",
       "    <tr>\n",
       "      <th>c137438978332-LLE-1891-07-21-a-i0023@3354:5682</th>\n",
       "      <td>[REDACTED]</td>\n",
       "      <td>LLE-1891-07-21-a-i0023</td>\n",
       "      <td>3354</td>\n",
       "      <td>5682</td>\n",
       "    </tr>\n",
       "    <tr>\n",
       "      <th>c137438978332-indeplux-1891-07-20-a-i0012@2514:5104</th>\n",
       "      <td>[REDACTED]</td>\n",
       "      <td>indeplux-1891-07-20-a-i0012</td>\n",
       "      <td>2514</td>\n",
       "      <td>5104</td>\n",
       "    </tr>\n",
       "  </tbody>\n",
       "</table>\n",
       "</div>"
      ],
      "text/plain": [
       "<impresso.resources.text_reuse.passages.FindTextReusePassagesContainer at 0x11e28f2d0>"
      ]
     },
     "execution_count": 79,
     "metadata": {},
     "output_type": "execute_result"
    }
   ],
   "source": [
    "impresso.text_reuse.passages.find(\n",
    "    cluster_id=\"tr-nobp-all-v01-c137438978332\",\n",
    "    order_by=\"clusterSize\",\n",
    ")"
   ]
  },
  {
   "cell_type": "markdown",
   "metadata": {},
   "source": [
    "## Cluster size"
   ]
  },
  {
   "cell_type": "code",
   "execution_count": 80,
   "metadata": {},
   "outputs": [
    {
     "data": {
      "text/html": [
       "<div style=\"display: grid; \">\n",
       "<div>\n",
       "<h2>FindTextReusePassages result</h2>\n",
       "<div>Contains <b>3</b> items of <b>3</b> total items.</div>\n",
       "<br/>\n",
       "See this result in the <a href=\"https://impresso-project.ch/app/text-reuse/passages?sq=Cg0YGioJNTAgVE8gMTAwCgoYByoGYmFuYW5h&p=1\">Impresso App</a>.\n",
       "</div>\n",
       "</div>\n",
       "<h3>Data preview:</h3>\n",
       "<div>\n",
       "<style scoped>\n",
       "    .dataframe tbody tr th:only-of-type {\n",
       "        vertical-align: middle;\n",
       "    }\n",
       "\n",
       "    .dataframe tbody tr th {\n",
       "        vertical-align: top;\n",
       "    }\n",
       "\n",
       "    .dataframe thead th {\n",
       "        text-align: right;\n",
       "    }\n",
       "</style>\n",
       "<table border=\"1\" class=\"dataframe\">\n",
       "  <thead>\n",
       "    <tr style=\"text-align: right;\">\n",
       "      <th></th>\n",
       "      <th>content</th>\n",
       "      <th>contentItemId</th>\n",
       "      <th>offset.start</th>\n",
       "      <th>offset.end</th>\n",
       "    </tr>\n",
       "    <tr>\n",
       "      <th>uid</th>\n",
       "      <th></th>\n",
       "      <th></th>\n",
       "      <th></th>\n",
       "      <th></th>\n",
       "    </tr>\n",
       "  </thead>\n",
       "  <tbody>\n",
       "    <tr>\n",
       "      <th>c200886-EXP-2009-07-29-a-i0041@0:522</th>\n",
       "      <td>[REDACTED]</td>\n",
       "      <td>EXP-2009-07-29-a-i0041</td>\n",
       "      <td>0</td>\n",
       "      <td>522</td>\n",
       "    </tr>\n",
       "    <tr>\n",
       "      <th>c117172-IMP-2008-03-25-a-i0111@0:642</th>\n",
       "      <td>[REDACTED]</td>\n",
       "      <td>IMP-2008-03-25-a-i0111</td>\n",
       "      <td>0</td>\n",
       "      <td>642</td>\n",
       "    </tr>\n",
       "    <tr>\n",
       "      <th>c117172-EXP-2008-03-25-a-i0105@0:642</th>\n",
       "      <td>[REDACTED]</td>\n",
       "      <td>EXP-2008-03-25-a-i0105</td>\n",
       "      <td>0</td>\n",
       "      <td>642</td>\n",
       "    </tr>\n",
       "  </tbody>\n",
       "</table>\n",
       "</div>"
      ],
      "text/plain": [
       "<impresso.resources.text_reuse.passages.FindTextReusePassagesContainer at 0x11e2d7fd0>"
      ]
     },
     "execution_count": 80,
     "metadata": {},
     "output_type": "execute_result"
    }
   ],
   "source": [
    "impresso.text_reuse.passages.find(\n",
    "    term=\"banana\",\n",
    "    cluster_size=(50, 100),\n",
    ")"
   ]
  },
  {
   "cell_type": "markdown",
   "metadata": {},
   "source": [
    "## Mentioning text in title"
   ]
  },
  {
   "cell_type": "code",
   "execution_count": 81,
   "metadata": {},
   "outputs": [
    {
     "data": {
      "text/html": [
       "<div style=\"display: grid; \">\n",
       "<div>\n",
       "<h2>FindTextReusePassages result</h2>\n",
       "<div>Contains <b>10</b> items of <b>10</b> total items.</div>\n",
       "<br/>\n",
       "See this result in the <a href=\"https://impresso-project.ch/app/text-reuse/passages?sq=Cg4YGioKMTAwIFRPIDIwMAoYEAEYAyoGc3Vpc3NlKgpsdXhlbWJvdXJn&p=1\">Impresso App</a>.\n",
       "</div>\n",
       "</div>\n",
       "<h3>Data preview:</h3>\n",
       "<div>\n",
       "<style scoped>\n",
       "    .dataframe tbody tr th:only-of-type {\n",
       "        vertical-align: middle;\n",
       "    }\n",
       "\n",
       "    .dataframe tbody tr th {\n",
       "        vertical-align: top;\n",
       "    }\n",
       "\n",
       "    .dataframe thead th {\n",
       "        text-align: right;\n",
       "    }\n",
       "</style>\n",
       "<table border=\"1\" class=\"dataframe\">\n",
       "  <thead>\n",
       "    <tr style=\"text-align: right;\">\n",
       "      <th></th>\n",
       "      <th>content</th>\n",
       "      <th>contentItemId</th>\n",
       "      <th>offset.start</th>\n",
       "      <th>offset.end</th>\n",
       "    </tr>\n",
       "    <tr>\n",
       "      <th>uid</th>\n",
       "      <th></th>\n",
       "      <th></th>\n",
       "      <th></th>\n",
       "      <th></th>\n",
       "    </tr>\n",
       "  </thead>\n",
       "  <tbody>\n",
       "    <tr>\n",
       "      <th>c433978-obermosel-1946-08-14-a-i0035@0:474</th>\n",
       "      <td>[REDACTED]</td>\n",
       "      <td>obermosel-1946-08-14-a-i0035</td>\n",
       "      <td>0</td>\n",
       "      <td>474</td>\n",
       "    </tr>\n",
       "    <tr>\n",
       "      <th>c433978-luxwort-1946-02-28-a-i0031@0:495</th>\n",
       "      <td>[REDACTED]</td>\n",
       "      <td>luxwort-1946-02-28-a-i0031</td>\n",
       "      <td>0</td>\n",
       "      <td>495</td>\n",
       "    </tr>\n",
       "    <tr>\n",
       "      <th>c433978-obermosel-1946-03-13-a-i0042@0:557</th>\n",
       "      <td>[REDACTED]</td>\n",
       "      <td>obermosel-1946-03-13-a-i0042</td>\n",
       "      <td>0</td>\n",
       "      <td>557</td>\n",
       "    </tr>\n",
       "  </tbody>\n",
       "</table>\n",
       "</div>"
      ],
      "text/plain": [
       "<impresso.resources.text_reuse.passages.FindTextReusePassagesContainer at 0x11e2c3e10>"
      ]
     },
     "execution_count": 81,
     "metadata": {},
     "output_type": "execute_result"
    }
   ],
   "source": [
    "impresso.text_reuse.passages.find(\n",
    "    title=AND(\"luxembourg\", \"suisse\"),\n",
    "    cluster_size=(100, 200),\n",
    ")"
   ]
  },
  {
   "cell_type": "markdown",
   "metadata": {},
   "source": [
    "## Lexical overlap"
   ]
  },
  {
   "cell_type": "code",
   "execution_count": 82,
   "metadata": {},
   "outputs": [
    {
     "data": {
      "text/html": [
       "<div style=\"display: grid; \">\n",
       "<div>\n",
       "<h2>FindTextReusePassages result</h2>\n",
       "<div>Contains <b>7</b> items of <b>7</b> total items.</div>\n",
       "<br/>\n",
       "See this result in the <a href=\"https://impresso-project.ch/app/text-reuse/passages?sq=CgwYGyoINTAgVE8gNTEKChgHKgZiYW5hbmE=&p=1\">Impresso App</a>.\n",
       "</div>\n",
       "</div>\n",
       "<h3>Data preview:</h3>\n",
       "<div>\n",
       "<style scoped>\n",
       "    .dataframe tbody tr th:only-of-type {\n",
       "        vertical-align: middle;\n",
       "    }\n",
       "\n",
       "    .dataframe tbody tr th {\n",
       "        vertical-align: top;\n",
       "    }\n",
       "\n",
       "    .dataframe thead th {\n",
       "        text-align: right;\n",
       "    }\n",
       "</style>\n",
       "<table border=\"1\" class=\"dataframe\">\n",
       "  <thead>\n",
       "    <tr style=\"text-align: right;\">\n",
       "      <th></th>\n",
       "      <th>content</th>\n",
       "      <th>contentItemId</th>\n",
       "      <th>offset.start</th>\n",
       "      <th>offset.end</th>\n",
       "    </tr>\n",
       "    <tr>\n",
       "      <th>uid</th>\n",
       "      <th></th>\n",
       "      <th></th>\n",
       "      <th></th>\n",
       "      <th></th>\n",
       "    </tr>\n",
       "  </thead>\n",
       "  <tbody>\n",
       "    <tr>\n",
       "      <th>c154619006960-JDG-1961-03-04-a-i0097@6739:7176</th>\n",
       "      <td>[REDACTED]</td>\n",
       "      <td>JDG-1961-03-04-a-i0097</td>\n",
       "      <td>6739</td>\n",
       "      <td>7176</td>\n",
       "    </tr>\n",
       "    <tr>\n",
       "      <th>c154619006960-IMP-1961-03-04-a-i0219@660:1105</th>\n",
       "      <td>[REDACTED]</td>\n",
       "      <td>IMP-1961-03-04-a-i0219</td>\n",
       "      <td>660</td>\n",
       "      <td>1105</td>\n",
       "    </tr>\n",
       "    <tr>\n",
       "      <th>c154619006960-LSE-1961-03-04-a-i0005@0:480</th>\n",
       "      <td>[REDACTED]</td>\n",
       "      <td>LSE-1961-03-04-a-i0005</td>\n",
       "      <td>0</td>\n",
       "      <td>480</td>\n",
       "    </tr>\n",
       "  </tbody>\n",
       "</table>\n",
       "</div>"
      ],
      "text/plain": [
       "<impresso.resources.text_reuse.passages.FindTextReusePassagesContainer at 0x11e2df2d0>"
      ]
     },
     "execution_count": 82,
     "metadata": {},
     "output_type": "execute_result"
    }
   ],
   "source": [
    "impresso.text_reuse.passages.find(\n",
    "    term=\"banana\",\n",
    "    lexical_overlap=(50, 51),\n",
    ")"
   ]
  },
  {
   "cell_type": "markdown",
   "metadata": {},
   "source": [
    "## Day delta\n",
    "\n",
    "Number of days between the first and last mention of the text in the cluster."
   ]
  },
  {
   "cell_type": "code",
   "execution_count": 83,
   "metadata": {},
   "outputs": [
    {
     "data": {
      "text/html": [
       "<div style=\"display: grid; \">\n",
       "<div>\n",
       "<h2>FindTextReusePassages result</h2>\n",
       "<div>Contains <b>1</b> items of <b>1</b> total items.</div>\n",
       "<br/>\n",
       "See this result in the <a href=\"https://impresso-project.ch/app/text-reuse/passages?sq=Cg0YHCoJNTAgVE8gMTAwCgoYByoGYmFuYW5h&p=1\">Impresso App</a>.\n",
       "</div>\n",
       "</div>\n",
       "<h3>Data preview:</h3>\n",
       "<div>\n",
       "<style scoped>\n",
       "    .dataframe tbody tr th:only-of-type {\n",
       "        vertical-align: middle;\n",
       "    }\n",
       "\n",
       "    .dataframe tbody tr th {\n",
       "        vertical-align: top;\n",
       "    }\n",
       "\n",
       "    .dataframe thead th {\n",
       "        text-align: right;\n",
       "    }\n",
       "</style>\n",
       "<table border=\"1\" class=\"dataframe\">\n",
       "  <thead>\n",
       "    <tr style=\"text-align: right;\">\n",
       "      <th></th>\n",
       "      <th>content</th>\n",
       "      <th>contentItemId</th>\n",
       "      <th>offset.start</th>\n",
       "      <th>offset.end</th>\n",
       "    </tr>\n",
       "    <tr>\n",
       "      <th>uid</th>\n",
       "      <th></th>\n",
       "      <th></th>\n",
       "      <th></th>\n",
       "      <th></th>\n",
       "    </tr>\n",
       "  </thead>\n",
       "  <tbody>\n",
       "    <tr>\n",
       "      <th>c34359907704-LLS-1937-05-08-a-i0013@0:2710</th>\n",
       "      <td>[REDACTED]</td>\n",
       "      <td>LLS-1937-05-08-a-i0013</td>\n",
       "      <td>0</td>\n",
       "      <td>2710</td>\n",
       "    </tr>\n",
       "  </tbody>\n",
       "</table>\n",
       "</div>"
      ],
      "text/plain": [
       "<impresso.resources.text_reuse.passages.FindTextReusePassagesContainer at 0x11e2dff90>"
      ]
     },
     "execution_count": 83,
     "metadata": {},
     "output_type": "execute_result"
    }
   ],
   "source": [
    "impresso.text_reuse.passages.find(\n",
    "    term=\"banana\",\n",
    "    day_delta=(50, 100),\n",
    ")"
   ]
  },
  {
   "cell_type": "markdown",
   "metadata": {},
   "source": [
    "## Date range"
   ]
  },
  {
   "cell_type": "code",
   "execution_count": 84,
   "metadata": {},
   "outputs": [
    {
     "data": {
      "text/html": [
       "<div style=\"display: grid; \">\n",
       "<div>\n",
       "<h2>FindTextReusePassages result</h2>\n",
       "<div>Contains <b>10</b> items (<b>0</b> - <b>10</b>) of <b>194</b> total items.</div>\n",
       "<br/>\n",
       "See this result in the <a href=\"https://impresso-project.ch/app/text-reuse/passages?sq=CjAYCiosMTkyMS0wNS0yMVQwMDowMDowMFogVE8gMjAwMS0wMS0wMlQwMDowMDowMFoKChgHKgZiYW5hbmE=&p=1\">Impresso App</a>.\n",
       "</div>\n",
       "</div>\n",
       "<h3>Data preview:</h3>\n",
       "<div>\n",
       "<style scoped>\n",
       "    .dataframe tbody tr th:only-of-type {\n",
       "        vertical-align: middle;\n",
       "    }\n",
       "\n",
       "    .dataframe tbody tr th {\n",
       "        vertical-align: top;\n",
       "    }\n",
       "\n",
       "    .dataframe thead th {\n",
       "        text-align: right;\n",
       "    }\n",
       "</style>\n",
       "<table border=\"1\" class=\"dataframe\">\n",
       "  <thead>\n",
       "    <tr style=\"text-align: right;\">\n",
       "      <th></th>\n",
       "      <th>content</th>\n",
       "      <th>contentItemId</th>\n",
       "      <th>offset.start</th>\n",
       "      <th>offset.end</th>\n",
       "    </tr>\n",
       "    <tr>\n",
       "      <th>uid</th>\n",
       "      <th></th>\n",
       "      <th></th>\n",
       "      <th></th>\n",
       "      <th></th>\n",
       "    </tr>\n",
       "  </thead>\n",
       "  <tbody>\n",
       "    <tr>\n",
       "      <th>c77309774782-IMP-1967-06-23-a-i0023@1879:1976</th>\n",
       "      <td>[REDACTED]</td>\n",
       "      <td>IMP-1967-06-23-a-i0023</td>\n",
       "      <td>1879</td>\n",
       "      <td>1976</td>\n",
       "    </tr>\n",
       "    <tr>\n",
       "      <th>c299325-EXP-1967-06-22-a-i0052@1833:1934</th>\n",
       "      <td>[REDACTED]</td>\n",
       "      <td>EXP-1967-06-22-a-i0052</td>\n",
       "      <td>1833</td>\n",
       "      <td>1934</td>\n",
       "    </tr>\n",
       "    <tr>\n",
       "      <th>c171798985973-JDG-1961-03-07-a-i0101@3226:4339</th>\n",
       "      <td>[REDACTED]</td>\n",
       "      <td>JDG-1961-03-07-a-i0101</td>\n",
       "      <td>3226</td>\n",
       "      <td>4339</td>\n",
       "    </tr>\n",
       "  </tbody>\n",
       "</table>\n",
       "</div>"
      ],
      "text/plain": [
       "<impresso.resources.text_reuse.passages.FindTextReusePassagesContainer at 0x11d985450>"
      ]
     },
     "execution_count": 84,
     "metadata": {},
     "output_type": "execute_result"
    }
   ],
   "source": [
    "from impresso import DateRange\n",
    "\n",
    "impresso.text_reuse.passages.find(\n",
    "    term=\"banana\", \n",
    "    date_range=DateRange(\"1921-05-21\", \"2001-01-02\")\n",
    ")"
   ]
  },
  {
   "cell_type": "markdown",
   "metadata": {},
   "source": [
    "## Newspaper"
   ]
  },
  {
   "cell_type": "code",
   "execution_count": 85,
   "metadata": {},
   "outputs": [
    {
     "data": {
      "text/html": [
       "<div style=\"display: grid; \">\n",
       "<div>\n",
       "<h2>FindTextReusePassages result</h2>\n",
       "<div>Contains <b>10</b> items (<b>0</b> - <b>10</b>) of <b>145</b> total items.</div>\n",
       "<br/>\n",
       "See this result in the <a href=\"https://impresso-project.ch/app/text-reuse/passages?sq=CgwYCSoDRVhQKgNHREwKChgHKgZiYW5hbmE=&p=1\">Impresso App</a>.\n",
       "</div>\n",
       "</div>\n",
       "<h3>Data preview:</h3>\n",
       "<div>\n",
       "<style scoped>\n",
       "    .dataframe tbody tr th:only-of-type {\n",
       "        vertical-align: middle;\n",
       "    }\n",
       "\n",
       "    .dataframe tbody tr th {\n",
       "        vertical-align: top;\n",
       "    }\n",
       "\n",
       "    .dataframe thead th {\n",
       "        text-align: right;\n",
       "    }\n",
       "</style>\n",
       "<table border=\"1\" class=\"dataframe\">\n",
       "  <thead>\n",
       "    <tr style=\"text-align: right;\">\n",
       "      <th></th>\n",
       "      <th>content</th>\n",
       "      <th>contentItemId</th>\n",
       "      <th>offset.start</th>\n",
       "      <th>offset.end</th>\n",
       "    </tr>\n",
       "    <tr>\n",
       "      <th>uid</th>\n",
       "      <th></th>\n",
       "      <th></th>\n",
       "      <th></th>\n",
       "      <th></th>\n",
       "    </tr>\n",
       "  </thead>\n",
       "  <tbody>\n",
       "    <tr>\n",
       "      <th>c51539934627-EXP-2013-08-31-a-i0228@0:634</th>\n",
       "      <td>[REDACTED]</td>\n",
       "      <td>EXP-2013-08-31-a-i0228</td>\n",
       "      <td>0</td>\n",
       "      <td>634</td>\n",
       "    </tr>\n",
       "    <tr>\n",
       "      <th>c117193-EXP-2008-07-10-a-i0330@0:815</th>\n",
       "      <td>[REDACTED]</td>\n",
       "      <td>EXP-2008-07-10-a-i0330</td>\n",
       "      <td>0</td>\n",
       "      <td>815</td>\n",
       "    </tr>\n",
       "    <tr>\n",
       "      <th>c299325-EXP-1967-06-22-a-i0052@1833:1934</th>\n",
       "      <td>[REDACTED]</td>\n",
       "      <td>EXP-1967-06-22-a-i0052</td>\n",
       "      <td>1833</td>\n",
       "      <td>1934</td>\n",
       "    </tr>\n",
       "  </tbody>\n",
       "</table>\n",
       "</div>"
      ],
      "text/plain": [
       "<impresso.resources.text_reuse.passages.FindTextReusePassagesContainer at 0x11e11c210>"
      ]
     },
     "execution_count": 85,
     "metadata": {},
     "output_type": "execute_result"
    }
   ],
   "source": [
    "impresso.text_reuse.passages.find(\n",
    "    term=\"banana\", \n",
    "    newspaper_id=OR(\"EXP\", \"GDL\"),\n",
    ")"
   ]
  },
  {
   "cell_type": "markdown",
   "metadata": {},
   "source": [
    "## Collection"
   ]
  },
  {
   "cell_type": "code",
   "execution_count": 86,
   "metadata": {},
   "outputs": [
    {
     "data": {
      "text/html": [
       "<div style=\"display: grid; \">\n",
       "<div>\n",
       "<h2>FindTextReusePassages result</h2>\n",
       "<div>Contains <b>0</b> items of <b>0</b> total items.</div>\n",
       "<br/>\n",
       "See this result in the <a href=\"https://impresso-project.ch/app/text-reuse/passages?sq=CgwYEyoIMTIzMTIzMTI=&p=1\">Impresso App</a>.\n",
       "</div>\n",
       "</div>\n",
       "<h3>Data preview:</h3>\n",
       "<div>\n",
       "<style scoped>\n",
       "    .dataframe tbody tr th:only-of-type {\n",
       "        vertical-align: middle;\n",
       "    }\n",
       "\n",
       "    .dataframe tbody tr th {\n",
       "        vertical-align: top;\n",
       "    }\n",
       "\n",
       "    .dataframe thead th {\n",
       "        text-align: right;\n",
       "    }\n",
       "</style>\n",
       "<table border=\"1\" class=\"dataframe\">\n",
       "  <thead>\n",
       "    <tr style=\"text-align: right;\">\n",
       "      <th></th>\n",
       "    </tr>\n",
       "  </thead>\n",
       "  <tbody>\n",
       "  </tbody>\n",
       "</table>\n",
       "</div>"
      ],
      "text/plain": [
       "<impresso.resources.text_reuse.passages.FindTextReusePassagesContainer at 0x11e2e6950>"
      ]
     },
     "execution_count": 86,
     "metadata": {},
     "output_type": "execute_result"
    }
   ],
   "source": [
    "impresso.text_reuse.passages.find(collection_id=\"12312312\")"
   ]
  },
  {
   "cell_type": "markdown",
   "metadata": {},
   "source": [
    "## Front page"
   ]
  },
  {
   "cell_type": "code",
   "execution_count": 87,
   "metadata": {},
   "outputs": [
    {
     "data": {
      "text/html": [
       "<div style=\"display: grid; \">\n",
       "<div>\n",
       "<h2>FindTextReusePassages result</h2>\n",
       "<div>Contains <b>10</b> items (<b>0</b> - <b>10</b>) of <b>20</b> total items.</div>\n",
       "<br/>\n",
       "See this result in the <a href=\"https://impresso-project.ch/app/text-reuse/passages?sq=CgIYBAoKGAcqBmJhbmFuYQ==&p=1\">Impresso App</a>.\n",
       "</div>\n",
       "</div>\n",
       "<h3>Data preview:</h3>\n",
       "<div>\n",
       "<style scoped>\n",
       "    .dataframe tbody tr th:only-of-type {\n",
       "        vertical-align: middle;\n",
       "    }\n",
       "\n",
       "    .dataframe tbody tr th {\n",
       "        vertical-align: top;\n",
       "    }\n",
       "\n",
       "    .dataframe thead th {\n",
       "        text-align: right;\n",
       "    }\n",
       "</style>\n",
       "<table border=\"1\" class=\"dataframe\">\n",
       "  <thead>\n",
       "    <tr style=\"text-align: right;\">\n",
       "      <th></th>\n",
       "      <th>content</th>\n",
       "      <th>contentItemId</th>\n",
       "      <th>offset.start</th>\n",
       "      <th>offset.end</th>\n",
       "    </tr>\n",
       "    <tr>\n",
       "      <th>uid</th>\n",
       "      <th></th>\n",
       "      <th></th>\n",
       "      <th></th>\n",
       "      <th></th>\n",
       "    </tr>\n",
       "  </thead>\n",
       "  <tbody>\n",
       "    <tr>\n",
       "      <th>c231928631691-LLE-1914-09-29-a-i0001@15035:15274</th>\n",
       "      <td>[REDACTED]</td>\n",
       "      <td>LLE-1914-09-29-a-i0001</td>\n",
       "      <td>15035</td>\n",
       "      <td>15274</td>\n",
       "    </tr>\n",
       "    <tr>\n",
       "      <th>c68719627685-EXP-1961-03-21-a-i0004@138:1259</th>\n",
       "      <td>[REDACTED]</td>\n",
       "      <td>EXP-1961-03-21-a-i0004</td>\n",
       "      <td>138</td>\n",
       "      <td>1259</td>\n",
       "    </tr>\n",
       "    <tr>\n",
       "      <th>c94489677052-LSE-1960-09-09-a-i0006@61:1077</th>\n",
       "      <td>[REDACTED]</td>\n",
       "      <td>LSE-1960-09-09-a-i0006</td>\n",
       "      <td>61</td>\n",
       "      <td>1077</td>\n",
       "    </tr>\n",
       "  </tbody>\n",
       "</table>\n",
       "</div>"
      ],
      "text/plain": [
       "<impresso.resources.text_reuse.passages.FindTextReusePassagesContainer at 0x11e12dfd0>"
      ]
     },
     "execution_count": 87,
     "metadata": {},
     "output_type": "execute_result"
    }
   ],
   "source": [
    "impresso.text_reuse.passages.find(\n",
    "    term=\"banana\", \n",
    "    front_page=True,\n",
    ")"
   ]
  },
  {
   "cell_type": "markdown",
   "metadata": {},
   "source": [
    "## Topic"
   ]
  },
  {
   "cell_type": "code",
   "execution_count": 88,
   "metadata": {},
   "outputs": [
    {
     "data": {
      "text/html": [
       "<div style=\"display: grid; \">\n",
       "<div>\n",
       "<h2>FindTextReusePassages result</h2>\n",
       "<div>Contains <b>10</b> items (<b>0</b> - <b>10</b>) of <b>33</b> total items.</div>\n",
       "<br/>\n",
       "See this result in the <a href=\"https://impresso-project.ch/app/text-reuse/passages?sq=CjIYEioWdG0tZnItYWxsLXYyLjBfdHA0OF9mcioWdG0tZnItYWxsLXYyLjBfdHAwN19mcgoKGAcqBmJhbmFuYQ==&p=1\">Impresso App</a>.\n",
       "</div>\n",
       "</div>\n",
       "<h3>Data preview:</h3>\n",
       "<div>\n",
       "<style scoped>\n",
       "    .dataframe tbody tr th:only-of-type {\n",
       "        vertical-align: middle;\n",
       "    }\n",
       "\n",
       "    .dataframe tbody tr th {\n",
       "        vertical-align: top;\n",
       "    }\n",
       "\n",
       "    .dataframe thead th {\n",
       "        text-align: right;\n",
       "    }\n",
       "</style>\n",
       "<table border=\"1\" class=\"dataframe\">\n",
       "  <thead>\n",
       "    <tr style=\"text-align: right;\">\n",
       "      <th></th>\n",
       "      <th>content</th>\n",
       "      <th>contentItemId</th>\n",
       "      <th>offset.start</th>\n",
       "      <th>offset.end</th>\n",
       "    </tr>\n",
       "    <tr>\n",
       "      <th>uid</th>\n",
       "      <th></th>\n",
       "      <th></th>\n",
       "      <th></th>\n",
       "      <th></th>\n",
       "    </tr>\n",
       "  </thead>\n",
       "  <tbody>\n",
       "    <tr>\n",
       "      <th>c117193-EXP-2008-07-10-a-i0330@0:815</th>\n",
       "      <td>[REDACTED]</td>\n",
       "      <td>EXP-2008-07-10-a-i0330</td>\n",
       "      <td>0</td>\n",
       "      <td>815</td>\n",
       "    </tr>\n",
       "    <tr>\n",
       "      <th>c117193-IMP-2008-07-10-a-i0258@0:815</th>\n",
       "      <td>[REDACTED]</td>\n",
       "      <td>IMP-2008-07-10-a-i0258</td>\n",
       "      <td>0</td>\n",
       "      <td>815</td>\n",
       "    </tr>\n",
       "    <tr>\n",
       "      <th>c17180190458-EXP-2008-07-07-a-i0118@403:699</th>\n",
       "      <td>[REDACTED]</td>\n",
       "      <td>EXP-2008-07-07-a-i0118</td>\n",
       "      <td>403</td>\n",
       "      <td>699</td>\n",
       "    </tr>\n",
       "  </tbody>\n",
       "</table>\n",
       "</div>"
      ],
      "text/plain": [
       "<impresso.resources.text_reuse.passages.FindTextReusePassagesContainer at 0x11e2deb50>"
      ]
     },
     "execution_count": 88,
     "metadata": {},
     "output_type": "execute_result"
    }
   ],
   "source": [
    "impresso.text_reuse.passages.find(\n",
    "    term=\"banana\", \n",
    "    topic_id=OR(\"tm-fr-all-v2.0_tp07_fr\", \"tm-fr-all-v2.0_tp48_fr\")\n",
    ")"
   ]
  },
  {
   "cell_type": "markdown",
   "metadata": {},
   "source": [
    "## Language"
   ]
  },
  {
   "cell_type": "code",
   "execution_count": 89,
   "metadata": {},
   "outputs": [
    {
     "data": {
      "text/html": [
       "<div style=\"display: grid; \">\n",
       "<div>\n",
       "<h2>FindTextReusePassages result</h2>\n",
       "<div>Contains <b>10</b> items (<b>0</b> - <b>10</b>) of <b>13</b> total items.</div>\n",
       "<br/>\n",
       "See this result in the <a href=\"https://impresso-project.ch/app/text-reuse/passages?sq=CgoYDCoCaXQqAmVuCg4YByoKbHV4ZW1ib3VyZw==&p=1\">Impresso App</a>.\n",
       "</div>\n",
       "</div>\n",
       "<h3>Data preview:</h3>\n",
       "<div>\n",
       "<style scoped>\n",
       "    .dataframe tbody tr th:only-of-type {\n",
       "        vertical-align: middle;\n",
       "    }\n",
       "\n",
       "    .dataframe tbody tr th {\n",
       "        vertical-align: top;\n",
       "    }\n",
       "\n",
       "    .dataframe thead th {\n",
       "        text-align: right;\n",
       "    }\n",
       "</style>\n",
       "<table border=\"1\" class=\"dataframe\">\n",
       "  <thead>\n",
       "    <tr style=\"text-align: right;\">\n",
       "      <th></th>\n",
       "      <th>content</th>\n",
       "      <th>contentItemId</th>\n",
       "      <th>offset.start</th>\n",
       "      <th>offset.end</th>\n",
       "    </tr>\n",
       "    <tr>\n",
       "      <th>uid</th>\n",
       "      <th></th>\n",
       "      <th></th>\n",
       "      <th></th>\n",
       "      <th></th>\n",
       "    </tr>\n",
       "  </thead>\n",
       "  <tbody>\n",
       "    <tr>\n",
       "      <th>c8590352366-JDG-1990-03-14-a-i0145@141:632</th>\n",
       "      <td>[REDACTED]</td>\n",
       "      <td>JDG-1990-03-14-a-i0145</td>\n",
       "      <td>141</td>\n",
       "      <td>632</td>\n",
       "    </tr>\n",
       "    <tr>\n",
       "      <th>c8590352366-JDG-1989-03-15-a-i0158@38:661</th>\n",
       "      <td>[REDACTED]</td>\n",
       "      <td>JDG-1989-03-15-a-i0158</td>\n",
       "      <td>38</td>\n",
       "      <td>661</td>\n",
       "    </tr>\n",
       "    <tr>\n",
       "      <th>c8590352366-JDG-1987-07-15-a-i0100@35:771</th>\n",
       "      <td>[REDACTED]</td>\n",
       "      <td>JDG-1987-07-15-a-i0100</td>\n",
       "      <td>35</td>\n",
       "      <td>771</td>\n",
       "    </tr>\n",
       "  </tbody>\n",
       "</table>\n",
       "</div>"
      ],
      "text/plain": [
       "<impresso.resources.text_reuse.passages.FindTextReusePassagesContainer at 0x11e280510>"
      ]
     },
     "execution_count": 89,
     "metadata": {},
     "output_type": "execute_result"
    }
   ],
   "source": [
    "impresso.text_reuse.passages.find(\n",
    "    term=\"luxembourg\", \n",
    "    language=OR(\"it\", \"en\")\n",
    ")"
   ]
  },
  {
   "cell_type": "markdown",
   "metadata": {},
   "source": [
    "## Country"
   ]
  },
  {
   "cell_type": "code",
   "execution_count": 90,
   "metadata": {},
   "outputs": [
    {
     "data": {
      "text/html": [
       "<div style=\"display: grid; \">\n",
       "<div>\n",
       "<h2>FindTextReusePassages result</h2>\n",
       "<div>Contains <b>10</b> items (<b>0</b> - <b>10</b>) of <b>3908</b> total items.</div>\n",
       "<br/>\n",
       "See this result in the <a href=\"https://impresso-project.ch/app/text-reuse/passages?sq=CgoYFioCRlIqAkNICgwYByoIc2NoZW5nZW4=&p=1\">Impresso App</a>.\n",
       "</div>\n",
       "</div>\n",
       "<h3>Data preview:</h3>\n",
       "<div>\n",
       "<style scoped>\n",
       "    .dataframe tbody tr th:only-of-type {\n",
       "        vertical-align: middle;\n",
       "    }\n",
       "\n",
       "    .dataframe tbody tr th {\n",
       "        vertical-align: top;\n",
       "    }\n",
       "\n",
       "    .dataframe thead th {\n",
       "        text-align: right;\n",
       "    }\n",
       "</style>\n",
       "<table border=\"1\" class=\"dataframe\">\n",
       "  <thead>\n",
       "    <tr style=\"text-align: right;\">\n",
       "      <th></th>\n",
       "      <th>content</th>\n",
       "      <th>contentItemId</th>\n",
       "      <th>offset.start</th>\n",
       "      <th>offset.end</th>\n",
       "    </tr>\n",
       "    <tr>\n",
       "      <th>uid</th>\n",
       "      <th></th>\n",
       "      <th></th>\n",
       "      <th></th>\n",
       "      <th></th>\n",
       "    </tr>\n",
       "  </thead>\n",
       "  <tbody>\n",
       "    <tr>\n",
       "      <th>c249108133968-IMP-2001-03-27-a-i0004@0:274</th>\n",
       "      <td>[REDACTED]</td>\n",
       "      <td>IMP-2001-03-27-a-i0004</td>\n",
       "      <td>0</td>\n",
       "      <td>274</td>\n",
       "    </tr>\n",
       "    <tr>\n",
       "      <th>c249108133968-EXP-2001-03-27-a-i0006@0:270</th>\n",
       "      <td>[REDACTED]</td>\n",
       "      <td>EXP-2001-03-27-a-i0006</td>\n",
       "      <td>0</td>\n",
       "      <td>270</td>\n",
       "    </tr>\n",
       "    <tr>\n",
       "      <th>c8590241644-EXP-2005-04-02-a-i0127@64:312</th>\n",
       "      <td>[REDACTED]</td>\n",
       "      <td>EXP-2005-04-02-a-i0127</td>\n",
       "      <td>64</td>\n",
       "      <td>312</td>\n",
       "    </tr>\n",
       "  </tbody>\n",
       "</table>\n",
       "</div>"
      ],
      "text/plain": [
       "<impresso.resources.text_reuse.passages.FindTextReusePassagesContainer at 0x11e2d4b50>"
      ]
     },
     "execution_count": 90,
     "metadata": {},
     "output_type": "execute_result"
    }
   ],
   "source": [
    "impresso.text_reuse.passages.find(\n",
    "    term=\"schengen\", \n",
    "    country=OR(\"FR\", \"CH\")\n",
    ")"
   ]
  },
  {
   "cell_type": "markdown",
   "metadata": {},
   "source": [
    "## Entity mention"
   ]
  },
  {
   "cell_type": "code",
   "execution_count": 91,
   "metadata": {},
   "outputs": [
    {
     "data": {
      "text/html": [
       "<div style=\"display: grid; \">\n",
       "<div>\n",
       "<h2>FindTextReusePassages result</h2>\n",
       "<div>Contains <b>10</b> items (<b>0</b> - <b>10</b>) of <b>93</b> total items.</div>\n",
       "<br/>\n",
       "See this result in the <a href=\"https://impresso-project.ch/app/text-reuse/passages?sq=ChQYDyoITGF1c2FubmUqBkJlbHZhbAoMGAcqCHNjaGVuZ2Vu&p=1\">Impresso App</a>.\n",
       "</div>\n",
       "</div>\n",
       "<h3>Data preview:</h3>\n",
       "<div>\n",
       "<style scoped>\n",
       "    .dataframe tbody tr th:only-of-type {\n",
       "        vertical-align: middle;\n",
       "    }\n",
       "\n",
       "    .dataframe tbody tr th {\n",
       "        vertical-align: top;\n",
       "    }\n",
       "\n",
       "    .dataframe thead th {\n",
       "        text-align: right;\n",
       "    }\n",
       "</style>\n",
       "<table border=\"1\" class=\"dataframe\">\n",
       "  <thead>\n",
       "    <tr style=\"text-align: right;\">\n",
       "      <th></th>\n",
       "      <th>content</th>\n",
       "      <th>contentItemId</th>\n",
       "      <th>offset.start</th>\n",
       "      <th>offset.end</th>\n",
       "    </tr>\n",
       "    <tr>\n",
       "      <th>uid</th>\n",
       "      <th></th>\n",
       "      <th></th>\n",
       "      <th></th>\n",
       "      <th></th>\n",
       "    </tr>\n",
       "  </thead>\n",
       "  <tbody>\n",
       "    <tr>\n",
       "      <th>c34360149524-EXP-2008-09-13-a-i0231@0:496</th>\n",
       "      <td>[REDACTED]</td>\n",
       "      <td>EXP-2008-09-13-a-i0231</td>\n",
       "      <td>0</td>\n",
       "      <td>496</td>\n",
       "    </tr>\n",
       "    <tr>\n",
       "      <th>c60129931875-obermosel-1946-09-20-a-i0006@5970:6391</th>\n",
       "      <td>[REDACTED]</td>\n",
       "      <td>obermosel-1946-09-20-a-i0006</td>\n",
       "      <td>5970</td>\n",
       "      <td>6391</td>\n",
       "    </tr>\n",
       "    <tr>\n",
       "      <th>c42949763205-GDL-1993-05-14-a-i0002@0:654</th>\n",
       "      <td>[REDACTED]</td>\n",
       "      <td>GDL-1993-05-14-a-i0002</td>\n",
       "      <td>0</td>\n",
       "      <td>654</td>\n",
       "    </tr>\n",
       "  </tbody>\n",
       "</table>\n",
       "</div>"
      ],
      "text/plain": [
       "<impresso.resources.text_reuse.passages.FindTextReusePassagesContainer at 0x11e243e90>"
      ]
     },
     "execution_count": 91,
     "metadata": {},
     "output_type": "execute_result"
    }
   ],
   "source": [
    "impresso.text_reuse.passages.find(\n",
    "    term=\"schengen\", \n",
    "    mention=OR(\"Belval\", \"Lausanne\")\n",
    ")"
   ]
  },
  {
   "cell_type": "markdown",
   "metadata": {},
   "source": [
    "## Entity by ID"
   ]
  },
  {
   "cell_type": "code",
   "execution_count": 92,
   "metadata": {},
   "outputs": [
    {
     "data": {
      "text/html": [
       "<div style=\"display: grid; \">\n",
       "<div>\n",
       "<h2>FindTextReusePassages result</h2>\n",
       "<div>Contains <b>10</b> items (<b>0</b> - <b>10</b>) of <b>41</b> total items.</div>\n",
       "<br/>\n",
       "See this result in the <a href=\"https://impresso-project.ch/app/text-reuse/passages?sq=ChwYCCoYYWlkYS0wMDAxLTU0LVN3aXR6ZXJsYW5kCgoYByoGYmFuYW5h&p=1\">Impresso App</a>.\n",
       "</div>\n",
       "</div>\n",
       "<h3>Data preview:</h3>\n",
       "<div>\n",
       "<style scoped>\n",
       "    .dataframe tbody tr th:only-of-type {\n",
       "        vertical-align: middle;\n",
       "    }\n",
       "\n",
       "    .dataframe tbody tr th {\n",
       "        vertical-align: top;\n",
       "    }\n",
       "\n",
       "    .dataframe thead th {\n",
       "        text-align: right;\n",
       "    }\n",
       "</style>\n",
       "<table border=\"1\" class=\"dataframe\">\n",
       "  <thead>\n",
       "    <tr style=\"text-align: right;\">\n",
       "      <th></th>\n",
       "      <th>content</th>\n",
       "      <th>contentItemId</th>\n",
       "      <th>offset.start</th>\n",
       "      <th>offset.end</th>\n",
       "    </tr>\n",
       "    <tr>\n",
       "      <th>uid</th>\n",
       "      <th></th>\n",
       "      <th></th>\n",
       "      <th></th>\n",
       "      <th></th>\n",
       "    </tr>\n",
       "  </thead>\n",
       "  <tbody>\n",
       "    <tr>\n",
       "      <th>c128849280553-NZZ-1892-02-19-a-i0002@20029:21335</th>\n",
       "      <td>[REDACTED]</td>\n",
       "      <td>NZZ-1892-02-19-a-i0002</td>\n",
       "      <td>20029</td>\n",
       "      <td>21335</td>\n",
       "    </tr>\n",
       "    <tr>\n",
       "      <th>c68719627685-EXP-1961-03-21-a-i0004@138:1259</th>\n",
       "      <td>[REDACTED]</td>\n",
       "      <td>EXP-1961-03-21-a-i0004</td>\n",
       "      <td>138</td>\n",
       "      <td>1259</td>\n",
       "    </tr>\n",
       "    <tr>\n",
       "      <th>c111669354290-GDL-1987-08-15-a-i0198@3130:3513</th>\n",
       "      <td>[REDACTED]</td>\n",
       "      <td>GDL-1987-08-15-a-i0198</td>\n",
       "      <td>3130</td>\n",
       "      <td>3513</td>\n",
       "    </tr>\n",
       "  </tbody>\n",
       "</table>\n",
       "</div>"
      ],
      "text/plain": [
       "<impresso.resources.text_reuse.passages.FindTextReusePassagesContainer at 0x11e2dda90>"
      ]
     },
     "execution_count": 92,
     "metadata": {},
     "output_type": "execute_result"
    }
   ],
   "source": [
    "impresso.text_reuse.passages.find(\n",
    "    term=\"banana\",\n",
    "    entity_id=\"aida-0001-54-Switzerland\"\n",
    ")"
   ]
  },
  {
   "cell_type": "markdown",
   "metadata": {},
   "source": [
    "# Text reuse passages facets"
   ]
  },
  {
   "cell_type": "markdown",
   "metadata": {},
   "source": [
    "## newspaper"
   ]
  },
  {
   "cell_type": "code",
   "execution_count": 93,
   "metadata": {},
   "outputs": [
    {
     "data": {
      "text/html": [
       "<div style=\"display: grid; grid-template-columns: minmax(200px, 1fr) auto;\">\n",
       "<div>\n",
       "<h2>Facet result</h2>\n",
       "<div>Contains <b>10</b> items (<b>0</b> - <b>10</b>) of <b>77</b> total items.</div>\n",
       "<br/>\n",
       "See this result in the <a href=\"https://impresso-project.ch/app/text-reuse/clusters?orderBy=value&p=1\">Impresso App</a>.\n",
       "</div>\n",
       "<div style=\"align-content: center;\"><img src=\"data:image/png;base64,iVBORw0KGgoAAAANSUhEUgAAA7YAAABhCAYAAADiKT2SAAAAOXRFWHRTb2Z0d2FyZQBNYXRwbG90bGliIHZlcnNpb24zLjkuMiwgaHR0cHM6Ly9tYXRwbG90bGliLm9yZy8hTgPZAAAACXBIWXMAAA9hAAAPYQGoP6dpAAACr0lEQVR4nO3b0Y3CMBQAwcuJQuiHhiiBhuiHTkwB/rkTRM7CTAVPThRpbWcbY/wAAABA1e/qAQAAAOAVwhYAAIA0YQsAAECasAUAACBN2AIAAJAmbAEAAEgTtgAAAKQJWwAAANKELQAAAGnCFgAAgDRhCwAAQJqwBQAAIE3YAgAAkHZaPQAAAC3n632snuFoHrfLtnoG+GZObAEAAEgTtgAAAKQJWwAAANKELQAAAGnCFgAAgDRhCwAAQJqwBQAAIE3YAgAAkCZsAQAASBO2AAAApAlbAAAA0oQtAAAAacIWAACANGELAABAmrAFAAAgTdgCAACQJmwBAABIE7YAAACkCVsAAADShC0AAABpwhYAAIA0YQsAAECasAUAACBN2AIAAJAmbAEAAEgTtgAAAKQJWwAAANKELQAAAGnCFgAAgDRhCwAAQJqwBQAAIE3YAgAAkCZsAQAASBO2AAAApAlbAAAA0oQtAAAAacIWAACANGELAABAmrAFAAAgTdgCAACQJmwBAABIE7YAAACkCVsAAADShC0AAABpwhYAAIA0YQsAAECasAUAACBN2AIAAJAmbAEAAEgTtgAAAKQJWwAAANKELQAAAGnCFgAAgDRhCwAAQJqwBQAAIE3YAgAAkCZsAQAASBO2AAAApAlbAAAA0oQtAAAAacIWAACANGELAABAmrAFAAAgTdgCAACQJmwBAABIE7YAAACkCVsAAADSTqsHANjD+Xofq2c4msftsq2eAQBgD05sAQAASBO2AAAApLmKDIu5MjtzZRYAgP8QtgD8mY2Y2bs2Yqzt7B1ra11nNg+Py/s6843dz6d9C7YxPGMAAAC6/GMLAABAmrAFAAAgTdgCAACQJmwBAABIE7YAAACkCVsAAADShC0AAABpwhYAAIA0YQsAAEDaE7I5JsMUVScbAAAAAElFTkSuQmCC\" style=\"max-width: 800px; width: 100%;\"></div>\n",
       "</div>\n",
       "<h3>Data preview:</h3>\n",
       "<div>\n",
       "<style scoped>\n",
       "    .dataframe tbody tr th:only-of-type {\n",
       "        vertical-align: middle;\n",
       "    }\n",
       "\n",
       "    .dataframe tbody tr th {\n",
       "        vertical-align: top;\n",
       "    }\n",
       "\n",
       "    .dataframe thead th {\n",
       "        text-align: right;\n",
       "    }\n",
       "</style>\n",
       "<table border=\"1\" class=\"dataframe\">\n",
       "  <thead>\n",
       "    <tr style=\"text-align: right;\">\n",
       "      <th></th>\n",
       "      <th>count</th>\n",
       "      <th>label</th>\n",
       "    </tr>\n",
       "    <tr>\n",
       "      <th>value</th>\n",
       "      <th></th>\n",
       "      <th></th>\n",
       "    </tr>\n",
       "  </thead>\n",
       "  <tbody>\n",
       "    <tr>\n",
       "      <th>BDC</th>\n",
       "      <td>175</td>\n",
       "      <td>Bulletin des séances de la Constituante</td>\n",
       "    </tr>\n",
       "    <tr>\n",
       "      <th>BLB</th>\n",
       "      <td>903</td>\n",
       "      <td>Bündner Landbote</td>\n",
       "    </tr>\n",
       "    <tr>\n",
       "      <th>BNN</th>\n",
       "      <td>7369</td>\n",
       "      <td>Bündner Nachrichten</td>\n",
       "    </tr>\n",
       "  </tbody>\n",
       "</table>\n",
       "</div>"
      ],
      "text/plain": [
       "<impresso.resources.search.FacetDataContainer at 0x11e2d68d0>"
      ]
     },
     "execution_count": 93,
     "metadata": {},
     "output_type": "execute_result"
    }
   ],
   "source": [
    "impresso.text_reuse.clusters.facet(\"newspaper\")"
   ]
  },
  {
   "cell_type": "markdown",
   "metadata": {},
   "source": [
    "## daterange"
   ]
  },
  {
   "cell_type": "code",
   "execution_count": 94,
   "metadata": {},
   "outputs": [
    {
     "data": {
      "text/html": [
       "<div style=\"display: grid; grid-template-columns: minmax(200px, 1fr) auto;\">\n",
       "<div>\n",
       "<h2>Facet result</h2>\n",
       "<div>Contains <b>59</b> items of <b>59</b> total items.</div>\n",
       "<br/>\n",
       "See this result in the <a href=\"https://impresso-project.ch/app/text-reuse/passages?sq=CgoYByoGYmFuYW5h&p=1\">Impresso App</a>.\n",
       "</div>\n",
       "<div style=\"align-content: center;\"><img src=\"data:image/png;base64,iVBORw0KGgoAAAANSUhEUgAAA7YAAABhCAYAAADiKT2SAAAAOXRFWHRTb2Z0d2FyZQBNYXRwbG90bGliIHZlcnNpb24zLjkuMiwgaHR0cHM6Ly9tYXRwbG90bGliLm9yZy8hTgPZAAAACXBIWXMAAA9hAAAPYQGoP6dpAAAn70lEQVR4nO3dd5xcVfnH8U8gFGnyAxQFkUMAgYSqICAlhCZ6AQHpxQKIqIB0jghIUy9FKaErzZ+CNKknKNKlCogiHYUbkB/SAwgmJGR/fzznMpPZnd2dmTt1v+/Xi9cyszN3TnZ35t7nnOd5zqi+vj5EREREREREutVs7R6AiIiIiIiISCMU2IqIiIiIiEhXU2ArIiIiIiIiXU2BrYiIiIiIiHQ1BbYiIiIiIiLS1RTYioiIiIiISFdTYCsiIiIiIiJdTYGtiIiIiIiIdDUFtiIiIiIiItLVFNiKiIiIiIhIV1NgKyIiIiIiIl1tdLsHICLSTM6HOYC9gElZmjzX7vGIiIiISPG0YisivW5v4Azg7HYPRERERESaQ4GtiPS6reLX8c6Huds5EBERERFpDgW2ItKznA8LAuvHm3MDX2jfaERERESkWRTYikgv24xZewls1K6BiIiIiEjzKLAVkV62Rfz6fPy6cbsGIiIiIiLNM6qvr6/dYxARKVzshvwKsCCwM3AJMBNYOEuTKe0bmYiIiIgUTSu2ItKr1sGC2teBy4Gnsc+88W0ck4iIiIg0gQJbEelVeRpyyNLkA+CWeFt1tiIiIiI9RoGtiPQc58MoYMt48/r4VYGtiIiISI9SYCsivWg5YBlgOnBTvO82oA8Y63xYrF0DExEREZHiKbAVkV6UpyHflqXJ2wBZmrwBPBzv37AtoxIRERGRplBgKyK9KA9sr6+4/+b4VenIIiIiIj1Ega2I9BTnw8JYR2ToH9h+WGcb63BFREREpAcosBWRXvNl7LPtkSxNJld87y7gfWAJYNlWD0xEREREmkOBrYj0mmppyGRp8h5wb7ypdGQRERGRHqHAVkR6hvNhTmCzeLNfYBtp2x8RERGRHqPAVkR6yXhgfuBl4IEqj8kbSE1wPugzUERERKQH6KJORHpJnoZ8Q5YmM6s85gHgHWAhYNVWDEpEREREmkuBrYj0hNjluGp9bS5LkxnAHfHmxs0el4iIiIg0nwJbEekVKwIOmEYp3bga1dmKiIiI9BAFtiLSK/LV2puzNHl3iMfmge16zoe5mjgmEREREWmB0e0egIhIQYZMQy7zKPAK8HFgLUqpySIiIiIt43z4DHAycGmWJpe2ezzdTCu2ItL1nA+LAmvGmzcM9fgsTfpQOrKIiIi03ynY5PwlzofU+TB7uwfUrRTYikgvSIBRwENZmrw4zOfkga0aSImIiEjLOR9WAr4M9MW7DgOucT4s0L5RdS8FtiLSC2pJQ87lge3ndQIRERGRNjg0fr0S2BmYCmwO3ON8GNO2UXUpBbYi0tWcD3MDm8abww5sszTJgGeB2YH1ix+ZiIiIyMCcD0sCO8WbJ8T62vWBl4BxwJ+dD+PbNb5upMBWRLrdhsA8wIvAwzU+N98WSHW2IiIi0koHYpPrt2Rp8hBAliYPAGsADwILAzc7H77VviF2FwW2ItLtPkxDjk2haqE6WxEREWkp58PCwJ7x5gnl34u9QsYDl2E72JznfDjN+aDdbIagwFZEupbzYRRWiwK11dfmbotfV4ydlUVERKQgzocFnQ+HOR9WbPdYOsw+WLbZw5Syxz6Upcl7WJrykfGu/YBJzof/adkIu5ACWxHpZqsCnwLeA26t9clZmrwK/C3e3LC4YYmIiIxscX/W+4AUuNX5sHibh9QRnA/zAvvGmydUyzbL0qQvS5Pjga9i1zmbAPfFn6sMQIGtiHSzLePXm7I0mVrnMbSfrYiISIGcD5sA9wPLxbs+BlyqdFoAdsfqZ58DrhrqwVma/A5YB3gB+Axwf/z5SgUFtiLSzerZ5qdSngK0cUxtFhERkTo4H0Y5H/YBbgQWBO4F1gXeAdYDjmvf6NovBvYHxZsnZ2kyYzjPy9Lkr1hTqXuxn+uNzod9dd0yKwW2ItKVYkrT57BNzUMDh/oTMANYEtCecSIiInVwPswBnA1MxLr9/gqYkKXJ3dgqJYB3Pny5TUPsBNtj1xuvAhfW8sQsTV4GJgAXYz/f04FznA9zFj3IbqXAVkS6Vd406v74YV+XLE3+g9UAgdKRRUREaha7/N4EfBubcD4E+EaWJtMAsjS5Egt4Af7X+fDptgx0CM6HtZ0PlzWjjjWurh4ab56epcl/az1G/Hl+E/v59gF7Ab93PsxV2EC7mAJbEelWRaQh51RnKyIiUgfnwzjgz8AGWMrxllmanDxAU6RDgAeAhYDfxhXejhEDzzOxVdVrnA/zFfwSXwRWAd4Fzqr3ILGp1MnYddA72Cqu9rpFga2IdCHnwzyUgtAiA9sNnQ/6XBQRkWFxPqw2kreLcz5sjtV9jgGeBdbO0uSGgR4bVxt3AKYAawM/bdEwh2tdYLX4/ysAZxdcw3pY/HpeliZvNHqwLE0C4OPNHzgf5m70mN1OF3Ai0o02BuYGMuDRAo53PzaDugiwcgHHExGRHud82AB4CLjF+TB7m4fTUrFJ1CHAdcD8wB3AmlmaPDbY87I0eQ5LpQU4yPnwleaOtCb7xa/3AB8AuwJ7FHFg58PnsRXtGcApRRwzOh/rlrwYlpY8oimwFZFulG/zc321/d9qkaXJ+8Cd8abSkUVEZFBxJe84YBQwDuikAK2pYj3nhcCJ2L//PGDTLE1eG87zszS5hlJwd5HzYalmjLMWseZ363hzb+CI+P8TnQ9FTHjnq7W/ydLkhQKOB3y4Cv6TeNM7Hz5S1LG7kQJbEekqMVU4bxxVRBpyTnW2Im3gfJjP+XCL8+FcbV0hXWQjLHU1d9hI+PuNade3AV/HVjX3BfaOE8S18FjjxgWByzqgs+93sU7Dt2Zp8ncsaJ+EZYdd6XxYoN4DOx+WoxQ0n9joQAdwAbZq+0lG+KqtAlsR6TarA4tiDRPuKPC4eWC7fgecYEVGkr2ADePXbds8FpEhxQD2mHjzEmAq8HlgfNsG1QLOh9Ww5k9rY3WyX8rS5Ix6MqdiILwD8Aa2P+tJBQ61JrFvR9586XSALE1mAl/DAsZlgfMamLg4GFvZvj5Lk8cbHG4/8Wf543hzRK/aKrAVkW6TpyH/vo4Z4sE8ArwGzItdoEiHcj6MdT58K250L10sTiIdWHbXKU3oRCpStE2AL2AB7cHYihmU0k17TqyFvQtYAngaq6f9YyPHzNLkeSx4BNjP+dCuia1dsE7NzwEfNr7K0uR1LPieEb/uXeuBnQ+fpPRvPKHhkVZ3ITAZ+AR1jLNXKLAVkW5T5DY/H4qzs7fGmxsXeWwpjvPhf4CbsZquI4Z4uHS+nYHFgX9jF5WLA0e1dUQig6hYrT0nS5OXgJ8BM4HNnA+rtG1wTeJ8cMClwDzYXrVrZWnydBHHjp198/Tc850PSxdx3OGKv8+8adQZWZp8UDG+eyl1Hj7V+fDZGl9if2BO4O4sTe5uZKyDqVi1PSyuQo84CmxFpGs4H5bEuhbPxGpfiqY62853GlZHBPDDmBonXSjWyx8ab55K6eLyAOfD2LYMSmRomwJrYau1JwJkafIscHn8/qFVntfNTgU+gpX/JFmavFnw8Y/AVoMXAK5o8bY1E4AVsZ0RLqjymJ9j3Z/nxMb30eEcOD4uXz1tRm1tpYuw3SIWZYSu2iqwFZFukjeNujumCBUtD2zXUjpk54mpcLthExv3AaOBi1UT3bU2x/aKfBtb+boBu3gcDZw5EhrxSHepWK09O67W5vLAZYe4wtkTnA8J1vF5BvDdLE1mFP0aWZpMB3bEyoFWwwLJVskn1C7O0mTKQA+INcTfwILGMcAFw/x82hsL1h+nLMW5WeLP8fh48zDnw7zNfs1Oo8BWRLrJh9v8NOn4z2I1KqOB9Zr0GlIH58PCwLnx5knY38KrwErAke0alzQkr0c8J0uTt+L/74+thG2AXeiKdJLNgDWB/1JRL5mlycPAH7HOuge1fmjFi02IJsabpzSj8VEuS5MXsX1j+4DvOB92atZr5eI2Q/l1xcTBHhtXqbcHpgPbYN2gBzv23NjnGcBJsdypFX6FXct8HPhOi16zYyiwFZGu4HyYH7vYBVvVKVyclb053lQ6cmeZiKVXPQ4cnaXJq5RO2j9wPqzetpFJzZwP62LNd97H0hwByNLkOUp1Yj9rZIsNkSJVrNaelaXJywM8LA9293A+fKw1I2uqw4ClgBeBY5v9Ylma/IHSnqznxW1ymmkfrFvxH7I0eXKoB2dp8gDWLAzgZOfDYI0md8MaOf0L65zdEhWrtoeOtFVbBbYi0i02xepbnsnS5Kkmvk6ejqwGUh3C+bANsBO2Z+I3sjSZCpClyVXAZdgKyUXOh7naN0qpUb5a+6uKdE6wFfl/YLXUR7dyUCKD+DK2Lc17VK+XvBV4CKtH3adF42qK2MQpb5p0QJYm/2nRSx+N1fLOh9WzNmXrmlhutEe8eXoNT50IXAXMAVweGxpWHnt24JB485SCd3AYjl9jq7YfA77X4tduKwW2ItItmp2GnMs7I6/SIzPuXS3+Ds6JN0+IM+bl9gFeAcYBP2rl2KQ+zocVsfraPgbYuzJLk2mUgoL9nA8rtXB4Iv3E1dqj480zszR5ZaDHxayffNV2n25dLYv/3onAXFh69ZWteu1Yw7sT9rm+EkOkCDfga8BHgWeA3w/3SfF3vAcWOC6JTapW1ttuhe19OwX4RQFjrUlctT0u3jxkJPUMUWArIh3P+fAlIN/frqmBbUwvezTenNDM15JhOQObdX6UAVLhsjR5jVL3x8OGSA2TzpCn8l1dbcuQmJJ4FbYaf5YaSUmbJcDq2GrtyUM89ndYxsFClFYEu81XgC9h9aT7xGCuZWIWx87Y5Ncezofdijx+7Mie18hOrLX+NfYE2A4rpdiSsr2442dVnpFyZpYm7zQ+4rr8Gvs7XIQRtGqrwFZEOpbzYZTz4UCsm+A8WJrwn1rw0tr2pwM4H7bHmnV8AHw9ruT1k6XJ1cBvsHPaxS3eKkJq4HxYAtgl3jxhsMcCB2CBxLpYvZpIy1Ws1p5RbbU2F/dBzYPfg5wPczRxeIWLq8ynxZsnFbVfba2yNLmFsv2CC94CbGNgeeAd4OJ6DpClyV8oNYdKnQ9rx/8fj6WsT6W2FOdCxZXv8lXb+ds1llZSYCsiHSnWS56PbXw/G/BL4MuVm6c3Sd5AquV1ts6HHZwPNzkfVmn1a3cS58OiwFnx5k/iRcRg9gP+jV2sNL3JidTtAKzr+O1Zmvx5sAdmafICpd/lSc6HBZs8NpGBbAF8DtvntF/qfBUXAy8DnwZ2aNK4muVwbNzPU2rk1i7HY+fjebB626JSu78fv16QpcnbDRznHKzPw2is3nYRSqu1Fw41CdICl2Cp1gvT5TXfw6XAVkQ6jvPh49iq6TexPUv3B/ZqYQOGO7FVwjGt3I/Q+bAZtvK4CXD1SL2QjyskZ2En40codXisKkuTN4Bvx5sHlc2eS4dwPiwE7BVvDrVamzsFeBLbuuK4IR4rUqiK1dqJsfRhSLHBXb7qeWi3pNLHLsR506PvZ2nyXjvHEyeyd8UmLcdSQFmC82FZrBFYH1bq0sj4+rDPtGeATwE3YltCzWTolPWmi6u2+eTgwSOhy7wCWxHpKM6HlYEHgHWAt7BV2tNaWeMTZ3Dz1aSWpCPHf/flWE3hB9gWC8PdBL7R157P+bCH82Fz58OYWH/UTjtg+wTOwFKQhzWhkaXJddgefrNhDT2a0k1T6vZdYF7gb8AfhvOE+LvP68O+63z4bJPGJgVwPszmfHDOh8T5sLvz4ZPtHlODvgKsBvyH2gOVs7FU15WwetWOVtYwag5gEnBte0dkYt+LHbFg8WvYhHcj8traSVma/KPBY+XXC9thqcf5tnNXZGnybKPHLsilwNNYzXfPr9qO6utraT24iEhVzoetsIYH82IzoFs0eWufwcZyHHAEcGmWJjs3+bUWA+7HZnxvj697G3aBsX+WJqdVf3bDrz0ndhFTHsD/F3gC2zP2sbKvWbNTwZ0Pn4ivtRDwoyxNakorjlsvPAosBvw8S5ODih+l1CpOMkzGGoHtkqVJTfs6Oh8uxS5u7wPWqbXZixQrTn45bBVtXNnXFbC00dxU4Dyso/n/tXiYDYmB3l+AVbFyiB/WcYyTsGZpd2ZpMr7YERbL+bAdNrk6DRiXpck/2zykWTgfDsdSo6cCn8/S5O91HGMBbE/e+YBNszT5Y4Hj25NSB+TPDaN8pmWcD7tg11ZvAq7B9OuONrrdAxBpFufDqFZ38pP6xAuIH1Cq57kZ2D5LkzfbNypuwQLMjZr5txTb8N+ABbVPAttkafKm8+EgrPHEyc6H+7I0ub8Jrz0KW1XYCKsf+ydWo/oR4LPxv3JTnQ9PMmuw+zjwbBEBbxzPOVhQ+zDw01qPEX923wICcIDz4eosTe5qdGzSsG9iQW2GXTzX6iBsi6C14rHOL2xkUlXcj3MpLHAtD2JXwD4nBjIdeArLuFgVq3//tvPhF0CapcmLTR52UbbCxv8O8PM6j3EqVs+5vvNhrSxN7itkZAWLjYVOiTfTTgtqoxRYD0v1vcL5sEYdHYe/iQW1T1DqpVGU84G5gemdFNRGv8WuZ5bH3o9Dlvd0K63Ydhnnwxjgh1gzg3uBYzrwDdRW8UT8Yyzl4nfA8e3q6idDiys552P71oGlQh0Ya0PaJjavehO7eNsuS5PC9/GLf6vXYltJvAqslacvxSDvcmybo+eB1WIdaZGvn8+Az8RWxyc5H0YDYyhdwOYXs8tjexoO5BWsyddZWZr8p4Hx7Ar8L3ZhvHqWJo80cKwLsIuYfwCrtLtWbCSLf1NPYwHSvlma1FXXFjuk/wx4HfhM0e+HkSx+FlV731frMv4+NhlXPsn1OPDPLE2mx8+wjbD9pdcte04e4P6rOf+axsUV6YeBlYEfZ2lyRAPHyj+LrsnSZOuChlgo58OJWG3ts8CKWZr8t81DGlBszvRXYHEsxXaX4U46x9/p08DSwHeyNDlniKf0FOfDTlgzqSnYqu1b7R1Rcyiw7RLOh6WxgPZrWA1eueuxAPehlg+sw8Q0k0uwQCE3M953fLvSWmVgMQX3Gqw1/gxsv7xz2zqoMmUXJH1Yp8OTi1q5jRd9p2MTMFOBDSpXZZ0PHwUewk7E1wNfKfD185McwPeyNDlriMfnKzflaYf5yk1+4fsaVod2Zq0BbvxbeAxYEDgiS5OGunHGxlt/x1bCT8vSZP9Gjif1cz7siF2EvgYsWe8kQ9w25S/AisC5WZrsPcRTpEKcZFiaWd/DYxl84moqAwewzw5nAjJ+1k3AAtz1493vYxOaP43drzuK8+GrwJXA28BSjUyiOB9WwH5efcDYLE2eLGaUxXA+jMOCxdHA5lmahPaOaHDOh3WAO7Br4b2He83gfEiw7KgpwKeyNHm3aYPsQPEc/nfsnF1zmU+3UGALxD0PD8bqyq7K0iRr74hKnA/LYOkDu1IKaH+Ppetti21gnTd6CViA+0Crx9kJYvB/HXaSnoq1rJ+ArW6DBbi/xQLcJ9oySPmQ82ENLKhdDHgD+GqWJre3c0yVYv3pREqdXH8FfDt2vGz02PtjqV992IrwVVUetxqWnTEXcEiWJg13WnQ+rIulWs9Jg3WoMdjYGfucWibe/Tq2snbGcFLF4oXv9diE1EPYynXDK/bOhy9in5dgEwd3NHrMbhA7eX8VC+qfIgYjWZq83oaxlNcpNnwx5XxYD+ta3ges2erzXbxe2ATbq/IxbBWunSUTg4o//69gDdnGActh7/uBTMVSNCtLDZ4rqrbe+bAB1mU4rzedTinAfb6I12hUXNn7GzaBclyWJkcVcMxrsN/DBVma7NHo8YoS/z5uw34f12ZpslV7RzQ8zodDgBOxeuC1szR5eBjPuQl7756cpckhQz2+FzkfdsCug6dgEzZT2jqgJhjxgW1sVHINsGbZ3Q8CV2BdzZ5r07g+g10o7kIpcJ0EHFu+qlPlcTdiAW7hNXmdKp4sr8Jq8/4PW9l6MH7vs8BR2EkF7ILoMuyE9XjrRytxBedCbKXvcWDLDq3pyU/838NqpWbHgsxtsjT5dwPH3ApLkx/FMIJV58PeWC3sB8D4LE3ubuC1l8Ua8CwEXA1sW0QjnrgStBNwJLBsvPsNrDZt4mDNKpwPXwcuwlZxPpulyWONjqfs2L8A9sRS7FZpJFW6k8UylW2x7pyrV3nYK/QPWh7P0uTVJo5rU6wD8nvAp4sIrp0PvwJ2w87Va7WgodncwBexn+2WwPxl356B1epdgQW5HZEeHYOzrbBzX+We2O8xcHO4yc3+WZaNbzy2gjsh3jUdOyf8tN2LC2VNlN7CLv4bnrhwtv3YPdi/c6lOqTN2PuyMbTH3X2w1OWvviIYn/n1fi9Xd/wMrXamaWut8GIv9jc8Elu6Wf2fR4s/tEWyS6+gsTY5p85AKN6ID2xjwXIvNar+JzdCtz6zbID1EKchteutuZ3uIHUH/ldhjs0E2s48Xqz9k1pXdP2AB7r3NG3H7OR/2As7E0mgeALYaqPtiXPk6CjvZgwW4V2AB7qOtGe3IFj9Uj8H+xsH+tnfuhg59zoeNsb+XBYEXsMmTIWeJBzjOGlga1UeAc7Fan0E/iGNw/RsscHwRWDUb5n6KFcdZBAvMl8HeKxsUXXsaA9wdsQD3M/HuN7HV6dMrLz6cD5/Cuhh/FPhBliZpweNZIB5/CSxFume2O4hZKtvF/8obfc3E/sb+hv0OxgFLDnKoV+mfZnpPlibTChjjLcCGFJgO7nxYFKuVW4Am1crF2v88mN2CWYPZF7Hz6xrYVi65GVgmRB7ktmOFfDZsq6yjysb2DjYxdif2u53cKV2l4wr8jyh1ZZ+BTXKdCjzZqkC7bDzlF/7HZGlydIHHvhNrfnRSliaHFnXcBsbzUSzF/BMUUP7Ras72xX4Y+DSWNr59tXOp8+FsYG86uM65VSomblyvrdqO2MA2/mIvxi4un8IapzwTT5hbYyezDZg1yH2YUpDb8N5XFeNZHrsQ3LHsNa/HAtoHazjOMlgKbnkt7h+xD+i6V3k6UbyAPoXSvlyXAHsO1fTA+bAKdtLfpuzuK7Gfdc3t42VoVS62TsICmZZeuDQiZkhch6XzvQd8rVoKcZXnO2y1dFEsRXaL4abcxq6VD2KByu+BpJaL07jqdDO2P/BkLI3z5eE+v1axnmcH7HNt+Xj3FEoB7pQYsE/Culz+GdvGpfCmYXFSIt/WYaMsTW4t+jVaJX7G58HsamXfmoltFXUFcHXl79ZZ9+0V6N/ddqkqL/VPYPcsTe5sYKyrYxMoHwBjikw1dT7si9WovwksV8Sqcwxmv4T9bDfHuqfm/oWdJ64A7svfe3EyOv99rFz2+A+AWyn9PmqeiKpx7LNhK/ZHYim0YPWhpwGndspKcjWxPOJHwMZld0/DAq+BurA3pbmg82F7LKOr8Iv+shrPd7DshcKOXed4TgH2x7bWW6mIiaxWcz6sCfwJ2xpvwMZ0zraA+xe2DdWETit5arWKVPtjszT5UZuHVKgRF9jGX+iRWI0H2KzrjgN9wDgfPkYpyJ3ArE2b/kopyH2mgfGMjePZAUtLBFtFPjZroNtxnMk/HPg6pXHfjAW4Xb/1RfygupzSSfBwrMvisP+gnQ8rYz/7bcvuvgr72dfdjVVKqlxsvYOdgC5u28AaEJsS/RZbzQG7GDtuGKuuCwJ3Y8HEI8B6ta5Ux7/Z+7EU7sOzNBnWdjjx9/BrbMX3LeALrUrDjwHudtikxgrx7rewFZm3sFTlaVjX56bVvpfN2GfAysOp/e0UcUIlD57K00o/wOrj8uCp5uDO+TAvNvFQHuyuDSwSHzIRm4CqudGK8+EK7P3/6yxNdqv1+UMcO8/QWZUG6hadD/MwazA7b9m3n6cUzP55qImk+HvK08FXLftWw7+nQV5z9viaR2G/O7D3VR7Qdmz970CcD1/Ass8mUH07oWnYgkSeXZAHvP/M0mR6A689O/bZPJYmpGnGibxHsHNh4dkpNY5lZaz2fXbgi1ma3NSusTSqrF/FdOzc9mDF9w/Cmho+gmU7jazAZwDOh22xz6O3sQmcrvqcGMyICmzjCewi7KQD9kY4dDgzfzGFb2vsBLIRswa5T2ErEbUajaWP5QHtNVhQVXN6YzXOh6WwoO8blPYtvhULcOueiW+nuLp9HVbH9y6wa5Ym1zRwvJUoBbj57+Jq7Hfx14YGO0L12sVWpXhRfRI22w02yfLNamm9scHSJGwi5v+w1dK6trpwPuyONVuZic0+D/k+dj4cj10szgA2y9LklnpeuxFlfxNHYgFUuUOzNDmpya8/P9YRcklscuA2ShfETxadkt2o+DmXB0mVK4Hl6a6FrwTGFMWTsdpkgOeAPbI0ua2GYyyLnRtHYRMJhWfDlNUtgq3413pBMwoLMuYpu28y9rO9Egtm67pIiivr+e+vMk38Huwiu7zO+ZUajz87sD32fiqfMDoFS/ueUs+4O0X89y3JwF3Y56nytHz/3Mq0+meGE/C6UvfuKdCc7VCcD7thTQhfjq/RcCPCOsYwG5aWvg5wZZYm2w3xlI4WJwyuwq7RM6xPw5vxe7NjNbgOy+jT/td8+DeQb2dVSIO0TjFiAttYx3UtdoKZjrUIv6DOYy2M1WluhwW5owd9wtB+hwVRf2vwOFXFFMgfALtTGu/tWIB7e7Net2jOupxehtXjTcaaDhWyuuqs5f2R2MVC+er5MUVONvSyXr/YquR82BM4C0uDegiru32x4jGjgF9i7713sZXauv+e4vEuwsoNXsJmoKteFJcFwmDB90X1vnYR4gn1q9ikx4rYKvb4VqSkOx82BG6i/5ZpfVjwVtlM58l6ViobGN8KlFZmVyz7Vt6g6EpaWLvprPHTL7AaNrA6zcOGs9rtfDgH+DYwKUuTZKjHNzDGvDlYIzJiBhbwYNErOjGDKg9yP1flYa/RfwXyceDl8vHEz9gdsT4FA6b4Fzn2ThM/P5ak/3ZFY5l1tb3cDKwmu/zn+hgW8L4fjzs7Vou/PHBUlibHNWn8c2CB1qexDvvnNeN1hhhD3qzvXWCFrAO3W6pVzIj6C1ZacS2wdZYmfc4aNV6NdepfYqhStZHE+bANNiHwErYNW93ZDp1kRAS2MQf/GqxA/jXsD76QdNxYvL4m9Qe3T2ct3FvV+bAkpQB3jnj3HVhDn9s7NUUjXszvh6UtzgbchW0PU9Ms9zBfayx20bAjpQD3OmzyYcTvFTyQ4dRTtmdkzed8WB87OSwC/BtrXlbeufxw4MfYSs0WWZpMKuA158VWqMZiAc9mAwWGsbb0Ruzz6fgsTY5s9LWLEi9QVwcebeVqaZzAmkDpwngcsPAgT8noX+P3RFZQd+U4njyYHVv2remUuu1e264aSWfNt07A0rjBJhT3GGzV39luAxm2RdX4ZmYHOduSawOq78E6lH8Bf23VuS9mUa2HTfzlgdkYSueaSm9Q+tt7AZvQKm/KlncdL3x1sZvEz5MlmDXYzf9/vipPm4HVlz6OdQXeFfuZulrLRGoc6/exUox/AMvXMqkXz7VjsH/XgnW8/Chsm5yPYZNUJ9ZxjI4Ua/rvxrazOjBLk1OcD7dhnw8/zdLk8HaOr9PE98yBwMVFlke0W88Hts6HXbHVkrmwNLQtsxHa5ruc8+HTgMdmuvMA909Y7fFtnRTgxguXMynNyl+IdcJsaqODuHqSB7h5Q68bsBXcYTf06mWu1AH3CKyhEozAi614sXodtso2Dbvw/43zYSesqRnA97I0OavA1xyL1RjOwwD7g8aA6R6sc+wlWMp+x7yvO4nz4eP0vxgeh138VTOZ/qtrjw+1mhkn6VaktIK3Qtm3p2MrylcA13VSyr7zYSPsXOriXedhW1X1CwCcDz/BJlDvw2re9Hc3iFgmtRz9//7GMGsDy9wblPaJ7viO8u0U329L0P/9PRb7bKzU9O7AcWLyeWzLte2yNLlygMeMBpam/5iXp/5JnHJPYNk+7xdwrI7hfPgecAY2afFd7HPqA2yLpa5fmZah9WxgG2cifgIcFu+6Fruw68k9DOvlfFiCUoCbb9p+F7aCe0u7L0hiA6+rsBnumcDBWI1my8blBt6CaRIW4FbdgqmXuQb2LO1VsYbz19g+l2CpXjtj76ufZ2lyUBNeM6/X6gM2zmK337hidh+WsndX/F7Xdbxst/j5U76yll9kLjrI015ggIAX+13kK7PLlT3+fayJ4ZVYMDul0H9EgZx1Vk6xfZ3B/q17ljeeiSu8z2PlIls30v9gpHPWpTnfrmks9ln7F+Csbmp+1oliwLs4swaOHwAHtaL8wPlwLHb+fBDbk7mylng5StdklaZigekr1F5XDjb52lCD0k4Vf6+XUeqlA9bkdfs2DUlarCcD23iB+Rts7zmwAPfIoToajmSxBvkw4FuUZgPvwVZwbx5uIOl8mAs7EVfOPC9B9VSrwcyJpVG+jXWvvrGOYxQidrw8AtiFUoB7Ixbg3l/1if2PMw/9u5COAz7ZwPBepH994FNF1JPEmvLK2e6VKa1mvU5p9WBEX2zFCbUfY5NFuauBbZv1+eN8+CWwB9aMZFXsvXI7tsfmM8DararJHCkq3hPl74vhvoffx7ZsugK4vtsyG5wPG2B122PiXedjAcFbzoeDscZqTwLjdN4V6S9Omk2meudnsC3lnqB/bfDkVvQk6FZxcu0hbL92gHWzHtvuUqrrucB2gJTA3bM0uWTwZ0nO+bA4FuDuRSnAvRdbwb0pD3Cd7YmZp06VX9gtQ//GLI16GqtbbNpWILWI3T5/iNXj5P/WP2AB7r1lj5uX6vtG1hPk12om8Cz9G5IM2AE2dv4eqD6p2urUa1jnVK0eVIglEOdiJ9fNmllDGld17sf2B74dq23eCptwWCsreM9tqS72XMjf8+WTVoth56MbsZXZ67s9qyF+vv0E2Bf7PHsR21P8TOzfu0e9DRpFRoKylP13Gbhx2GRNDNXH+bAqdj58CMtY6q1gR6rqqcC2oonLS1gwNCJTRRvlfFgMOBTrajl3vPt+7Oc6Dqv9GKj2B6wLbuUH9LNYzUM9nu/E2cm4ncPhWDOPPMC9DZtlHUepFm0gr2M/n1lOYlgwWqvKbRHyi+mFqjy+vAPsS5RW2AerJ8zof+J9pB1bFXSLGHBOa8WFSUyXf5BSk5RpwEaape4Mcfuc6Z22pVARnA/rARdQWh0B29JqjNLfRaqLabMLAW8qgC1ezI6b1onXj9I8PRPYxj/g54CPU2XbDamd8+GTwCFYR8zKlJkp9A/OHgNeGkmzY3Erh8OBr9N/tfoVBpiJbUY354oxjcLeC5WNJ8ZhEz/VPEf/3+eTqk3vfBWNqnbM0uSydo5HRo54/j0OOABbvT0kS5OT2zsqEREZaXomsAVwPmwCfAP4Vi/OjLdTbEazK7YSlAc9/x5JAexQYhr8TlhX4MewAPa19o6qv1jbkwe7n6C03UFL9+yU4sU9+94rb+Yj0irOhzWwveLPz9Kk3gwdERGRuvRUYCsiIiIiIiIjT7UaSREREREREZGuoMBWREREREREupoCWxEREREREelqCmxFRERERESkqymwFRERERERka6mwFZERERERES6mgJbERERERER6WoKbEVERERERKSrKbAVERERERGRrqbAVkRERERERLqaAlsRERERERHpav8P6sXF9oELcbkAAAAASUVORK5CYII=\" style=\"max-width: 800px; width: 100%;\"></div>\n",
       "</div>\n",
       "<h3>Data preview:</h3>\n",
       "<div>\n",
       "<style scoped>\n",
       "    .dataframe tbody tr th:only-of-type {\n",
       "        vertical-align: middle;\n",
       "    }\n",
       "\n",
       "    .dataframe tbody tr th {\n",
       "        vertical-align: top;\n",
       "    }\n",
       "\n",
       "    .dataframe thead th {\n",
       "        text-align: right;\n",
       "    }\n",
       "</style>\n",
       "<table border=\"1\" class=\"dataframe\">\n",
       "  <thead>\n",
       "    <tr style=\"text-align: right;\">\n",
       "      <th></th>\n",
       "      <th>count</th>\n",
       "    </tr>\n",
       "    <tr>\n",
       "      <th>value</th>\n",
       "      <th></th>\n",
       "    </tr>\n",
       "  </thead>\n",
       "  <tbody>\n",
       "    <tr>\n",
       "      <th>1875-01-01T00:00:00Z</th>\n",
       "      <td>1</td>\n",
       "    </tr>\n",
       "    <tr>\n",
       "      <th>1885-01-01T00:00:00Z</th>\n",
       "      <td>6</td>\n",
       "    </tr>\n",
       "    <tr>\n",
       "      <th>1886-01-01T00:00:00Z</th>\n",
       "      <td>4</td>\n",
       "    </tr>\n",
       "  </tbody>\n",
       "</table>\n",
       "</div>"
      ],
      "text/plain": [
       "<impresso.resources.search.FacetDataContainer at 0x11e2e4c10>"
      ]
     },
     "execution_count": 94,
     "metadata": {},
     "output_type": "execute_result"
    }
   ],
   "source": [
    "impresso.text_reuse.passages.facet(\n",
    "    \"daterange\",\n",
    "    term=\"banana\"\n",
    ")"
   ]
  },
  {
   "cell_type": "markdown",
   "metadata": {},
   "source": [
    "## yearmonth"
   ]
  },
  {
   "cell_type": "code",
   "execution_count": 95,
   "metadata": {},
   "outputs": [
    {
     "data": {
      "text/html": [
       "<div style=\"display: grid; grid-template-columns: minmax(200px, 1fr) auto;\">\n",
       "<div>\n",
       "<h2>Facet result</h2>\n",
       "<div>Contains <b>10</b> items (<b>0</b> - <b>10</b>) of <b>114</b> total items.</div>\n",
       "<br/>\n",
       "See this result in the <a href=\"https://impresso-project.ch/app/text-reuse/passages?sq=CgoYByoGYmFuYW5h&p=1\">Impresso App</a>.\n",
       "</div>\n",
       "<div style=\"align-content: center;\"><img src=\"data:image/png;base64,iVBORw0KGgoAAAANSUhEUgAAA7YAAABhCAYAAADiKT2SAAAAOXRFWHRTb2Z0d2FyZQBNYXRwbG90bGliIHZlcnNpb24zLjkuMiwgaHR0cHM6Ly9tYXRwbG90bGliLm9yZy8hTgPZAAAACXBIWXMAAA9hAAAPYQGoP6dpAAACy0lEQVR4nO3ZUW3DMABF0WYqkPAJoUIIofAJEw9A/tZM7t3OAWA9+ctXXsYYDwAAAKj6mj0AAAAA3iFsAQAASBO2AAAApAlbAAAA0oQtAAAAacIWAACANGELAABAmrAFAAAgTdgCAACQJmwBAABIE7YAAACkCVsAAADShC0AAABpz9kDAIDHY30dY/aGT3Pu2zJ7AwANfmwBAABIE7YAAACkCVsAAADShC0AAABpwhYAAIA0YQsAAECasAUAACBN2AIAAJAmbAEAAEgTtgAAAKQJWwAAANKELQAAAGnCFgAAgLTn7AHw362vY8ze8GnOfVvePcO9XrnX33HHvQIA7/FjCwAAQJqwBQAAIE3YAgAAkCZsAQAASBO2AAAApAlbAAAA0oQtAAAAacIWAACANGELAABAmrAFAAAgTdgCAACQJmwBAABIE7YAAACkCVsAAADShC0AAABpwhYAAIA0YQsAAECasAUAACBN2AIAAJAmbAEAAEgTtgAAAKQJWwAAANKELQAAAGnCFgAAgDRhCwAAQJqwBQAAIE3YAgAAkCZsAQAASBO2AAAApD1nD6BjfR1j9oZPc+7bMnsDAPA3eGtd3fXWcrdXf+0d68cWAACANGELAABAmrAFAAAgTdgCAACQJmwBAABIE7YAAACkCVsAAADShC0AAABpwhYAAIA0YQsAAECasAUAACBN2AIAAJAmbAEAAEh7zh5wt/V1jNkbPs25b8vsDQAwg3fB1R3vAvd65b0Fc/mxBQAAIE3YAgAAkCZsAQAASBO2AAAApAlbAAAA0oQtAAAAacIWAACANGELAABAmrAFAAAgTdgCAACQJmwBAABIE7YAAACkCVsAAADShC0AAABpyxhj9gYAAAD4MT+2AAAApAlbAAAA0oQtAAAAacIWAACANGELAABAmrAFAAAgTdgCAACQJmwBAABIE7YAAACkfQMqTC7DYA7mcAAAAABJRU5ErkJggg==\" style=\"max-width: 800px; width: 100%;\"></div>\n",
       "</div>\n",
       "<h3>Data preview:</h3>\n",
       "<div>\n",
       "<style scoped>\n",
       "    .dataframe tbody tr th:only-of-type {\n",
       "        vertical-align: middle;\n",
       "    }\n",
       "\n",
       "    .dataframe tbody tr th {\n",
       "        vertical-align: top;\n",
       "    }\n",
       "\n",
       "    .dataframe thead th {\n",
       "        text-align: right;\n",
       "    }\n",
       "</style>\n",
       "<table border=\"1\" class=\"dataframe\">\n",
       "  <thead>\n",
       "    <tr style=\"text-align: right;\">\n",
       "      <th></th>\n",
       "      <th>count</th>\n",
       "    </tr>\n",
       "    <tr>\n",
       "      <th>value</th>\n",
       "      <th></th>\n",
       "    </tr>\n",
       "  </thead>\n",
       "  <tbody>\n",
       "    <tr>\n",
       "      <th>1875-04</th>\n",
       "      <td>1</td>\n",
       "    </tr>\n",
       "    <tr>\n",
       "      <th>1885-02</th>\n",
       "      <td>2</td>\n",
       "    </tr>\n",
       "    <tr>\n",
       "      <th>1885-08</th>\n",
       "      <td>4</td>\n",
       "    </tr>\n",
       "  </tbody>\n",
       "</table>\n",
       "</div>"
      ],
      "text/plain": [
       "<impresso.resources.search.FacetDataContainer at 0x11d8ec810>"
      ]
     },
     "execution_count": 95,
     "metadata": {},
     "output_type": "execute_result"
    }
   ],
   "source": [
    "impresso.text_reuse.passages.facet(\n",
    "    \"yearmonth\",\n",
    "    term=\"banana\"\n",
    ")"
   ]
  },
  {
   "cell_type": "markdown",
   "metadata": {},
   "source": [
    "## year"
   ]
  },
  {
   "cell_type": "code",
   "execution_count": 96,
   "metadata": {},
   "outputs": [
    {
     "data": {
      "text/html": [
       "<div style=\"display: grid; grid-template-columns: minmax(200px, 1fr) auto;\">\n",
       "<div>\n",
       "<h2>Facet result</h2>\n",
       "<div>Contains <b>10</b> items (<b>0</b> - <b>10</b>) of <b>59</b> total items.</div>\n",
       "<br/>\n",
       "See this result in the <a href=\"https://impresso-project.ch/app/text-reuse/passages?sq=CgoYByoGYmFuYW5h&p=1\">Impresso App</a>.\n",
       "</div>\n",
       "<div style=\"align-content: center;\"><img src=\"data:image/png;base64,iVBORw0KGgoAAAANSUhEUgAAA7YAAABhCAYAAADiKT2SAAAAOXRFWHRTb2Z0d2FyZQBNYXRwbG90bGliIHZlcnNpb24zLjkuMiwgaHR0cHM6Ly9tYXRwbG90bGliLm9yZy8hTgPZAAAACXBIWXMAAA9hAAAPYQGoP6dpAAAC2klEQVR4nO3ZgYmkQABFwfMwEPMxoQnBhMzHTHoDEI5jZ5aet1MVgHwaQR+9jDH+AAAAQNXf2QMAAADgGcIWAACANGELAABAmrAFAAAgTdgCAACQJmwBAABIE7YAAACkCVsAAADShC0AAABpwhYAAIA0YQsAAECasAUAACBN2AIAAJC2zh4AQMf2OMfsDe/mOvZl9gYA/s336+63fb/c2AIAAJAmbAEAAEgTtgAAAKQJWwAAANKELQAAAGnCFgAAgDRhCwAAQJqwBQAAIE3YAgAAkLbOHkDH9jjH7A3v5jr2ZfYGAAD4dG5sAQAASBO2AAAApAlbAAAA0oQtAAAAacIWAACANGELAABAmrAFAAAgTdgCAACQJmwBAABIE7YAAACkCVsAAADShC0AAABpwhYAAIA0YQsAAECasAUAACBN2AIAAJAmbAEAAEgTtgAAAKQJWwAAANKELQAAAGnr7AHw6bbHOWZveDfXsS/PPsO53r3iXPk53tk77ywA/8uNLQAAAGnCFgAAgDRhCwAAQJqwBQAAIE3YAgAAkCZsAQAASBO2AAAApAlbAAAA0oQtAAAAacIWAACANGELAABAmrAFAAAgTdgCAACQJmwBAABIE7YAAACkCVsAAADShC0AAABpwhYAAIA0YQsAAECasAUAACBtnT0AAICW7XGO2RvezXXsy7PPcK53rzhXPoMbWwAAANKELQAAAGnCFgAAgDRhCwAAQJqwBQAAIE3YAgAAkCZsAQAASBO2AAAApAlbAAAA0oQtAAAAaevsAa+2Pc4xe8O7uY59mb0BAGbwX3DnvwD4jdzYAgAAkCZsAQAASBO2AAAApAlbAAAA0oQtAAAAacIWAACANGELAABAmrAFAAAgTdgCAACQtowxZm8AAACAb3NjCwAAQJqwBQAAIE3YAgAAkCZsAQAASBO2AAAApAlbAAAA0oQtAAAAacIWAACANGELAABA2hc3si7Fwp8zYAAAAABJRU5ErkJggg==\" style=\"max-width: 800px; width: 100%;\"></div>\n",
       "</div>\n",
       "<h3>Data preview:</h3>\n",
       "<div>\n",
       "<style scoped>\n",
       "    .dataframe tbody tr th:only-of-type {\n",
       "        vertical-align: middle;\n",
       "    }\n",
       "\n",
       "    .dataframe tbody tr th {\n",
       "        vertical-align: top;\n",
       "    }\n",
       "\n",
       "    .dataframe thead th {\n",
       "        text-align: right;\n",
       "    }\n",
       "</style>\n",
       "<table border=\"1\" class=\"dataframe\">\n",
       "  <thead>\n",
       "    <tr style=\"text-align: right;\">\n",
       "      <th></th>\n",
       "      <th>count</th>\n",
       "    </tr>\n",
       "    <tr>\n",
       "      <th>value</th>\n",
       "      <th></th>\n",
       "    </tr>\n",
       "  </thead>\n",
       "  <tbody>\n",
       "    <tr>\n",
       "      <th>1875</th>\n",
       "      <td>1</td>\n",
       "    </tr>\n",
       "    <tr>\n",
       "      <th>1885</th>\n",
       "      <td>6</td>\n",
       "    </tr>\n",
       "    <tr>\n",
       "      <th>1886</th>\n",
       "      <td>4</td>\n",
       "    </tr>\n",
       "  </tbody>\n",
       "</table>\n",
       "</div>"
      ],
      "text/plain": [
       "<impresso.resources.search.FacetDataContainer at 0x11e230950>"
      ]
     },
     "execution_count": 96,
     "metadata": {},
     "output_type": "execute_result"
    }
   ],
   "source": [
    "impresso.text_reuse.passages.facet(\n",
    "    \"year\",\n",
    "    term=\"banana\"\n",
    ")"
   ]
  },
  {
   "cell_type": "markdown",
   "metadata": {},
   "source": [
    "## connectedClusters"
   ]
  },
  {
   "cell_type": "code",
   "execution_count": 97,
   "metadata": {},
   "outputs": [
    {
     "data": {
      "text/html": [
       "<div style=\"display: grid; grid-template-columns: minmax(200px, 1fr) auto;\">\n",
       "<div>\n",
       "<h2>Facet result</h2>\n",
       "<div>Contains <b>10</b> items (<b>0</b> - <b>10</b>) of <b>704</b> total items.</div>\n",
       "<br/>\n",
       "See this result in the <a href=\"https://impresso-project.ch/app/text-reuse/passages?sq=CgoYByoGYmFuYW5h&p=1\">Impresso App</a>.\n",
       "</div>\n",
       "<div style=\"align-content: center;\"><img src=\"data:image/png;base64,iVBORw0KGgoAAAANSUhEUgAAA7YAAABhCAYAAADiKT2SAAAAOXRFWHRTb2Z0d2FyZQBNYXRwbG90bGliIHZlcnNpb24zLjkuMiwgaHR0cHM6Ly9tYXRwbG90bGliLm9yZy8hTgPZAAAACXBIWXMAAA9hAAAPYQGoP6dpAAACy0lEQVR4nO3ZwW2EMABFwRBRCP3QECXQ0PZDJ04BXKLsRt6XzBSAvnxAfvIyxvgAAACAqs/ZAwAAAOAZwhYAAIA0YQsAAECasAUAACBN2AIAAJAmbAEAAEgTtgAAAKQJWwAAANKELQAAAGnCFgAAgDRhCwAAQJqwBQAAIE3YAgAAkLbOHgBAx3Y8xuwN7+Y69+UV33G2d686W6jwH7jzH+C7vNgCAACQJmwBAABIE7YAAACkCVsAAADShC0AAABpwhYAAIA0YQsAAECasAUAACBN2AIAAJAmbAEAAEgTtgAAAKQJWwAAANKELQAAAGnCFgAAgDRhCwAAQJqwBQAAIE3YAgAAkLbOHgAAQMt2PMbsDe/mOvdl9gb4z7zYAgAAkCZsAQAASBO2AAAApAlbAAAA0oQtAAAAacIWAACANGELAABAmrAFAAAgTdgCAACQJmwBAABIE7YAAACkCVsAAADShC0AAABpwhYAAIA0YQsAAECasAUAACBN2AIAAJC2zh5Ax3Y8xuwN7+Y69+XZbzjXO+f6O15xrgBQ5F5w99fuBV5sAQAASBO2AAAApAlbAAAA0oQtAAAAacIWAACANGELAABAmrAFAAAgTdgCAACQJmwBAABIE7YAAACkCVsAAADShC0AAABpwhYAAIA0YQsAAECasAUAACBN2AIAAJAmbAEAAEgTtgAAAKStswe82nY8xuwN7+Y692X2BgCYwb3gzr0A+Iu82AIAAJAmbAEAAEgTtgAAAKQJWwAAANKELQAAAGnCFgAAgDRhCwAAQJqwBQAAIE3YAgAAkCZsAQAASBO2AAAApAlbAAAA0oQtAAAAacIWAACANGELAABAmrAFAAAgTdgCAACQtowxZm8AAACAH/NiCwAAQJqwBQAAIE3YAgAAkCZsAQAASBO2AAAApAlbAAAA0oQtAAAAacIWAACANGELAABA2heyty7D000OOwAAAABJRU5ErkJggg==\" style=\"max-width: 800px; width: 100%;\"></div>\n",
       "</div>\n",
       "<h3>Data preview:</h3>\n",
       "<div>\n",
       "<style scoped>\n",
       "    .dataframe tbody tr th:only-of-type {\n",
       "        vertical-align: middle;\n",
       "    }\n",
       "\n",
       "    .dataframe tbody tr th {\n",
       "        vertical-align: top;\n",
       "    }\n",
       "\n",
       "    .dataframe thead th {\n",
       "        text-align: right;\n",
       "    }\n",
       "</style>\n",
       "<table border=\"1\" class=\"dataframe\">\n",
       "  <thead>\n",
       "    <tr style=\"text-align: right;\">\n",
       "      <th></th>\n",
       "      <th>count</th>\n",
       "    </tr>\n",
       "    <tr>\n",
       "      <th>value</th>\n",
       "      <th></th>\n",
       "    </tr>\n",
       "  </thead>\n",
       "  <tbody>\n",
       "    <tr>\n",
       "      <th>tr-nobp-all-v01-c103079272734</th>\n",
       "      <td>1</td>\n",
       "    </tr>\n",
       "    <tr>\n",
       "      <th>tr-nobp-all-v01-c103079380099</th>\n",
       "      <td>2</td>\n",
       "    </tr>\n",
       "    <tr>\n",
       "      <th>tr-nobp-all-v01-c103079398811</th>\n",
       "      <td>2</td>\n",
       "    </tr>\n",
       "  </tbody>\n",
       "</table>\n",
       "</div>"
      ],
      "text/plain": [
       "<impresso.resources.search.FacetDataContainer at 0x11e22e2d0>"
      ]
     },
     "execution_count": 97,
     "metadata": {},
     "output_type": "execute_result"
    }
   ],
   "source": [
    "impresso.text_reuse.passages.facet(\n",
    "    \"connectedClusters\",\n",
    "    term=\"banana\"\n",
    ")"
   ]
  },
  {
   "cell_type": "markdown",
   "metadata": {},
   "source": [
    "## textReuseClusterSize"
   ]
  },
  {
   "cell_type": "code",
   "execution_count": 98,
   "metadata": {},
   "outputs": [
    {
     "data": {
      "text/html": [
       "<div style=\"display: grid; grid-template-columns: minmax(200px, 1fr) auto;\">\n",
       "<div>\n",
       "<h2>Facet result</h2>\n",
       "<div>Contains <b>200</b> items of <b>200</b> total items.</div>\n",
       "<br/>\n",
       "See this result in the <a href=\"https://impresso-project.ch/app/text-reuse/passages?sq=CgoYByoGYmFuYW5h&p=1\">Impresso App</a>.\n",
       "</div>\n",
       "<div style=\"align-content: center;\"><img src=\"data:image/png;base64,iVBORw0KGgoAAAANSUhEUgAAA7YAAABhCAYAAADiKT2SAAAAOXRFWHRTb2Z0d2FyZQBNYXRwbG90bGliIHZlcnNpb24zLjkuMiwgaHR0cHM6Ly9tYXRwbG90bGliLm9yZy8hTgPZAAAACXBIWXMAAA9hAAAPYQGoP6dpAAAEo0lEQVR4nO3dMY5cRRCA4VpsI2RLpp3YEtEkSL4DR9iQmAsQEc4R5gIQcI+5AlcgnQyZhAZhhGSsIaDXSwz7uvSqv08a1Uy0lf6qN7M31+s1AAAAYK8+yl4AAAAA/g9hCwAAwK4JWwAAAHZN2AIAALBrwhYAAIBdE7YAAADsmrAFAABg14QtAAAAuyZsAQAA2DVhCwAAwK4JWwAAAHbtcfYCD+lwPH8dEZ9HxPeX0+2P2fsAAACwvWoX268i4puIeJ28BwAAAJNUC9s+5qeZSwAAADBP1bBtiTsAAAAwUbWw/XVMF1sAAIBFVAvbPmZL3AEAAICJqoWtiy0AAMBiqoVtH7Ml7gAAAMBE1cL27mLbMpcAAABgnmph28f0KDIAAMAiqoWtiy0AAMBiqoVtH9PFFgAAYBHVwvbDxfZwPN+kbgIAAMAU1cK2j/koIp4m7gEAAMAk1cL2bUS8H+9b4h4AAABMUipsL6fba9w/jux7tgAAAAsoFbZDH7Ml7gAAAMAkFcPWxRYAAGAhFcO2j9kSdwAAAGCSimHrYgsAALCQimHbx2yJOwAAADBJxbB1sQUAAFhIxbDtY7bEHQAAAJikYti62AIAACykYtj2MVviDgAAAExSMWzvLrYtcwkAAADmqBi2fUyPIgMAACygcti2xB0AAACYpGLY+vEoAACAhVQM2z7ms8Px/CRzEQAAALZXMWx/+9f752lbAAAAMEW5sL2cbt9FxNvxsSWuAgAAwATlwnbwPVsAAIBFVA3bPmZL3AEAAIAJqoatiy0AAMAiqoZtH7Ml7gAAAMAEVcPWxRYAAGARVcO2j9kSdwAAAGCCqmHrYgsAALCIqmHbx2yJOwAAADCBsAUAAGDXqoatR5EBAAAWUTVs+5gtcQcAAAAmqBq2LrYAAACLqBq2fcyWuAMAAAATVA3bDxfbw/F8k7oJAAAAm6oatn3MRxHxLHEPAAAANlY1bP+IiPfjve/ZAgAAFFYybC+n22v4ni0AAMASSobt4JeRAQAAFlA5bPuYLXEHAAAANlY5bF1sAQAAFlA5bPuYLXEHAAAANrZC2LrYAgAAFFY5bO8eRW6ZSwAAALCtymHbx3SxBQAAKKxy2LrYAgAALKBy2PYxW+IOAAAAbKxy2Pp3PwAAAAuoHLZ9zJa4AwAAABurHLYutgAAAAuoHLZ9zJa4AwAAABurHLZ3F9unh+P5SeomAAAAbGaFsI3wODIAAEBZZcP2crr9KyJ+Hx+FLQAAQFFlw3a4u9q2zCUAAADYTvWw7WO62AIAABRVPWxdbAEAAIqrHrZ9TBdbAACAoqqHrYstAABAcY+zF9hYH/PLw/H82eS//UlEvIyIV+P1IiJ+iYifI+LNeP05eScAAICIiMvldPtt9hIPpXrY/jTmF+OV7VVEvM5eAgAAWN4PESFsd+K7MZ8n/O13cX+ZfRP/XGtfxP0F92VEfJywFwAAwCV7gYd0c71es3cAAACA/6z6j0cBAABQnLAFAABg14QtAAAAuyZsAQAA2DVhCwAAwK4JWwAAAHZN2AIAALBrwhYAAIBdE7YAAADsmrAFAABg14QtAAAAu/Y3gWV3BGGLgWMAAAAASUVORK5CYII=\" style=\"max-width: 800px; width: 100%;\"></div>\n",
       "</div>\n",
       "<h3>Data preview:</h3>\n",
       "<div>\n",
       "<style scoped>\n",
       "    .dataframe tbody tr th:only-of-type {\n",
       "        vertical-align: middle;\n",
       "    }\n",
       "\n",
       "    .dataframe tbody tr th {\n",
       "        vertical-align: top;\n",
       "    }\n",
       "\n",
       "    .dataframe thead th {\n",
       "        text-align: right;\n",
       "    }\n",
       "</style>\n",
       "<table border=\"1\" class=\"dataframe\">\n",
       "  <thead>\n",
       "    <tr style=\"text-align: right;\">\n",
       "      <th></th>\n",
       "      <th>count</th>\n",
       "    </tr>\n",
       "    <tr>\n",
       "      <th>value</th>\n",
       "      <th></th>\n",
       "    </tr>\n",
       "  </thead>\n",
       "  <tbody>\n",
       "    <tr>\n",
       "      <th>2</th>\n",
       "      <td>368</td>\n",
       "    </tr>\n",
       "    <tr>\n",
       "      <th>252</th>\n",
       "      <td>0</td>\n",
       "    </tr>\n",
       "    <tr>\n",
       "      <th>502</th>\n",
       "      <td>0</td>\n",
       "    </tr>\n",
       "  </tbody>\n",
       "</table>\n",
       "</div>"
      ],
      "text/plain": [
       "<impresso.resources.search.FacetDataContainer at 0x11e3806d0>"
      ]
     },
     "execution_count": 98,
     "metadata": {},
     "output_type": "execute_result"
    }
   ],
   "source": [
    "impresso.text_reuse.passages.facet(\n",
    "    \"textReuseClusterSize\",\n",
    "    term=\"banana\"\n",
    ")"
   ]
  },
  {
   "cell_type": "markdown",
   "metadata": {},
   "source": [
    "## textReuseClusterLexicalOverlap"
   ]
  },
  {
   "cell_type": "code",
   "execution_count": 99,
   "metadata": {},
   "outputs": [
    {
     "data": {
      "text/html": [
       "<div style=\"display: grid; grid-template-columns: minmax(200px, 1fr) auto;\">\n",
       "<div>\n",
       "<h2>Facet result</h2>\n",
       "<div>Contains <b>100</b> items of <b>100</b> total items.</div>\n",
       "<br/>\n",
       "See this result in the <a href=\"https://impresso-project.ch/app/text-reuse/passages?sq=CgoYByoGYmFuYW5h&p=1\">Impresso App</a>.\n",
       "</div>\n",
       "<div style=\"align-content: center;\"><img src=\"data:image/png;base64,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\" style=\"max-width: 800px; width: 100%;\"></div>\n",
       "</div>\n",
       "<h3>Data preview:</h3>\n",
       "<div>\n",
       "<style scoped>\n",
       "    .dataframe tbody tr th:only-of-type {\n",
       "        vertical-align: middle;\n",
       "    }\n",
       "\n",
       "    .dataframe tbody tr th {\n",
       "        vertical-align: top;\n",
       "    }\n",
       "\n",
       "    .dataframe thead th {\n",
       "        text-align: right;\n",
       "    }\n",
       "</style>\n",
       "<table border=\"1\" class=\"dataframe\">\n",
       "  <thead>\n",
       "    <tr style=\"text-align: right;\">\n",
       "      <th></th>\n",
       "      <th>count</th>\n",
       "    </tr>\n",
       "    <tr>\n",
       "      <th>value</th>\n",
       "      <th></th>\n",
       "    </tr>\n",
       "  </thead>\n",
       "  <tbody>\n",
       "    <tr>\n",
       "      <th>0</th>\n",
       "      <td>2</td>\n",
       "    </tr>\n",
       "    <tr>\n",
       "      <th>1</th>\n",
       "      <td>1</td>\n",
       "    </tr>\n",
       "    <tr>\n",
       "      <th>2</th>\n",
       "      <td>0</td>\n",
       "    </tr>\n",
       "  </tbody>\n",
       "</table>\n",
       "</div>"
      ],
      "text/plain": [
       "<impresso.resources.search.FacetDataContainer at 0x11d831ad0>"
      ]
     },
     "execution_count": 99,
     "metadata": {},
     "output_type": "execute_result"
    }
   ],
   "source": [
    "impresso.text_reuse.passages.facet(\n",
    "    \"textReuseClusterLexicalOverlap\",\n",
    "    term=\"banana\"\n",
    ")"
   ]
  },
  {
   "cell_type": "markdown",
   "metadata": {},
   "source": [
    "## textReuseClusterDayDelta"
   ]
  },
  {
   "cell_type": "code",
   "execution_count": 100,
   "metadata": {},
   "outputs": [
    {
     "data": {
      "text/html": [
       "<div style=\"display: grid; grid-template-columns: minmax(200px, 1fr) auto;\">\n",
       "<div>\n",
       "<h2>Facet result</h2>\n",
       "<div>Contains <b>800</b> items of <b>800</b> total items.</div>\n",
       "<br/>\n",
       "See this result in the <a href=\"https://impresso-project.ch/app/text-reuse/passages?sq=CgoYByoGYmFuYW5h&p=1\">Impresso App</a>.\n",
       "</div>\n",
       "<div style=\"align-content: center;\"><img src=\"data:image/png;base64,iVBORw0KGgoAAAANSUhEUgAAA7YAAABhCAYAAADiKT2SAAAAOXRFWHRTb2Z0d2FyZQBNYXRwbG90bGliIHZlcnNpb24zLjkuMiwgaHR0cHM6Ly9tYXRwbG90bGliLm9yZy8hTgPZAAAACXBIWXMAAA9hAAAPYQGoP6dpAAADvElEQVR4nO3dsW5bdQDF4eOmrYQqUZjoBM6QMtIyIfEIHti79AE6IRZLfQG/QLoi+ghI3plYmeiSxWRjqohQVVEaM8SIDO2E45tz/X3LvVe2pbP+9Ld0J+v1OgAAANDqxtADAAAA4P8QtgAAAFQTtgAAAFQTtgAAAFQTtgAAAFQTtgAAAFQTtgAAAFQTtgAAAFQTtgAAAFQTtgAAAFQTtgAAAFS7OfSAbZrOl0+SHCb5frWY/Tr0HgAAAK7e2E5sHyX5LsnR0EMAAADYjbGF7d+b66hOogEAAHg/YQsAAEA1YQsAAEA1YQsAAEA1YQsAAEA1YQsAAEA1YQsAAEA1YQsAAEA1YQsAAEA1YQsAAEA1YQsAAEA1YQsAAEA1YQsAAEA1YQsAAEA1YQsAAEA1YQsAAEA1YQsAAEA1YQsAAEA1YQsAAEA1YQsAAEA1YQsAAEA1YQsAAEA1YQsAAEA1YQsAAEA1YQsAAEA1YQsAAEA1YQsAAEA1YQsAAEA1YQsAAEA1YQsAAEA1YQsAAEA1YQsAAEA1YQsAAEA1YQsAAEA1YQsAAEA1YQsAAEA1YQsAAEA1YQsAAEA1YQsAAEA1YQsAAEA1YQsAAEA1YQsAAEA1YQsAAEC1sYbtwXS+nAy6BAAAgJ0Ya9gmycFgKwAAANiZMYetvyMDAADsAWELAABANWELAABAtbGF7dtL98IWAABgD4wqbFeL2XmS882jsAUAANgDowrbDe+yBQAA2CPCFgAAgGrCFgAAgGrCFgAAgGrCFgAAgGrCFgAAgGrCFgAAgGrCFgAAgGrCFgAAgGrCFgAAgGrCFgAAgGrCFgAAgGrCFgAAgGrCFgAAgGrCFgAAgGrCFgAAgGpjjL9/w/Z2kkzny0mSz5OcrBazt4OtAgAA4EqMMWxPN9cfpvPl4yQfJfkyybMkTy5/cRO9nyQ5Wy1mr3Y5EgAAgO2YrNfroTds1XS+/DTJiyR33vHxcZI3SY6S/JXkQZLDJGdJnid5neReko+TnOS/098xup/kYZKfkvw+7BQAAGDHVqvF7HjoEdsyurBNkul8+SjJ01xE6t0kB8MuAgAAuFZ+Xi1mXw89YltGGbaXTefLD3IRtt8m+TDJOslvm/vTJD8m+SbJF5uf/JHkZZLPkkx2vXeH/kzyS5KvktwaeAsAALBbTmwBAADguhjj634AAADYI8IWAACAasIWAACAasIWAACAasIWAACAasIWAACAasIWAACAasIWAACAasIWAACAasIWAACAasIWAACAav8AUf2MG4D25isAAAAASUVORK5CYII=\" style=\"max-width: 800px; width: 100%;\"></div>\n",
       "</div>\n",
       "<h3>Data preview:</h3>\n",
       "<div>\n",
       "<style scoped>\n",
       "    .dataframe tbody tr th:only-of-type {\n",
       "        vertical-align: middle;\n",
       "    }\n",
       "\n",
       "    .dataframe tbody tr th {\n",
       "        vertical-align: top;\n",
       "    }\n",
       "\n",
       "    .dataframe thead th {\n",
       "        text-align: right;\n",
       "    }\n",
       "</style>\n",
       "<table border=\"1\" class=\"dataframe\">\n",
       "  <thead>\n",
       "    <tr style=\"text-align: right;\">\n",
       "      <th></th>\n",
       "      <th>count</th>\n",
       "    </tr>\n",
       "    <tr>\n",
       "      <th>value</th>\n",
       "      <th></th>\n",
       "    </tr>\n",
       "  </thead>\n",
       "  <tbody>\n",
       "    <tr>\n",
       "      <th>0</th>\n",
       "      <td>331</td>\n",
       "    </tr>\n",
       "    <tr>\n",
       "      <th>100</th>\n",
       "      <td>11</td>\n",
       "    </tr>\n",
       "    <tr>\n",
       "      <th>200</th>\n",
       "      <td>3</td>\n",
       "    </tr>\n",
       "  </tbody>\n",
       "</table>\n",
       "</div>"
      ],
      "text/plain": [
       "<impresso.resources.search.FacetDataContainer at 0x11e3a1150>"
      ]
     },
     "execution_count": 100,
     "metadata": {},
     "output_type": "execute_result"
    }
   ],
   "source": [
    "impresso.text_reuse.passages.facet(\n",
    "    \"textReuseClusterDayDelta\",\n",
    "    term=\"banana\"\n",
    ")"
   ]
  },
  {
   "cell_type": "markdown",
   "metadata": {},
   "source": [
    "## textReuseCluster"
   ]
  },
  {
   "cell_type": "code",
   "execution_count": 101,
   "metadata": {},
   "outputs": [
    {
     "data": {
      "text/html": [
       "<div style=\"display: grid; grid-template-columns: minmax(200px, 1fr) auto;\">\n",
       "<div>\n",
       "<h2>Facet result</h2>\n",
       "<div>Contains <b>10</b> items (<b>0</b> - <b>10</b>) of <b>190</b> total items.</div>\n",
       "<br/>\n",
       "See this result in the <a href=\"https://impresso-project.ch/app/text-reuse/passages?sq=CgoYByoGYmFuYW5h&p=1\">Impresso App</a>.\n",
       "</div>\n",
       "<div style=\"align-content: center;\"><img src=\"data:image/png;base64,iVBORw0KGgoAAAANSUhEUgAAA7YAAABhCAYAAADiKT2SAAAAOXRFWHRTb2Z0d2FyZQBNYXRwbG90bGliIHZlcnNpb24zLjkuMiwgaHR0cHM6Ly9tYXRwbG90bGliLm9yZy8hTgPZAAAACXBIWXMAAA9hAAAPYQGoP6dpAAACv0lEQVR4nO3Z0YnDMBBAwfORQtKPG3IJbij9pBNdAf672MgvzBQgFiEWHlrGGD8AAABQ9Tt7AAAAAPiEsAUAACBN2AIAAJAmbAEAAEgTtgAAAKQJWwAAANKELQAAAGnCFgAAgDRhCwAAQJqwBQAAIE3YAgAAkCZsAQAASBO2AAAApD1mDwBwhef2GrNnuJv3vi6zZwC+gx17ZMfCXH5sAQAASBO2AAAApAlbAAAA0oQtAAAAacIWAACANGELAABAmrAFAAAgTdgCAACQJmwBAABIE7YAAACkCVsAAADShC0AAABpwhYAAIA0YQsAAECasAUAACBN2AIAAJAmbAEAAEgTtgAAAKQJWwAAANKELQAAAGnCFgAAgDRhCwAAQJqwBQAAIO0xewA6nttrzJ7hbt77unx6hns9OuNeuYb3enTWe3W3R3bsNezY+/Jej+zY63zbLvBjCwAAQJqwBQAAIE3YAgAAkCZsAQAASBO2AAAApAlbAAAA0oQtAAAAacIWAACANGELAABAmrAFAAAgTdgCAACQJmwBAABIE7YAAACkCVsAAADShC0AAABpwhYAAIA0YQsAAECasAUAACBN2AIAAJAmbAEAAEgTtgAAAKQJWwAAANKELQAAAGnCFgAAgLTH7AHO9txeY/YMd/Pe12X2DAAAAFfxYwsAAECasAUAACBN2AIAAJAmbAEAAEgTtgAAAKQJWwAAANKELQAAAGnCFgAAgDRhCwAAQJqwBQAAIE3YAgAAkCZsAQAASBO2AAAApAlbAAAA0oQtAAAAacIWAACANGELAABAmrAFAAAgTdgCAACQJmwBAABIE7YAAACkCVsAAADShC0AAABpyxhj9gwAAADwb35sAQAASBO2AAAApAlbAAAA0oQtAAAAacIWAACANGELAABAmrAFAAAgTdgCAACQJmwBAABI+wN6Ky7BSfl3bwAAAABJRU5ErkJggg==\" style=\"max-width: 800px; width: 100%;\"></div>\n",
       "</div>\n",
       "<h3>Data preview:</h3>\n",
       "<div>\n",
       "<style scoped>\n",
       "    .dataframe tbody tr th:only-of-type {\n",
       "        vertical-align: middle;\n",
       "    }\n",
       "\n",
       "    .dataframe tbody tr th {\n",
       "        vertical-align: top;\n",
       "    }\n",
       "\n",
       "    .dataframe thead th {\n",
       "        text-align: right;\n",
       "    }\n",
       "</style>\n",
       "<table border=\"1\" class=\"dataframe\">\n",
       "  <thead>\n",
       "    <tr style=\"text-align: right;\">\n",
       "      <th></th>\n",
       "      <th>count</th>\n",
       "    </tr>\n",
       "    <tr>\n",
       "      <th>value</th>\n",
       "      <th></th>\n",
       "    </tr>\n",
       "  </thead>\n",
       "  <tbody>\n",
       "    <tr>\n",
       "      <th>tr-nobp-all-v01-c103079380099</th>\n",
       "      <td>1</td>\n",
       "    </tr>\n",
       "    <tr>\n",
       "      <th>tr-nobp-all-v01-c103079398811</th>\n",
       "      <td>2</td>\n",
       "    </tr>\n",
       "    <tr>\n",
       "      <th>tr-nobp-all-v01-c103079416187</th>\n",
       "      <td>2</td>\n",
       "    </tr>\n",
       "  </tbody>\n",
       "</table>\n",
       "</div>"
      ],
      "text/plain": [
       "<impresso.resources.search.FacetDataContainer at 0x11e0fc250>"
      ]
     },
     "execution_count": 101,
     "metadata": {},
     "output_type": "execute_result"
    }
   ],
   "source": [
    "impresso.text_reuse.passages.facet(\n",
    "    \"textReuseCluster\",\n",
    "    term=\"banana\"\n",
    ")"
   ]
  },
  {
   "cell_type": "markdown",
   "metadata": {},
   "source": [
    "## collection"
   ]
  },
  {
   "cell_type": "code",
   "execution_count": 102,
   "metadata": {},
   "outputs": [
    {
     "data": {
      "text/html": [
       "<div style=\"display: grid; \">\n",
       "<div>\n",
       "<h2>Facet result</h2>\n",
       "<div>Contains <b>0</b> items of <b>0</b> total items.</div>\n",
       "<br/>\n",
       "See this result in the <a href=\"https://impresso-project.ch/app/text-reuse/passages?sq=CgoYByoGYmFuYW5h&p=1\">Impresso App</a>.\n",
       "</div>\n",
       "</div>\n",
       "<h3>Data preview:</h3>\n",
       "<div>\n",
       "<style scoped>\n",
       "    .dataframe tbody tr th:only-of-type {\n",
       "        vertical-align: middle;\n",
       "    }\n",
       "\n",
       "    .dataframe tbody tr th {\n",
       "        vertical-align: top;\n",
       "    }\n",
       "\n",
       "    .dataframe thead th {\n",
       "        text-align: right;\n",
       "    }\n",
       "</style>\n",
       "<table border=\"1\" class=\"dataframe\">\n",
       "  <thead>\n",
       "    <tr style=\"text-align: right;\">\n",
       "      <th></th>\n",
       "    </tr>\n",
       "  </thead>\n",
       "  <tbody>\n",
       "  </tbody>\n",
       "</table>\n",
       "</div>"
      ],
      "text/plain": [
       "<impresso.resources.search.FacetDataContainer at 0x11e28c190>"
      ]
     },
     "execution_count": 102,
     "metadata": {},
     "output_type": "execute_result"
    }
   ],
   "source": [
    "impresso.text_reuse.passages.facet(\n",
    "    \"collection\",\n",
    "    term=\"banana\"\n",
    ")"
   ]
  },
  {
   "cell_type": "markdown",
   "metadata": {},
   "source": [
    "## topic"
   ]
  },
  {
   "cell_type": "code",
   "execution_count": 103,
   "metadata": {},
   "outputs": [
    {
     "data": {
      "text/html": [
       "<div style=\"display: grid; grid-template-columns: minmax(200px, 1fr) auto;\">\n",
       "<div>\n",
       "<h2>Facet result</h2>\n",
       "<div>Contains <b>10</b> items (<b>0</b> - <b>10</b>) of <b>147</b> total items.</div>\n",
       "<br/>\n",
       "See this result in the <a href=\"https://impresso-project.ch/app/text-reuse/passages?sq=CgoYByoGYmFuYW5h&p=1\">Impresso App</a>.\n",
       "</div>\n",
       "<div style=\"align-content: center;\"><img src=\"data:image/png;base64,iVBORw0KGgoAAAANSUhEUgAAA7YAAABhCAYAAADiKT2SAAAAOXRFWHRTb2Z0d2FyZQBNYXRwbG90bGliIHZlcnNpb24zLjkuMiwgaHR0cHM6Ly9tYXRwbG90bGliLm9yZy8hTgPZAAAACXBIWXMAAA9hAAAPYQGoP6dpAAACz0lEQVR4nO3dwW3CQBBA0TiiEPqhIUqgIfqhk00BewgoRutP3qtgDtZKXyN5tjHGFwAAAFR9rx4AAAAA/kLYAgAAkCZsAQAASBO2AAAApAlbAAAA0oQtAAAAacIWAACANGELAABAmrAFAAAgTdgCAACQJmwBAABIE7YAAACkCVsAAADSTqsH2Nv5eh+rZziax+2yrZ4BAADgXWxsAQAASBO2AAAApAlbAAAA0oQtAAAAacIWAACANGELAABAmrAFAAAgTdgCAACQJmwBAABIE7YAAACkCVsAAADShC0AAABpwhYAAIC00+oBAADe5Xy9j9UzHM3jdtlWzwCwNxtbAAAA0oQtAAAAacIWAACANGELAABAmrAFAAAgTdgCAACQJmwBAABIE7YAAACkCVsAAADShC0AAABpwhYAAIA0YQsAAECasAUAACBN2AIAAJAmbAEAAEgTtgAAAKQJWwAAANKELQAAAGnCFgAAgDRhCwAAQJqwBQAAIE3YAgAAkCZsAQAASBO2AAAApAlbAAAA0oQtAAAAacIWAACANGELAABAmrAFAAAg7bR6APjvztf7WD3D0Txul231DAAAdNjYAgAAkCZsAQAASBO2AAAApAlbAAAA0oQtAAAAacIWAACANOd+AAB4iVN1M6fqYC0bWwAAANKELQAAAGnCFgAAgDRhCwAAQJqwBQAAIE3YAgAAkObcD/CRnKKYOUVxbL7ZmW8W2Is3dvZpb6yNLQAAAGnCFgAAgDRhCwAAQJqwBQAAIE3YAgAAkCZsAQAASBO2AAAApLljy9Pc/5p92v0v+I13YOYdAPbijZ15Y3mWjS0AAABpwhYAAIA0YQsAAECasAUAACBN2AIAAJAmbAEAAEjbxvBXcQAAALpsbAEAAEgTtgAAAKQJWwAAANKELQAAAGnCFgAAgDRhCwAAQJqwBQAAIE3YAgAAkCZsAQAASPsBFsUux/vdsVIAAAAASUVORK5CYII=\" style=\"max-width: 800px; width: 100%;\"></div>\n",
       "</div>\n",
       "<h3>Data preview:</h3>\n",
       "<div>\n",
       "<style scoped>\n",
       "    .dataframe tbody tr th:only-of-type {\n",
       "        vertical-align: middle;\n",
       "    }\n",
       "\n",
       "    .dataframe tbody tr th {\n",
       "        vertical-align: top;\n",
       "    }\n",
       "\n",
       "    .dataframe thead th {\n",
       "        text-align: right;\n",
       "    }\n",
       "</style>\n",
       "<table border=\"1\" class=\"dataframe\">\n",
       "  <thead>\n",
       "    <tr style=\"text-align: right;\">\n",
       "      <th></th>\n",
       "      <th>count</th>\n",
       "      <th>label</th>\n",
       "    </tr>\n",
       "    <tr>\n",
       "      <th>value</th>\n",
       "      <th></th>\n",
       "      <th></th>\n",
       "    </tr>\n",
       "  </thead>\n",
       "  <tbody>\n",
       "    <tr>\n",
       "      <th>tm-de-all-v2.0_tp01_de</th>\n",
       "      <td>10</td>\n",
       "      <td>new (0.03594), york (0.02121), spanien (0.0209...</td>\n",
       "    </tr>\n",
       "    <tr>\n",
       "      <th>tm-de-all-v2.0_tp05_de</th>\n",
       "      <td>1</td>\n",
       "      <td>antrag (0.03065), rat (0.02829), kommission (0...</td>\n",
       "    </tr>\n",
       "    <tr>\n",
       "      <th>tm-de-all-v2.0_tp07_de</th>\n",
       "      <td>4</td>\n",
       "      <td>arbeiter (0.07288), arbeit (0.03175), arbeiter...</td>\n",
       "    </tr>\n",
       "  </tbody>\n",
       "</table>\n",
       "</div>"
      ],
      "text/plain": [
       "<impresso.resources.search.FacetDataContainer at 0x11e33ffd0>"
      ]
     },
     "execution_count": 103,
     "metadata": {},
     "output_type": "execute_result"
    }
   ],
   "source": [
    "impresso.text_reuse.passages.facet(\"topic\", term=\"banana\")"
   ]
  },
  {
   "cell_type": "markdown",
   "metadata": {},
   "source": [
    "## person"
   ]
  },
  {
   "cell_type": "code",
   "execution_count": 104,
   "metadata": {},
   "outputs": [
    {
     "data": {
      "text/html": [
       "<div style=\"display: grid; grid-template-columns: minmax(200px, 1fr) auto;\">\n",
       "<div>\n",
       "<h2>Facet result</h2>\n",
       "<div>Contains <b>10</b> items (<b>0</b> - <b>10</b>) of <b>535</b> total items.</div>\n",
       "<br/>\n",
       "See this result in the <a href=\"https://impresso-project.ch/app/text-reuse/passages?sq=CgoYByoGYmFuYW5h&p=1\">Impresso App</a>.\n",
       "</div>\n",
       "<div style=\"align-content: center;\"><img src=\"data:image/png;base64,iVBORw0KGgoAAAANSUhEUgAAA7YAAABhCAYAAADiKT2SAAAAOXRFWHRTb2Z0d2FyZQBNYXRwbG90bGliIHZlcnNpb24zLjkuMiwgaHR0cHM6Ly9tYXRwbG90bGliLm9yZy8hTgPZAAAACXBIWXMAAA9hAAAPYQGoP6dpAAACwElEQVR4nO3Z0WnDMABF0bpkEO+ThTKCF8o+3kQdwD+hcSpfes4A5iGM4KJljPEFAAAAVd+zBwAAAMA7hC0AAABpwhYAAIA0YQsAAECasAUAACBN2AIAAJAmbAEAAEgTtgAAAKQJWwAAANKELQAAAGnCFgAAgDRhCwAAQJqwBQAAIO02ewD8d+vjOWZvuJp9uy+zN8BfcxccuQsAeJUXWwAAANKELQAAAGnCFgAAgDRhCwAAQJqwBQAAIE3YAgAAkCZsAQAASBO2AAAApAlbAAAA0oQtAAAAacIWAACANGELAABAmrAFAAAgTdgCAACQJmwBAABIE7YAAACkCVsAAADSbrMHAAAAfNL6eI7ZG65m3+7L7A1n8mILAABAmrAFAAAgTdgCAACQJmwBAABIE7YAAACkCVsAAADShC0AAABpwhYAAIA0YQsAAECasAUAACBN2AIAAJAmbAEAAEgTtgAAAKQJWwAAANKELQAAAGnCFgAAgDRhCwAAQNpt9oCzrY/nmL3havbtvpzxHWd7dNbZcj7/69EZ/6tzPXIPXJt/9shd8BnO9TPcsbzKiy0AAABpwhYAAIA0YQsAAECasAUAACBN2AIAAJAmbAEAAEgTtgAAAKQJWwAAANKELQAAAGnCFgAAgDRhCwAAQJqwBQAAIE3YAgAAkCZsAQAASBO2AAAApAlbAAAA0oQtAAAAacIWAACANGELAABAmrAFAAAgTdgCAACQJmwBAABIE7YAAACkCVsAAADShC0AAABpwhYAAIA0YQsAAECasAUAACBN2AIAAJAmbAEAAEgTtgAAAKQJWwAAANKELQAAAGnCFgAAgDRhCwAAQJqwBQAAIG0ZY8zeAAAAAL/mxRYAAIA0YQsAAECasAUAACBN2AIAAJAmbAEAAEgTtgAAAKQJWwAAANKELQAAAGnCFgAAgLQfQgsuwXtybxcAAAAASUVORK5CYII=\" style=\"max-width: 800px; width: 100%;\"></div>\n",
       "</div>\n",
       "<h3>Data preview:</h3>\n",
       "<div>\n",
       "<style scoped>\n",
       "    .dataframe tbody tr th:only-of-type {\n",
       "        vertical-align: middle;\n",
       "    }\n",
       "\n",
       "    .dataframe tbody tr th {\n",
       "        vertical-align: top;\n",
       "    }\n",
       "\n",
       "    .dataframe thead th {\n",
       "        text-align: right;\n",
       "    }\n",
       "</style>\n",
       "<table border=\"1\" class=\"dataframe\">\n",
       "  <thead>\n",
       "    <tr style=\"text-align: right;\">\n",
       "      <th></th>\n",
       "      <th>count</th>\n",
       "      <th>label</th>\n",
       "    </tr>\n",
       "    <tr>\n",
       "      <th>value</th>\n",
       "      <th></th>\n",
       "      <th></th>\n",
       "    </tr>\n",
       "  </thead>\n",
       "  <tbody>\n",
       "    <tr>\n",
       "      <th>aida-0001-50-1967–68_Los_Angeles_Kings_season</th>\n",
       "      <td>2</td>\n",
       "      <td>1967–68 Los Angeles Kings season</td>\n",
       "    </tr>\n",
       "    <tr>\n",
       "      <th>aida-0001-50-2003–04_San_Jose_Sharks_season</th>\n",
       "      <td>2</td>\n",
       "      <td>2003–04 San Jose Sharks season</td>\n",
       "    </tr>\n",
       "    <tr>\n",
       "      <th>aida-0001-50-2004–05_San_Antonio_Spurs_season</th>\n",
       "      <td>4</td>\n",
       "      <td>2004–05 San Antonio Spurs season</td>\n",
       "    </tr>\n",
       "  </tbody>\n",
       "</table>\n",
       "</div>"
      ],
      "text/plain": [
       "<impresso.resources.search.FacetDataContainer at 0x11e3eb6d0>"
      ]
     },
     "execution_count": 104,
     "metadata": {},
     "output_type": "execute_result"
    }
   ],
   "source": [
    "impresso.text_reuse.passages.facet(\"person\", term=\"banana\")"
   ]
  },
  {
   "cell_type": "markdown",
   "metadata": {},
   "source": [
    "## location"
   ]
  },
  {
   "cell_type": "code",
   "execution_count": 105,
   "metadata": {},
   "outputs": [
    {
     "data": {
      "text/html": [
       "<div style=\"display: grid; grid-template-columns: minmax(200px, 1fr) auto;\">\n",
       "<div>\n",
       "<h2>Facet result</h2>\n",
       "<div>Contains <b>10</b> items (<b>0</b> - <b>10</b>) of <b>498</b> total items.</div>\n",
       "<br/>\n",
       "See this result in the <a href=\"https://impresso-project.ch/app/text-reuse/passages?sq=CgoYByoGYmFuYW5h&p=1\">Impresso App</a>.\n",
       "</div>\n",
       "<div style=\"align-content: center;\"><img src=\"data:image/png;base64,iVBORw0KGgoAAAANSUhEUgAAA7YAAABhCAYAAADiKT2SAAAAOXRFWHRTb2Z0d2FyZQBNYXRwbG90bGliIHZlcnNpb24zLjkuMiwgaHR0cHM6Ly9tYXRwbG90bGliLm9yZy8hTgPZAAAACXBIWXMAAA9hAAAPYQGoP6dpAAACvUlEQVR4nO3dwY2DMBRAwbBKIemHhiiBhtJPOvEWwHFB5mVnCkBflmV48oFljPEAAACAqp/ZAwAAAMBfCFsAAADShC0AAABpwhYAAIA0YQsAAECasAUAACBN2AIAAJAmbAEAAEgTtgAAAKQJWwAAANKELQAAAGnCFgAAgDRhCwAAQNpz9gAAwOPx2t5j9gx389nXZfYMADS4sQUAACBN2AIAAJAmbAEAAEgTtgAAAKQJWwAAANKELQAAAGnCFgAAgDRhCwAAQJqwBQAAIE3YAgAAkCZsAQAASBO2AAAApAlbAAAA0oQtAAAAacIWAACANGELAABAmrAFAAAgTdgCAACQJmwBAABIE7YAAACkCVsAAADShC0AAABpwhYAAIA0YQsAAECasAUAACBN2AIAAJAmbAEAAEgTtgAAAKQJWwAAANKELQAAAGnCFgAAgDRhCwAAQJqwBQAAIE3YAgAAkCZsAQAASBO2AAAApAlbAAAA0oQtAAAAacIWAACANGELAABAmrAFAAAgTdgCAACQJmwBAABIE7YAAACkCVsAAADShC0AAABpwhYAAIA0YQsAAECasAUAACBN2AIAAJAmbAEAAEgTtgAAAKQJWwAAANKELQAAAGnP2QPAf/fa3mP2DHfz2ddl9gwAAHS4sQUAACBN2AIAAJAmbAEAAEgTtgAAAKQJWwAAANKELQAAAGnCFgAAgDRhCwAAQNpz9gBne23vMXuGu/ns63LGc6zt0Vlry/ns16Mz9qt1PXIO3Js9e+QsuIZ1vYbv2Ot82/vLjS0AAABpwhYAAIA0YQsAAECasAUAACBN2AIAAJAmbAEAAEgTtgAAAKQJWwAAANKWMfyrGAAAgC43tgAAAKQJWwAAANKELQAAAGnCFgAAgDRhCwAAQJqwBQAAIE3YAgAAkCZsAQAASBO2AAAApP0CqZwuwX5yVEcAAAAASUVORK5CYII=\" style=\"max-width: 800px; width: 100%;\"></div>\n",
       "</div>\n",
       "<h3>Data preview:</h3>\n",
       "<div>\n",
       "<style scoped>\n",
       "    .dataframe tbody tr th:only-of-type {\n",
       "        vertical-align: middle;\n",
       "    }\n",
       "\n",
       "    .dataframe tbody tr th {\n",
       "        vertical-align: top;\n",
       "    }\n",
       "\n",
       "    .dataframe thead th {\n",
       "        text-align: right;\n",
       "    }\n",
       "</style>\n",
       "<table border=\"1\" class=\"dataframe\">\n",
       "  <thead>\n",
       "    <tr style=\"text-align: right;\">\n",
       "      <th></th>\n",
       "      <th>count</th>\n",
       "      <th>label</th>\n",
       "    </tr>\n",
       "    <tr>\n",
       "      <th>value</th>\n",
       "      <th></th>\n",
       "      <th></th>\n",
       "    </tr>\n",
       "  </thead>\n",
       "  <tbody>\n",
       "    <tr>\n",
       "      <th>aida-0001-54-2010_Qatar_motorcycle_Grand_Prix</th>\n",
       "      <td>2</td>\n",
       "      <td>2010 Qatar motorcycle Grand Prix</td>\n",
       "    </tr>\n",
       "    <tr>\n",
       "      <th>aida-0001-54-2010_Sony_Ericsson_Open</th>\n",
       "      <td>2</td>\n",
       "      <td>2010 Sony Ericsson Open</td>\n",
       "    </tr>\n",
       "    <tr>\n",
       "      <th>aida-0001-54-ATI_Technologies</th>\n",
       "      <td>4</td>\n",
       "      <td>ATI Technologies</td>\n",
       "    </tr>\n",
       "  </tbody>\n",
       "</table>\n",
       "</div>"
      ],
      "text/plain": [
       "<impresso.resources.search.FacetDataContainer at 0x11e295d90>"
      ]
     },
     "execution_count": 105,
     "metadata": {},
     "output_type": "execute_result"
    }
   ],
   "source": [
    "impresso.text_reuse.passages.facet(\"location\", term=\"banana\")"
   ]
  },
  {
   "cell_type": "markdown",
   "metadata": {},
   "source": [
    "## nag"
   ]
  },
  {
   "cell_type": "code",
   "execution_count": 106,
   "metadata": {},
   "outputs": [
    {
     "data": {
      "text/html": [
       "<div style=\"display: grid; \">\n",
       "<div>\n",
       "<h2>Facet result</h2>\n",
       "<div>Contains <b>0</b> items of <b>0</b> total items.</div>\n",
       "<br/>\n",
       "See this result in the <a href=\"https://impresso-project.ch/app/text-reuse/passages?sq=CgoYByoGYmFuYW5h&p=1\">Impresso App</a>.\n",
       "</div>\n",
       "</div>\n",
       "<h3>Data preview:</h3>\n",
       "<div>\n",
       "<style scoped>\n",
       "    .dataframe tbody tr th:only-of-type {\n",
       "        vertical-align: middle;\n",
       "    }\n",
       "\n",
       "    .dataframe tbody tr th {\n",
       "        vertical-align: top;\n",
       "    }\n",
       "\n",
       "    .dataframe thead th {\n",
       "        text-align: right;\n",
       "    }\n",
       "</style>\n",
       "<table border=\"1\" class=\"dataframe\">\n",
       "  <thead>\n",
       "    <tr style=\"text-align: right;\">\n",
       "      <th></th>\n",
       "    </tr>\n",
       "  </thead>\n",
       "  <tbody>\n",
       "  </tbody>\n",
       "</table>\n",
       "</div>"
      ],
      "text/plain": [
       "<impresso.resources.search.FacetDataContainer at 0x11e2823d0>"
      ]
     },
     "execution_count": 106,
     "metadata": {},
     "output_type": "execute_result"
    }
   ],
   "source": [
    "impresso.text_reuse.passages.facet(\"nag\", term=\"banana\")"
   ]
  },
  {
   "cell_type": "markdown",
   "metadata": {},
   "source": [
    "## language"
   ]
  },
  {
   "cell_type": "code",
   "execution_count": 107,
   "metadata": {},
   "outputs": [
    {
     "data": {
      "text/html": [
       "<div style=\"display: grid; grid-template-columns: minmax(200px, 1fr) auto;\">\n",
       "<div>\n",
       "<h2>Facet result</h2>\n",
       "<div>Contains <b>2</b> items of <b>2</b> total items.</div>\n",
       "<br/>\n",
       "See this result in the <a href=\"https://impresso-project.ch/app/text-reuse/passages?sq=CgoYByoGYmFuYW5h&p=1\">Impresso App</a>.\n",
       "</div>\n",
       "<div style=\"align-content: center;\"><img src=\"data:image/png;base64,iVBORw0KGgoAAAANSUhEUgAAA7YAAABhCAYAAADiKT2SAAAAOXRFWHRTb2Z0d2FyZQBNYXRwbG90bGliIHZlcnNpb24zLjkuMiwgaHR0cHM6Ly9tYXRwbG90bGliLm9yZy8hTgPZAAAACXBIWXMAAA9hAAAPYQGoP6dpAAAChklEQVR4nO3bUQ2EQBAFweOCEPxgCAkYwg9O9kQcydJJlYL325nMMsb4AAAAQNV39gAAAAD4h7AFAAAgTdgCAACQJmwBAABIE7YAAACkCVsAAADShC0AAABpwhYAAIA0YQsAAECasAUAACBN2AIAAJAmbAEAAEgTtgAAAKStswcAAO+1HdeYvQGA593nvsze8CQXWwAAANKELQAAAGnCFgAAgDRhCwAAQJqwBQAAIE3YAgAAkCZsAQAASBO2AAAApAlbAAAA0oQtAAAAacIWAACANGELAABAmrAFAAAgTdgCAACQJmwBAABIE7YAAACkCVsAAADShC0AAABpwhYAAIA0YQsAAECasAUAACBN2AIAAJAmbAEAAEgTtgAAAKQJWwAAANKELQAAAGnCFgAAgDRhCwAAQJqwBQAAIE3YAgAAkCZsAQAASBO2AAAApAlbAAAA0oQtAAAAacIWAACANGELAABAmrAFAAAgTdgCAACQJmwBAABIE7YAAACkCVsAAADShC0AAABpwhYAAIA0YQsAAECasAUAACBN2AIAAJAmbAEAAEgTtgAAAKQJWwAAANKELQAAAGnCFgAAgDRhCwAAQJqwBQAAIE3YAgAAkCZsAQAASBO2AAAApAlbAAAA0oQtAAAAacIWAACANGELAABAmrAFAAAgTdgCAACQJmwBAABIE7YAAACkCVsAAADShC0AAABpwhYAAIA0YQsAAEDaOnvA07bjGrM3APC8+9yX2RsAgHdysQUAACBN2AIAAJAmbAEAAEhbxvCSCgAAQJeLLQAAAGnCFgAAgDRhCwAAQJqwBQAAIE3YAgAAkCZsAQAASBO2AAAApAlbAAAA0oQtAAAAaT/jNQ6/xZTeEAAAAABJRU5ErkJggg==\" style=\"max-width: 800px; width: 100%;\"></div>\n",
       "</div>\n",
       "<h3>Data preview:</h3>\n",
       "<div>\n",
       "<style scoped>\n",
       "    .dataframe tbody tr th:only-of-type {\n",
       "        vertical-align: middle;\n",
       "    }\n",
       "\n",
       "    .dataframe tbody tr th {\n",
       "        vertical-align: top;\n",
       "    }\n",
       "\n",
       "    .dataframe thead th {\n",
       "        text-align: right;\n",
       "    }\n",
       "</style>\n",
       "<table border=\"1\" class=\"dataframe\">\n",
       "  <thead>\n",
       "    <tr style=\"text-align: right;\">\n",
       "      <th></th>\n",
       "      <th>count</th>\n",
       "    </tr>\n",
       "    <tr>\n",
       "      <th>value</th>\n",
       "      <th></th>\n",
       "    </tr>\n",
       "  </thead>\n",
       "  <tbody>\n",
       "    <tr>\n",
       "      <th>de</th>\n",
       "      <td>17</td>\n",
       "    </tr>\n",
       "    <tr>\n",
       "      <th>fr</th>\n",
       "      <td>348</td>\n",
       "    </tr>\n",
       "  </tbody>\n",
       "</table>\n",
       "</div>"
      ],
      "text/plain": [
       "<impresso.resources.search.FacetDataContainer at 0x11e1012d0>"
      ]
     },
     "execution_count": 107,
     "metadata": {},
     "output_type": "execute_result"
    }
   ],
   "source": [
    "impresso.text_reuse.passages.facet(\"language\", term=\"banana\")"
   ]
  },
  {
   "cell_type": "markdown",
   "metadata": {},
   "source": [
    "## country"
   ]
  },
  {
   "cell_type": "code",
   "execution_count": 108,
   "metadata": {},
   "outputs": [
    {
     "data": {
      "text/html": [
       "<div style=\"display: grid; grid-template-columns: minmax(200px, 1fr) auto;\">\n",
       "<div>\n",
       "<h2>Facet result</h2>\n",
       "<div>Contains <b>2</b> items of <b>2</b> total items.</div>\n",
       "<br/>\n",
       "See this result in the <a href=\"https://impresso-project.ch/app/text-reuse/passages?sq=CgoYByoGYmFuYW5h&p=1\">Impresso App</a>.\n",
       "</div>\n",
       "<div style=\"align-content: center;\"><img src=\"data:image/png;base64,iVBORw0KGgoAAAANSUhEUgAAA7YAAABhCAYAAADiKT2SAAAAOXRFWHRTb2Z0d2FyZQBNYXRwbG90bGliIHZlcnNpb24zLjkuMiwgaHR0cHM6Ly9tYXRwbG90bGliLm9yZy8hTgPZAAAACXBIWXMAAA9hAAAPYQGoP6dpAAAChklEQVR4nO3aUQ2DQBRFwdIgBD8YQgKG8IOTrYiSLCeZUXD/NidvlzHGBwAAAKq+swcAAADAP4QtAAAAacIWAACANGELAABAmrAFAAAgTdgCAACQJmwBAABIE7YAAACkCVsAAADShC0AAABpwhYAAIA0YQsAAECasAUAACBtnT3gadtxjdkbAHjefe7L7A0AwDu52AIAAJAmbAEAAEgTtgAAAKQJWwAAANKELQAAAGnCFgAAgDRhCwAAQJqwBQAAIE3YAgAAkCZsAQAASBO2AAAApAlbAAAA0oQtAAAAacIWAACANGELAABAmrAFAAAgTdgCAACQJmwBAABIE7YAAACkCVsAAADShC0AAABpwhYAAIA0YQsAAECasAUAACBN2AIAAJAmbAEAAEgTtgAAAKQJWwAAANKELQAAAGnCFgAAgDRhCwAAQJqwBQAAIE3YAgAAkCZsAQAASBO2AAAApAlbAAAA0oQtAAAAacIWAACANGELAABAmrAFAAAgTdgCAACQJmwBAABIE7YAAACkCVsAAADShC0AAABpwhYAAIA0YQsAAECasAUAACBN2AIAAJAmbAEAAEgTtgAAAKQJWwAAANKELQAAAGnCFgAAgDRhCwAAQJqwBQAAIE3YAgAAkCZsAQAASBO2AAAApAlbAAAA0oQtAAAAacIWAACANGELAABAmrAFAAAgTdgCAACQJmwBAABIE7YAAACkCVsAAADShC0AAABpwhYAAIA0YQsAAEDaOnsAAPBe23GN2RsAeN597svsDU9axvBeAQAA0OUrMgAAAGnCFgAAgDRhCwAAQJqwBQAAIE3YAgAAkCZsAQAASBO2AAAApAlbAAAA0oQtAAAAaT9TsQ6/J+OJoQAAAABJRU5ErkJggg==\" style=\"max-width: 800px; width: 100%;\"></div>\n",
       "</div>\n",
       "<h3>Data preview:</h3>\n",
       "<div>\n",
       "<style scoped>\n",
       "    .dataframe tbody tr th:only-of-type {\n",
       "        vertical-align: middle;\n",
       "    }\n",
       "\n",
       "    .dataframe tbody tr th {\n",
       "        vertical-align: top;\n",
       "    }\n",
       "\n",
       "    .dataframe thead th {\n",
       "        text-align: right;\n",
       "    }\n",
       "</style>\n",
       "<table border=\"1\" class=\"dataframe\">\n",
       "  <thead>\n",
       "    <tr style=\"text-align: right;\">\n",
       "      <th></th>\n",
       "      <th>count</th>\n",
       "    </tr>\n",
       "    <tr>\n",
       "      <th>value</th>\n",
       "      <th></th>\n",
       "    </tr>\n",
       "  </thead>\n",
       "  <tbody>\n",
       "    <tr>\n",
       "      <th>CH</th>\n",
       "      <td>359</td>\n",
       "    </tr>\n",
       "    <tr>\n",
       "      <th>LU</th>\n",
       "      <td>6</td>\n",
       "    </tr>\n",
       "  </tbody>\n",
       "</table>\n",
       "</div>"
      ],
      "text/plain": [
       "<impresso.resources.search.FacetDataContainer at 0x11e27c1d0>"
      ]
     },
     "execution_count": 108,
     "metadata": {},
     "output_type": "execute_result"
    }
   ],
   "source": [
    "impresso.text_reuse.passages.facet(\"country\", term=\"banana\")"
   ]
  }
 ],
 "metadata": {
  "kernelspec": {
   "display_name": ".venv",
   "language": "python",
   "name": "python3"
  },
  "language_info": {
   "codemirror_mode": {
    "name": "ipython",
    "version": 3
   },
   "file_extension": ".py",
   "mimetype": "text/x-python",
   "name": "python",
   "nbconvert_exporter": "python",
   "pygments_lexer": "ipython3",
   "version": "3.11.9"
  }
 },
 "nbformat": 4,
 "nbformat_minor": 2
}
