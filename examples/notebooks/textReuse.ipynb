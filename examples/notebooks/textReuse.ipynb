{
  "cells": [
    {
      "cell_type": "code",
      "execution_count": null,
      "metadata": {},
      "outputs": [],
      "source": [
        "from impresso import connect, AND, OR\n",
        "\n",
        "impresso = connect(\"https://dev.impresso-project.ch/public-api\", persisted_token=True)"
      ]
    },
    {
      "cell_type": "markdown",
      "metadata": {},
      "source": [
        "# Text reuse clusters"
      ]
    },
    {
      "cell_type": "markdown",
      "metadata": {},
      "source": [
        "## Find clusters mentioning text"
      ]
    },
    {
      "cell_type": "code",
      "execution_count": null,
      "metadata": {},
      "outputs": [],
      "source": [
        "result = impresso.text_reuse.clusters.find(\n",
        "    text=\"banana\",\n",
        "    offset=2,\n",
        "    limit=5,\n",
        "    order_by=\"passages-count\",\n",
        ")\n",
        "result.df"
      ]
    },
    {
      "cell_type": "code",
      "execution_count": null,
      "metadata": {},
      "outputs": [],
      "source": [
        "f\"The result above contains {result.total} clusters in total. The offset is {result.offset} and the limit is {result.limit}.\""
      ]
    },
    {
      "cell_type": "markdown",
      "metadata": {},
      "source": [
        "## Cluster size"
      ]
    },
    {
      "cell_type": "code",
      "execution_count": null,
      "metadata": {},
      "outputs": [],
      "source": [
        "result = impresso.text_reuse.clusters.find(\n",
        "    text=\"banana\",\n",
        "    cluster_size=(50, 100),\n",
        ")\n",
        "result.df"
      ]
    },
    {
      "cell_type": "markdown",
      "metadata": {},
      "source": [
        "## Mentioning text in title"
      ]
    },
    {
      "cell_type": "code",
      "execution_count": null,
      "metadata": {},
      "outputs": [],
      "source": [
        "result = impresso.text_reuse.clusters.find(\n",
        "    title=AND(\"luxembourg\", \"suisse\"),\n",
        "    cluster_size=(100, 200),\n",
        ")\n",
        "result.df"
      ]
    },
    {
      "cell_type": "markdown",
      "metadata": {},
      "source": [
        "## Lexical overlap"
      ]
    },
    {
      "cell_type": "code",
      "execution_count": null,
      "metadata": {},
      "outputs": [],
      "source": [
        "result = impresso.text_reuse.clusters.find(\n",
        "    text=\"banana\",\n",
        "    lexical_overlap=(50, 51),\n",
        ")\n",
        "result.df"
      ]
    },
    {
      "cell_type": "markdown",
      "metadata": {},
      "source": [
        "## Day delta\n",
        "\n",
        "Number of days between the first and last mention of the text in the cluster."
      ]
    },
    {
      "cell_type": "code",
      "execution_count": null,
      "metadata": {},
      "outputs": [],
      "source": [
        "result = impresso.text_reuse.clusters.find(\n",
        "    text=\"banana\",\n",
        "    day_delta=(50, 100),\n",
        ")\n",
        "result.df"
      ]
    },
    {
      "cell_type": "markdown",
      "metadata": {},
      "source": [
        "## Date range"
      ]
    },
    {
      "cell_type": "code",
      "execution_count": null,
      "metadata": {},
      "outputs": [],
      "source": [
        "from impresso import DateRange\n",
        "\n",
        "result = impresso.text_reuse.clusters.find(\n",
        "    text=\"banana\", \n",
        "    date_range=DateRange(\"1921-05-21\", \"2001-01-02\")\n",
        ")\n",
        "print(f\"{result.total} items found.\")\n",
        "result.df.head(1)"
      ]
    },
    {
      "cell_type": "markdown",
      "metadata": {},
      "source": [
        "## Newspaper"
      ]
    },
    {
      "cell_type": "code",
      "execution_count": null,
      "metadata": {},
      "outputs": [],
      "source": [
        "result = impresso.text_reuse.clusters.find(\n",
        "    text=\"banana\", \n",
        "    newspaper_id=OR(\"EXP\", \"GDL\"),\n",
        ")\n",
        "print(f\"{result.total} items found.\")\n",
        "result.df.head(1)"
      ]
    },
    {
      "cell_type": "markdown",
      "metadata": {},
      "source": [
        "## Collection"
      ]
    },
    {
      "cell_type": "code",
      "execution_count": null,
      "metadata": {},
      "outputs": [],
      "source": [
        "result = impresso.text_reuse.clusters.find(collection_id=\"12312312\")\n",
        "print(f\"{result.total} items found.\")\n",
        "result.df.head(1)"
      ]
    },
    {
      "cell_type": "markdown",
      "metadata": {},
      "source": [
        "## Front page"
      ]
    },
    {
      "cell_type": "code",
      "execution_count": null,
      "metadata": {},
      "outputs": [],
      "source": [
        "result = impresso.text_reuse.clusters.find(\n",
        "    text=\"banana\", \n",
        "    front_page=True,\n",
        ")\n",
        "print(f\"{result.total} items found.\")\n",
        "result.df.head(1)"
      ]
    },
    {
      "cell_type": "markdown",
      "metadata": {},
      "source": [
        "## Topic"
      ]
    },
    {
      "cell_type": "code",
      "execution_count": null,
      "metadata": {},
      "outputs": [],
      "source": [
        "result = impresso.text_reuse.clusters.find(\n",
        "    text=\"banana\", \n",
        "    topic_id=OR(\"tm-fr-all-v2.0_tp07_fr\", \"tm-fr-all-v2.0_tp48_fr\")\n",
        ")\n",
        "print(f\"{result.total} items found.\")\n",
        "result.df.head(1)"
      ]
    },
    {
      "cell_type": "markdown",
      "metadata": {},
      "source": [
        "## Language"
      ]
    },
    {
      "cell_type": "code",
      "execution_count": null,
      "metadata": {},
      "outputs": [],
      "source": [
        "result = impresso.text_reuse.clusters.find(\n",
        "    text=\"luxembourg\", \n",
        "    language=OR(\"it\", \"en\")\n",
        ")\n",
        "print(f\"{result.total} items found.\")\n",
        "result.df.head(1)"
      ]
    },
    {
      "cell_type": "markdown",
      "metadata": {},
      "source": [
        "## Country"
      ]
    },
    {
      "cell_type": "code",
      "execution_count": null,
      "metadata": {},
      "outputs": [],
      "source": [
        "result = impresso.text_reuse.clusters.find(\n",
        "    text=\"schengen\", \n",
        "    country=OR(\"FR\", \"CH\")\n",
        ")\n",
        "print(f\"{result.total} items found.\")\n",
        "result.df.head(1)"
      ]
    },
    {
      "cell_type": "markdown",
      "metadata": {},
      "source": [
        "## Entity mention"
      ]
    },
    {
      "cell_type": "code",
      "execution_count": null,
      "metadata": {},
      "outputs": [],
      "source": [
        "result = impresso.text_reuse.clusters.find(\n",
        "    text=\"schengen\", \n",
        "    mention=OR(\"Belval\", \"Lausanne\")\n",
        ")\n",
        "print(f\"{result.total} items found.\")\n",
        "result.df.head(1)"
      ]
    },
    {
      "cell_type": "markdown",
      "metadata": {},
      "source": [
        "## Entity by ID"
      ]
    },
    {
      "cell_type": "code",
      "execution_count": null,
      "metadata": {},
      "outputs": [],
      "source": [
        "result = impresso.text_reuse.clusters.find(\n",
        "    text=\"banana\",\n",
        "    entity_id=\"aida-0001-54-Switzerland\"\n",
        ")\n",
        "print(f\"{result.total} items found.\")\n",
        "result.df.head(1)"
      ]
    },
    {
      "cell_type": "markdown",
      "metadata": {},
      "source": [
        "# Text reuse clusters facets"
      ]
    },
    {
      "cell_type": "markdown",
      "metadata": {},
      "source": [
        "## Date range"
      ]
    },
    {
      "cell_type": "code",
      "execution_count": null,
      "metadata": {},
      "outputs": [],
      "source": [
        "result = impresso.text_reuse.clusters.facet(\"daterange\", lexical_overlap=(1, 2))\n",
        "print(f\"{result.total} items found. Returning a page of {result.limit} facets.\")\n",
        "result.df.tail(3)"
      ]
    },
    {
      "cell_type": "markdown",
      "metadata": {},
      "source": [
        "## Cluster size"
      ]
    },
    {
      "cell_type": "code",
      "execution_count": null,
      "metadata": {},
      "outputs": [],
      "source": [
        "result = impresso.text_reuse.clusters.facet(\"textReuseClusterSize\", lexical_overlap=(1, 2))\n",
        "print(f\"{result.total} items found. Returning a page of {result.limit} facets.\")\n",
        "result.df.head(3)"
      ]
    },
    {
      "cell_type": "markdown",
      "metadata": {},
      "source": [
        "## Lexical overlap"
      ]
    },
    {
      "cell_type": "code",
      "execution_count": null,
      "metadata": {},
      "outputs": [],
      "source": [
        "result = impresso.text_reuse.clusters.facet(\"textReuseClusterLexicalOverlap\", lexical_overlap=(1, 2))\n",
        "print(f\"{result.total} items found. Returning a page of {result.limit} facets.\")\n",
        "result.df.head(3)"
      ]
    },
    {
      "cell_type": "markdown",
      "metadata": {},
      "source": [
        "## Day delta"
      ]
    },
    {
      "cell_type": "code",
      "execution_count": null,
      "metadata": {},
      "outputs": [],
      "source": [
        "result = impresso.text_reuse.clusters.facet(\"textReuseClusterDayDelta\", lexical_overlap=(1, 2))\n",
        "print(f\"{result.total} items found. Returning a page of {result.limit} facets.\")\n",
        "result.df.head(3)"
      ]
    },
    {
      "cell_type": "markdown",
      "metadata": {},
      "source": [
        "## Newspaper"
      ]
    },
    {
      "cell_type": "code",
      "execution_count": null,
      "metadata": {},
      "outputs": [],
      "source": [
        "result = impresso.text_reuse.clusters.facet(\"newspaper\", lexical_overlap=(1, 2))\n",
        "print(f\"{result.total} items found. Returning a page of {result.limit} facets.\")\n",
        "result.df.head(3)"
      ]
    },
    {
      "cell_type": "markdown",
      "metadata": {},
      "source": [
        "# Text reuse passages"
      ]
    },
    {
      "cell_type": "markdown",
      "metadata": {},
      "source": [
        "## Find passages mentioning text"
      ]
    },
    {
      "cell_type": "code",
      "execution_count": null,
      "metadata": {},
      "outputs": [],
      "source": [
        "result = impresso.text_reuse.passages.find(\n",
        "    text=\"belval\",\n",
        "    offset=2,\n",
        "    limit=5,\n",
        "    order_by=\"clusterSize\",\n",
        ")\n",
        "result.df"
      ]
    },
    {
      "cell_type": "code",
      "execution_count": null,
      "metadata": {},
      "outputs": [],
      "source": [
        "f\"The result above contains {result.total} passages in total. The offset is {result.offset} and the limit is {result.limit}.\""
      ]
    },
    {
      "cell_type": "markdown",
      "metadata": {},
      "source": [
        "## Cluster size"
      ]
    },
    {
      "cell_type": "code",
      "execution_count": null,
      "metadata": {},
      "outputs": [],
      "source": [
        "result = impresso.text_reuse.passages.find(\n",
        "    text=\"banana\",\n",
        "    cluster_size=(50, 100),\n",
        ")\n",
        "result.df"
      ]
    },
    {
      "cell_type": "markdown",
      "metadata": {},
      "source": [
        "## Mentioning text in title"
      ]
    },
    {
      "cell_type": "code",
      "execution_count": null,
      "metadata": {},
      "outputs": [],
      "source": [
        "result = impresso.text_reuse.passages.find(\n",
        "    title=AND(\"luxembourg\", \"suisse\"),\n",
        "    cluster_size=(100, 200),\n",
        ")\n",
        "result.df.head(1)"
      ]
    },
    {
      "cell_type": "markdown",
      "metadata": {},
      "source": [
        "## Lexical overlap"
      ]
    },
    {
      "cell_type": "code",
      "execution_count": null,
      "metadata": {},
      "outputs": [],
      "source": [
        "result = impresso.text_reuse.passages.find(\n",
        "    text=\"banana\",\n",
        "    lexical_overlap=(50, 51),\n",
        ")\n",
        "result.df.head(1)"
      ]
    },
    {
      "cell_type": "markdown",
      "metadata": {},
      "source": [
        "## Day delta\n",
        "\n",
        "Number of days between the first and last mention of the text in the cluster."
      ]
    },
    {
      "cell_type": "code",
      "execution_count": null,
      "metadata": {},
      "outputs": [],
      "source": [
        "result = impresso.text_reuse.passages.find(\n",
        "    text=\"banana\",\n",
        "    day_delta=(50, 100),\n",
        ")\n",
        "result.df.head(1)"
      ]
    },
    {
      "cell_type": "markdown",
      "metadata": {},
      "source": [
        "## Date range"
      ]
    },
    {
      "cell_type": "code",
      "execution_count": null,
      "metadata": {},
      "outputs": [],
      "source": [
        "from impresso import DateRange\n",
        "\n",
        "result = impresso.text_reuse.passages.find(\n",
        "    text=\"banana\", \n",
        "    date_range=DateRange(\"1921-05-21\", \"2001-01-02\")\n",
        ")\n",
        "print(f\"{result.total} items found.\")\n",
        "result.df.head(1)"
      ]
    },
    {
      "cell_type": "markdown",
      "metadata": {},
      "source": [
        "## Newspaper"
      ]
    },
    {
      "cell_type": "code",
      "execution_count": null,
      "metadata": {},
      "outputs": [],
      "source": [
        "result = impresso.text_reuse.passages.find(\n",
        "    text=\"banana\", \n",
        "    newspaper_id=OR(\"EXP\", \"GDL\"),\n",
        ")\n",
        "print(f\"{result.total} items found.\")\n",
        "result.df.head(1)"
      ]
    },
    {
      "cell_type": "markdown",
      "metadata": {},
      "source": [
        "## Collection"
      ]
    },
    {
      "cell_type": "code",
      "execution_count": null,
      "metadata": {},
      "outputs": [],
      "source": [
        "result = impresso.text_reuse.passages.find(collection_id=\"12312312\")\n",
        "print(f\"{result.total} items found.\")\n",
        "result.df.head(1)"
      ]
    },
    {
      "cell_type": "markdown",
      "metadata": {},
      "source": [
        "## Front page"
      ]
    },
    {
      "cell_type": "code",
      "execution_count": null,
      "metadata": {},
      "outputs": [],
      "source": [
        "result = impresso.text_reuse.passages.find(\n",
        "    text=\"banana\", \n",
        "    front_page=True,\n",
        ")\n",
        "print(f\"{result.total} items found.\")\n",
        "result.df.head(1)"
      ]
    },
    {
      "cell_type": "markdown",
      "metadata": {},
      "source": [
        "## Topic"
      ]
    },
    {
      "cell_type": "code",
      "execution_count": null,
      "metadata": {},
      "outputs": [],
      "source": [
        "result = impresso.text_reuse.passages.find(\n",
        "    text=\"banana\", \n",
        "    topic_id=OR(\"tm-fr-all-v2.0_tp07_fr\", \"tm-fr-all-v2.0_tp48_fr\")\n",
        ")\n",
        "print(f\"{result.total} items found.\")\n",
        "result.df.head(1)"
      ]
    },
    {
      "cell_type": "markdown",
      "metadata": {},
      "source": [
        "## Language"
      ]
    },
    {
      "cell_type": "code",
      "execution_count": null,
      "metadata": {},
      "outputs": [],
      "source": [
        "result = impresso.text_reuse.passages.find(\n",
        "    text=\"luxembourg\", \n",
        "    language=OR(\"it\", \"en\")\n",
        ")\n",
        "print(f\"{result.total} items found.\")\n",
        "result.df.head(1)"
      ]
    },
    {
      "cell_type": "markdown",
      "metadata": {},
      "source": [
        "## Country"
      ]
    },
    {
      "cell_type": "code",
      "execution_count": null,
      "metadata": {},
      "outputs": [],
      "source": [
        "result = impresso.text_reuse.passages.find(\n",
        "    text=\"schengen\", \n",
        "    country=OR(\"FR\", \"CH\")\n",
        ")\n",
        "print(f\"{result.total} items found.\")\n",
        "result.df.head(1)"
      ]
    },
    {
      "cell_type": "markdown",
      "metadata": {},
      "source": [
        "## Entity mention"
      ]
    },
    {
      "cell_type": "code",
      "execution_count": null,
      "metadata": {},
      "outputs": [],
      "source": [
        "result = impresso.text_reuse.passages.find(\n",
        "    text=\"schengen\", \n",
        "    mention=OR(\"Belval\", \"Lausanne\")\n",
        ")\n",
        "print(f\"{result.total} items found.\")\n",
        "result.df.head(1)"
      ]
    },
    {
      "cell_type": "markdown",
      "metadata": {},
      "source": [
        "## Entity by ID"
      ]
    },
    {
      "cell_type": "code",
      "execution_count": null,
      "metadata": {},
      "outputs": [],
      "source": [
        "result = impresso.text_reuse.passages.find(\n",
        "    text=\"banana\",\n",
        "    entity_id=\"aida-0001-54-Switzerland\"\n",
        ")\n",
        "print(f\"{result.total} items found.\")\n",
        "result.df.head(1)"
      ]
    },
    {
      "cell_type": "markdown",
      "metadata": {},
      "source": [
        "# Text reuse passages facets"
      ]
    },
    {
      "cell_type": "markdown",
      "metadata": {},
      "source": [
        "## newspaper"
      ]
    },
    {
      "cell_type": "code",
      "execution_count": null,
      "metadata": {},
      "outputs": [],
      "source": [
        "result = impresso.text_reuse.clusters.facet(\"newspaper\")\n",
        "print(f\"{result.total} items found. Returning a page of {result.limit} facets.\")\n",
        "result.df.head(1)"
      ]
    },
    {
      "cell_type": "markdown",
      "metadata": {},
      "source": [
        "## daterange"
      ]
    },
    {
      "cell_type": "code",
      "execution_count": null,
      "metadata": {},
      "outputs": [],
      "source": [
        "result = impresso.text_reuse.passages.facet(\"daterange\", text=\"banana\")\n",
        "print(f\"{result.total} items found. Returning a page of {result.limit} facets.\")\n",
        "result.df.head(1)"
      ]
    },
    {
      "cell_type": "markdown",
      "metadata": {},
      "source": [
        "## yearmonth"
      ]
    },
    {
      "cell_type": "code",
      "execution_count": null,
      "metadata": {},
      "outputs": [],
      "source": [
        "result = impresso.text_reuse.passages.facet(\"yearmonth\", text=\"banana\")\n",
        "print(f\"{result.total} items found. Returning a page of {result.limit} facets.\")\n",
        "result.df.head(1)"
      ]
    },
    {
      "cell_type": "markdown",
      "metadata": {},
      "source": [
        "## year"
      ]
    },
    {
      "cell_type": "code",
      "execution_count": null,
      "metadata": {},
      "outputs": [],
      "source": [
        "result = impresso.text_reuse.passages.facet(\"year\", text=\"banana\")\n",
        "print(f\"{result.total} items found. Returning a page of {result.limit} facets.\")\n",
        "result.df.head(1)"
      ]
    },
    {
      "cell_type": "markdown",
      "metadata": {},
      "source": [
        "## connectedClusters"
      ]
    },
    {
      "cell_type": "code",
      "execution_count": null,
      "metadata": {},
      "outputs": [],
      "source": [
        "result = impresso.text_reuse.passages.facet(\"connectedClusters\", text=\"banana\")\n",
        "print(f\"{result.total} items found. Returning a page of {result.limit} facets.\")\n",
        "result.df.head(1)"
      ]
    },
    {
      "cell_type": "markdown",
      "metadata": {},
      "source": [
        "## textReuseClusterSize"
      ]
    },
    {
      "cell_type": "code",
      "execution_count": null,
      "metadata": {},
      "outputs": [],
      "source": [
        "result = impresso.text_reuse.passages.facet(\"textReuseClusterSize\", text=\"banana\")\n",
        "print(f\"{result.total} items found. Returning a page of {result.limit} facets.\")\n",
        "result.df.head(1)"
      ]
    },
    {
      "cell_type": "markdown",
      "metadata": {},
      "source": [
        "## textReuseClusterLexicalOverlap"
      ]
    },
    {
      "cell_type": "code",
      "execution_count": null,
      "metadata": {},
      "outputs": [],
      "source": [
        "result = impresso.text_reuse.passages.facet(\"textReuseClusterLexicalOverlap\", text=\"banana\")\n",
        "print(f\"{result.total} items found. Returning a page of {result.limit} facets.\")\n",
        "result.df.head(1)"
      ]
    },
    {
      "cell_type": "markdown",
      "metadata": {},
      "source": [
        "## textReuseClusterDayDelta"
      ]
    },
    {
      "cell_type": "code",
      "execution_count": null,
      "metadata": {},
      "outputs": [],
      "source": [
        "result = impresso.text_reuse.passages.facet(\"textReuseClusterDayDelta\", text=\"banana\")\n",
        "print(f\"{result.total} items found. Returning a page of {result.limit} facets.\")\n",
        "result.df.head(1)"
      ]
    },
    {
      "cell_type": "markdown",
      "metadata": {},
      "source": [
        "## textReuseCluster"
      ]
    },
    {
      "cell_type": "code",
      "execution_count": null,
      "metadata": {},
      "outputs": [],
      "source": [
        "result = impresso.text_reuse.passages.facet(\"textReuseCluster\", text=\"banana\")\n",
        "print(f\"{result.total} items found. Returning a page of {result.limit} facets.\")\n",
        "result.df.head(1)"
      ]
    },
    {
      "cell_type": "markdown",
      "metadata": {},
      "source": [
        "## collection"
      ]
    },
    {
      "cell_type": "code",
      "execution_count": null,
      "metadata": {},
      "outputs": [],
      "source": [
        "result = impresso.text_reuse.passages.facet(\"collection\", text=\"banana\")\n",
        "print(f\"{result.total} items found. Returning a page of {result.limit} facets.\")\n",
        "result.df.head(1)"
      ]
    },
    {
      "cell_type": "markdown",
      "metadata": {},
      "source": [
        "## topic"
      ]
    },
    {
      "cell_type": "code",
      "execution_count": null,
      "metadata": {},
      "outputs": [],
      "source": [
        "result = impresso.text_reuse.passages.facet(\"topic\", text=\"banana\")\n",
        "print(f\"{result.total} items found. Returning a page of {result.limit} facets.\")\n",
        "result.df.head(1)"
      ]
    },
    {
      "cell_type": "markdown",
      "metadata": {},
      "source": [
        "## person"
      ]
    },
    {
      "cell_type": "code",
      "execution_count": null,
      "metadata": {},
      "outputs": [],
      "source": [
        "result = impresso.text_reuse.passages.facet(\"person\", text=\"banana\")\n",
        "print(f\"{result.total} items found. Returning a page of {result.limit} facets.\")\n",
        "result.df.head(1)"
      ]
    },
    {
      "cell_type": "markdown",
      "metadata": {},
      "source": [
        "## location"
      ]
    },
    {
      "cell_type": "code",
      "execution_count": null,
      "metadata": {},
      "outputs": [],
      "source": [
        "result = impresso.text_reuse.passages.facet(\"location\", text=\"banana\")\n",
        "print(f\"{result.total} items found. Returning a page of {result.limit} facets.\")\n",
        "result.df.head(1)"
      ]
    },
    {
      "cell_type": "markdown",
      "metadata": {},
      "source": [
        "## nag"
      ]
    },
    {
      "cell_type": "code",
      "execution_count": null,
      "metadata": {},
      "outputs": [],
      "source": [
        "result = impresso.text_reuse.passages.facet(\"nag\", text=\"banana\")\n",
        "print(f\"{result.total} items found. Returning a page of {result.limit} facets.\")\n",
        "result.df.head(1)"
      ]
    },
    {
      "cell_type": "markdown",
      "metadata": {},
      "source": [
        "## language"
      ]
    },
    {
      "cell_type": "code",
      "execution_count": null,
      "metadata": {},
      "outputs": [],
      "source": [
        "result = impresso.text_reuse.passages.facet(\"language\", text=\"banana\")\n",
        "print(f\"{result.total} items found. Returning a page of {result.limit} facets.\")\n",
        "result.df.head(1)"
      ]
    },
    {
      "cell_type": "markdown",
      "metadata": {},
      "source": [
        "## country"
      ]
    },
    {
      "cell_type": "code",
      "execution_count": null,
      "metadata": {},
      "outputs": [],
      "source": [
        "result = impresso.text_reuse.passages.facet(\"country\", text=\"banana\")\n",
        "print(f\"{result.total} items found. Returning a page of {result.limit} facets.\")\n",
        "result.df.head(1)"
      ]
    }
  ],
  "metadata": {
    "kernelspec": {
      "display_name": ".venv",
      "language": "python",
      "name": "python3"
    },
    "language_info": {
      "codemirror_mode": {
        "name": "ipython",
        "version": 3
      },
      "file_extension": ".py",
      "mimetype": "text/x-python",
      "name": "python",
      "nbconvert_exporter": "python",
      "pygments_lexer": "ipython3",
      "version": "3.11.9"
    }
  },
  "nbformat": 4,
  "nbformat_minor": 2
}
