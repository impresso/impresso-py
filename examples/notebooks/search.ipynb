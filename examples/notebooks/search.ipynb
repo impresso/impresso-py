{
 "cells": [
  {
   "cell_type": "code",
   "execution_count": null,
   "metadata": {},
   "outputs": [],
   "source": [
    "from impresso import connect\n",
    "\n",
    "impresso = connect(\"https://dev.impresso-project.ch/public-api\", persisted_token=True)"
   ]
  },
  {
   "cell_type": "markdown",
   "metadata": {},
   "source": [
    "# Search"
   ]
  },
  {
   "cell_type": "markdown",
   "metadata": {},
   "source": [
    "## Term\n",
    "Text content contains `impresso`"
   ]
  },
  {
   "cell_type": "code",
   "execution_count": null,
   "metadata": {},
   "outputs": [],
   "source": [
    "result = impresso.search.find(q=\"impresso\")\n",
    "print(f\"{result.total} items found.\")\n",
    "result.df.head(1)"
   ]
  },
  {
   "cell_type": "markdown",
   "metadata": {},
   "source": [
    "## With text content only\n",
    "Search items that have text content"
   ]
  },
  {
   "cell_type": "code",
   "execution_count": null,
   "metadata": {},
   "outputs": [],
   "source": [
    "result = impresso.search.find(q=\"impresso\", with_text_contents=True)\n",
    "print(f\"{result.total} items found.\")\n",
    "result.df.head(1)"
   ]
  },
  {
   "cell_type": "markdown",
   "metadata": {},
   "source": [
    "## Title\n",
    "Find items that have the provided term in title"
   ]
  },
  {
   "cell_type": "code",
   "execution_count": null,
   "metadata": {},
   "outputs": [],
   "source": [
    "result = impresso.search.find(title=\"impresso\")\n",
    "print(f\"{result.total} items found.\")\n",
    "result.df.head(1)"
   ]
  },
  {
   "cell_type": "markdown",
   "metadata": {},
   "source": [
    "Find items that have both terms"
   ]
  },
  {
   "cell_type": "code",
   "execution_count": null,
   "metadata": {},
   "outputs": [],
   "source": [
    "from impresso import AND, OR\n",
    "\n",
    "result = impresso.search.find(title=AND(\"homme\", \"femme\"))\n",
    "print(f\"{result.total} items found.\")\n",
    "result.df.head(1)"
   ]
  },
  {
   "cell_type": "markdown",
   "metadata": {},
   "source": [
    "Find items that have any of the terms"
   ]
  },
  {
   "cell_type": "code",
   "execution_count": null,
   "metadata": {},
   "outputs": [],
   "source": [
    "from impresso import OR\n",
    "\n",
    "result = impresso.search.find(title=OR(\"impresso\", \"Kaffeemaschine\"))\n",
    "print(f\"{result.total} items found.\")\n",
    "result.df.head(1)"
   ]
  },
  {
   "cell_type": "markdown",
   "metadata": {},
   "source": [
    "Inverted search (not any of the terms)"
   ]
  },
  {
   "cell_type": "code",
   "execution_count": null,
   "metadata": {},
   "outputs": [],
   "source": [
    "from impresso import OR\n",
    "\n",
    "result = impresso.search.find(q=\"impresso\", title=~OR(\"impresso\", \"Kaffeemaschine\"))\n",
    "print(f\"{result.total} items found.\")\n",
    "result.df.head(1)"
   ]
  },
  {
   "cell_type": "markdown",
   "metadata": {},
   "source": [
    "Complex combintation of terms"
   ]
  },
  {
   "cell_type": "code",
   "execution_count": null,
   "metadata": {},
   "outputs": [],
   "source": [
    "from impresso import AND, OR\n",
    "\n",
    "result = impresso.search.find(title=AND(\"homme\", \"femme\") & OR(\"luxembourg\", \"suisse\") & ~AND(\"Théâtre\"))\n",
    "print(f\"{result.total} items found.\")\n",
    "result.df[\"title\"].tolist()"
   ]
  },
  {
   "cell_type": "markdown",
   "metadata": {},
   "source": [
    "## Front page\n",
    "\n",
    "Find articles published on the front page only"
   ]
  },
  {
   "cell_type": "code",
   "execution_count": null,
   "metadata": {},
   "outputs": [],
   "source": [
    "result = impresso.search.find(q=\"impresso\", front_page=True)\n",
    "print(f\"{result.total} items found.\")\n",
    "result.df.head(1)"
   ]
  },
  {
   "cell_type": "markdown",
   "metadata": {},
   "source": [
    "## Entity ID\n",
    "\n",
    "Search by entity ID"
   ]
  },
  {
   "cell_type": "code",
   "execution_count": null,
   "metadata": {},
   "outputs": [],
   "source": [
    "result = impresso.search.find(entity_id=\"aida-0001-54-Switzerland\")\n",
    "print(f\"{result.total} items found.\")\n",
    "result.df.head(1)"
   ]
  },
  {
   "cell_type": "code",
   "execution_count": null,
   "metadata": {},
   "outputs": [],
   "source": [
    "result = impresso.search.find(entity_id=AND(\"aida-0001-54-Switzerland\", \"aida-0001-50-Albert_Einstein\"))\n",
    "print(f\"{result.total} items found.\")\n",
    "result.df.head(1)"
   ]
  },
  {
   "cell_type": "code",
   "execution_count": null,
   "metadata": {},
   "outputs": [],
   "source": [
    "result = impresso.search.find(entity_id=OR(\"aida-0001-54-Switzerland\", \"aida-0001-50-Albert_Einstein\"))\n",
    "print(f\"{result.total} items found.\")\n",
    "result.df.head(1)"
   ]
  },
  {
   "cell_type": "markdown",
   "metadata": {},
   "source": [
    "## Newspaper\n",
    "\n",
    "Search by newspaper"
   ]
  },
  {
   "cell_type": "code",
   "execution_count": null,
   "metadata": {},
   "outputs": [],
   "source": [
    "result = impresso.search.find(q=\"banana\", newspaper_id=OR(\"EXP\", \"GDL\"))\n",
    "print(f\"{result.total} items found.\")\n",
    "result.df.head(1)"
   ]
  },
  {
   "cell_type": "markdown",
   "metadata": {},
   "source": [
    "## Date range\n",
    "\n",
    "Items published between dates"
   ]
  },
  {
   "cell_type": "code",
   "execution_count": null,
   "metadata": {},
   "outputs": [],
   "source": [
    "from impresso import DateRange\n",
    "\n",
    "result = impresso.search.find(q=\"banana\", date_range=DateRange(\"1921-05-21\", \"2001-01-02\"))\n",
    "print(f\"{result.total} items found.\")\n",
    "result.df.head(1)"
   ]
  },
  {
   "cell_type": "markdown",
   "metadata": {},
   "source": [
    "Same but excluding a range."
   ]
  },
  {
   "cell_type": "code",
   "execution_count": null,
   "metadata": {},
   "outputs": [],
   "source": [
    "from impresso import DateRange\n",
    "\n",
    "result = impresso.search.find(q=\"banana\", date_range=~DateRange(\"1921-05-21\", \"2001-01-02\"))\n",
    "print(f\"{result.total} items found.\")\n",
    "result.df.head(1)"
   ]
  },
  {
   "cell_type": "markdown",
   "metadata": {},
   "source": [
    "## Language"
   ]
  },
  {
   "cell_type": "code",
   "execution_count": null,
   "metadata": {},
   "outputs": [],
   "source": [
    "result = impresso.search.find(q=\"banana\", language=OR(\"it\", \"en\"))\n",
    "print(f\"{result.total} items found.\")\n",
    "result.df[[\"title\", \"language\"]]"
   ]
  },
  {
   "cell_type": "code",
   "execution_count": null,
   "metadata": {},
   "outputs": [],
   "source": [
    "result = impresso.search.find(q=\"banana\", language=~OR(\"it\", \"en\"))\n",
    "print(f\"{result.total} items found.\")\n",
    "result.df[[\"title\", \"language\"]].head(3)"
   ]
  },
  {
   "cell_type": "markdown",
   "metadata": {},
   "source": [
    "## Entity mention\n",
    "\n",
    "Search by entity mention."
   ]
  },
  {
   "cell_type": "code",
   "execution_count": null,
   "metadata": {},
   "outputs": [],
   "source": [
    "result = impresso.search.find(mention=OR(\"Belval\", \"Lausanne\"))\n",
    "print(f\"{result.total} items found.\")\n",
    "result.df.head(1)"
   ]
  },
  {
   "cell_type": "markdown",
   "metadata": {},
   "source": [
    "## Topic"
   ]
  },
  {
   "cell_type": "code",
   "execution_count": null,
   "metadata": {},
   "outputs": [],
   "source": [
    "result = impresso.search.find(topic_id=OR(\"tm-fr-all-v2.0_tp07_fr\", \"tm-fr-all-v2.0_tp48_fr\"))\n",
    "print(f\"{result.total} items found.\")\n",
    "result.df.head(1)"
   ]
  },
  {
   "cell_type": "markdown",
   "metadata": {},
   "source": [
    "## Collection"
   ]
  },
  {
   "cell_type": "code",
   "execution_count": null,
   "metadata": {},
   "outputs": [],
   "source": [
    "result = impresso.search.find(collection_id=\"12312312\")\n",
    "print(f\"{result.total} items found.\")\n",
    "result.df.head(1)"
   ]
  },
  {
   "cell_type": "markdown",
   "metadata": {},
   "source": [
    "## Country"
   ]
  },
  {
   "cell_type": "code",
   "execution_count": null,
   "metadata": {},
   "outputs": [],
   "source": [
    "result = impresso.search.find(q=\"Schengen\", country=OR(\"FR\", \"CH\"))\n",
    "print(f\"{result.total} items found.\")\n",
    "result.df.head(1)"
   ]
  },
  {
   "cell_type": "markdown",
   "metadata": {},
   "source": [
    "## Access rights"
   ]
  },
  {
   "cell_type": "code",
   "execution_count": null,
   "metadata": {},
   "outputs": [],
   "source": [
    "result = impresso.search.find(q=\"Schengen\", access_rights=\"Closed\")\n",
    "print(f\"{result.total} items found.\")\n",
    "result.df.head(1)"
   ]
  },
  {
   "cell_type": "markdown",
   "metadata": {},
   "source": [
    "## Partner"
   ]
  },
  {
   "cell_type": "code",
   "execution_count": null,
   "metadata": {},
   "outputs": [],
   "source": [
    "result = impresso.search.find(q=\"Schengen\", partner_id=\"Migros\")\n",
    "print(f\"{result.total} items found.\")\n",
    "result.df.head(1)"
   ]
  },
  {
   "cell_type": "markdown",
   "metadata": {},
   "source": [
    "## Text reuse cluster"
   ]
  },
  {
   "cell_type": "code",
   "execution_count": null,
   "metadata": {},
   "outputs": [],
   "source": [
    "from impresso import OR\n",
    "result = impresso.search.find(text_reuse_cluster_id=~OR(\"tr-nobp-all-v01-c29\"))\n",
    "print(f\"{result.total} items found.\")\n",
    "result.df.head(1)"
   ]
  },
  {
   "cell_type": "markdown",
   "metadata": {},
   "source": [
    "# Facets\n",
    "\n",
    "Facet search method has the same parameters as the search method. "
   ]
  },
  {
   "cell_type": "markdown",
   "metadata": {},
   "source": [
    "## Date range"
   ]
  },
  {
   "cell_type": "code",
   "execution_count": null,
   "metadata": {},
   "outputs": [],
   "source": [
    "result = impresso.search.facet(\"daterange\", q=\"impresso\")\n",
    "print(f\"{result.total} items found. Returning a page of {result.limit} facets.\")\n",
    "result.df.head(1)"
   ]
  },
  {
   "cell_type": "markdown",
   "metadata": {},
   "source": [
    "## Year"
   ]
  },
  {
   "cell_type": "code",
   "execution_count": null,
   "metadata": {},
   "outputs": [],
   "source": [
    "result = impresso.search.facet(\"year\", q=\"impresso\")\n",
    "print(f\"{result.total} items found. Returning a page of {result.limit} facets.\")\n",
    "result.df.head(1)"
   ]
  },
  {
   "cell_type": "markdown",
   "metadata": {},
   "source": [
    "## Content length"
   ]
  },
  {
   "cell_type": "code",
   "execution_count": null,
   "metadata": {},
   "outputs": [],
   "source": [
    "result = impresso.search.facet(\"contentLength\", q=\"impresso\")\n",
    "print(f\"{result.total} items found. Returning a page of {result.limit} facets.\")\n",
    "result.df.head(1)"
   ]
  },
  {
   "cell_type": "markdown",
   "metadata": {},
   "source": [
    "## Month"
   ]
  },
  {
   "cell_type": "code",
   "execution_count": null,
   "metadata": {},
   "outputs": [],
   "source": [
    "result = impresso.search.facet(\"month\", q=\"impresso\")\n",
    "print(f\"{result.total} items found. Returning a page of {result.limit} facets.\")\n",
    "result.df.head(1)"
   ]
  },
  {
   "cell_type": "markdown",
   "metadata": {},
   "source": [
    "## Country"
   ]
  },
  {
   "cell_type": "code",
   "execution_count": null,
   "metadata": {},
   "outputs": [],
   "source": [
    "result = impresso.search.facet(\"country\", q=\"impresso\")\n",
    "print(f\"{result.total} items found. Returning a page of {result.limit} facets.\")\n",
    "result.df"
   ]
  },
  {
   "cell_type": "markdown",
   "metadata": {},
   "source": [
    "## Type"
   ]
  },
  {
   "cell_type": "code",
   "execution_count": null,
   "metadata": {},
   "outputs": [],
   "source": [
    "result = impresso.search.facet(\"type\")\n",
    "print(f\"{result.total} items found. Returning a page of {result.limit} facets.\")\n",
    "result.df"
   ]
  },
  {
   "cell_type": "markdown",
   "metadata": {},
   "source": [
    "## Topic"
   ]
  },
  {
   "cell_type": "code",
   "execution_count": null,
   "metadata": {},
   "outputs": [],
   "source": [
    "result = impresso.search.facet(\"topic\", q=\"pomme\")\n",
    "print(f\"{result.total} items found. Returning a page of {result.limit} facets.\")\n",
    "result.df.head(1)"
   ]
  },
  {
   "cell_type": "markdown",
   "metadata": {},
   "source": [
    "## Collection"
   ]
  },
  {
   "cell_type": "code",
   "execution_count": null,
   "metadata": {},
   "outputs": [],
   "source": [
    "result = impresso.search.facet(\"collection\", q=\"pomme\")\n",
    "print(f\"{result.total} items found. Returning a page of {result.limit} facets.\")\n",
    "result.df.head(1)"
   ]
  },
  {
   "cell_type": "markdown",
   "metadata": {},
   "source": [
    "## Newspaper"
   ]
  },
  {
   "cell_type": "code",
   "execution_count": null,
   "metadata": {},
   "outputs": [],
   "source": [
    "result = impresso.search.facet(\"newspaper\", q=\"pomme\")\n",
    "print(f\"{result.total} items found. Returning a page of {result.limit} facets.\")\n",
    "result.df.head(1)"
   ]
  },
  {
   "cell_type": "markdown",
   "metadata": {},
   "source": [
    "## Language"
   ]
  },
  {
   "cell_type": "code",
   "execution_count": null,
   "metadata": {},
   "outputs": [],
   "source": [
    "result = impresso.search.facet(\"language\", q=\"pomme\")\n",
    "print(f\"{result.total} items found. Returning a page of {result.limit} facets.\")\n",
    "result.df"
   ]
  },
  {
   "cell_type": "markdown",
   "metadata": {},
   "source": [
    "## Person"
   ]
  },
  {
   "cell_type": "code",
   "execution_count": null,
   "metadata": {},
   "outputs": [],
   "source": [
    "result = impresso.search.facet(\"person\", q=\"pomme\", offset=32850)\n",
    "print(f\"{result.total} items found. Returning a page of {result.limit} facets.\")\n",
    "result.df"
   ]
  },
  {
   "cell_type": "markdown",
   "metadata": {},
   "source": [
    "## Location"
   ]
  },
  {
   "cell_type": "code",
   "execution_count": null,
   "metadata": {},
   "outputs": [],
   "source": [
    "result = impresso.search.facet(\"location\", q=\"pomme\", offset=9900)\n",
    "print(f\"{result.total} items found. Returning a page of {result.limit} facets.\")\n",
    "result.df"
   ]
  },
  {
   "cell_type": "markdown",
   "metadata": {},
   "source": [
    "## NAG"
   ]
  },
  {
   "cell_type": "code",
   "execution_count": null,
   "metadata": {},
   "outputs": [],
   "source": [
    "from impresso import AND, OR\n",
    "result = impresso.search.facet(\"nag\", title=AND(\"homme\", \"femme\") & OR(\"luxembourg\", \"suisse\") & ~AND(\"Théâtre\"))\n",
    "print(f\"{result.total} items found. Returning a page of {result.limit} facets.\")\n",
    "result.df.head(1)"
   ]
  },
  {
   "cell_type": "markdown",
   "metadata": {},
   "source": [
    "## Access rights"
   ]
  },
  {
   "cell_type": "code",
   "execution_count": null,
   "metadata": {},
   "outputs": [],
   "source": [
    "result = impresso.search.facet(\"accessRight\", q=\"pomme\")\n",
    "print(f\"{result.total} items found. Returning a page of {result.limit} facets.\")\n",
    "result.df"
   ]
  },
  {
   "cell_type": "markdown",
   "metadata": {},
   "source": [
    "## Partner"
   ]
  },
  {
   "cell_type": "code",
   "execution_count": null,
   "metadata": {},
   "outputs": [],
   "source": [
    "result = impresso.search.facet(\"partner\", q=\"pomme\")\n",
    "print(f\"{result.total} items found. Returning a page of {result.limit} facets.\")\n",
    "result.df"
   ]
  }
 ],
 "metadata": {
  "kernelspec": {
   "display_name": ".venv",
   "language": "python",
   "name": "python3"
  },
  "language_info": {
   "codemirror_mode": {
    "name": "ipython",
    "version": 3
   },
   "file_extension": ".py",
   "mimetype": "text/x-python",
   "name": "python",
   "nbconvert_exporter": "python",
   "pygments_lexer": "ipython3",
   "version": "3.11.9"
  }
 },
 "nbformat": 4,
 "nbformat_minor": 2
}
