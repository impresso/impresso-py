{
 "cells": [
  {
   "cell_type": "code",
   "execution_count": null,
   "metadata": {},
   "outputs": [],
   "source": [
    "from impresso import connect\n",
    "\n",
    "impresso = connect(\"https://dev.impresso-project.ch/public-api\", persisted_token=True)"
   ]
  },
  {
   "cell_type": "markdown",
   "metadata": {},
   "source": [
    "# Search"
   ]
  },
  {
   "cell_type": "markdown",
   "metadata": {},
   "source": [
    "## Term\n",
    "Text content contains `impresso`"
   ]
  },
  {
   "cell_type": "code",
   "execution_count": null,
   "metadata": {},
   "outputs": [],
   "source": [
    "result = impresso.search.find(q=\"impresso\")\n",
    "print(f\"{result.total} items found.\")\n",
    "result.df.head(1)"
   ]
  },
  {
   "cell_type": "markdown",
   "metadata": {},
   "source": [
    "# With text content only\n",
    "Search items that have text content"
   ]
  },
  {
   "cell_type": "code",
   "execution_count": null,
   "metadata": {},
   "outputs": [],
   "source": [
    "result = impresso.search.find(q=\"impresso\", with_text_contents=True)\n",
    "print(f\"{result.total} items found.\")\n",
    "result.df.head(1)"
   ]
  },
  {
   "cell_type": "markdown",
   "metadata": {},
   "source": [
    "## Title\n",
    "Find items that have the provided term in title"
   ]
  },
  {
   "cell_type": "code",
   "execution_count": null,
   "metadata": {},
   "outputs": [],
   "source": [
    "result = impresso.search.find(title=\"impresso\")\n",
    "print(f\"{result.total} items found.\")\n",
    "result.df.head(1)"
   ]
  },
  {
   "cell_type": "markdown",
   "metadata": {},
   "source": [
    "Find items that have both terms"
   ]
  },
  {
   "cell_type": "code",
   "execution_count": null,
   "metadata": {},
   "outputs": [],
   "source": [
    "from impresso import AND\n",
    "\n",
    "result = impresso.search.find(title=AND(\"impresso\", \"Kaffeemaschine\"))\n",
    "print(f\"{result.total} items found.\")\n",
    "result.df.head(1)"
   ]
  },
  {
   "cell_type": "markdown",
   "metadata": {},
   "source": [
    "Find items that have any of the terms"
   ]
  },
  {
   "cell_type": "code",
   "execution_count": null,
   "metadata": {},
   "outputs": [],
   "source": [
    "from impresso import OR\n",
    "\n",
    "result = impresso.search.find(title=OR(\"impresso\", \"Kaffeemaschine\"))\n",
    "print(f\"{result.total} items found.\")\n",
    "result.df.head(1)"
   ]
  },
  {
   "cell_type": "markdown",
   "metadata": {},
   "source": [
    "## Front page\n",
    "\n",
    "Find articles published on the front page only"
   ]
  },
  {
   "cell_type": "code",
   "execution_count": null,
   "metadata": {},
   "outputs": [],
   "source": [
    "result = impresso.search.find(q=\"impresso\", front_page=True)\n",
    "print(f\"{result.total} items found.\")\n",
    "result.df.head(1)"
   ]
  },
  {
   "cell_type": "markdown",
   "metadata": {},
   "source": [
    "# Entity ID\n",
    "\n",
    "Search by entity ID"
   ]
  },
  {
   "cell_type": "code",
   "execution_count": null,
   "metadata": {},
   "outputs": [],
   "source": [
    "result = impresso.search.find(entity_id=\"aida-0001-54-Switzerland\")\n",
    "print(f\"{result.total} items found.\")\n",
    "result.df.head(1)"
   ]
  },
  {
   "cell_type": "code",
   "execution_count": null,
   "metadata": {},
   "outputs": [],
   "source": [
    "result = impresso.search.find(entity_id=AND(\"aida-0001-54-Switzerland\", \"aida-0001-50-Albert_Einstein\"))\n",
    "print(f\"{result.total} items found.\")\n",
    "result.df.head(1)"
   ]
  },
  {
   "cell_type": "code",
   "execution_count": null,
   "metadata": {},
   "outputs": [],
   "source": [
    "result = impresso.search.find(entity_id=OR(\"aida-0001-54-Switzerland\", \"aida-0001-50-Albert_Einstein\"))\n",
    "print(f\"{result.total} items found.\")\n",
    "result.df.head(1)"
   ]
  },
  {
   "cell_type": "markdown",
   "metadata": {},
   "source": [
    "## Newspaper\n",
    "\n",
    "Search by newspaper"
   ]
  },
  {
   "cell_type": "code",
   "execution_count": null,
   "metadata": {},
   "outputs": [],
   "source": [
    "result = impresso.search.find(q=\"banana\", newspaper_id=OR(\"EXP\", \"GDL\"))\n",
    "print(f\"{result.total} items found.\")\n",
    "result.df.head(1)"
   ]
  },
  {
   "cell_type": "markdown",
   "metadata": {},
   "source": [
    "## Date range\n",
    "\n",
    "Items published between dates"
   ]
  },
  {
   "cell_type": "code",
   "execution_count": null,
   "metadata": {},
   "outputs": [],
   "source": [
    "from impresso import DateRange\n",
    "\n",
    "result = impresso.search.find(q=\"banana\", date_range=DateRange(\"1921-05-21\", \"2001-01-02\"))\n",
    "print(f\"{result.total} items found.\")\n",
    "result.df.head(1)"
   ]
  }
 ],
 "metadata": {
  "kernelspec": {
   "display_name": ".venv",
   "language": "python",
   "name": "python3"
  },
  "language_info": {
   "codemirror_mode": {
    "name": "ipython",
    "version": 3
   },
   "file_extension": ".py",
   "mimetype": "text/x-python",
   "name": "python",
   "nbconvert_exporter": "python",
   "pygments_lexer": "ipython3",
   "version": "3.11.9"
  }
 },
 "nbformat": 4,
 "nbformat_minor": 2
}
