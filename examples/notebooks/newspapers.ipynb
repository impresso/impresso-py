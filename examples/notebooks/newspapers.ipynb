{
 "cells": [
  {
   "cell_type": "code",
   "execution_count": 1,
   "metadata": {},
   "outputs": [
    {
     "name": "stdout",
     "output_type": "stream",
     "text": [
      "🎉 You are now connected to the Impresso API!  🎉\n",
      "🔗 Using API: https://dev.impresso-project.ch/public-api\n"
     ]
    }
   ],
   "source": [
    "from impresso import connect\n",
    "\n",
    "impresso = connect()"
   ]
  },
  {
   "cell_type": "markdown",
   "metadata": {},
   "source": [
    "# Search newspapers\n",
    "\n",
    "Find newspapers having the term 'wort' in their name."
   ]
  },
  {
   "cell_type": "code",
   "execution_count": 3,
   "metadata": {},
   "outputs": [
    {
     "data": {
      "text/html": [
       "<div style=\"display: grid; \">\n",
       "<div>\n",
       "<h2>FindNewspapers result</h2>\n",
       "<div>Contains <b>2</b> items of <b>2</b> total items.</div>\n",
       "<br/>\n",
       "See this result in the <a href=\"https://impresso-project.ch/app/newspapers?orderBy=lastIssue&q=wort\">Impresso App</a>.\n",
       "</div>\n",
       "</div>\n",
       "<h3>Data preview:</h3>\n",
       "<div>\n",
       "<style scoped>\n",
       "    .dataframe tbody tr th:only-of-type {\n",
       "        vertical-align: middle;\n",
       "    }\n",
       "\n",
       "    .dataframe tbody tr th {\n",
       "        vertical-align: top;\n",
       "    }\n",
       "\n",
       "    .dataframe thead th {\n",
       "        text-align: right;\n",
       "    }\n",
       "</style>\n",
       "<table border=\"1\" class=\"dataframe\">\n",
       "  <thead>\n",
       "    <tr style=\"text-align: right;\">\n",
       "      <th></th>\n",
       "      <th>title</th>\n",
       "      <th>startYear</th>\n",
       "      <th>endYear</th>\n",
       "      <th>languageCodes</th>\n",
       "      <th>totalArticles</th>\n",
       "      <th>totalIssues</th>\n",
       "      <th>totalPages</th>\n",
       "    </tr>\n",
       "    <tr>\n",
       "      <th>uid</th>\n",
       "      <th></th>\n",
       "      <th></th>\n",
       "      <th></th>\n",
       "      <th></th>\n",
       "      <th></th>\n",
       "      <th></th>\n",
       "      <th></th>\n",
       "    </tr>\n",
       "  </thead>\n",
       "  <tbody>\n",
       "    <tr>\n",
       "      <th>landwortbild</th>\n",
       "      <td>Luxemburger Land in Wort und Bild</td>\n",
       "      <td>1895</td>\n",
       "      <td>1895</td>\n",
       "      <td>[de, fr]</td>\n",
       "      <td>755</td>\n",
       "      <td>39</td>\n",
       "      <td>314</td>\n",
       "    </tr>\n",
       "    <tr>\n",
       "      <th>luxwort</th>\n",
       "      <td>Luxemburger Wort</td>\n",
       "      <td>1848</td>\n",
       "      <td>1950</td>\n",
       "      <td>[de, fr, lb]</td>\n",
       "      <td>1160333</td>\n",
       "      <td>30355</td>\n",
       "      <td>101320</td>\n",
       "    </tr>\n",
       "  </tbody>\n",
       "</table>\n",
       "</div>"
      ],
      "text/plain": [
       "<impresso.resources.newspapers.FindNewspapersContainer at 0x1166e4250>"
      ]
     },
     "execution_count": 3,
     "metadata": {},
     "output_type": "execute_result"
    }
   ],
   "source": [
    "result = impresso.newspapers.find(\n",
    "    term=\"wort\",\n",
    "    order_by=\"lastIssue\",\n",
    ")\n",
    "result"
   ]
  },
  {
   "cell_type": "markdown",
   "metadata": {},
   "source": [
    "### Pagination"
   ]
  },
  {
   "cell_type": "code",
   "execution_count": 4,
   "metadata": {},
   "outputs": [
    {
     "name": "stdout",
     "output_type": "stream",
     "text": [
      "Got page: 10 - 20\n",
      "Got page: 20 - 30\n",
      "Got page: 30 - 40\n",
      "Got page: 40 - 50\n",
      "Got page: 50 - 60\n",
      "Got page: 60 - 70\n",
      "Got page: 70 - 80\n",
      "Got page: 80 - 81\n"
     ]
    }
   ],
   "source": [
    "result = impresso.newspapers.find(limit=10)\n",
    "for page in result:\n",
    "    print(f\"Got page: {page.offset} - {page.offset + page.size}\")"
   ]
  }
 ],
 "metadata": {
  "kernelspec": {
   "display_name": ".venv",
   "language": "python",
   "name": "python3"
  },
  "language_info": {
   "codemirror_mode": {
    "name": "ipython",
    "version": 3
   },
   "file_extension": ".py",
   "mimetype": "text/x-python",
   "name": "python",
   "nbconvert_exporter": "python",
   "pygments_lexer": "ipython3",
   "version": "3.11.9"
  }
 },
 "nbformat": 4,
 "nbformat_minor": 2
}
