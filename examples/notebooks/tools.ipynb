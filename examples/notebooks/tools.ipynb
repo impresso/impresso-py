{
 "cells": [
  {
   "cell_type": "code",
   "execution_count": 1,
   "metadata": {},
   "outputs": [
    {
     "name": "stdout",
     "output_type": "stream",
     "text": [
      "🎉 You are now connected to the Impresso API!  🎉\n"
     ]
    }
   ],
   "source": [
    "from impresso import connect\n",
    "\n",
    "impresso = connect()"
   ]
  },
  {
   "cell_type": "markdown",
   "metadata": {},
   "source": [
    "# Named entity recognition\n"
   ]
  },
  {
   "cell_type": "code",
   "execution_count": 2,
   "metadata": {},
   "outputs": [
    {
     "data": {
      "text/html": [
       "<h2>Ner result</h2>\n",
       "<div>Contains <b>19</b> items of <b>19</b> total items.</div>\n",
       "<br/>\n",
       "<h3>Data preview:</h3>\n",
       "<div>\n",
       "<style scoped>\n",
       "    .dataframe tbody tr th:only-of-type {\n",
       "        vertical-align: middle;\n",
       "    }\n",
       "\n",
       "    .dataframe tbody tr th {\n",
       "        vertical-align: top;\n",
       "    }\n",
       "\n",
       "    .dataframe thead th {\n",
       "        text-align: right;\n",
       "    }\n",
       "</style>\n",
       "<table border=\"1\" class=\"dataframe\">\n",
       "  <thead>\n",
       "    <tr style=\"text-align: right;\">\n",
       "      <th></th>\n",
       "      <th>type</th>\n",
       "      <th>surfaceForm</th>\n",
       "      <th>offset.start</th>\n",
       "      <th>offset.end</th>\n",
       "      <th>confidence.ner</th>\n",
       "      <th>wikidata.id</th>\n",
       "      <th>wikidata.wikipediaPageName</th>\n",
       "    </tr>\n",
       "    <tr>\n",
       "      <th>id</th>\n",
       "      <th></th>\n",
       "      <th></th>\n",
       "      <th></th>\n",
       "      <th></th>\n",
       "      <th></th>\n",
       "      <th></th>\n",
       "      <th></th>\n",
       "    </tr>\n",
       "  </thead>\n",
       "  <tbody>\n",
       "    <tr>\n",
       "      <th>1:37:pers:ner-stacked-2-bert-medium-historic-multilingual|ner-mgenre-multilingual</th>\n",
       "      <td>pers</td>\n",
       "      <td>Jean-Baptiste Nicolas Robert Schuman</td>\n",
       "      <td>1</td>\n",
       "      <td>37</td>\n",
       "      <td>93.81</td>\n",
       "      <td>N/A</td>\n",
       "      <td>N/A</td>\n",
       "    </tr>\n",
       "    <tr>\n",
       "      <th>15:37:comp.name:ner-stacked-2-bert-medium-historic-multilingual|ner-mgenre-multilingual</th>\n",
       "      <td>comp.name</td>\n",
       "      <td>Nicolas Robert Schuman</td>\n",
       "      <td>15</td>\n",
       "      <td>37</td>\n",
       "      <td>50.58</td>\n",
       "      <td>N/A</td>\n",
       "      <td>N/A</td>\n",
       "    </tr>\n",
       "    <tr>\n",
       "      <th>1:37:pers.ind:ner-stacked-2-bert-medium-historic-multilingual|ner-mgenre-multilingual</th>\n",
       "      <td>pers.ind</td>\n",
       "      <td>Jean-Baptiste Nicolas Robert Schuman</td>\n",
       "      <td>1</td>\n",
       "      <td>37</td>\n",
       "      <td>85.42</td>\n",
       "      <td>N/A</td>\n",
       "      <td>N/A</td>\n",
       "    </tr>\n",
       "  </tbody>\n",
       "</table>\n",
       "</div>"
      ],
      "text/plain": [
       "<impresso.resources.tools.NerContainer at 0x11a0e8890>"
      ]
     },
     "execution_count": 2,
     "metadata": {},
     "output_type": "execute_result"
    }
   ],
   "source": [
    "text = \"\"\"\n",
    "Jean-Baptiste Nicolas Robert Schuman ( \n",
    "29 June 1886 – 4 September 1963) was a Luxembourg-born French \n",
    "statesman. Schuman was a Christian democratic (Popular \n",
    "Republican Movement) political thinker and activist. \n",
    "\"\"\"\n",
    "result = impresso.tools.ner(\n",
    "    text=text\n",
    ")\n",
    "result"
   ]
  }
 ],
 "metadata": {
  "kernelspec": {
   "display_name": ".venv",
   "language": "python",
   "name": "python3"
  },
  "language_info": {
   "codemirror_mode": {
    "name": "ipython",
    "version": 3
   },
   "file_extension": ".py",
   "mimetype": "text/x-python",
   "name": "python",
   "nbconvert_exporter": "python",
   "pygments_lexer": "ipython3",
   "version": "3.11.9"
  }
 },
 "nbformat": 4,
 "nbformat_minor": 2
}
