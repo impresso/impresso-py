{
 "cells": [
  {
   "cell_type": "code",
   "execution_count": null,
   "metadata": {},
   "outputs": [],
   "source": [
    "from impresso import connect\n",
    "\n",
    "impresso = connect()"
   ]
  },
  {
   "cell_type": "markdown",
   "metadata": {},
   "source": [
    "# Named entity recognition\n"
   ]
  },
  {
   "cell_type": "code",
   "execution_count": null,
   "metadata": {},
   "outputs": [],
   "source": [
    "text = \"\"\"\n",
    "Jean-Baptiste Nicolas Robert Schuman ( \n",
    "29 June 1886 – 4 September 1963) was a Luxembourg-born French \n",
    "statesman. Schuman was a Christian democratic (Popular \n",
    "Republican Movement) political thinker and activist. \n",
    "\"\"\"\n",
    "result = impresso.tools.ner(\n",
    "    text=text\n",
    ")\n",
    "result"
   ]
  },
  {
   "cell_type": "code",
   "execution_count": null,
   "metadata": {},
   "outputs": [],
   "source": [
    "text = \"\"\"\n",
    "Jean-Baptiste Nicolas Robert Schuman ( \n",
    "29 June 1886 – 4 September 1963) was a Luxembourg-born French \n",
    "statesman. Schuman was a Christian democratic (Popular \n",
    "Republican Movement) political thinker and activist. \n",
    "\"\"\"\n",
    "result = impresso.tools.ner_nel(\n",
    "    text=text,\n",
    ")\n",
    "result"
   ]
  },
  {
   "cell_type": "code",
   "execution_count": null,
   "metadata": {},
   "outputs": [],
   "source": [
    "text = \"\"\"\n",
    "[START]Jean-Baptiste Nicolas Robert Schuman[END] ( \n",
    "29 June 1886 – 4 September 1963) was a Luxembourg-born French \n",
    "statesman. Schuman was a Christian democratic (Popular \n",
    "Republican Movement) political thinker and activist. \n",
    "\"\"\"\n",
    "result = impresso.tools.nel(\n",
    "    text=text,\n",
    ")\n",
    "result"
   ]
  }
 ],
 "metadata": {
  "kernelspec": {
   "display_name": ".venv",
   "language": "python",
   "name": "python3"
  },
  "language_info": {
   "codemirror_mode": {
    "name": "ipython",
    "version": 3
   },
   "file_extension": ".py",
   "mimetype": "text/x-python",
   "name": "python",
   "nbconvert_exporter": "python",
   "pygments_lexer": "ipython3",
   "version": "3.11.9"
  }
 },
 "nbformat": 4,
 "nbformat_minor": 2
}
