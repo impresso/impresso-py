{
 "cells": [
  {
   "cell_type": "code",
   "execution_count": 1,
   "metadata": {},
   "outputs": [
    {
     "name": "stdout",
     "output_type": "stream",
     "text": [
      "🎉 You are now connected to the Impresso API!  🎉\n",
      "🔗 Using API: https://dev.impresso-project.ch/public-api\n"
     ]
    }
   ],
   "source": [
    "from impresso import connect\n",
    "\n",
    "impresso = connect()"
   ]
  },
  {
   "cell_type": "markdown",
   "metadata": {},
   "source": [
    "# Search entities\n",
    "\n",
    "Find all entities that contain a term in their name."
   ]
  },
  {
   "cell_type": "code",
   "execution_count": 3,
   "metadata": {},
   "outputs": [
    {
     "data": {
      "text/html": [
       "<div style=\"display: grid; \">\n",
       "<div>\n",
       "<h2>FindEntities result</h2>\n",
       "<div>Contains <b>3</b> items of <b>3</b> total items.</div>\n",
       "<br/>\n",
       "See this result in the <a href=\"https://impresso-project.ch/app/entities?q=Douglas Adams\">Impresso App</a>.\n",
       "</div>\n",
       "</div>\n",
       "<h3>Data preview:</h3>\n",
       "<div>\n",
       "<style scoped>\n",
       "    .dataframe tbody tr th:only-of-type {\n",
       "        vertical-align: middle;\n",
       "    }\n",
       "\n",
       "    .dataframe tbody tr th {\n",
       "        vertical-align: top;\n",
       "    }\n",
       "\n",
       "    .dataframe thead th {\n",
       "        text-align: right;\n",
       "    }\n",
       "</style>\n",
       "<table border=\"1\" class=\"dataframe\">\n",
       "  <thead>\n",
       "    <tr style=\"text-align: right;\">\n",
       "      <th></th>\n",
       "      <th>label</th>\n",
       "      <th>type</th>\n",
       "      <th>wikidataId</th>\n",
       "      <th>totalMentions</th>\n",
       "      <th>totalContentItems</th>\n",
       "    </tr>\n",
       "    <tr>\n",
       "      <th>uid</th>\n",
       "      <th></th>\n",
       "      <th></th>\n",
       "      <th></th>\n",
       "      <th></th>\n",
       "      <th></th>\n",
       "    </tr>\n",
       "  </thead>\n",
       "  <tbody>\n",
       "    <tr>\n",
       "      <th>aida-0001-50-Douglas_Adams</th>\n",
       "      <td>Douglas Adams</td>\n",
       "      <td>person</td>\n",
       "      <td>Q42</td>\n",
       "      <td>94</td>\n",
       "      <td>94</td>\n",
       "    </tr>\n",
       "    <tr>\n",
       "      <th>aida-0001-50-Douglas_Q._Adams</th>\n",
       "      <td>Douglas Q. Adams</td>\n",
       "      <td>person</td>\n",
       "      <td>Q932869</td>\n",
       "      <td>30</td>\n",
       "      <td>30</td>\n",
       "    </tr>\n",
       "    <tr>\n",
       "      <th>aida-0001-54-Douglas_Adams</th>\n",
       "      <td>Douglas Adams</td>\n",
       "      <td>location</td>\n",
       "      <td>Q42</td>\n",
       "      <td>24</td>\n",
       "      <td>24</td>\n",
       "    </tr>\n",
       "  </tbody>\n",
       "</table>\n",
       "</div>"
      ],
      "text/plain": [
       "<impresso.resources.entities.FindEntitiesContainer at 0x1147b1fd0>"
      ]
     },
     "execution_count": 3,
     "metadata": {},
     "output_type": "execute_result"
    }
   ],
   "source": [
    "impresso.entities.find(term=\"Douglas Adams\")"
   ]
  },
  {
   "cell_type": "markdown",
   "metadata": {},
   "source": [
    "Additionaly filter by entity type."
   ]
  },
  {
   "cell_type": "code",
   "execution_count": 5,
   "metadata": {},
   "outputs": [
    {
     "data": {
      "text/html": [
       "<div style=\"display: grid; \">\n",
       "<div>\n",
       "<h2>FindEntities result</h2>\n",
       "<div>Contains <b>10</b> items (<b>0</b> - <b>10</b>) of <b>31</b> total items.</div>\n",
       "<br/>\n",
       "</div>\n",
       "</div>\n",
       "<h3>Data preview:</h3>\n",
       "<div>\n",
       "<style scoped>\n",
       "    .dataframe tbody tr th:only-of-type {\n",
       "        vertical-align: middle;\n",
       "    }\n",
       "\n",
       "    .dataframe tbody tr th {\n",
       "        vertical-align: top;\n",
       "    }\n",
       "\n",
       "    .dataframe thead th {\n",
       "        text-align: right;\n",
       "    }\n",
       "</style>\n",
       "<table border=\"1\" class=\"dataframe\">\n",
       "  <thead>\n",
       "    <tr style=\"text-align: right;\">\n",
       "      <th></th>\n",
       "      <th>label</th>\n",
       "      <th>type</th>\n",
       "      <th>wikidataId</th>\n",
       "      <th>totalMentions</th>\n",
       "      <th>totalContentItems</th>\n",
       "    </tr>\n",
       "    <tr>\n",
       "      <th>uid</th>\n",
       "      <th></th>\n",
       "      <th></th>\n",
       "      <th></th>\n",
       "      <th></th>\n",
       "      <th></th>\n",
       "    </tr>\n",
       "  </thead>\n",
       "  <tbody>\n",
       "    <tr>\n",
       "      <th>aida-0001-54-San_Jose$2c$_California</th>\n",
       "      <td>San Jose, California</td>\n",
       "      <td>location</td>\n",
       "      <td>Q16553</td>\n",
       "      <td>2846</td>\n",
       "      <td>2448</td>\n",
       "    </tr>\n",
       "    <tr>\n",
       "      <th>aida-0001-54-2007_San_Jose_Grand_Prix_at_Redback_Raceway</th>\n",
       "      <td>2007 San Jose Grand Prix at Redback Raceway</td>\n",
       "      <td>location</td>\n",
       "      <td>Q4609234</td>\n",
       "      <td>1228</td>\n",
       "      <td>1058</td>\n",
       "    </tr>\n",
       "    <tr>\n",
       "      <th>aida-0001-54-Mikel_San_José</th>\n",
       "      <td>Mikel San José</td>\n",
       "      <td>location</td>\n",
       "      <td>Q312437</td>\n",
       "      <td>1288</td>\n",
       "      <td>981</td>\n",
       "    </tr>\n",
       "  </tbody>\n",
       "</table>\n",
       "</div>"
      ],
      "text/plain": [
       "<impresso.resources.entities.FindEntitiesContainer at 0x1152f8150>"
      ]
     },
     "execution_count": 5,
     "metadata": {},
     "output_type": "execute_result"
    }
   ],
   "source": [
    "impresso.entities.find(term=\"san jose\", entity_type=\"location\")"
   ]
  },
  {
   "cell_type": "code",
   "execution_count": 6,
   "metadata": {},
   "outputs": [
    {
     "data": {
      "text/html": [
       "<div style=\"display: grid; \">\n",
       "<div>\n",
       "<h2>FindEntities result</h2>\n",
       "<div>Contains <b>10</b> items (<b>0</b> - <b>10</b>) of <b>29</b> total items.</div>\n",
       "<br/>\n",
       "</div>\n",
       "</div>\n",
       "<h3>Data preview:</h3>\n",
       "<div>\n",
       "<style scoped>\n",
       "    .dataframe tbody tr th:only-of-type {\n",
       "        vertical-align: middle;\n",
       "    }\n",
       "\n",
       "    .dataframe tbody tr th {\n",
       "        vertical-align: top;\n",
       "    }\n",
       "\n",
       "    .dataframe thead th {\n",
       "        text-align: right;\n",
       "    }\n",
       "</style>\n",
       "<table border=\"1\" class=\"dataframe\">\n",
       "  <thead>\n",
       "    <tr style=\"text-align: right;\">\n",
       "      <th></th>\n",
       "      <th>label</th>\n",
       "      <th>type</th>\n",
       "      <th>wikidataId</th>\n",
       "      <th>totalMentions</th>\n",
       "      <th>totalContentItems</th>\n",
       "    </tr>\n",
       "    <tr>\n",
       "      <th>uid</th>\n",
       "      <th></th>\n",
       "      <th></th>\n",
       "      <th></th>\n",
       "      <th></th>\n",
       "      <th></th>\n",
       "    </tr>\n",
       "  </thead>\n",
       "  <tbody>\n",
       "    <tr>\n",
       "      <th>aida-0001-50-San_Jose_Wolves</th>\n",
       "      <td>San Jose Wolves</td>\n",
       "      <td>person</td>\n",
       "      <td>Q7618261</td>\n",
       "      <td>1</td>\n",
       "      <td>1</td>\n",
       "    </tr>\n",
       "    <tr>\n",
       "      <th>aida-0001-50-San_José_Villanueva</th>\n",
       "      <td>San José Villanueva</td>\n",
       "      <td>person</td>\n",
       "      <td>Q3947419</td>\n",
       "      <td>1</td>\n",
       "      <td>1</td>\n",
       "    </tr>\n",
       "    <tr>\n",
       "      <th>aida-0001-50-San_Jose$2c$_California</th>\n",
       "      <td>San Jose, California</td>\n",
       "      <td>person</td>\n",
       "      <td>Q16553</td>\n",
       "      <td>4</td>\n",
       "      <td>4</td>\n",
       "    </tr>\n",
       "  </tbody>\n",
       "</table>\n",
       "</div>"
      ],
      "text/plain": [
       "<impresso.resources.entities.FindEntitiesContainer at 0x1152bb7d0>"
      ]
     },
     "execution_count": 6,
     "metadata": {},
     "output_type": "execute_result"
    }
   ],
   "source": [
    "impresso.entities.find(term=\"san jose\", entity_type=\"person\", order_by=\"-relevance\")"
   ]
  },
  {
   "cell_type": "markdown",
   "metadata": {},
   "source": [
    "Get an entity by its ID"
   ]
  },
  {
   "cell_type": "code",
   "execution_count": 7,
   "metadata": {},
   "outputs": [
    {
     "data": {
      "text/html": [
       "<div style=\"display: grid; \">\n",
       "<div>\n",
       "<h2>GetEntity result</h2>\n",
       "<div>Contains <b>0</b> items of <b>0</b> total items.</div>\n",
       "<br/>\n",
       "See this result in the <a href=\"https://impresso-project.ch/app/entities/aida-0001-50-Douglas_Adams\">Impresso App</a>.\n",
       "</div>\n",
       "</div>\n",
       "<h3>Data preview:</h3>\n",
       "<div>\n",
       "<style scoped>\n",
       "    .dataframe tbody tr th:only-of-type {\n",
       "        vertical-align: middle;\n",
       "    }\n",
       "\n",
       "    .dataframe tbody tr th {\n",
       "        vertical-align: top;\n",
       "    }\n",
       "\n",
       "    .dataframe thead th {\n",
       "        text-align: right;\n",
       "    }\n",
       "</style>\n",
       "<table border=\"1\" class=\"dataframe\">\n",
       "  <thead>\n",
       "    <tr style=\"text-align: right;\">\n",
       "      <th></th>\n",
       "      <th>label</th>\n",
       "      <th>type</th>\n",
       "      <th>wikidataId</th>\n",
       "      <th>totalMentions</th>\n",
       "      <th>totalContentItems</th>\n",
       "    </tr>\n",
       "    <tr>\n",
       "      <th>uid</th>\n",
       "      <th></th>\n",
       "      <th></th>\n",
       "      <th></th>\n",
       "      <th></th>\n",
       "      <th></th>\n",
       "    </tr>\n",
       "  </thead>\n",
       "  <tbody>\n",
       "    <tr>\n",
       "      <th>aida-0001-50-Douglas_Adams</th>\n",
       "      <td>Douglas Adams</td>\n",
       "      <td>person</td>\n",
       "      <td>Q42</td>\n",
       "      <td>94</td>\n",
       "      <td>94</td>\n",
       "    </tr>\n",
       "  </tbody>\n",
       "</table>\n",
       "</div>"
      ],
      "text/plain": [
       "<impresso.resources.entities.GetEntityContainer at 0x1152b9290>"
      ]
     },
     "execution_count": 7,
     "metadata": {},
     "output_type": "execute_result"
    }
   ],
   "source": [
    "impresso.entities.get(\"aida-0001-50-Douglas_Adams\")"
   ]
  },
  {
   "cell_type": "markdown",
   "metadata": {},
   "source": [
    "Get multiple entities by IDs"
   ]
  },
  {
   "cell_type": "code",
   "execution_count": 8,
   "metadata": {},
   "outputs": [
    {
     "data": {
      "text/html": [
       "<div style=\"display: grid; \">\n",
       "<div>\n",
       "<h2>FindEntities result</h2>\n",
       "<div>Contains <b>3</b> items of <b>3</b> total items.</div>\n",
       "<br/>\n",
       "See this result in the <a href=\"https://impresso-project.ch/app/entities\">Impresso App</a>.\n",
       "</div>\n",
       "</div>\n",
       "<h3>Data preview:</h3>\n",
       "<div>\n",
       "<style scoped>\n",
       "    .dataframe tbody tr th:only-of-type {\n",
       "        vertical-align: middle;\n",
       "    }\n",
       "\n",
       "    .dataframe tbody tr th {\n",
       "        vertical-align: top;\n",
       "    }\n",
       "\n",
       "    .dataframe thead th {\n",
       "        text-align: right;\n",
       "    }\n",
       "</style>\n",
       "<table border=\"1\" class=\"dataframe\">\n",
       "  <thead>\n",
       "    <tr style=\"text-align: right;\">\n",
       "      <th></th>\n",
       "      <th>label</th>\n",
       "      <th>type</th>\n",
       "      <th>wikidataId</th>\n",
       "      <th>totalMentions</th>\n",
       "      <th>totalContentItems</th>\n",
       "    </tr>\n",
       "    <tr>\n",
       "      <th>uid</th>\n",
       "      <th></th>\n",
       "      <th></th>\n",
       "      <th></th>\n",
       "      <th></th>\n",
       "      <th></th>\n",
       "    </tr>\n",
       "  </thead>\n",
       "  <tbody>\n",
       "    <tr>\n",
       "      <th>aida-0001-50-San_Jose$2c$_California</th>\n",
       "      <td>San Jose, California</td>\n",
       "      <td>person</td>\n",
       "      <td>Q16553</td>\n",
       "      <td>4</td>\n",
       "      <td>4</td>\n",
       "    </tr>\n",
       "    <tr>\n",
       "      <th>aida-0001-50-San_Jose_Wolves</th>\n",
       "      <td>San Jose Wolves</td>\n",
       "      <td>person</td>\n",
       "      <td>Q7618261</td>\n",
       "      <td>1</td>\n",
       "      <td>1</td>\n",
       "    </tr>\n",
       "    <tr>\n",
       "      <th>aida-0001-50-San_José_Villanueva</th>\n",
       "      <td>San José Villanueva</td>\n",
       "      <td>person</td>\n",
       "      <td>Q3947419</td>\n",
       "      <td>1</td>\n",
       "      <td>1</td>\n",
       "    </tr>\n",
       "  </tbody>\n",
       "</table>\n",
       "</div>"
      ],
      "text/plain": [
       "<impresso.resources.entities.FindEntitiesContainer at 0x1152ed710>"
      ]
     },
     "execution_count": 8,
     "metadata": {},
     "output_type": "execute_result"
    }
   ],
   "source": [
    "from impresso import OR\n",
    "impresso.entities.find(\n",
    "    entity_id=OR(\n",
    "        \"aida-0001-50-San_Jose_Wolves\",\n",
    "        \"aida-0001-50-San_José_Villanueva\",\n",
    "        \"aida-0001-50-San_Jose$2c$_California\",\n",
    "    ),\n",
    ")"
   ]
  },
  {
   "cell_type": "markdown",
   "metadata": {},
   "source": [
    "Find entities by [Wikidata](https://www.wikidata.org/wiki/Wikidata:Main_Page) IDs."
   ]
  },
  {
   "cell_type": "code",
   "execution_count": 9,
   "metadata": {},
   "outputs": [
    {
     "data": {
      "text/html": [
       "<div style=\"display: grid; \">\n",
       "<div>\n",
       "<h2>FindEntities result</h2>\n",
       "<div>Contains <b>4</b> items of <b>4</b> total items.</div>\n",
       "<br/>\n",
       "</div>\n",
       "</div>\n",
       "<h3>Data preview:</h3>\n",
       "<div>\n",
       "<style scoped>\n",
       "    .dataframe tbody tr th:only-of-type {\n",
       "        vertical-align: middle;\n",
       "    }\n",
       "\n",
       "    .dataframe tbody tr th {\n",
       "        vertical-align: top;\n",
       "    }\n",
       "\n",
       "    .dataframe thead th {\n",
       "        text-align: right;\n",
       "    }\n",
       "</style>\n",
       "<table border=\"1\" class=\"dataframe\">\n",
       "  <thead>\n",
       "    <tr style=\"text-align: right;\">\n",
       "      <th></th>\n",
       "      <th>label</th>\n",
       "      <th>type</th>\n",
       "      <th>wikidataId</th>\n",
       "      <th>totalMentions</th>\n",
       "      <th>totalContentItems</th>\n",
       "    </tr>\n",
       "    <tr>\n",
       "      <th>uid</th>\n",
       "      <th></th>\n",
       "      <th></th>\n",
       "      <th></th>\n",
       "      <th></th>\n",
       "      <th></th>\n",
       "    </tr>\n",
       "  </thead>\n",
       "  <tbody>\n",
       "    <tr>\n",
       "      <th>aida-0001-54-Earth</th>\n",
       "      <td>Earth</td>\n",
       "      <td>location</td>\n",
       "      <td>Q2</td>\n",
       "      <td>438</td>\n",
       "      <td>362</td>\n",
       "    </tr>\n",
       "    <tr>\n",
       "      <th>aida-0001-50-Douglas_Adams</th>\n",
       "      <td>Douglas Adams</td>\n",
       "      <td>person</td>\n",
       "      <td>Q42</td>\n",
       "      <td>94</td>\n",
       "      <td>94</td>\n",
       "    </tr>\n",
       "    <tr>\n",
       "      <th>aida-0001-54-Douglas_Adams</th>\n",
       "      <td>Douglas Adams</td>\n",
       "      <td>location</td>\n",
       "      <td>Q42</td>\n",
       "      <td>24</td>\n",
       "      <td>24</td>\n",
       "    </tr>\n",
       "  </tbody>\n",
       "</table>\n",
       "</div>"
      ],
      "text/plain": [
       "<impresso.resources.entities.FindEntitiesContainer at 0x1152f3890>"
      ]
     },
     "execution_count": 9,
     "metadata": {},
     "output_type": "execute_result"
    }
   ],
   "source": [
    "from impresso import AND\n",
    "impresso.entities.find(wikidata_id=AND(\"Q2\", \"Q4\", \"Q42\"))"
   ]
  }
 ],
 "metadata": {
  "kernelspec": {
   "display_name": ".venv",
   "language": "python",
   "name": "python3"
  },
  "language_info": {
   "codemirror_mode": {
    "name": "ipython",
    "version": 3
   },
   "file_extension": ".py",
   "mimetype": "text/x-python",
   "name": "python",
   "nbconvert_exporter": "python",
   "pygments_lexer": "ipython3",
   "version": "3.11.9"
  }
 },
 "nbformat": 4,
 "nbformat_minor": 2
}
