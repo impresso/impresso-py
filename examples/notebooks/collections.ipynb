{
 "cells": [
  {
   "cell_type": "code",
   "execution_count": 1,
   "metadata": {},
   "outputs": [
    {
     "name": "stdout",
     "output_type": "stream",
     "text": [
      "🎉 You are now connected to the Impresso API!  🎉\n",
      "🔗 Using API: https://dev.impresso-project.ch/public-api/v1\n"
     ]
    }
   ],
   "source": [
    "from impresso import connect\n",
    "\n",
    "impresso = connect()"
   ]
  },
  {
   "cell_type": "markdown",
   "metadata": {},
   "source": [
    "# Search collections\n",
    "\n",
    "Find all collections that your Impresso account owns."
   ]
  },
  {
   "cell_type": "code",
   "execution_count": null,
   "metadata": {},
   "outputs": [],
   "source": [
    "result = impresso.collections.find()\n",
    "result"
   ]
  },
  {
   "cell_type": "markdown",
   "metadata": {},
   "source": [
    "## Pagination"
   ]
  },
  {
   "cell_type": "code",
   "execution_count": null,
   "metadata": {},
   "outputs": [],
   "source": [
    "result = impresso.collections.find(\n",
    "    limit=5,\n",
    ")\n",
    "\n",
    "print(f\"Total items in the result set: {result.total}\")\n",
    "for page in result.pages():\n",
    "    print(\n",
    "        f\"Got page {page.offset} - {page.offset + page.size} of {page.total}. \"\n",
    "        + f\"The first title is {page.raw['data'][0]['title']}\"\n",
    "    )"
   ]
  },
  {
   "cell_type": "markdown",
   "metadata": {},
   "source": [
    "# Get collection\n",
    "\n",
    "Get metadata of a colection by its ID."
   ]
  },
  {
   "cell_type": "code",
   "execution_count": null,
   "metadata": {},
   "outputs": [],
   "source": [
    "result = impresso.collections.get(\"local-roka-tOrwrOG3\")\n",
    "result"
   ]
  },
  {
   "cell_type": "markdown",
   "metadata": {},
   "source": [
    "## Get collection items\n",
    "\n",
    "Get items from a collection by its ID."
   ]
  },
  {
   "cell_type": "code",
   "execution_count": null,
   "metadata": {},
   "outputs": [],
   "source": [
    "colection_id = result.raw[\"uid\"]\n",
    "items = impresso.collections.items(colection_id)\n",
    "items"
   ]
  },
  {
   "cell_type": "markdown",
   "metadata": {},
   "source": [
    "## Remove items from collection"
   ]
  },
  {
   "cell_type": "code",
   "execution_count": null,
   "metadata": {},
   "outputs": [],
   "source": [
    "item_id = items.pydantic.data[0].uid\n",
    "item_id"
   ]
  },
  {
   "cell_type": "code",
   "execution_count": null,
   "metadata": {},
   "outputs": [],
   "source": [
    "impresso.collections.remove_items(colection_id, [item_id])"
   ]
  },
  {
   "cell_type": "markdown",
   "metadata": {},
   "source": [
    "## Add items to collection"
   ]
  },
  {
   "cell_type": "code",
   "execution_count": null,
   "metadata": {},
   "outputs": [],
   "source": [
    "impresso.collections.add_items(colection_id, [item_id])"
   ]
  }
 ],
 "metadata": {
  "kernelspec": {
   "display_name": "impresso-py3.11",
   "language": "python",
   "name": "python3"
  },
  "language_info": {
   "codemirror_mode": {
    "name": "ipython",
    "version": 3
   },
   "file_extension": ".py",
   "mimetype": "text/x-python",
   "name": "python",
   "nbconvert_exporter": "python",
   "pygments_lexer": "ipython3",
   "version": "3.11.11"
  }
 },
 "nbformat": 4,
 "nbformat_minor": 2
}
