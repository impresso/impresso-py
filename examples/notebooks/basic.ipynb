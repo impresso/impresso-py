{
 "cells": [
  {
   "cell_type": "markdown",
   "metadata": {},
   "source": [
    "# Initialize Impresso Client\n",
    "\n",
    "In this cell, we initialize the Impresso client to connect to the Impresso API. \n",
    "The `impresso` variable is an instance of `impresso.client.ImpressoClient`, which allows us to interact with the API \n",
    "and perform various operations such as searching for articles, retrieving article details, and fetching facets."
   ]
  },
  {
   "cell_type": "code",
   "execution_count": 1,
   "metadata": {},
   "outputs": [
    {
     "name": "stdout",
     "output_type": "stream",
     "text": [
      "🎉 You are now connected to the Impresso API!  🎉\n",
      "🔗 Using API: https://dev.impresso-project.ch/public-api\n"
     ]
    }
   ],
   "source": [
    "from impresso import connect\n",
    "\n",
    "impresso = connect()"
   ]
  },
  {
   "cell_type": "markdown",
   "metadata": {},
   "source": [
    "## Search content items\n",
    "\n",
    "In this notebook, we will search for content items that contain the term \"European Union\" in the text. The results are ordered by date.\n",
    "\n",
    "Below the result container is rendered as an overview of what it contains.\n"
   ]
  },
  {
   "cell_type": "code",
   "execution_count": 2,
   "metadata": {},
   "outputs": [
    {
     "data": {
      "text/html": [
       "<div style=\"display: grid; \">\n",
       "<div>\n",
       "<h2>Search result</h2>\n",
       "<div>Contains <b>79</b> items of <b>79</b> total items.</div>\n",
       "<br/>\n",
       "See this result in the <a href=\"https://impresso-project.ch/app/search?orderBy=date&sq=ChIYByoORXVyb3BlYW4gVW5pb24=&p=1\">Impresso App</a>.\n",
       "</div>\n",
       "</div>\n",
       "<h3>Data preview:</h3>\n",
       "<div>\n",
       "<style scoped>\n",
       "    .dataframe tbody tr th:only-of-type {\n",
       "        vertical-align: middle;\n",
       "    }\n",
       "\n",
       "    .dataframe tbody tr th {\n",
       "        vertical-align: top;\n",
       "    }\n",
       "\n",
       "    .dataframe thead th {\n",
       "        text-align: right;\n",
       "    }\n",
       "</style>\n",
       "<table border=\"1\" class=\"dataframe\">\n",
       "  <thead>\n",
       "    <tr style=\"text-align: right;\">\n",
       "      <th></th>\n",
       "      <th>type</th>\n",
       "      <th>title</th>\n",
       "      <th>transcript</th>\n",
       "      <th>locations</th>\n",
       "      <th>persons</th>\n",
       "      <th>topics</th>\n",
       "      <th>transcriptLength</th>\n",
       "      <th>isOnFrontPage</th>\n",
       "      <th>mediaType</th>\n",
       "    </tr>\n",
       "    <tr>\n",
       "      <th>uid</th>\n",
       "      <th></th>\n",
       "      <th></th>\n",
       "      <th></th>\n",
       "      <th></th>\n",
       "      <th></th>\n",
       "      <th></th>\n",
       "      <th></th>\n",
       "      <th></th>\n",
       "      <th></th>\n",
       "    </tr>\n",
       "  </thead>\n",
       "  <tbody>\n",
       "    <tr>\n",
       "      <th>luxwort-1948-11-25-a-i0033</th>\n",
       "      <td>ar</td>\n",
       "      <td>[REDACTED]</td>\n",
       "      <td>[REDACTED]</td>\n",
       "      <td>[{'uid': 'aida-0001-54-Rome', 'relevance': 1},...</td>\n",
       "      <td>[]</td>\n",
       "      <td>[]</td>\n",
       "      <td>0</td>\n",
       "      <td>False</td>\n",
       "      <td>newspaper</td>\n",
       "    </tr>\n",
       "    <tr>\n",
       "      <th>FZG-1950-06-17-a-i0045</th>\n",
       "      <td>ar</td>\n",
       "      <td>[REDACTED]</td>\n",
       "      <td>[REDACTED]</td>\n",
       "      <td>[{'uid': 'aida-0001-54-London', 'relevance': 5...</td>\n",
       "      <td>[{'uid': 'aida-0001-50-Karl_Arnold', 'relevanc...</td>\n",
       "      <td>[]</td>\n",
       "      <td>0</td>\n",
       "      <td>False</td>\n",
       "      <td>newspaper</td>\n",
       "    </tr>\n",
       "    <tr>\n",
       "      <th>JDG-1954-11-03-a-i0032</th>\n",
       "      <td>ar</td>\n",
       "      <td>[REDACTED]</td>\n",
       "      <td>[REDACTED]</td>\n",
       "      <td>[{'uid': 'aida-0001-54-Washington$2c$_D.C.', '...</td>\n",
       "      <td>[{'uid': 'aida-0001-50-Pat_Robertson', 'releva...</td>\n",
       "      <td>[]</td>\n",
       "      <td>0</td>\n",
       "      <td>False</td>\n",
       "      <td>newspaper</td>\n",
       "    </tr>\n",
       "  </tbody>\n",
       "</table>\n",
       "</div>"
      ],
      "text/plain": [
       "<impresso.resources.search.SearchDataContainer at 0x11254cb10>"
      ]
     },
     "execution_count": 2,
     "metadata": {},
     "output_type": "execute_result"
    }
   ],
   "source": [
    "result = impresso.search.find(\n",
    "    term=\"European Union\",\n",
    "    order_by=\"date\",\n",
    ")\n",
    "result"
   ]
  },
  {
   "cell_type": "markdown",
   "metadata": {},
   "source": [
    "Below, we will search for a term \"European Union\" in the Impresso data.\n",
    "Then we will use the `result` variable, to access and print the excerpts of the first three articles returned by the search query.\n",
    "\n",
    "The `pydantic` property is a [Pydantic](https://docs.pydantic.dev/latest/) model representing the response of the Impresso API. It provides a way to ensure that the data conforms to specified types and constraints, making it easier to work with structured data in a reliable and consistent manner.\n",
    "We use the `data` property of the response to iterate over the page of the results and return excerpts of the articles that contain the search term."
   ]
  },
  {
   "cell_type": "code",
   "execution_count": 3,
   "metadata": {},
   "outputs": [
    {
     "name": "stdout",
     "output_type": "stream",
     "text": [
      "[REDACTED]\n",
      "[REDACTED]\n",
      "[REDACTED]\n"
     ]
    }
   ],
   "source": [
    "result = impresso.search.find(\n",
    "    term=\"European Union\",\n",
    "    order_by=\"date\",\n",
    ")\n",
    "for article in result.pydantic.data[:3]:\n",
    "    print(article.transcript)"
   ]
  },
  {
   "cell_type": "markdown",
   "metadata": {},
   "source": [
    "There are several useful properties on the result object that let us know the total nubmer of results found, the current page and its size."
   ]
  },
  {
   "cell_type": "code",
   "execution_count": 4,
   "metadata": {},
   "outputs": [
    {
     "name": "stdout",
     "output_type": "stream",
     "text": [
      "79 results were found for this term. The current result object contains 79 items starting from the item number 0\n"
     ]
    }
   ],
   "source": [
    "print(\"%i results were found for this term. The current result object contains %i items starting from the item number %i\" % (result.total, result.size, result.offset))"
   ]
  },
  {
   "cell_type": "markdown",
   "metadata": {},
   "source": [
    "### Pydantic\n",
    "The full response from the Impresso API as a pydantic model."
   ]
  },
  {
   "cell_type": "code",
   "execution_count": 5,
   "metadata": {},
   "outputs": [
    {
     "data": {
      "text/plain": [
       "SearchResponseSchema(data=[ContentItem(uid='luxwort-1948-11-25-a-i0033', type='ar', title='[REDACTED]', transcript='[REDACTED]', locations=[EntityMention(uid='aida-0001-54-Rome', relevance=1.0), EntityMention(uid='aida-0001-54-SS_Deutschland_$28$1923$29$', relevance=1.0), EntityMention(uid='aida-0001-54-England', relevance=2.0)], persons=[], topics=[], transcriptLength=0.0, totalPages=None, languageCode=None, isOnFrontPage=False, publicationDate=None, countryCode=None, dataProviderCode=None, mediaCode=None, mediaType='newspaper'), ContentItem(uid='FZG-1950-06-17-a-i0045', type='ar', title='[REDACTED]', transcript='[REDACTED]', locations=[EntityMention(uid='aida-0001-54-London', relevance=5.0), EntityMention(uid='aida-0001-54-Paris', relevance=1.0), EntityMention(uid='aida-0001-54-Holland', relevance=1.0)], persons=[EntityMention(uid='aida-0001-50-Karl_Arnold', relevance=1.0), EntityMention(uid='aida-0001-50-Morgan_Phillips', relevance=1.0)], topics=[], transcriptLength=0.0, totalPages=None, languageCode=None, isOnFrontPage=False, publicationDate=None, countryCode=None, dataProviderCode=None, mediaCode=None, mediaType='newspaper'), ContentItem(uid='JDG-1954-11-03-a-i0032', type='ar', title='[REDACTED]', transcript='[REDACTED]', locations=[EntityMention(uid='aida-0001-54-Washington$2c$_D.C.', relevance=8.0), EntityMention(uid='aida-0001-54-Moscow', relevance=5.0), EntityMention(uid='aida-0001-54-Vietnam', relevance=1.0), EntityMention(uid='aida-0001-54-China', relevance=1.0), EntityMention(uid='aida-0001-54-France', relevance=1.0), EntityMention(uid='aida-0001-54-Marcel_Dallemagne', relevance=2.0), EntityMention(uid='aida-0001-54-Province_of_New_York', relevance=1.0)], persons=[EntityMention(uid='aida-0001-50-Pat_Robertson', relevance=1.0), EntityMention(uid='aida-0001-50-Pierre_Rode', relevance=1.0), EntityMention(uid='aida-0001-50-Anthony_Eden', relevance=1.0)], topics=[], transcriptLength=0.0, totalPages=None, languageCode=None, isOnFrontPage=False, publicationDate=None, countryCode=None, dataProviderCode=None, mediaCode=None, mediaType='newspaper'), ContentItem(uid='JDG-1954-11-27-a-i0041', type='ar', title='[REDACTED]', transcript='[REDACTED]', locations=[EntityMention(uid='aida-0001-54-International_Typographical_Union', relevance=1.0), EntityMention(uid='aida-0001-54-Palestine$2c$_Texas', relevance=2.0), EntityMention(uid='aida-0001-54-Atlantic$2c$_Iowa', relevance=2.0), EntityMention(uid='aida-0001-54-New_Zealand', relevance=1.0), EntityMention(uid='aida-0001-54-United_States', relevance=1.0), EntityMention(uid='aida-0001-54-Paris', relevance=1.0), EntityMention(uid='aida-0001-54-Prague$2c$_Nebraska', relevance=1.0)], persons=[], topics=[], transcriptLength=0.0, totalPages=None, languageCode=None, isOnFrontPage=False, publicationDate=None, countryCode=None, dataProviderCode=None, mediaCode=None, mediaType='newspaper'), ContentItem(uid='DTT-1962-04-30-a-i0121', type='ar', title='[REDACTED]', transcript='[REDACTED]', locations=[EntityMention(uid='aida-0001-54-London', relevance=2.0), EntityMention(uid='aida-0001-54-Germany', relevance=3.0), EntityMention(uid='aida-0001-54-Lage', relevance=1.0), EntityMention(uid='aida-0001-54-Rome', relevance=1.0), EntityMention(uid='aida-0001-54-Italy', relevance=1.0), EntityMention(uid='aida-0001-54-Auch', relevance=1.0)], persons=[], topics=[], transcriptLength=0.0, totalPages=None, languageCode=None, isOnFrontPage=False, publicationDate=None, countryCode=None, dataProviderCode=None, mediaCode=None, mediaType='newspaper'), ContentItem(uid='luxland-1984-12-21-a-i0018', type='ar', title='[REDACTED]', transcript='[REDACTED]', locations=[EntityMention(uid='aida-0001-54-Jim_Landes', relevance=2.0), EntityMention(uid='aida-0001-54-Jon_Boden', relevance=1.0), EntityMention(uid='aida-0001-54-Auch', relevance=1.0), EntityMention(uid='aida-0001-54-Manosque', relevance=1.0), EntityMention(uid='aida-0001-54-Meno_Burg', relevance=1.0)], persons=[EntityMention(uid='aida-0001-50-Richard_Schirrmann', relevance=1.0), EntityMention(uid='aida-0001-50-Marc_Sangnier', relevance=1.0), EntityMention(uid='aida-0001-50-Jean_Giono', relevance=1.0)], topics=[], transcriptLength=0.0, totalPages=None, languageCode=None, isOnFrontPage=False, publicationDate=None, countryCode=None, dataProviderCode=None, mediaCode=None, mediaType='newspaper'), ContentItem(uid='JDG-1993-11-15-a-i0016', type='ar', title='[REDACTED]', transcript='[REDACTED]', locations=[EntityMention(uid='aida-0001-54-Brussels', relevance=3.0), EntityMention(uid='aida-0001-54-Gare_de_Cornavin', relevance=1.0), EntityMention(uid='aida-0001-54-Lausanne', relevance=1.0), EntityMention(uid='aida-0001-54-Royal_Navy', relevance=1.0), EntityMention(uid='aida-0001-54-Spain', relevance=1.0)], persons=[EntityMention(uid='aida-0001-50-Jacques_Delors', relevance=1.0), EntityMention(uid='aida-0001-50-Francesco_Verri', relevance=1.0)], topics=[], transcriptLength=0.0, totalPages=None, languageCode=None, isOnFrontPage=False, publicationDate=None, countryCode=None, dataProviderCode=None, mediaCode=None, mediaType='newspaper'), ContentItem(uid='GDL-1994-04-21-a-i0061', type='ad', title='[REDACTED]', transcript='[REDACTED]', locations=[], persons=[EntityMention(uid='aida-0001-50-Ann_Williams_$28$historian$29$', relevance=1.0)], topics=[], transcriptLength=0.0, totalPages=None, languageCode=None, isOnFrontPage=False, publicationDate=None, countryCode=None, dataProviderCode=None, mediaCode=None, mediaType='newspaper'), ContentItem(uid='JDG-1994-05-19-a-i0041', type='ad', title='[REDACTED]', transcript='[REDACTED]', locations=[], persons=[EntityMention(uid='aida-0001-50-Ann_Williams_$28$historian$29$', relevance=1.0)], topics=[], transcriptLength=0.0, totalPages=None, languageCode=None, isOnFrontPage=False, publicationDate=None, countryCode=None, dataProviderCode=None, mediaCode=None, mediaType='newspaper'), ContentItem(uid='GDL-1994-05-19-a-i0037', type='ad', title='[REDACTED]', transcript='[REDACTED]', locations=[], persons=[EntityMention(uid='aida-0001-50-Ann_Williams_$28$historian$29$', relevance=1.0)], topics=[], transcriptLength=0.0, totalPages=None, languageCode=None, isOnFrontPage=False, publicationDate=None, countryCode=None, dataProviderCode=None, mediaCode=None, mediaType='newspaper'), ContentItem(uid='luxland-1995-05-05-a-i0062', type='ar', title='[REDACTED]', transcript='[REDACTED]', locations=[EntityMention(uid='aida-0001-54-Luxembourg', relevance=1.0), EntityMention(uid='aida-0001-54-Boden$2c$_Sweden', relevance=1.0), EntityMention(uid='aida-0001-54-Diego_Capel', relevance=1.0)], persons=[EntityMention(uid='aida-0001-50-Hubert_Clément', relevance=1.0), EntityMention(uid='aida-0001-50-Henri_Michaux', relevance=1.0), EntityMention(uid='aida-0001-50-Joe_Schneider', relevance=1.0), EntityMention(uid='aida-0001-50-Georges_Prêtre', relevance=1.0), EntityMention(uid='aida-0001-50-Felix_Mendelssohn', relevance=1.0), EntityMention(uid='aida-0001-50-Johannes_Brahms', relevance=1.0)], topics=[], transcriptLength=0.0, totalPages=None, languageCode=None, isOnFrontPage=False, publicationDate=None, countryCode=None, dataProviderCode=None, mediaCode=None, mediaType='newspaper'), ContentItem(uid='GDL-1995-05-11-a-i0065', type='ad', title='[REDACTED]', transcript='[REDACTED]', locations=[EntityMention(uid='aida-0001-54-Gare_de_Cornavin', relevance=4.0), EntityMention(uid='aida-0001-54-Switzerland', relevance=1.0), EntityMention(uid='aida-0001-54-Lausanne', relevance=1.0)], persons=[EntityMention(uid='aida-0001-50-Colin_Hines', relevance=1.0), EntityMention(uid='aida-0001-50-Rod_McLean', relevance=1.0)], topics=[], transcriptLength=0.0, totalPages=None, languageCode=None, isOnFrontPage=False, publicationDate=None, countryCode=None, dataProviderCode=None, mediaCode=None, mediaType='newspaper'), ContentItem(uid='JDG-1995-05-11-a-i0056', type='ad', title='[REDACTED]', transcript='[REDACTED]', locations=[EntityMention(uid='aida-0001-54-Gare_de_Cornavin', relevance=4.0), EntityMention(uid='aida-0001-54-Switzerland', relevance=1.0), EntityMention(uid='aida-0001-54-Lausanne', relevance=1.0)], persons=[EntityMention(uid='aida-0001-50-Colin_Hines', relevance=1.0), EntityMention(uid='aida-0001-50-Don_McLean', relevance=1.0), EntityMention(uid='aida-0001-50-Ein_Kerem', relevance=1.0)], topics=[], transcriptLength=0.0, totalPages=None, languageCode=None, isOnFrontPage=False, publicationDate=None, countryCode=None, dataProviderCode=None, mediaCode=None, mediaType='newspaper'), ContentItem(uid='JDG-1995-05-18-a-i0028', type='ad', title='[REDACTED]', transcript='[REDACTED]', locations=[EntityMention(uid='aida-0001-54-Geneva', relevance=3.0), EntityMention(uid='aida-0001-54-Switzerland', relevance=1.0), EntityMention(uid='aida-0001-54-Lausanne', relevance=1.0)], persons=[EntityMention(uid='aida-0001-50-Colin_Hines', relevance=1.0), EntityMention(uid='aida-0001-50-Aaron_McLean', relevance=1.0), EntityMention(uid='aida-0001-50-Ein_Kerem', relevance=1.0)], topics=[], transcriptLength=0.0, totalPages=None, languageCode=None, isOnFrontPage=False, publicationDate=None, countryCode=None, dataProviderCode=None, mediaCode=None, mediaType='newspaper'), ContentItem(uid='JDG-1995-06-02-a-i0094', type='ad', title='[REDACTED]', transcript='[REDACTED]', locations=[EntityMention(uid='aida-0001-54-Paddle_steamer_Genève', relevance=3.0), EntityMention(uid='aida-0001-54-Switzerland', relevance=1.0), EntityMention(uid='aida-0001-54-Lausanne', relevance=1.0)], persons=[EntityMention(uid='aida-0001-50-Colin_Hines', relevance=1.0), EntityMention(uid='aida-0001-50-Jan_McLean', relevance=1.0), EntityMention(uid='aida-0001-50-Ein_Kerem', relevance=1.0)], topics=[], transcriptLength=0.0, totalPages=None, languageCode=None, isOnFrontPage=False, publicationDate=None, countryCode=None, dataProviderCode=None, mediaCode=None, mediaType='newspaper'), ContentItem(uid='GDL-1995-06-02-a-i0134', type='ad', title='[REDACTED]', transcript='[REDACTED]', locations=[EntityMention(uid='aida-0001-54-Geneva', relevance=4.0), EntityMention(uid='aida-0001-54-Switzerland', relevance=1.0), EntityMention(uid='aida-0001-54-Lausanne', relevance=1.0), EntityMention(uid='aida-0001-54-Massa', relevance=1.0)], persons=[EntityMention(uid='aida-0001-50-Colin_Hines', relevance=1.0), EntityMention(uid='aida-0001-50-Rod_McLean', relevance=1.0), EntityMention(uid='aida-0001-50-Ein_Kerem', relevance=1.0)], topics=[], transcriptLength=0.0, totalPages=None, languageCode=None, isOnFrontPage=False, publicationDate=None, countryCode=None, dataProviderCode=None, mediaCode=None, mediaType='newspaper'), ContentItem(uid='GDL-1995-06-07-a-i0039', type='ad', title='[REDACTED]', transcript='[REDACTED]', locations=[], persons=[EntityMention(uid='aida-0001-50-Geneva_Cubs', relevance=1.0), EntityMention(uid='aida-0001-50-Margaret_Johnson', relevance=1.0)], topics=[], transcriptLength=0.0, totalPages=None, languageCode=None, isOnFrontPage=False, publicationDate=None, countryCode=None, dataProviderCode=None, mediaCode=None, mediaType='newspaper'), ContentItem(uid='JDG-1995-06-07-a-i0039', type='ad', title='[REDACTED]', transcript='[REDACTED]', locations=[], persons=[EntityMention(uid='aida-0001-50-Geneva_Cubs', relevance=1.0), EntityMention(uid='aida-0001-50-Margaret_Johnson', relevance=1.0)], topics=[], transcriptLength=0.0, totalPages=None, languageCode=None, isOnFrontPage=False, publicationDate=None, countryCode=None, dataProviderCode=None, mediaCode=None, mediaType='newspaper'), ContentItem(uid='JDG-1995-10-17-a-i0244', type='ad', title='[REDACTED]', transcript='[REDACTED]', locations=[EntityMention(uid='aida-0001-54-Iceland', relevance=1.0), EntityMention(uid='aida-0001-54-Norway', relevance=1.0), EntityMention(uid='aida-0001-54-Luxembourg', relevance=2.0), EntityMention(uid='aida-0001-54-Switzerland', relevance=1.0), EntityMention(uid='aida-0001-54-Gare_de_Cornavin', relevance=1.0)], persons=[], topics=[], transcriptLength=0.0, totalPages=None, languageCode=None, isOnFrontPage=False, publicationDate=None, countryCode=None, dataProviderCode=None, mediaCode=None, mediaType='newspaper'), ContentItem(uid='luxland-1995-11-10-a-i0058', type='ar', title='[REDACTED]', transcript='[REDACTED]', locations=[EntityMention(uid='aida-0001-54-Luxembourg', relevance=4.0), EntityMention(uid='aida-0001-54-Paris', relevance=1.0), EntityMention(uid='aida-0001-54-Auch', relevance=2.0), EntityMention(uid='aida-0001-54-Palermo', relevance=1.0), EntityMention(uid='aida-0001-54-Marseille', relevance=1.0), EntityMention(uid='aida-0001-54-Turin', relevance=1.0), EntityMention(uid='aida-0001-54-Ottawa', relevance=1.0), EntityMention(uid='aida-0001-54-Chypre', relevance=1.0)], persons=[EntityMention(uid='aida-0001-50-Marcel_Broodthaers', relevance=1.0), EntityMention(uid='aida-0001-50-Jasper_Wilson_Johns', relevance=1.0), EntityMention(uid='aida-0001-50-Yves_Klein', relevance=1.0), EntityMention(uid='aida-0001-50-Jannis_Kounellis', relevance=1.0), EntityMention(uid='aida-0001-50-Sol_LeWitt', relevance=1.0), EntityMention(uid='aida-0001-50-Bruce_Nauman', relevance=1.0), EntityMention(uid='aida-0001-50-Barnett_Newman', relevance=1.0), EntityMention(uid='aida-0001-50-Jackson_Pollock', relevance=1.0), EntityMention(uid='aida-0001-50-Robert_Ryman', relevance=1.0), EntityMention(uid='aida-0001-50-Frank_Stella', relevance=1.0), EntityMention(uid='aida-0001-50-Andy_Warhol_$28$song$29$', relevance=1.0), EntityMention(uid='aida-0001-50-Foissy', relevance=1.0), EntityMention(uid='aida-0001-50-Frédéric_Chopin', relevance=1.0), EntityMention(uid='aida-0001-50-Alexander_Scriabin', relevance=1.0), EntityMention(uid='aida-0001-50-Henry_Purcell', relevance=1.0)], topics=[], transcriptLength=0.0, totalPages=None, languageCode=None, isOnFrontPage=False, publicationDate=None, countryCode=None, dataProviderCode=None, mediaCode=None, mediaType='newspaper'), ContentItem(uid='LLE-1996-08-03-a-i0157', type='ar', title='[REDACTED]', transcript='[REDACTED]', locations=[EntityMention(uid='aida-0001-54-Paris', relevance=1.0)], persons=[EntityMention(uid='aida-0001-50-Jane_Berbié', relevance=1.0), EntityMention(uid='aida-0001-50-K.F.C._Rhodienne-Verrewinkel', relevance=1.0), EntityMention(uid='aida-0001-50-Colin_Davis', relevance=1.0), EntityMention(uid='aida-0001-50-Don_Giovanni', relevance=1.0), EntityMention(uid='aida-0001-50-Charles_Burney', relevance=1.0)], topics=[], transcriptLength=0.0, totalPages=None, languageCode=None, isOnFrontPage=False, publicationDate=None, countryCode=None, dataProviderCode=None, mediaCode=None, mediaType='newspaper'), ContentItem(uid='IMP-1996-08-03-a-i0188', type='ar', title='[REDACTED]', transcript='[REDACTED]', locations=[EntityMention(uid='aida-0001-54-Suisse$2c$_Moselle', relevance=2.0)], persons=[EntityMention(uid='aida-0001-50-Rudy_Marconi', relevance=1.0), EntityMention(uid='aida-0001-50-Charles_Burney', relevance=1.0)], topics=[], transcriptLength=0.0, totalPages=None, languageCode=None, isOnFrontPage=False, publicationDate=None, countryCode=None, dataProviderCode=None, mediaCode=None, mediaType='newspaper'), ContentItem(uid='EXP-1996-08-03-a-i0211', type='ar', title='[REDACTED]', transcript='[REDACTED]', locations=[EntityMention(uid='aida-0001-54-Suisse$2c$_Moselle', relevance=2.0)], persons=[EntityMention(uid='aida-0001-50-Rudy_Marconi', relevance=1.0), EntityMention(uid='aida-0001-50-Charles_Burney', relevance=1.0)], topics=[], transcriptLength=0.0, totalPages=None, languageCode=None, isOnFrontPage=False, publicationDate=None, countryCode=None, dataProviderCode=None, mediaCode=None, mediaType='newspaper'), ContentItem(uid='GDL-1996-08-03-a-i0216', type='ar', title='[REDACTED]', transcript='[REDACTED]', locations=[EntityMention(uid='aida-0001-54-Brussels', relevance=1.0), EntityMention(uid='aida-0001-54-Paris', relevance=1.0), EntityMention(uid='aida-0001-54-Switzerland', relevance=1.0), EntityMention(uid='aida-0001-54-Montpellier', relevance=1.0), EntityMention(uid='aida-0001-54-Toulouse', relevance=1.0), EntityMention(uid='aida-0001-54-Avignon', relevance=1.0)], persons=[EntityMention(uid='aida-0001-50-Don_Quichotte', relevance=1.0), EntityMention(uid='aida-0001-50-Rocco_Marconi', relevance=1.0), EntityMention(uid='aida-0001-50-Jane_Berbié', relevance=1.0), EntityMention(uid='aida-0001-50-Colin_Davis', relevance=1.0), EntityMention(uid='aida-0001-50-Richard_Strauss', relevance=1.0), EntityMention(uid='aida-0001-50-Don_Juan', relevance=1.0), EntityMention(uid='aida-0001-50-Violin_Concerto_$28$Sibelius$29$', relevance=1.0), EntityMention(uid='aida-0001-50-Charles_Burney', relevance=1.0), EntityMention(uid='aida-0001-50-Ricardo_Viñes', relevance=1.0), EntityMention(uid='aida-0001-50-Yehudi_Menuhin', relevance=2.0), EntityMention(uid='aida-0001-50-Michel_Plasson', relevance=1.0), EntityMention(uid='aida-0001-50-René_Descartes', relevance=1.0)], topics=[], transcriptLength=0.0, totalPages=None, languageCode=None, isOnFrontPage=False, publicationDate=None, countryCode=None, dataProviderCode=None, mediaCode=None, mediaType='newspaper'), ContentItem(uid='JDG-1996-10-07-a-i0157', type='ar', title='[REDACTED]', transcript='[REDACTED]', locations=[], persons=[EntityMention(uid='aida-0001-50-Samson_François', relevance=1.0), EntityMention(uid='aida-0001-50-Jean_Vilar', relevance=1.0)], topics=[], transcriptLength=0.0, totalPages=None, languageCode=None, isOnFrontPage=False, publicationDate=None, countryCode=None, dataProviderCode=None, mediaCode=None, mediaType='newspaper'), ContentItem(uid='JDG-1997-01-21-a-i0263', type='ad', title='[REDACTED]', transcript='[REDACTED]', locations=[EntityMention(uid='aida-0001-54-Rome', relevance=1.0), EntityMention(uid='aida-0001-54-Luxembourg', relevance=2.0)], persons=[], topics=[], transcriptLength=0.0, totalPages=None, languageCode=None, isOnFrontPage=False, publicationDate=None, countryCode=None, dataProviderCode=None, mediaCode=None, mediaType='newspaper'), ContentItem(uid='GDL-1997-01-21-a-i0284', type='ad', title='[REDACTED]', transcript='[REDACTED]', locations=[EntityMention(uid='aida-0001-54-Rome', relevance=1.0), EntityMention(uid='aida-0001-54-Luxembourg', relevance=2.0)], persons=[], topics=[], transcriptLength=0.0, totalPages=None, languageCode=None, isOnFrontPage=False, publicationDate=None, countryCode=None, dataProviderCode=None, mediaCode=None, mediaType='newspaper'), ContentItem(uid='FZG-1997-02-10-a-i0102', type='ar', title='[REDACTED]', transcript='[REDACTED]', locations=[], persons=[EntityMention(uid='aida-0001-50-Aurèle_Nicolet', relevance=1.0)], topics=[], transcriptLength=0.0, totalPages=None, languageCode=None, isOnFrontPage=False, publicationDate=None, countryCode=None, dataProviderCode=None, mediaCode=None, mediaType='newspaper'), ContentItem(uid='luxland-1997-06-13-a-i0076', type='ar', title='[REDACTED]', transcript='[REDACTED]', locations=[EntityMention(uid='aida-0001-54-Luxembourg', relevance=2.0)], persons=[], topics=[], transcriptLength=0.0, totalPages=None, languageCode=None, isOnFrontPage=False, publicationDate=None, countryCode=None, dataProviderCode=None, mediaCode=None, mediaType='newspaper'), ContentItem(uid='luxland-1997-08-22-a-i0038', type='ar', title='[REDACTED]', transcript='[REDACTED]', locations=[], persons=[EntityMention(uid='aida-0001-50-Mike_Bordin', relevance=1.0), EntityMention(uid='aida-0001-50-Roddy_Bottum', relevance=1.0), EntityMention(uid='aida-0001-50-Billy_Gould', relevance=1.0), EntityMention(uid='aida-0001-50-John_T._Hudson', relevance=1.0), EntityMention(uid='aida-0001-50-Mike_Patton', relevance=1.0), EntityMention(uid='aida-0001-50-Bernard_Haitink', relevance=1.0), EntityMention(uid='aida-0001-50-Caroline_Maes', relevance=1.0), EntityMention(uid='aida-0001-50-Marc_Meyer', relevance=1.0)], topics=[], transcriptLength=0.0, totalPages=None, languageCode=None, isOnFrontPage=False, publicationDate=None, countryCode=None, dataProviderCode=None, mediaCode=None, mediaType='newspaper'), ContentItem(uid='FZG-1998-02-07-a-i0054', type='ar', title='[REDACTED]', transcript='[REDACTED]', locations=[EntityMention(uid='aida-0001-54-United_States', relevance=3.0), EntityMention(uid='aida-0001-54-Jodie_Foster', relevance=1.0), EntityMention(uid='aida-0001-54-Hollywood', relevance=1.0), EntityMention(uid='aida-0001-54-Elizabeth_Taylor', relevance=1.0)], persons=[EntityMention(uid='aida-0001-50-Natasha_Richardson', relevance=1.0), EntityMention(uid='aida-0001-50-Liam_Neeson', relevance=1.0), EntityMention(uid='aida-0001-50-Jodie_Foster', relevance=3.0), EntityMention(uid='aida-0001-50-Kaspar_Hauser', relevance=1.0), EntityMention(uid='aida-0001-50-Meryl_Streep', relevance=1.0), EntityMention(uid='aida-0001-50-Goldie_Hawn', relevance=1.0), EntityMention(uid='aida-0001-50-Bruce_Willis', relevance=1.0), EntityMention(uid='aida-0001-50-Robert_Zemeckis', relevance=1.0), EntityMention(uid='aida-0001-50-Michael_Apted', relevance=1.0), EntityMention(uid='aida-0001-50-Mark_Handley', relevance=1.0), EntityMention(uid='aida-0001-50-James_Spader', relevance=1.0), EntityMention(uid='aida-0001-50-Kurt_Russell', relevance=1.0), EntityMention(uid='aida-0001-50-Roland_Emmerich', relevance=1.0), EntityMention(uid='aida-0001-50-Audrey_Hepburn', relevance=1.0), EntityMention(uid='aida-0001-50-Terence_Young_$28$director$29$', relevance=1.0), EntityMention(uid='aida-0001-50-Sidney_Sheldon', relevance=1.0), EntityMention(uid='aida-0001-50-James_Mason', relevance=1.0), EntityMention(uid='aida-0001-50-Ben_Gazzara', relevance=1.0), EntityMention(uid='aida-0001-50-Omar_Sharif', relevance=1.0), EntityMention(uid='aida-0001-50-Romy_Schneider', relevance=1.0), EntityMention(uid='aida-0001-50-Gert_Fröbe', relevance=1.0), EntityMention(uid='aida-0001-50-Abdullah_Ibrahim', relevance=3.0), EntityMention(uid='aida-0001-50-George_Gray_$28$TV_host$29$', relevance=1.0)], topics=[], transcriptLength=0.0, totalPages=None, languageCode=None, isOnFrontPage=False, publicationDate=None, countryCode=None, dataProviderCode=None, mediaCode=None, mediaType='newspaper'), ContentItem(uid='luxland-1998-05-29-a-i0174', type='ad', title='[REDACTED]', transcript='[REDACTED]', locations=[EntityMention(uid='aida-0001-54-Luxembourg', relevance=2.0)], persons=[EntityMention(uid='aida-0001-50-Henri_Tudor', relevance=1.0)], topics=[], transcriptLength=0.0, totalPages=None, languageCode=None, isOnFrontPage=False, publicationDate=None, countryCode=None, dataProviderCode=None, mediaCode=None, mediaType='newspaper'), ContentItem(uid='luxland-1998-11-13-a-i0062', type='ar', title='[REDACTED]', transcript='[REDACTED]', locations=[EntityMention(uid='aida-0001-54-Luxembourg', relevance=1.0)], persons=[EntityMention(uid='aida-0001-50-Colin_Davis', relevance=1.0), EntityMention(uid='aida-0001-50-Bernard_Haitink', relevance=1.0)], topics=[], transcriptLength=0.0, totalPages=None, languageCode=None, isOnFrontPage=False, publicationDate=None, countryCode=None, dataProviderCode=None, mediaCode=None, mediaType='newspaper'), ContentItem(uid='FZG-1999-08-13-a-i0008', type='ar', title='[REDACTED]', transcript='[REDACTED]', locations=[EntityMention(uid='aida-0001-54-FC_Luzern', relevance=2.0), EntityMention(uid='aida-0001-54-Switzerland', relevance=1.0), EntityMention(uid='aida-0001-54-Berlin_Philharmonic', relevance=1.0), EntityMention(uid='aida-0001-54-Dazu_County', relevance=2.0), EntityMention(uid='aida-0001-54-Bergen', relevance=1.0), EntityMention(uid='aida-0001-54-Rustavi', relevance=1.0)], persons=[EntityMention(uid='aida-0001-50-Gustav_Mahler', relevance=1.0), EntityMention(uid='aida-0001-50-Bernard_Haitink', relevance=1.0), EntityMention(uid='aida-0001-50-Claudio_Abbado', relevance=1.0), EntityMention(uid='aida-0001-50-Simon_Rattle', relevance=1.0), EntityMention(uid='aida-0001-50-Evelyn_Glennie', relevance=2.0), EntityMention(uid='aida-0001-50-Matthias_Bamert', relevance=1.0), EntityMention(uid='aida-0001-50-Robert_B._Wilson', relevance=1.0), EntityMention(uid='aida-0001-50-Lars_Vogt', relevance=1.0), EntityMention(uid='aida-0001-50-Klaus_Maria_Brandauer', relevance=1.0), EntityMention(uid='aida-0001-50-Nike_Wagner', relevance=1.0)], topics=[], transcriptLength=0.0, totalPages=None, languageCode=None, isOnFrontPage=False, publicationDate=None, countryCode=None, dataProviderCode=None, mediaCode=None, mediaType='newspaper'), ContentItem(uid='luxland-1999-11-05-a-i0028', type='ar', title='[REDACTED]', transcript='[REDACTED]', locations=[EntityMention(uid='aida-0001-54-Luxembourg', relevance=1.0)], persons=[], topics=[], transcriptLength=0.0, totalPages=None, languageCode=None, isOnFrontPage=False, publicationDate=None, countryCode=None, dataProviderCode=None, mediaCode=None, mediaType='newspaper'), ContentItem(uid='luxland-2000-11-24-a-i0030', type='ar', title='[REDACTED]', transcript='[REDACTED]', locations=[EntityMention(uid='aida-0001-54-Luxembourg', relevance=1.0)], persons=[], topics=[], transcriptLength=0.0, totalPages=None, languageCode=None, isOnFrontPage=False, publicationDate=None, countryCode=None, dataProviderCode=None, mediaCode=None, mediaType='newspaper'), ContentItem(uid='LLE-2001-04-23-a-i0253', type='ar', title='[REDACTED]', transcript='[REDACTED]', locations=[EntityMention(uid='aida-0001-54-Suisse$2c$_Moselle', relevance=5.0), EntityMention(uid='aida-0001-54-Zürich', relevance=1.0), EntityMention(uid='aida-0001-54-Gare_de_Cornavin', relevance=1.0), EntityMention(uid='aida-0001-54-Rorschach$2c$_St._Gallen', relevance=1.0), EntityMention(uid='aida-0001-54-Italy', relevance=1.0), EntityMention(uid='aida-0001-54-Claude_Dallemagne', relevance=1.0)], persons=[], topics=[], transcriptLength=0.0, totalPages=None, languageCode=None, isOnFrontPage=False, publicationDate=None, countryCode=None, dataProviderCode=None, mediaCode=None, mediaType='newspaper'), ContentItem(uid='FZG-2001-08-04-a-i0012', type='ar', title='[REDACTED]', transcript='[REDACTED]', locations=[EntityMention(uid='aida-0001-54-ETH_Zurich', relevance=3.0), EntityMention(uid='aida-0001-54-Lausanne', relevance=1.0), EntityMention(uid='aida-0001-54-Lugano', relevance=1.0), EntityMention(uid='aida-0001-54-Switzerland', relevance=2.0), EntityMention(uid='aida-0001-54-Lage', relevance=1.0), EntityMention(uid='aida-0001-54-Edmonton', relevance=1.0), EntityMention(uid='aida-0001-54-Timon_$28$character_of_Rome$29$', relevance=1.0), EntityMention(uid='aida-0001-54-United_States', relevance=11.0), EntityMention(uid='aida-0001-54-Roswell_$28$TV_series$29$', relevance=1.0), EntityMention(uid='aida-0001-54-Casper$2c$_Wyoming', relevance=1.0), EntityMention(uid='aida-0001-54-Klagenfurt', relevance=1.0), EntityMention(uid='aida-0001-54-George_Best', relevance=6.0), EntityMention(uid='aida-0001-54-Alice_Cooper', relevance=1.0)], persons=[EntityMention(uid='aida-0001-50-Pierre_Favre_$28$musician$29$', relevance=1.0), EntityMention(uid='aida-0001-50-Mathias_Rüegg', relevance=1.0), EntityMention(uid='aida-0001-50-Sylvie_Courvoisier', relevance=1.0), EntityMention(uid='aida-0001-50-Franco_Ambrosetti', relevance=1.0), EntityMention(uid='aida-0001-50-Ocean_Girl', relevance=1.0), EntityMention(uid='aida-0001-50-Battle_of_Mogadishu_$28$1993$29$', relevance=1.0), EntityMention(uid='aida-0001-50-Alice_Schwarzer', relevance=1.0), EntityMention(uid='aida-0001-50-Michael_Egan_$28$author$29$', relevance=1.0), EntityMention(uid='aida-0001-50-Alan_Alda', relevance=1.0), EntityMention(uid='aida-0001-50-Mike_Binder', relevance=1.0), EntityMention(uid='aida-0001-50-Johnny_Bravo', relevance=1.0), EntityMention(uid='aida-0001-50-Don_King_$28$boxing_promoter$29$', relevance=1.0), EntityMention(uid='aida-0001-50-Kevin_Bacon', relevance=1.0), EntityMention(uid='aida-0001-50-David_Keith', relevance=1.0), EntityMention(uid='aida-0001-50-Pirmin_Meier', relevance=1.0), EntityMention(uid='aida-0001-50-Colin_Davis', relevance=1.0), EntityMention(uid='aida-0001-50-Dominique_Longo', relevance=1.0)], topics=[], transcriptLength=0.0, totalPages=None, languageCode=None, isOnFrontPage=False, publicationDate=None, countryCode=None, dataProviderCode=None, mediaCode=None, mediaType='newspaper'), ContentItem(uid='FZG-2001-10-04-a-i0220', type='ar', title='[REDACTED]', transcript='[REDACTED]', locations=[EntityMention(uid='aida-0001-54-Berlin_Philharmonic', relevance=1.0)], persons=[EntityMention(uid='aida-0001-50-Lars_Vogt', relevance=1.0)], topics=[], transcriptLength=0.0, totalPages=None, languageCode=None, isOnFrontPage=False, publicationDate=None, countryCode=None, dataProviderCode=None, mediaCode=None, mediaType='newspaper'), ContentItem(uid='luxland-2001-11-16-a-i0066', type='ar', title='[REDACTED]', transcript='[REDACTED]', locations=[EntityMention(uid='aida-0001-54-Luxembourg', relevance=1.0)], persons=[EntityMention(uid='aida-0001-50-Vladimir_Ashkenazy', relevance=1.0)], topics=[], transcriptLength=0.0, totalPages=None, languageCode=None, isOnFrontPage=False, publicationDate=None, countryCode=None, dataProviderCode=None, mediaCode=None, mediaType='newspaper'), ContentItem(uid='luxland-2001-11-16-a-i0018', type='ar', title='[REDACTED]', transcript='[REDACTED]', locations=[EntityMention(uid='aida-0001-54-Luxembourg_railway_station', relevance=2.0), EntityMention(uid='aida-0001-54-Luxembourg', relevance=1.0)], persons=[], topics=[], transcriptLength=0.0, totalPages=None, languageCode=None, isOnFrontPage=False, publicationDate=None, countryCode=None, dataProviderCode=None, mediaCode=None, mediaType='newspaper'), ContentItem(uid='luxland-2002-01-11-a-i0009', type='ar', title='[REDACTED]', transcript='[REDACTED]', locations=[EntityMention(uid='aida-0001-54-Brussels', relevance=1.0), EntityMention(uid='aida-0001-54-Luxembourg', relevance=1.0)], persons=[EntityMention(uid='aida-0001-50-François_Biltgen', relevance=2.0), EntityMention(uid='aida-0001-50-George_Orwell', relevance=1.0)], topics=[], transcriptLength=0.0, totalPages=None, languageCode=None, isOnFrontPage=False, publicationDate=None, countryCode=None, dataProviderCode=None, mediaCode=None, mediaType='newspaper'), ContentItem(uid='luxland-2002-04-12-a-i0031', type='ar', title='[REDACTED]', transcript='[REDACTED]', locations=[EntityMention(uid='aida-0001-54-Israel', relevance=8.0), EntityMention(uid='aida-0001-54-Israeli-occupied_territories', relevance=2.0), EntityMention(uid='aida-0001-54-Brussels', relevance=2.0), EntityMention(uid='aida-0001-54-Ramallah', relevance=1.0), EntityMention(uid='aida-0001-54-Bethlehem', relevance=2.0)], persons=[EntityMention(uid='aida-0001-50-Romano_Prodi', relevance=1.0), EntityMention(uid='aida-0001-50-Javier_Solana', relevance=1.0), EntityMention(uid='aida-0001-50-Geneva_Conventions', relevance=1.0)], topics=[], transcriptLength=0.0, totalPages=None, languageCode=None, isOnFrontPage=False, publicationDate=None, countryCode=None, dataProviderCode=None, mediaCode=None, mediaType='newspaper'), ContentItem(uid='EXP-2002-06-11-a-i0229', type='ar', title='[REDACTED]', transcript='[REDACTED]', locations=[EntityMention(uid='aida-0001-54-Lausanne', relevance=4.0), EntityMention(uid='aida-0001-54-Berlin', relevance=4.0), EntityMention(uid='aida-0001-54-Paris', relevance=1.0), EntityMention(uid='aida-0001-54-Bordeaux', relevance=1.0)], persons=[EntityMention(uid='aida-0001-50-Sauerbruch_Hutton', relevance=6.0)], topics=[], transcriptLength=0.0, totalPages=None, languageCode=None, isOnFrontPage=False, publicationDate=None, countryCode=None, dataProviderCode=None, mediaCode=None, mediaType='newspaper'), ContentItem(uid='IMP-2002-06-11-a-i0198', type='ar', title='[REDACTED]', transcript='[REDACTED]', locations=[EntityMention(uid='aida-0001-54-Lausanne', relevance=4.0), EntityMention(uid='aida-0001-54-Berlin', relevance=4.0), EntityMention(uid='aida-0001-54-Paris', relevance=1.0), EntityMention(uid='aida-0001-54-Bordeaux', relevance=1.0)], persons=[EntityMention(uid='aida-0001-50-Sauerbruch_Hutton', relevance=7.0)], topics=[], transcriptLength=0.0, totalPages=None, languageCode=None, isOnFrontPage=False, publicationDate=None, countryCode=None, dataProviderCode=None, mediaCode=None, mediaType='newspaper'), ContentItem(uid='luxland-2003-07-04-a-i0007', type='ar', title='[REDACTED]', transcript='[REDACTED]', locations=[EntityMention(uid='aida-0001-54-Auch', relevance=1.0), EntityMention(uid='aida-0001-54-Mission$2c$_Texas', relevance=1.0), EntityMention(uid='aida-0001-54-Landes_$28$department$29$', relevance=1.0)], persons=[EntityMention(uid='aida-0001-50-Johannes_Pauli', relevance=1.0), EntityMention(uid='aida-0001-50-Danuta_Hübner', relevance=1.0), EntityMention(uid='aida-0001-50-Genowefa_Grabowska', relevance=1.0)], topics=[], transcriptLength=0.0, totalPages=None, languageCode=None, isOnFrontPage=False, publicationDate=None, countryCode=None, dataProviderCode=None, mediaCode=None, mediaType='newspaper'), ContentItem(uid='luxland-2003-10-31-a-i0029', type='ar', title='[REDACTED]', transcript='[REDACTED]', locations=[EntityMention(uid='aida-0001-54-Luxembourg', relevance=1.0)], persons=[EntityMention(uid='aida-0001-50-Pascal_Lee', relevance=1.0), EntityMention(uid='aida-0001-50-Vladimir_Ashkenazy', relevance=1.0)], topics=[], transcriptLength=0.0, totalPages=None, languageCode=None, isOnFrontPage=False, publicationDate=None, countryCode=None, dataProviderCode=None, mediaCode=None, mediaType='newspaper'), ContentItem(uid='luxland-2004-01-30-a-i0049', type='ar', title='[REDACTED]', transcript='[REDACTED]', locations=[EntityMention(uid='aida-0001-54-Lead_vocalist', relevance=1.0), EntityMention(uid='aida-0001-54-Lille', relevance=1.0), EntityMention(uid='aida-0001-54-France', relevance=1.0)], persons=[], topics=[], transcriptLength=0.0, totalPages=None, languageCode=None, isOnFrontPage=False, publicationDate=None, countryCode=None, dataProviderCode=None, mediaCode=None, mediaType='newspaper'), ContentItem(uid='luxland-2004-04-30-a-i0096', type='ar', title='[REDACTED]', transcript='[REDACTED]', locations=[EntityMention(uid='aida-0001-54-Lithuania', relevance=7.0), EntityMention(uid='aida-0001-54-Prague', relevance=1.0), EntityMention(uid='aida-0001-54-Latvia', relevance=1.0), EntityMention(uid='aida-0001-54-Estonia', relevance=1.0), EntityMention(uid='aida-0001-54-Spain', relevance=1.0)], persons=[], topics=[], transcriptLength=0.0, totalPages=None, languageCode=None, isOnFrontPage=False, publicationDate=None, countryCode=None, dataProviderCode=None, mediaCode=None, mediaType='newspaper'), ContentItem(uid='luxland-2004-04-30-a-i0093', type='ar', title='[REDACTED]', transcript='[REDACTED]', locations=[EntityMention(uid=\"aida-0001-54-Much_the_Miller's_Son\", relevance=2.0), EntityMention(uid='aida-0001-54-Ireland', relevance=4.0), EntityMention(uid='aida-0001-54-Spain', relevance=1.0), EntityMention(uid='aida-0001-54-Germany', relevance=5.0), EntityMention(uid='aida-0001-54-Austria', relevance=2.0), EntityMention(uid='aida-0001-54-France', relevance=3.0), EntityMention(uid='aida-0001-54-Italy', relevance=3.0), EntityMention(uid='aida-0001-54-Estonia', relevance=7.0), EntityMention(uid='aida-0001-54-Slovakia', relevance=7.0), EntityMention(uid='aida-0001-54-Czech_Republic', relevance=2.0), EntityMention(uid='aida-0001-54-Munich', relevance=1.0), EntityMention(uid='aida-0001-54-Rome', relevance=1.0), EntityMention(uid='aida-0001-54-Portugal', relevance=1.0), EntityMention(uid='aida-0001-54-Luxembourg', relevance=2.0), EntityMention(uid='aida-0001-54-Finland', relevance=1.0), EntityMention(uid='aida-0001-54-Sweden', relevance=1.0), EntityMention(uid='aida-0001-54-Cambridge', relevance=2.0)], persons=[EntityMention(uid='aida-0001-50-Daniel_Gros', relevance=2.0), EntityMention(uid='aida-0001-50-Federal_Ministry_for_Matters_of_the_Marshall_Plan_$28$Germany$29$', relevance=2.0), EntityMention(uid='aida-0001-50-Daniel_Gross', relevance=1.0)], topics=[], transcriptLength=0.0, totalPages=None, languageCode=None, isOnFrontPage=False, publicationDate=None, countryCode=None, dataProviderCode=None, mediaCode=None, mediaType='newspaper'), ContentItem(uid='luxland-2004-05-07-a-i0028', type='ar', title='[REDACTED]', transcript='[REDACTED]', locations=[EntityMention(uid='aida-0001-54-United_Kingdom', relevance=1.0), EntityMention(uid='aida-0001-54-Spain', relevance=1.0), EntityMention(uid='aida-0001-54-Italy', relevance=1.0), EntityMention(uid='aida-0001-54-Poland', relevance=1.0)], persons=[EntityMention(uid='aida-0001-50-Václav_Havel', relevance=1.0), EntityMention(uid='aida-0001-50-Adam_Michnik', relevance=1.0), EntityMention(uid='aida-0001-50-György_Konrád', relevance=1.0), EntityMention(uid='aida-0001-50-André_Glucksmann', relevance=1.0), EntityMention(uid='aida-0001-50-Bernard-Henri_Lévy', relevance=1.0), EntityMention(uid='aida-0001-50-Jacques_Derrida', relevance=1.0), EntityMention(uid='aida-0001-50-Ramsey_Clark', relevance=1.0), EntityMention(uid='aida-0001-50-Scott_Ritter', relevance=1.0), EntityMention(uid='aida-0001-50-Hans_von_Sponeck', relevance=1.0), EntityMention(uid='aida-0001-50-Immanuel_Wallerstein', relevance=1.0)], topics=[], transcriptLength=0.0, totalPages=None, languageCode=None, isOnFrontPage=False, publicationDate=None, countryCode=None, dataProviderCode=None, mediaCode=None, mediaType='newspaper'), ContentItem(uid='luxland-2004-05-07-a-i0027', type='ar', title='[REDACTED]', transcript='[REDACTED]', locations=[EntityMention(uid='aida-0001-54-Great_Britain', relevance=1.0), EntityMention(uid='aida-0001-54-France', relevance=1.0), EntityMention(uid='aida-0001-54-Iraq', relevance=1.0)], persons=[], topics=[], transcriptLength=0.0, totalPages=None, languageCode=None, isOnFrontPage=False, publicationDate=None, countryCode=None, dataProviderCode=None, mediaCode=None, mediaType='newspaper'), ContentItem(uid='luxland-2004-05-21-a-i0025', type='ar', title='[REDACTED]', transcript='[REDACTED]', locations=[EntityMention(uid='aida-0001-54-Warsaw', relevance=1.0), EntityMention(uid='aida-0001-54-Slovenia', relevance=1.0), EntityMention(uid='aida-0001-54-Portugal', relevance=1.0), EntityMention(uid='aida-0001-54-Greece', relevance=1.0)], persons=[], topics=[], transcriptLength=0.0, totalPages=None, languageCode=None, isOnFrontPage=False, publicationDate=None, countryCode=None, dataProviderCode=None, mediaCode=None, mediaType='newspaper'), ContentItem(uid='FZG-2004-05-28-a-i0093', type='ar', title='[REDACTED]', transcript='[REDACTED]', locations=[EntityMention(uid='aida-0001-54-Switzerland', relevance=4.0)], persons=[], topics=[], transcriptLength=0.0, totalPages=None, languageCode=None, isOnFrontPage=False, publicationDate=None, countryCode=None, dataProviderCode=None, mediaCode=None, mediaType='newspaper'), ContentItem(uid='LLE-2004-05-28-a-i0100', type='ar', title='[REDACTED]', transcript='[REDACTED]', locations=[EntityMention(uid='aida-0001-54-Suisse$2c$_Moselle', relevance=5.0), EntityMention(uid='aida-0001-54-Eindhoven', relevance=1.0), EntityMention(uid='aida-0001-54-Belgium', relevance=1.0), EntityMention(uid='aida-0001-54-France', relevance=1.0), EntityMention(uid='aida-0001-54-Claude_Dallemagne', relevance=1.0), EntityMention(uid='aida-0001-54-Italy', relevance=1.0), EntityMention(uid='aida-0001-54-Netherlands', relevance=1.0)], persons=[EntityMention(uid='aida-0001-50-Samuel_Schmid', relevance=4.0)], topics=[], transcriptLength=0.0, totalPages=None, languageCode=None, isOnFrontPage=False, publicationDate=None, countryCode=None, dataProviderCode=None, mediaCode=None, mediaType='newspaper'), ContentItem(uid='LLE-2004-08-03-a-i0245', type='ar', title='[REDACTED]', transcript='[REDACTED]', locations=[EntityMention(uid='aida-0001-54-Strasbourg', relevance=3.0)], persons=[EntityMention(uid='aida-0001-50-Zaha_Hadid', relevance=6.0), EntityMention(uid='aida-0001-50-European_Union_Prize_for_Contemporary_Architecture', relevance=2.0)], topics=[], transcriptLength=0.0, totalPages=None, languageCode=None, isOnFrontPage=False, publicationDate=None, countryCode=None, dataProviderCode=None, mediaCode=None, mediaType='newspaper'), ContentItem(uid='FZG-2004-09-03-a-i0049', type='ar', title='[REDACTED]', transcript='[REDACTED]', locations=[EntityMention(uid='aida-0001-54-Switzerland', relevance=2.0), EntityMention(uid='aida-0001-54-Auch', relevance=1.0)], persons=[], topics=[], transcriptLength=0.0, totalPages=None, languageCode=None, isOnFrontPage=False, publicationDate=None, countryCode=None, dataProviderCode=None, mediaCode=None, mediaType='newspaper'), ContentItem(uid='EXP-2004-09-30-a-i0226', type='ar', title='[REDACTED]', transcript='[REDACTED]', locations=[EntityMention(uid='aida-0001-54-Brussels', relevance=1.0), EntityMention(uid='aida-0001-54-Switzerland', relevance=4.0), EntityMention(uid='aida-0001-54-Mission_$28$LDS_Church$29$', relevance=2.0), EntityMention(uid='aida-0001-54-Macedonia_$28$food$29$', relevance=1.0), EntityMention(uid='aida-0001-54-FK_Sarajevo', relevance=1.0), EntityMention(uid='aida-0001-54-Portugal', relevance=1.0)], persons=[], topics=[], transcriptLength=0.0, totalPages=None, languageCode=None, isOnFrontPage=False, publicationDate=None, countryCode=None, dataProviderCode=None, mediaCode=None, mediaType='newspaper'), ContentItem(uid='IMP-2004-09-30-a-i0199', type='ar', title='[REDACTED]', transcript='[REDACTED]', locations=[EntityMention(uid='aida-0001-54-Brussels', relevance=1.0), EntityMention(uid='aida-0001-54-Suisse$2c$_Moselle', relevance=4.0), EntityMention(uid='aida-0001-54-Mission_$28$LDS_Church$29$', relevance=2.0), EntityMention(uid='aida-0001-54-Macedonia_$28$food$29$', relevance=1.0), EntityMention(uid='aida-0001-54-Sarajevo', relevance=1.0), EntityMention(uid='aida-0001-54-Portugal', relevance=1.0)], persons=[], topics=[], transcriptLength=0.0, totalPages=None, languageCode=None, isOnFrontPage=False, publicationDate=None, countryCode=None, dataProviderCode=None, mediaCode=None, mediaType='newspaper'), ContentItem(uid='luxland-2004-11-05-a-i0037', type='ar', title='[REDACTED]', transcript='[REDACTED]', locations=[EntityMention(uid='aida-0001-54-Luxembourg', relevance=1.0)], persons=[EntityMention(uid='aida-0001-50-Bernard_Haitink', relevance=1.0), EntityMention(uid='aida-0001-50-John_Eliot_Gardiner', relevance=1.0)], topics=[], transcriptLength=0.0, totalPages=None, languageCode=None, isOnFrontPage=False, publicationDate=None, countryCode=None, dataProviderCode=None, mediaCode=None, mediaType='newspaper'), ContentItem(uid='luxland-2004-12-03-a-i0060', type='ar', title='[REDACTED]', transcript='[REDACTED]', locations=[EntityMention(uid='aida-0001-54-Fortuna_Düsseldorf', relevance=1.0), EntityMention(uid='aida-0001-54-Vic_Marks', relevance=1.0), EntityMention(uid='aida-0001-54-Alicante', relevance=1.0)], persons=[EntityMention(uid='aida-0001-50-O_Communications', relevance=1.0)], topics=[], transcriptLength=0.0, totalPages=None, languageCode=None, isOnFrontPage=False, publicationDate=None, countryCode=None, dataProviderCode=None, mediaCode=None, mediaType='newspaper'), ContentItem(uid='luxland-2004-12-03-a-i0052', type='ar', title='[REDACTED]', transcript='[REDACTED]', locations=[EntityMention(uid='aida-0001-54-Iran', relevance=3.0), EntityMention(uid='aida-0001-54-Luxembourg', relevance=3.0), EntityMention(uid='aida-0001-54-Malta', relevance=1.0)], persons=[EntityMention(uid='aida-0001-50-Jean-Claude_Juncker', relevance=1.0)], topics=[], transcriptLength=0.0, totalPages=None, languageCode=None, isOnFrontPage=False, publicationDate=None, countryCode=None, dataProviderCode=None, mediaCode=None, mediaType='newspaper'), ContentItem(uid='luxland-2004-12-10-a-i0032', type='ar', title='[REDACTED]', transcript='[REDACTED]', locations=[EntityMention(uid='aida-0001-54-Luxembourg', relevance=11.0), EntityMention(uid='aida-0001-54-Strasbourg', relevance=1.0), EntityMention(uid='aida-0001-54-Oxford', relevance=1.0), EntityMention(uid='aida-0001-54-Thousand_Oaks$2c$_California', relevance=1.0)], persons=[EntityMention(uid='aida-0001-50-Louis_Pasteur', relevance=1.0), EntityMention(uid='aida-0001-50-Basil_Blackwell', relevance=1.0)], topics=[], transcriptLength=0.0, totalPages=None, languageCode=None, isOnFrontPage=False, publicationDate=None, countryCode=None, dataProviderCode=None, mediaCode=None, mediaType='newspaper'), ContentItem(uid='FZG-2004-12-17-a-i0121', type='ar', title='[REDACTED]', transcript='[REDACTED]', locations=[EntityMention(uid='aida-0001-54-Switzerland', relevance=1.0)], persons=[], topics=[], transcriptLength=0.0, totalPages=None, languageCode=None, isOnFrontPage=False, publicationDate=None, countryCode=None, dataProviderCode=None, mediaCode=None, mediaType='newspaper'), ContentItem(uid='luxland-2005-01-21-a-i0027', type='ar', title='[REDACTED]', transcript='[REDACTED]', locations=[], persons=[EntityMention(uid='aida-0001-50-Tina_Turner', relevance=1.0)], topics=[], transcriptLength=0.0, totalPages=None, languageCode=None, isOnFrontPage=False, publicationDate=None, countryCode=None, dataProviderCode=None, mediaCode=None, mediaType='newspaper'), ContentItem(uid='luxland-2005-02-25-a-i0067', type='ar', title='[REDACTED]', transcript='[REDACTED]', locations=[], persons=[], topics=[], transcriptLength=0.0, totalPages=None, languageCode=None, isOnFrontPage=False, publicationDate=None, countryCode=None, dataProviderCode=None, mediaCode=None, mediaType='newspaper'), ContentItem(uid='luxland-2005-03-25-a-i0031', type='ar', title='[REDACTED]', transcript='[REDACTED]', locations=[EntityMention(uid='aida-0001-54-Kyoto', relevance=6.0)], persons=[], topics=[], transcriptLength=0.0, totalPages=None, languageCode=None, isOnFrontPage=False, publicationDate=None, countryCode=None, dataProviderCode=None, mediaCode=None, mediaType='newspaper'), ContentItem(uid='luxland-2005-04-22-a-i0032', type='ar', title='[REDACTED]', transcript='[REDACTED]', locations=[EntityMention(uid='aida-0001-54-Luxembourg', relevance=12.0), EntityMention(uid='aida-0001-54-London', relevance=1.0)], persons=[], topics=[], transcriptLength=0.0, totalPages=None, languageCode=None, isOnFrontPage=False, publicationDate=None, countryCode=None, dataProviderCode=None, mediaCode=None, mediaType='newspaper'), ContentItem(uid='luxland-2005-07-01-a-i0035', type='ar', title='[REDACTED]', transcript='[REDACTED]', locations=[EntityMention(uid='aida-0001-54-France', relevance=1.0), EntityMention(uid='aida-0001-54-Netherlands', relevance=1.0), EntityMention(uid='aida-0001-54-Republic_of_Macedonia', relevance=1.0), EntityMention(uid='aida-0001-54-Greece', relevance=1.0), EntityMention(uid='aida-0001-54-Luxembourg', relevance=1.0)], persons=[EntityMention(uid='aida-0001-50-John_Locke', relevance=1.0)], topics=[], transcriptLength=0.0, totalPages=None, languageCode=None, isOnFrontPage=False, publicationDate=None, countryCode=None, dataProviderCode=None, mediaCode=None, mediaType='newspaper'), ContentItem(uid='luxland-2005-09-09-a-i0019', type='ar', title='[REDACTED]', transcript='[REDACTED]', locations=[EntityMention(uid='aida-0001-54-Netherlands', relevance=3.0), EntityMention(uid='aida-0001-54-Ted_Schroeder', relevance=5.0), EntityMention(uid='aida-0001-54-Luxembourg', relevance=3.0), EntityMention(uid='aida-0001-54-United_Kingdom', relevance=2.0), EntityMention(uid='aida-0001-54-Sweden', relevance=1.0), EntityMention(uid='aida-0001-54-Spain', relevance=1.0), EntityMention(uid='aida-0001-54-Italy', relevance=1.0), EntityMention(uid='aida-0001-54-Rome', relevance=1.0), EntityMention(uid='aida-0001-54-Iran–Iraq_War', relevance=1.0), EntityMention(uid='aida-0001-54-Iraq', relevance=1.0), EntityMention(uid='aida-0001-54-Cambridge$2c$_Massachusetts', relevance=1.0)], persons=[EntityMention(uid='aida-0001-50-John_West_$28$governor$29$', relevance=1.0)], topics=[], transcriptLength=0.0, totalPages=None, languageCode=None, isOnFrontPage=False, publicationDate=None, countryCode=None, dataProviderCode=None, mediaCode=None, mediaType='newspaper'), ContentItem(uid='luxland-2005-11-25-a-i0168', type='ad', title='[REDACTED]', transcript='[REDACTED]', locations=[EntityMention(uid='aida-0001-54-Luxembourg', relevance=10.0), EntityMention(uid='aida-0001-54-France', relevance=1.0), EntityMention(uid='aida-0001-54-European_Union', relevance=1.0), EntityMention(uid='aida-0001-54-Munich', relevance=1.0), EntityMention(uid='aida-0001-54-Boston', relevance=2.0), EntityMention(uid='aida-0001-54-New_York_City', relevance=1.0)], persons=[EntityMention(uid='aida-0001-50-Thierry_Breton', relevance=1.0), EntityMention(uid='aida-0001-50-New_York_Herald_Tribune', relevance=1.0), EntityMention(uid='aida-0001-50-Jean-Claude_Juncker', relevance=1.0), EntityMention(uid='aida-0001-50-JPMorgan_Chase', relevance=1.0), EntityMention(uid='aida-0001-50-Michel_Maquil', relevance=1.0), EntityMention(uid='aida-0001-50-Yves_Mersch', relevance=1.0), EntityMention(uid='aida-0001-50-Jean-Claude_Trichet', relevance=1.0)], topics=[], transcriptLength=0.0, totalPages=None, languageCode=None, isOnFrontPage=False, publicationDate=None, countryCode=None, dataProviderCode=None, mediaCode=None, mediaType='newspaper'), ContentItem(uid='luxland-2006-10-20-a-i0072', type='ar', title='[REDACTED]', transcript='[REDACTED]', locations=[EntityMention(uid='aida-0001-54-Luxembourg', relevance=1.0)], persons=[EntityMention(uid='aida-0001-50-Colin_Davis', relevance=1.0), EntityMention(uid='aida-0001-50-Herbert_Blomstedt', relevance=1.0), EntityMention(uid='aida-0001-50-Vladimir_Ashkenazy', relevance=1.0)], topics=[], transcriptLength=0.0, totalPages=None, languageCode=None, isOnFrontPage=False, publicationDate=None, countryCode=None, dataProviderCode=None, mediaCode=None, mediaType='newspaper'), ContentItem(uid='luxland-2006-12-22-a-i0009', type='ar', title='[REDACTED]', transcript='[REDACTED]', locations=[], persons=[], topics=[], transcriptLength=0.0, totalPages=None, languageCode=None, isOnFrontPage=False, publicationDate=None, countryCode=None, dataProviderCode=None, mediaCode=None, mediaType='newspaper'), ContentItem(uid='luxland-2007-05-11-a-i0041', type='ar', title='[REDACTED]', transcript='[REDACTED]', locations=[EntityMention(uid='aida-0001-54-Munich', relevance=1.0), EntityMention(uid='aida-0001-54-Manchester', relevance=1.0), EntityMention(uid='aida-0001-54-Santiago_de_Compostela', relevance=1.0), EntityMention(uid='aida-0001-54-Sura_$28$city$29$', relevance=1.0)], persons=[EntityMention(uid='aida-0001-50-Johann_Sebastian_Bach', relevance=1.0), EntityMention(uid='aida-0001-50-John_Williams', relevance=1.0), EntityMention(uid='aida-0001-50-Bobby_McFerrin', relevance=1.0), EntityMention(uid='aida-0001-50-Alexander_Melnikov', relevance=1.0), EntityMention(uid='aida-0001-50-Cyprien_Katsaris', relevance=1.0), EntityMention(uid='aida-0001-50-Jordi_Savall', relevance=1.0), EntityMention(uid='aida-0001-50-Florestan_Trio', relevance=2.0), EntityMention(uid='aida-0001-50-Pierre_Cao', relevance=1.0), EntityMention(uid='aida-0001-50-Kurt_Cobain', relevance=1.0), EntityMention(uid='aida-0001-50-Allison_Anders', relevance=1.0), EntityMention(uid='aida-0001-50-Martin_Scorsese', relevance=1.0)], topics=[], transcriptLength=0.0, totalPages=None, languageCode=None, isOnFrontPage=False, publicationDate=None, countryCode=None, dataProviderCode=None, mediaCode=None, mediaType='newspaper'), ContentItem(uid='luxland-2007-08-10-a-i0040', type='ar', title='[REDACTED]', transcript='[REDACTED]', locations=[EntityMention(uid='aida-0001-54-Rostock', relevance=1.0), EntityMention(uid='aida-0001-54-London', relevance=1.0), EntityMention(uid='aida-0001-54-Bolzano', relevance=1.0), EntityMention(uid='aida-0001-54-Berlin', relevance=2.0), EntityMention(uid='aida-0001-54-Joe_Horn', relevance=1.0), EntityMention(uid='aida-0001-54-Auch', relevance=1.0)], persons=[EntityMention(uid='aida-0001-50-Jean_Sibelius', relevance=1.0), EntityMention(uid='aida-0001-50-Colin_Davis', relevance=6.0), EntityMention(uid='aida-0001-50-Johannes_Brahms', relevance=1.0), EntityMention(uid='aida-0001-50-Leonidas_Kavakos', relevance=1.0), EntityMention(uid='aida-0001-50-Hanns_Eisler', relevance=1.0), EntityMention(uid='aida-0001-50-Claudio_Abbado', relevance=1.0), EntityMention(uid='aida-0001-50-Bernard_Haitink', relevance=1.0), EntityMention(uid='aida-0001-50-Vladimir_Ashkenazy', relevance=1.0), EntityMention(uid='aida-0001-50-Daniel_Barenboim', relevance=1.0), EntityMention(uid='aida-0001-50-Herbert_Blomstedt', relevance=1.0), EntityMention(uid='aida-0001-50-David_Strange', relevance=1.0)], topics=[], transcriptLength=0.0, totalPages=None, languageCode=None, isOnFrontPage=False, publicationDate=None, countryCode=None, dataProviderCode=None, mediaCode=None, mediaType='newspaper'), ContentItem(uid='LLE-2008-10-02-a-i0112', type='ar', title='[REDACTED]', transcript='[REDACTED]', locations=[EntityMention(uid='aida-0001-54-Moscow', relevance=4.0), EntityMention(uid='aida-0001-54-Russia', relevance=2.0), EntityMention(uid='aida-0001-54-Mission_$28$LDS_Church$29$', relevance=1.0)], persons=[], topics=[], transcriptLength=0.0, totalPages=None, languageCode=None, isOnFrontPage=False, publicationDate=None, countryCode=None, dataProviderCode=None, mediaCode=None, mediaType='newspaper'), ContentItem(uid='IMP-2010-03-31-a-i0127', type='ar', title='[REDACTED]', transcript='[REDACTED]', locations=[EntityMention(uid='aida-0001-54-Basel', relevance=3.0), EntityMention(uid='aida-0001-54-Lugano', relevance=2.0)], persons=[EntityMention(uid='aida-0001-50-Charlie_Hebdo', relevance=1.0), EntityMention(uid='aida-0001-50-Sol_Gabetta', relevance=2.0), EntityMention(uid='aida-0001-50-Alain_Lombard', relevance=2.0), EntityMention(uid='aida-0001-50-Vladimir_Ashkenazy', relevance=1.0), EntityMention(uid='aida-0001-50-Heinz_Holliger', relevance=1.0)], topics=[], transcriptLength=0.0, totalPages=None, languageCode=None, isOnFrontPage=False, publicationDate=None, countryCode=None, dataProviderCode=None, mediaCode=None, mediaType='newspaper'), ContentItem(uid='EXP-2010-03-31-a-i0128', type='ar', title='[REDACTED]', transcript='[REDACTED]', locations=[EntityMention(uid='aida-0001-54-Basel', relevance=3.0), EntityMention(uid='aida-0001-54-Lugano', relevance=2.0)], persons=[EntityMention(uid='aida-0001-50-Charlie_Hebdo', relevance=1.0), EntityMention(uid='aida-0001-50-Sol_Gabetta', relevance=2.0), EntityMention(uid='aida-0001-50-Alain_Lombard', relevance=2.0), EntityMention(uid='aida-0001-50-Vladimir_Ashkenazy', relevance=1.0), EntityMention(uid='aida-0001-50-Heinz_Holliger', relevance=1.0)], topics=[], transcriptLength=0.0, totalPages=None, languageCode=None, isOnFrontPage=False, publicationDate=None, countryCode=None, dataProviderCode=None, mediaCode=None, mediaType='newspaper'), ContentItem(uid='LLE-2012-05-03-a-i0180', type='ar', title='[REDACTED]', transcript='[REDACTED]', locations=[EntityMention(uid='aida-0001-54-Fribourg', relevance=3.0), EntityMention(uid='aida-0001-54-Switzerland', relevance=1.0), EntityMention(uid='aida-0001-54-Oxford', relevance=1.0), EntityMention(uid='aida-0001-54-Romont', relevance=1.0)], persons=[EntityMention(uid='aida-0001-50-Georges_Schwizgebel', relevance=1.0), EntityMention(uid='aida-0001-50-Brigitte_Wolf', relevance=1.0)], topics=[], transcriptLength=0.0, totalPages=None, languageCode=None, isOnFrontPage=False, publicationDate=None, countryCode=None, dataProviderCode=None, mediaCode=None, mediaType='newspaper')], pagination=Pagination(total=79, limit=100, offset=0))"
      ]
     },
     "execution_count": 5,
     "metadata": {},
     "output_type": "execute_result"
    }
   ],
   "source": [
    "result.pydantic"
   ]
  },
  {
   "cell_type": "markdown",
   "metadata": {},
   "source": [
    "### Pandas\n",
    "We can also get the search results as a [Pandas](https://pandas.pydata.org/) DataFrame. \n",
    "This allows us to easily manipulate and analyze the data using pandas' powerful data manipulation capabilities."
   ]
  },
  {
   "cell_type": "code",
   "execution_count": 6,
   "metadata": {},
   "outputs": [
    {
     "data": {
      "text/html": [
       "<div>\n",
       "<style scoped>\n",
       "    .dataframe tbody tr th:only-of-type {\n",
       "        vertical-align: middle;\n",
       "    }\n",
       "\n",
       "    .dataframe tbody tr th {\n",
       "        vertical-align: top;\n",
       "    }\n",
       "\n",
       "    .dataframe thead th {\n",
       "        text-align: right;\n",
       "    }\n",
       "</style>\n",
       "<table border=\"1\" class=\"dataframe\">\n",
       "  <thead>\n",
       "    <tr style=\"text-align: right;\">\n",
       "      <th></th>\n",
       "      <th>type</th>\n",
       "      <th>title</th>\n",
       "      <th>transcript</th>\n",
       "      <th>locations</th>\n",
       "      <th>persons</th>\n",
       "      <th>topics</th>\n",
       "      <th>transcriptLength</th>\n",
       "      <th>isOnFrontPage</th>\n",
       "      <th>mediaType</th>\n",
       "    </tr>\n",
       "    <tr>\n",
       "      <th>uid</th>\n",
       "      <th></th>\n",
       "      <th></th>\n",
       "      <th></th>\n",
       "      <th></th>\n",
       "      <th></th>\n",
       "      <th></th>\n",
       "      <th></th>\n",
       "      <th></th>\n",
       "      <th></th>\n",
       "    </tr>\n",
       "  </thead>\n",
       "  <tbody>\n",
       "    <tr>\n",
       "      <th>luxwort-1948-11-25-a-i0033</th>\n",
       "      <td>ar</td>\n",
       "      <td>[REDACTED]</td>\n",
       "      <td>[REDACTED]</td>\n",
       "      <td>[{'uid': 'aida-0001-54-Rome', 'relevance': 1},...</td>\n",
       "      <td>[]</td>\n",
       "      <td>[]</td>\n",
       "      <td>0</td>\n",
       "      <td>False</td>\n",
       "      <td>newspaper</td>\n",
       "    </tr>\n",
       "    <tr>\n",
       "      <th>FZG-1950-06-17-a-i0045</th>\n",
       "      <td>ar</td>\n",
       "      <td>[REDACTED]</td>\n",
       "      <td>[REDACTED]</td>\n",
       "      <td>[{'uid': 'aida-0001-54-London', 'relevance': 5...</td>\n",
       "      <td>[{'uid': 'aida-0001-50-Karl_Arnold', 'relevanc...</td>\n",
       "      <td>[]</td>\n",
       "      <td>0</td>\n",
       "      <td>False</td>\n",
       "      <td>newspaper</td>\n",
       "    </tr>\n",
       "  </tbody>\n",
       "</table>\n",
       "</div>"
      ],
      "text/plain": [
       "                           type       title  transcript  \\\n",
       "uid                                                       \n",
       "luxwort-1948-11-25-a-i0033   ar  [REDACTED]  [REDACTED]   \n",
       "FZG-1950-06-17-a-i0045       ar  [REDACTED]  [REDACTED]   \n",
       "\n",
       "                                                                    locations  \\\n",
       "uid                                                                             \n",
       "luxwort-1948-11-25-a-i0033  [{'uid': 'aida-0001-54-Rome', 'relevance': 1},...   \n",
       "FZG-1950-06-17-a-i0045      [{'uid': 'aida-0001-54-London', 'relevance': 5...   \n",
       "\n",
       "                                                                      persons  \\\n",
       "uid                                                                             \n",
       "luxwort-1948-11-25-a-i0033                                                 []   \n",
       "FZG-1950-06-17-a-i0045      [{'uid': 'aida-0001-50-Karl_Arnold', 'relevanc...   \n",
       "\n",
       "                           topics  transcriptLength  isOnFrontPage  mediaType  \n",
       "uid                                                                            \n",
       "luxwort-1948-11-25-a-i0033     []                 0          False  newspaper  \n",
       "FZG-1950-06-17-a-i0045         []                 0          False  newspaper  "
      ]
     },
     "execution_count": 6,
     "metadata": {},
     "output_type": "execute_result"
    }
   ],
   "source": [
    "df = result.df\n",
    "df.head(2)"
   ]
  },
  {
   "cell_type": "markdown",
   "metadata": {},
   "source": [
    "## Get a content item\n",
    "\n",
    "Below we will use the `content_items` resource to get an article by its ID:"
   ]
  },
  {
   "cell_type": "code",
   "execution_count": 7,
   "metadata": {},
   "outputs": [
    {
     "data": {
      "text/html": [
       "<div style=\"display: grid; \">\n",
       "<div>\n",
       "<h2>ContentItem result</h2>\n",
       "<div>Contains <b>1</b> items of <b>1</b> total items.</div>\n",
       "<br/>\n",
       "See this result in the <a href=\"https://impresso-project.ch/app/issue/NZZ-1794-08-09-a/view?articleId=i0002\">Impresso App</a>.\n",
       "</div>\n",
       "</div>\n",
       "<h3>Data preview:</h3>\n",
       "<div>\n",
       "<style scoped>\n",
       "    .dataframe tbody tr th:only-of-type {\n",
       "        vertical-align: middle;\n",
       "    }\n",
       "\n",
       "    .dataframe tbody tr th {\n",
       "        vertical-align: top;\n",
       "    }\n",
       "\n",
       "    .dataframe thead th {\n",
       "        text-align: right;\n",
       "    }\n",
       "</style>\n",
       "<table border=\"1\" class=\"dataframe\">\n",
       "  <thead>\n",
       "    <tr style=\"text-align: right;\">\n",
       "      <th></th>\n",
       "      <th>uid</th>\n",
       "      <th>type</th>\n",
       "      <th>title</th>\n",
       "      <th>transcript</th>\n",
       "      <th>locations</th>\n",
       "      <th>persons</th>\n",
       "      <th>topics</th>\n",
       "      <th>transcriptLength</th>\n",
       "      <th>totalPages</th>\n",
       "      <th>languageCode</th>\n",
       "      <th>isOnFrontPage</th>\n",
       "      <th>publicationDate</th>\n",
       "      <th>countryCode</th>\n",
       "      <th>dataProviderCode</th>\n",
       "      <th>mediaCode</th>\n",
       "      <th>mediaType</th>\n",
       "    </tr>\n",
       "  </thead>\n",
       "  <tbody>\n",
       "    <tr>\n",
       "      <th>0</th>\n",
       "      <td>NZZ-1794-08-09-a-i0002</td>\n",
       "      <td>page</td>\n",
       "      <td>[REDACTED]</td>\n",
       "      <td>[REDACTED]</td>\n",
       "      <td>[{'uid': 'aida-0001-54-Paris', 'relevance': 2}...</td>\n",
       "      <td>[]</td>\n",
       "      <td>[{'uid': 'tm-de-all-v2.0_tp47_de', 'relevance'...</td>\n",
       "      <td>1252</td>\n",
       "      <td>1</td>\n",
       "      <td>de</td>\n",
       "      <td>False</td>\n",
       "      <td>1794-08-09T00:00:00+00:00</td>\n",
       "      <td>CH</td>\n",
       "      <td>NZZ</td>\n",
       "      <td>NZZ</td>\n",
       "      <td>newspaper</td>\n",
       "    </tr>\n",
       "  </tbody>\n",
       "</table>\n",
       "</div>"
      ],
      "text/plain": [
       "<impresso.resources.content_items.ContentItemDataContainer at 0x1128c7b50>"
      ]
     },
     "execution_count": 7,
     "metadata": {},
     "output_type": "execute_result"
    }
   ],
   "source": [
    "content_item = impresso.content_items.get(\"NZZ-1794-08-09-a-i0002\")\n",
    "content_item"
   ]
  },
  {
   "cell_type": "markdown",
   "metadata": {},
   "source": [
    "We can also get it as a Pydantic model or as a DataFrame."
   ]
  },
  {
   "cell_type": "code",
   "execution_count": 9,
   "metadata": {},
   "outputs": [
    {
     "data": {
      "text/plain": [
       "'[REDACTED]'"
      ]
     },
     "execution_count": 9,
     "metadata": {},
     "output_type": "execute_result"
    }
   ],
   "source": [
    "content_item.pydantic.transcript"
   ]
  },
  {
   "cell_type": "code",
   "execution_count": 11,
   "metadata": {},
   "outputs": [
    {
     "data": {
      "text/html": [
       "<div>\n",
       "<style scoped>\n",
       "    .dataframe tbody tr th:only-of-type {\n",
       "        vertical-align: middle;\n",
       "    }\n",
       "\n",
       "    .dataframe tbody tr th {\n",
       "        vertical-align: top;\n",
       "    }\n",
       "\n",
       "    .dataframe thead th {\n",
       "        text-align: right;\n",
       "    }\n",
       "</style>\n",
       "<table border=\"1\" class=\"dataframe\">\n",
       "  <thead>\n",
       "    <tr style=\"text-align: right;\">\n",
       "      <th></th>\n",
       "      <th>uid</th>\n",
       "      <th>countryCode</th>\n",
       "      <th>languageCode</th>\n",
       "    </tr>\n",
       "  </thead>\n",
       "  <tbody>\n",
       "    <tr>\n",
       "      <th>0</th>\n",
       "      <td>NZZ-1794-08-09-a-i0002</td>\n",
       "      <td>CH</td>\n",
       "      <td>de</td>\n",
       "    </tr>\n",
       "  </tbody>\n",
       "</table>\n",
       "</div>"
      ],
      "text/plain": [
       "                      uid countryCode languageCode\n",
       "0  NZZ-1794-08-09-a-i0002          CH           de"
      ]
     },
     "execution_count": 11,
     "metadata": {},
     "output_type": "execute_result"
    }
   ],
   "source": [
    "content_item.df[['uid', 'countryCode', 'languageCode']]\n"
   ]
  },
  {
   "cell_type": "markdown",
   "metadata": {},
   "source": [
    "## Search facets\n",
    "\n",
    "In this cell, we will search for facets related to the term \"fromage\" in the Impresso collection. This is a convenient way to see a breakdown of the search results by country.\n"
   ]
  },
  {
   "cell_type": "code",
   "execution_count": 13,
   "metadata": {},
   "outputs": [
    {
     "data": {
      "text/html": [
       "<div>\n",
       "<style scoped>\n",
       "    .dataframe tbody tr th:only-of-type {\n",
       "        vertical-align: middle;\n",
       "    }\n",
       "\n",
       "    .dataframe tbody tr th {\n",
       "        vertical-align: top;\n",
       "    }\n",
       "\n",
       "    .dataframe thead th {\n",
       "        text-align: right;\n",
       "    }\n",
       "</style>\n",
       "<table border=\"1\" class=\"dataframe\">\n",
       "  <thead>\n",
       "    <tr style=\"text-align: right;\">\n",
       "      <th></th>\n",
       "      <th>count</th>\n",
       "    </tr>\n",
       "    <tr>\n",
       "      <th>value</th>\n",
       "      <th></th>\n",
       "    </tr>\n",
       "  </thead>\n",
       "  <tbody>\n",
       "    <tr>\n",
       "      <th>CH</th>\n",
       "      <td>132744</td>\n",
       "    </tr>\n",
       "    <tr>\n",
       "      <th>LU</th>\n",
       "      <td>4290</td>\n",
       "    </tr>\n",
       "  </tbody>\n",
       "</table>\n",
       "</div>"
      ],
      "text/plain": [
       "        count\n",
       "value        \n",
       "CH     132744\n",
       "LU       4290"
      ]
     },
     "execution_count": 13,
     "metadata": {},
     "output_type": "execute_result"
    }
   ],
   "source": [
    "country_facet = impresso.search.facet(\"country\", term=\"fromage\")\n",
    "country_facet.df"
   ]
  }
 ],
 "metadata": {
  "kernelspec": {
   "display_name": ".venv",
   "language": "python",
   "name": "python3"
  },
  "language_info": {
   "codemirror_mode": {
    "name": "ipython",
    "version": 3
   },
   "file_extension": ".py",
   "mimetype": "text/x-python",
   "name": "python",
   "nbconvert_exporter": "python",
   "pygments_lexer": "ipython3",
   "version": "3.11.9"
  }
 },
 "nbformat": 4,
 "nbformat_minor": 2
}
