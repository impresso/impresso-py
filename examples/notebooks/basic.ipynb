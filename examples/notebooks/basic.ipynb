{
 "cells": [
  {
   "cell_type": "markdown",
   "metadata": {},
   "source": [
    "# Initialize Impresso Client\n",
    "\n",
    "In this cell, we initialize the Impresso client to connect to the Impresso API. \n",
    "The `impresso` variable is an instance of `impresso.client.ImpressoClient`, which allows us to interact with the API \n",
    "and perform various operations such as searching for articles, retrieving article details, and fetching facets."
   ]
  },
  {
   "cell_type": "code",
   "execution_count": null,
   "metadata": {},
   "outputs": [],
   "source": [
    "from impresso import connect\n",
    "\n",
    "impresso = connect()"
   ]
  },
  {
   "cell_type": "markdown",
   "metadata": {},
   "source": [
    "## Search content items\n",
    "\n",
    "In this notebook, we will search for content items that contain the term \"European Union\" in the text. The results are ordered by date.\n",
    "\n",
    "Below the result container is rendered as an overview of what it contains.\n"
   ]
  },
  {
   "cell_type": "code",
   "execution_count": 2,
   "metadata": {},
   "outputs": [
    {
     "data": {
      "text/html": [
       "<div style=\"display: grid; \">\n",
       "<div>\n",
       "<h2>Search result</h2>\n",
       "<div>Contains <b>91</b> items of <b>91</b> total items.</div>\n",
       "<br/>\n",
       "See this result in the <a href=\"https://impresso-project.ch/app/search?orderBy=date&sq=ChIYByoORXVyb3BlYW4gVW5pb24=&p=1\">Impresso App</a>.\n",
       "</div>\n",
       "</div>\n",
       "<h3>Data preview:</h3>\n",
       "<div>\n",
       "<style scoped>\n",
       "    .dataframe tbody tr th:only-of-type {\n",
       "        vertical-align: middle;\n",
       "    }\n",
       "\n",
       "    .dataframe tbody tr th {\n",
       "        vertical-align: top;\n",
       "    }\n",
       "\n",
       "    .dataframe thead th {\n",
       "        text-align: right;\n",
       "    }\n",
       "</style>\n",
       "<table border=\"1\" class=\"dataframe\">\n",
       "  <thead>\n",
       "    <tr style=\"text-align: right;\">\n",
       "      <th></th>\n",
       "      <th>copyrightStatus</th>\n",
       "      <th>type</th>\n",
       "      <th>sourceMedium</th>\n",
       "      <th>title</th>\n",
       "      <th>locationEntities</th>\n",
       "      <th>personEntities</th>\n",
       "      <th>organisationEntities</th>\n",
       "      <th>newsAgenciesEntities</th>\n",
       "      <th>topics</th>\n",
       "      <th>transcriptLength</th>\n",
       "      <th>totalPages</th>\n",
       "      <th>languageCode</th>\n",
       "      <th>isOnFrontPage</th>\n",
       "      <th>publicationDate</th>\n",
       "      <th>issueUid</th>\n",
       "      <th>countryCode</th>\n",
       "      <th>providerCode</th>\n",
       "      <th>mediaUid</th>\n",
       "      <th>mediaType</th>\n",
       "    </tr>\n",
       "    <tr>\n",
       "      <th>uid</th>\n",
       "      <th></th>\n",
       "      <th></th>\n",
       "      <th></th>\n",
       "      <th></th>\n",
       "      <th></th>\n",
       "      <th></th>\n",
       "      <th></th>\n",
       "      <th></th>\n",
       "      <th></th>\n",
       "      <th></th>\n",
       "      <th></th>\n",
       "      <th></th>\n",
       "      <th></th>\n",
       "      <th></th>\n",
       "      <th></th>\n",
       "      <th></th>\n",
       "      <th></th>\n",
       "      <th></th>\n",
       "      <th></th>\n",
       "    </tr>\n",
       "  </thead>\n",
       "  <tbody>\n",
       "    <tr>\n",
       "      <th>luxwort-1948-11-25-a-i0033</th>\n",
       "      <td>in_cpy</td>\n",
       "      <td>ar</td>\n",
       "      <td>print</td>\n",
       "      <td>[REDACTED]</td>\n",
       "      <td>[]</td>\n",
       "      <td>[{'uid': '2-50-Pius_XII.', 'count': 1}]</td>\n",
       "      <td>[]</td>\n",
       "      <td>[]</td>\n",
       "      <td>[{'uid': 'tm-de-all-v2.0_tp25_de', 'relevance'...</td>\n",
       "      <td>733</td>\n",
       "      <td>1</td>\n",
       "      <td>de</td>\n",
       "      <td>False</td>\n",
       "      <td>1948-11-25T00:00:00+00:00</td>\n",
       "      <td>luxwort-1948-11-25-a</td>\n",
       "      <td>LU</td>\n",
       "      <td>BNL</td>\n",
       "      <td>luxwort</td>\n",
       "      <td>newspaper</td>\n",
       "    </tr>\n",
       "    <tr>\n",
       "      <th>FZG-1950-06-17-a-i0045</th>\n",
       "      <td>in_cpy</td>\n",
       "      <td>ar</td>\n",
       "      <td>print</td>\n",
       "      <td>[REDACTED]</td>\n",
       "      <td>[]</td>\n",
       "      <td>[{'uid': '2-50-Konrad_Adenauer', 'count': 1}, ...</td>\n",
       "      <td>[]</td>\n",
       "      <td>[]</td>\n",
       "      <td>[{'uid': 'tm-de-all-v2.0_tp86_de', 'relevance'...</td>\n",
       "      <td>1200</td>\n",
       "      <td>1</td>\n",
       "      <td>de</td>\n",
       "      <td>True</td>\n",
       "      <td>1950-06-17T00:00:00+00:00</td>\n",
       "      <td>FZG-1950-06-17-a</td>\n",
       "      <td>CH</td>\n",
       "      <td>SNL</td>\n",
       "      <td>FZG</td>\n",
       "      <td>newspaper</td>\n",
       "    </tr>\n",
       "    <tr>\n",
       "      <th>JDG-1954-11-03-a-i0032</th>\n",
       "      <td>in_cpy</td>\n",
       "      <td>ar</td>\n",
       "      <td>print</td>\n",
       "      <td>[REDACTED]</td>\n",
       "      <td>[{'uid': '2-54-Moscou', 'count': 1}, {'uid': '...</td>\n",
       "      <td>[{'uid': '2-50-Anthony_Eden', 'count': 1}, {'u...</td>\n",
       "      <td>[{'uid': '2-53-États-Unis', 'count': 1}, {'uid...</td>\n",
       "      <td>[]</td>\n",
       "      <td>[{'uid': 'tm-fr-all-v2.0_tp29_fr', 'relevance'...</td>\n",
       "      <td>717</td>\n",
       "      <td>1</td>\n",
       "      <td>fr</td>\n",
       "      <td>False</td>\n",
       "      <td>1954-11-03T00:00:00+00:00</td>\n",
       "      <td>JDG-1954-11-03-a</td>\n",
       "      <td>CH</td>\n",
       "      <td>SNL</td>\n",
       "      <td>JDG</td>\n",
       "      <td>newspaper</td>\n",
       "    </tr>\n",
       "  </tbody>\n",
       "</table>\n",
       "</div>"
      ],
      "text/plain": [
       "<impresso.resources.search.SearchDataContainer at 0x110f57230>"
      ]
     },
     "execution_count": 2,
     "metadata": {},
     "output_type": "execute_result"
    }
   ],
   "source": [
    "result = impresso.search.find(\n",
    "    term=\"European Union\",\n",
    "    order_by=\"date\",\n",
    ")\n",
    "result"
   ]
  },
  {
   "cell_type": "markdown",
   "metadata": {},
   "source": [
    "Below, we will search for a term \"European Union\" in the Impresso data.\n",
    "Then we will use the `result` variable, to access and print the excerpts of the first three articles returned by the search query.\n",
    "\n",
    "The `pydantic` property is a [Pydantic](https://docs.pydantic.dev/latest/) model representing the response of the Impresso API. It provides a way to ensure that the data conforms to specified types and constraints, making it easier to work with structured data in a reliable and consistent manner.\n",
    "We use the `data` property of the response to iterate over the page of the results and return excerpts of the articles that contain the search term."
   ]
  },
  {
   "cell_type": "code",
   "execution_count": null,
   "metadata": {},
   "outputs": [],
   "source": [
    "result = impresso.search.find(\n",
    "    term=\"European Union\",\n",
    "    order_by=\"date\",\n",
    ")\n",
    "for article in result.pydantic.data[:3]:\n",
    "    print(article.transcript)"
   ]
  },
  {
   "cell_type": "markdown",
   "metadata": {},
   "source": [
    "There are several useful properties on the result object that let us know the total nubmer of results found, the current page and its size."
   ]
  },
  {
   "cell_type": "code",
   "execution_count": 4,
   "metadata": {},
   "outputs": [
    {
     "name": "stdout",
     "output_type": "stream",
     "text": [
      "91 results were found for this term. The current result object contains 91 items starting from the item number 0\n"
     ]
    }
   ],
   "source": [
    "print(\"%i results were found for this term. The current result object contains %i items starting from the item number %i\" % (result.total, result.size, result.offset))"
   ]
  },
  {
   "cell_type": "markdown",
   "metadata": {},
   "source": [
    "### Pydantic\n",
    "The full response from the Impresso API as a pydantic model."
   ]
  },
  {
   "cell_type": "code",
   "execution_count": 5,
   "metadata": {},
   "outputs": [
    {
     "data": {
      "text/plain": [
       "SearchResponseSchema(data=[ContentItem(uid='luxwort-1948-11-25-a-i0033', copyrightStatus='in_cpy', type='ar', sourceMedium='print', title='[REDACTED]', transcript=None, locationEntities=[], personEntities=[NamedEntity(uid='2-50-Pius_XII.', count=1.0)], organisationEntities=[], newsAgenciesEntities=[], topics=[TopicMention(uid='tm-de-all-v2.0_tp25_de', relevance=0.202), TopicMention(uid='tm-de-all-v2.0_tp52_de', relevance=0.16), TopicMention(uid='tm-de-all-v2.0_tp86_de', relevance=0.157), TopicMention(uid='tm-de-all-v2.0_tp14_de', relevance=0.112), TopicMention(uid='tm-de-all-v2.0_tp77_de', relevance=0.112), TopicMention(uid='tm-de-all-v2.0_tp95_de', relevance=0.096), TopicMention(uid='tm-de-all-v2.0_tp24_de', relevance=0.057)], transcriptLength=733.0, totalPages=1.0, languageCode='de', isOnFrontPage=False, publicationDate=datetime.datetime(1948, 11, 25, 0, 0, tzinfo=TzInfo(UTC)), issueUid='luxwort-1948-11-25-a', countryCode='LU', providerCode='BNL', mediaUid='luxwort', mediaType='newspaper'), ContentItem(uid='FZG-1950-06-17-a-i0045', copyrightStatus='in_cpy', type='ar', sourceMedium='print', title='[REDACTED]', transcript=None, locationEntities=[], personEntities=[NamedEntity(uid='2-50-Konrad_Adenauer', count=1.0), NamedEntity(uid='2-50-Georges_Bidault', count=1.0)], organisationEntities=[], newsAgenciesEntities=[], topics=[TopicMention(uid='tm-de-all-v2.0_tp86_de', relevance=0.265), TopicMention(uid='tm-de-all-v2.0_tp95_de', relevance=0.181), TopicMention(uid='tm-de-all-v2.0_tp77_de', relevance=0.154), TopicMention(uid='tm-de-all-v2.0_tp41_de', relevance=0.09), TopicMention(uid='tm-de-all-v2.0_tp79_de', relevance=0.08)], transcriptLength=1200.0, totalPages=1.0, languageCode='de', isOnFrontPage=True, publicationDate=datetime.datetime(1950, 6, 17, 0, 0, tzinfo=TzInfo(UTC)), issueUid='FZG-1950-06-17-a', countryCode='CH', providerCode='SNL', mediaUid='FZG', mediaType='newspaper'), ContentItem(uid='JDG-1954-11-03-a-i0032', copyrightStatus='in_cpy', type='ar', sourceMedium='print', title='[REDACTED]', transcript=None, locationEntities=[NamedEntity(uid='2-54-Moscou', count=1.0), NamedEntity(uid='2-54-Viêt_Nam', count=1.0), NamedEntity(uid='2-54-Chine', count=1.0), NamedEntity(uid='2-54-Pékin', count=1.0), NamedEntity(uid='2-54-Allemagne', count=1.0), NamedEntity(uid='2-54-États-Unis', count=1.0)], personEntities=[NamedEntity(uid='2-50-Anthony_Eden', count=1.0), NamedEntity(uid='2-50-Dwight_D._Eisenhower', count=1.0), NamedEntity(uid='2-50-John_Foster_Dulles', count=1.0), NamedEntity(uid='2-50-Konrad_Adenauer', count=1.0), NamedEntity(uid='2-50-Pierre_Mendès_France', count=1.0)], organisationEntities=[NamedEntity(uid='2-53-États-Unis', count=1.0), NamedEntity(uid='2-53-Communauté_européenne_de_défense', count=1.0), NamedEntity(uid='2-53-Union_des_républiques_socialistes_soviétiques', count=1.0)], newsAgenciesEntities=[], topics=[TopicMention(uid='tm-fr-all-v2.0_tp29_fr', relevance=0.253), TopicMention(uid='tm-fr-all-v2.0_tp44_fr', relevance=0.1), TopicMention(uid='tm-fr-all-v2.0_tp03_fr', relevance=0.098), TopicMention(uid='tm-fr-all-v2.0_tp25_fr', relevance=0.096), TopicMention(uid='tm-fr-all-v2.0_tp36_fr', relevance=0.082), TopicMention(uid='tm-fr-all-v2.0_tp00_fr', relevance=0.053)], transcriptLength=717.0, totalPages=1.0, languageCode='fr', isOnFrontPage=False, publicationDate=datetime.datetime(1954, 11, 3, 0, 0, tzinfo=TzInfo(UTC)), issueUid='JDG-1954-11-03-a', countryCode='CH', providerCode='SNL', mediaUid='JDG', mediaType='newspaper'), ContentItem(uid='JDG-1954-11-27-a-i0041', copyrightStatus='in_cpy', type='ar', sourceMedium='print', title='[REDACTED]', transcript=None, locationEntities=[NamedEntity(uid='2-54-Asie', count=1.0), NamedEntity(uid='2-54-Extrême-Orient', count=1.0), NamedEntity(uid='2-54-Corée', count=1.0), NamedEntity(uid='2-54-Proche-Orient', count=1.0), NamedEntity(uid='2-54-Korea', count=1.0), NamedEntity(uid='2-54-Europe', count=1.0), NamedEntity(uid='2-54-Australie', count=2.0), NamedEntity(uid='2-54-États-Unis', count=1.0), NamedEntity(uid='2-54-Londres', count=1.0), NamedEntity(uid='2-54-Paris', count=1.0)], personEntities=[], organisationEntities=[NamedEntity(uid='2-53-Organisation_des_Nations_unies', count=1.0), NamedEntity(uid='2-53-Amérique_latine', count=1.0), NamedEntity(uid='2-53-Conseil_économique_et_social_des_Nations_unies', count=2.0), NamedEntity(uid='2-53-Organisation_internationale_du_travail', count=1.0), NamedEntity(uid='2-53-Union_internationale_des_télécommunications', count=1.0), NamedEntity(uid='2-53-Science', count=1.0), NamedEntity(uid='2-53-Union_postale_universelle', count=2.0), NamedEntity(uid='2-53-Banque_mondiale', count=1.0), NamedEntity(uid=\"2-53-Organisation_de_l'aviation_civile_internationale\", count=1.0), NamedEntity(uid='2-53-International_Labour_Organization', count=1.0), NamedEntity(uid='2-53-World_Meteorological_Organization', count=2.0), NamedEntity(uid=\"2-53-Organisation_des_Nations_unies_pour_l'éducation,_la_science_et_la_culture\", count=1.0), NamedEntity(uid='2-53-Accord_général_sur_les_tarifs_douaniers_et_le_commerce', count=1.0), NamedEntity(uid='2-53-Océan_Atlantique', count=1.0), NamedEntity(uid=\"2-53-Organisation_du_traité_de_l'Atlantique_nord\", count=1.0), NamedEntity(uid='2-53-Organisation_européenne_pour_la_recherche_nucléaire', count=1.0), NamedEntity(uid=\"2-53-Union_de_l'Europe_occidentale\", count=2.0), NamedEntity(uid='2-53-Communauté_européenne_de_défense', count=1.0), NamedEntity(uid='2-53-Union_européenne_des_paiements', count=2.0), NamedEntity(uid='2-53-World_Federation_of_Trade_Unions', count=1.0)], newsAgenciesEntities=[], topics=[TopicMention(uid='tm-fr-all-v2.0_tp58_fr', relevance=0.19), TopicMention(uid='tm-fr-all-v2.0_tp10_fr', relevance=0.123), TopicMention(uid='tm-fr-all-v2.0_tp16_fr', relevance=0.103), TopicMention(uid='tm-fr-all-v2.0_tp78_fr', relevance=0.102), TopicMention(uid='tm-fr-all-v2.0_tp72_fr', relevance=0.094), TopicMention(uid='tm-fr-all-v2.0_tp71_fr', relevance=0.079)], transcriptLength=783.0, totalPages=1.0, languageCode='fr', isOnFrontPage=False, publicationDate=datetime.datetime(1954, 11, 27, 0, 0, tzinfo=TzInfo(UTC)), issueUid='JDG-1954-11-27-a', countryCode='CH', providerCode='SNL', mediaUid='JDG', mediaType='newspaper'), ContentItem(uid='DTT-1962-04-30-a-i0121', copyrightStatus='in_cpy', type='ar', sourceMedium='print', title='[REDACTED]', transcript=None, locationEntities=[NamedEntity(uid='2-54-Vereinigte_Staaten', count=1.0), NamedEntity(uid='2-54-Vereinigtes_Königreich', count=1.0)], personEntities=[], organisationEntities=[NamedEntity(uid='2-53-Westeuropäische_Union', count=1.0), NamedEntity(uid='2-53-Europäische_Union', count=1.0)], newsAgenciesEntities=[], topics=[TopicMention(uid='tm-de-all-v2.0_tp32_de', relevance=0.45), TopicMention(uid='tm-de-all-v2.0_tp52_de', relevance=0.259), TopicMention(uid='tm-de-all-v2.0_tp11_de', relevance=0.072), TopicMention(uid='tm-de-all-v2.0_tp70_de', relevance=0.064)], transcriptLength=767.0, totalPages=1.0, languageCode='de', isOnFrontPage=False, publicationDate=datetime.datetime(1962, 4, 30, 0, 0, tzinfo=TzInfo(UTC)), issueUid='DTT-1962-04-30-a', countryCode='CH', providerCode='Migros', mediaUid='DTT', mediaType='newspaper'), ContentItem(uid='luxland-1984-12-21-a-i0018', copyrightStatus='in_cpy', type='ar', sourceMedium='print', title='[REDACTED]', transcript=None, locationEntities=[], personEntities=[NamedEntity(uid='2-50-Jean_Giono', count=1.0)], organisationEntities=[], newsAgenciesEntities=[], topics=[TopicMention(uid='tm-de-all-v2.0_tp92_de', relevance=0.365), TopicMention(uid='tm-de-all-v2.0_tp11_de', relevance=0.28), TopicMention(uid='tm-de-all-v2.0_tp20_de', relevance=0.074), TopicMention(uid='tm-de-all-v2.0_tp80_de', relevance=0.056)], transcriptLength=853.0, totalPages=1.0, languageCode='de', isOnFrontPage=False, publicationDate=datetime.datetime(1984, 12, 21, 0, 0, tzinfo=TzInfo(UTC)), issueUid='luxland-1984-12-21-a', countryCode='LU', providerCode='BNL', mediaUid='luxland', mediaType='newspaper'), ContentItem(uid='arbeitgeber-1991-03-21-a-i0020', copyrightStatus='in_cpy', type='page', sourceMedium='print', title=None, transcript=None, locationEntities=[NamedEntity(uid='2-54-États-Unis', count=1.0), NamedEntity(uid='2-54-Chine', count=1.0), NamedEntity(uid='2-54-Aix-en-Provence', count=1.0), NamedEntity(uid='2-54-New_York', count=1.0)], personEntities=[], organisationEntities=[NamedEntity(uid='2-53-La_Nouvelle-Orléans', count=2.0)], newsAgenciesEntities=[], topics=[TopicMention(uid='tm-fr-all-v2.0_tp87_fr', relevance=0.242), TopicMention(uid='tm-fr-all-v2.0_tp80_fr', relevance=0.106), TopicMention(uid='tm-fr-all-v2.0_tp08_fr', relevance=0.08), TopicMention(uid='tm-fr-all-v2.0_tp58_fr', relevance=0.073), TopicMention(uid='tm-fr-all-v2.0_tp73_fr', relevance=0.072)], transcriptLength=864.0, totalPages=1.0, languageCode='fr', isOnFrontPage=False, publicationDate=datetime.datetime(1991, 3, 21, 0, 0, tzinfo=TzInfo(UTC)), issueUid='arbeitgeber-1991-03-21-a', countryCode='CH', providerCode='SWA', mediaUid='arbeitgeber', mediaType='newspaper'), ContentItem(uid='JDG-1993-11-15-a-i0016', copyrightStatus='in_cpy', type='ar', sourceMedium='print', title='[REDACTED]', transcript=None, locationEntities=[], personEntities=[], organisationEntities=[NamedEntity(uid='2-53-Maastricht', count=1.0), NamedEntity(uid='2-53-Union_européenne', count=2.0), NamedEntity(uid='2-53-Fleet', count=1.0), NamedEntity(uid='2-53-El_País', count=1.0)], newsAgenciesEntities=[], topics=[TopicMention(uid='tm-fr-all-v2.0_tp87_fr', relevance=0.246), TopicMention(uid='tm-fr-all-v2.0_tp37_fr', relevance=0.104), TopicMention(uid='tm-fr-all-v2.0_tp52_fr', relevance=0.099), TopicMention(uid='tm-fr-all-v2.0_tp75_fr', relevance=0.085), TopicMention(uid='tm-fr-all-v2.0_tp55_fr', relevance=0.077), TopicMention(uid='tm-fr-all-v2.0_tp16_fr', relevance=0.062)], transcriptLength=643.0, totalPages=1.0, languageCode='fr', isOnFrontPage=False, publicationDate=datetime.datetime(1993, 11, 15, 0, 0, tzinfo=TzInfo(UTC)), issueUid='JDG-1993-11-15-a', countryCode='CH', providerCode='SNL', mediaUid='JDG', mediaType='newspaper'), ContentItem(uid='FedGazDe-1994-01-25-a-i0002', copyrightStatus='in_cpy', type='ar', sourceMedium='print', title='[REDACTED]', transcript=None, locationEntities=[NamedEntity(uid='2-54-Mitteleuropa', count=1.0), NamedEntity(uid='2-54-Sowjetunion', count=2.0), NamedEntity(uid='2-54-Europäische_Union', count=1.0), NamedEntity(uid='2-54-Jugoslawien', count=1.0), NamedEntity(uid='2-54-Vereinigte_Staaten', count=3.0), NamedEntity(uid='2-54-Melbourne', count=1.0), NamedEntity(uid='2-54-Japanisches_Kaiserreich', count=1.0), NamedEntity(uid='2-54-Kanada', count=1.0), NamedEntity(uid='2-54-Deutsches_Kaiserreich', count=1.0), NamedEntity(uid='2-54-Dritte_Französische_Republik', count=1.0), NamedEntity(uid='2-54-Vereinigtes_Königreich', count=2.0), NamedEntity(uid='2-54-Mittlerer_Osten', count=1.0), NamedEntity(uid='2-54-Kambodscha', count=1.0), NamedEntity(uid='2-54-Afrika', count=1.0), NamedEntity(uid='2-54-Mittelmeer', count=1.0), NamedEntity(uid='2-54-Mexiko', count=1.0), NamedEntity(uid='2-54-Zweite_Polnische_Republik', count=1.0), NamedEntity(uid='2-54-Argentinien', count=1.0), NamedEntity(uid='2-54-Türkei', count=1.0), NamedEntity(uid='2-54-Schweiz', count=3.0), NamedEntity(uid='2-54-Rio_de_Janeiro', count=1.0), NamedEntity(uid='2-54-Norwegen', count=1.0), NamedEntity(uid='2-54-Schweden', count=2.0), NamedEntity(uid='2-54-Nordstaaten', count=1.0), NamedEntity(uid='2-54-Westeuropa', count=1.0), NamedEntity(uid='2-54-Uruguay', count=1.0), NamedEntity(uid='2-54-Genfersee', count=1.0), NamedEntity(uid='2-54-Genf', count=1.0), NamedEntity(uid='2-54-Luzern', count=1.0), NamedEntity(uid='2-54-Kanton_Zürich', count=1.0), NamedEntity(uid='2-54-Arabische_Liga', count=1.0), NamedEntity(uid='2-54-Europa', count=1.0), NamedEntity(uid='2-54-Osteuropa', count=1.0), NamedEntity(uid='2-54-Volksrepublik_China', count=1.0), NamedEntity(uid='2-54-Russland', count=1.0), NamedEntity(uid='2-54-Rhodesien', count=1.0), NamedEntity(uid='2-54-Irak', count=1.0), NamedEntity(uid='2-54-Libyen', count=1.0), NamedEntity(uid='2-54-Serbien', count=1.0), NamedEntity(uid='2-54-Nordkorea', count=1.0), NamedEntity(uid='2-54-New_York_City', count=1.0)], personEntities=[NamedEntity(uid='2-50-Helmut_Hubacher', count=1.0)], organisationEntities=[NamedEntity(uid='2-53-Bundespräsident_(Schweiz)', count=1.0), NamedEntity(uid='2-53-Allgemeines_Zoll-_und_Handelsabkommen', count=1.0), NamedEntity(uid='2-53-Europäischer_Wirtschaftsraum', count=1.0), NamedEntity(uid='2-53-Organisation_für_wirtschaftliche_Zusammenarbeit_und_Entwicklung', count=5.0), NamedEntity(uid='2-53-Warschauer_Pakt', count=1.0), NamedEntity(uid='2-53-Bundesverfassungsgericht', count=1.0), NamedEntity(uid='2-53-Demokratie', count=1.0), NamedEntity(uid='2-53-Bundesrepublik', count=1.0), NamedEntity(uid='2-53-Weltbank', count=1.0), NamedEntity(uid='2-53-ABC-Abwehr', count=1.0), NamedEntity(uid='2-53-Europäische_Menschenrechtskonvention', count=1.0), NamedEntity(uid='2-53-Vereinigte_Staaten', count=1.0), NamedEntity(uid='2-53-Swisslex', count=1.0), NamedEntity(uid='2-53-Klima', count=1.0), NamedEntity(uid='2-53-Umweltprogramm_der_Vereinten_Nationen', count=2.0), NamedEntity(uid='2-53-Entwicklungsprogramm_der_Vereinten_Nationen', count=1.0), NamedEntity(uid='2-53-Kernwaffe', count=1.0), NamedEntity(uid='2-53-Europäische_Bank_für_Wiederaufbau_und_Entwicklung', count=1.0), NamedEntity(uid='2-53-CERN', count=1.0), NamedEntity(uid='2-53-Österreichisches_Rotes_Kreuz', count=1.0), NamedEntity(uid='2-53-Wirtschaftlichkeit', count=1.0), NamedEntity(uid='2-53-Umwelt', count=1.0), NamedEntity(uid='2-53-Industriestaat', count=1.0), NamedEntity(uid='2-53-Schweiz', count=1.0), NamedEntity(uid='2-53-Constitution_de_la_Suisse', count=1.0), NamedEntity(uid='2-53-Aristide_Briand', count=1.0), NamedEntity(uid='2-53-Charta_der_Vereinten_Nationen', count=1.0), NamedEntity(uid='2-53-Sicherheitsrat_der_Vereinten_Nationen', count=1.0), NamedEntity(uid='2-53-United_Nations', count=1.0), NamedEntity(uid='2-53-Tiré_à_part', count=1.0), NamedEntity(uid='2-53-Vertrag_von_Maastricht', count=1.0), NamedEntity(uid='2-53-Europäische_Wirtschaftsgemeinschaft', count=1.0)], newsAgenciesEntities=[], topics=[], transcriptLength=27914.0, totalPages=90.0, languageCode='de', isOnFrontPage=False, publicationDate=datetime.datetime(1994, 1, 25, 0, 0, tzinfo=TzInfo(UTC)), issueUid='FedGazDe-1994-01-25-a', countryCode='CH', providerCode='SFA', mediaUid='FedGazDe', mediaType='newspaper'), ContentItem(uid='GDL-1994-04-21-a-i0061', copyrightStatus='in_cpy', type='ad', sourceMedium='print', title=None, transcript=None, locationEntities=[NamedEntity(uid='2-54-Europe', count=1.0)], personEntities=[], organisationEntities=[NamedEntity(uid='2-53-Technologie', count=1.0), NamedEntity(uid='2-53-Open_University', count=1.0)], newsAgenciesEntities=[], topics=[], transcriptLength=204.0, totalPages=1.0, languageCode='en', isOnFrontPage=False, publicationDate=datetime.datetime(1994, 4, 21, 0, 0, tzinfo=TzInfo(UTC)), issueUid='GDL-1994-04-21-a', countryCode='CH', providerCode='SNL', mediaUid='GDL', mediaType='newspaper'), ContentItem(uid='JDG-1994-05-19-a-i0041', copyrightStatus='in_cpy', type='ad', sourceMedium='print', title=None, transcript=None, locationEntities=[], personEntities=[], organisationEntities=[], newsAgenciesEntities=[], topics=[], transcriptLength=206.0, totalPages=1.0, languageCode='en', isOnFrontPage=False, publicationDate=datetime.datetime(1994, 5, 19, 0, 0, tzinfo=TzInfo(UTC)), issueUid='JDG-1994-05-19-a', countryCode='CH', providerCode='SNL', mediaUid='JDG', mediaType='newspaper'), ContentItem(uid='GDL-1994-05-19-a-i0037', copyrightStatus='in_cpy', type='ad', sourceMedium='print', title=None, transcript=None, locationEntities=[], personEntities=[], organisationEntities=[NamedEntity(uid='2-53-Master_of_Business_Administration', count=1.0)], newsAgenciesEntities=[], topics=[], transcriptLength=202.0, totalPages=1.0, languageCode='en', isOnFrontPage=False, publicationDate=datetime.datetime(1994, 5, 19, 0, 0, tzinfo=TzInfo(UTC)), issueUid='GDL-1994-05-19-a', countryCode='CH', providerCode='SNL', mediaUid='GDL', mediaType='newspaper'), ContentItem(uid='arbeitgeber-1995-01-05-a-i0021', copyrightStatus='in_cpy', type='page', sourceMedium='print', title=None, transcript=None, locationEntities=[], personEntities=[], organisationEntities=[], newsAgenciesEntities=[], topics=[TopicMention(uid='tm-de-all-v2.0_tp20_de', relevance=0.435), TopicMention(uid='tm-de-all-v2.0_tp21_de', relevance=0.212), TopicMention(uid='tm-de-all-v2.0_tp79_de', relevance=0.073)], transcriptLength=576.0, totalPages=1.0, languageCode='de', isOnFrontPage=False, publicationDate=datetime.datetime(1995, 1, 5, 0, 0, tzinfo=TzInfo(UTC)), issueUid='arbeitgeber-1995-01-05-a', countryCode='CH', providerCode='SWA', mediaUid='arbeitgeber', mediaType='newspaper'), ContentItem(uid='luxland-1995-05-05-a-i0062', copyrightStatus='in_cpy', type='ar', sourceMedium='print', title='[REDACTED]', transcript=None, locationEntities=[NamedEntity(uid='2-54-Europe', count=1.0), NamedEntity(uid='2-54-Luxembourg', count=1.0), NamedEntity(uid='2-54-Esch_an_der_Alzette', count=1.0)], personEntities=[NamedEntity(uid='2-50-Georges_Prêtre', count=1.0), NamedEntity(uid='2-50-Johannes_Brahms', count=1.0)], organisationEntities=[], newsAgenciesEntities=[], topics=[TopicMention(uid='tm-fr-all-v2.0_tp07_fr', relevance=0.232), TopicMention(uid='tm-fr-all-v2.0_tp60_fr', relevance=0.132), TopicMention(uid='tm-fr-all-v2.0_tp25_fr', relevance=0.11), TopicMention(uid='tm-fr-all-v2.0_tp24_fr', relevance=0.091), TopicMention(uid='tm-fr-all-v2.0_tp52_fr', relevance=0.083), TopicMention(uid='tm-fr-all-v2.0_tp58_fr', relevance=0.075)], transcriptLength=415.0, totalPages=1.0, languageCode='fr', isOnFrontPage=False, publicationDate=datetime.datetime(1995, 5, 5, 0, 0, tzinfo=TzInfo(UTC)), issueUid='luxland-1995-05-05-a', countryCode='LU', providerCode='BNL', mediaUid='luxland', mediaType='newspaper'), ContentItem(uid='GDL-1995-05-11-a-i0065', copyrightStatus='in_cpy', type='ad', sourceMedium='print', title=None, transcript=None, locationEntities=[NamedEntity(uid='2-54-Union_européenne', count=1.0), NamedEntity(uid='2-54-Genève', count=1.0)], personEntities=[], organisationEntities=[NamedEntity(uid='2-53-Europe', count=1.0)], newsAgenciesEntities=[], topics=[], transcriptLength=237.0, totalPages=1.0, languageCode='en', isOnFrontPage=False, publicationDate=datetime.datetime(1995, 5, 11, 0, 0, tzinfo=TzInfo(UTC)), issueUid='GDL-1995-05-11-a', countryCode='CH', providerCode='SNL', mediaUid='GDL', mediaType='newspaper'), ContentItem(uid='JDG-1995-05-11-a-i0056', copyrightStatus='in_cpy', type='ad', sourceMedium='print', title=None, transcript=None, locationEntities=[], personEntities=[], organisationEntities=[], newsAgenciesEntities=[], topics=[], transcriptLength=232.0, totalPages=1.0, languageCode='en', isOnFrontPage=False, publicationDate=datetime.datetime(1995, 5, 11, 0, 0, tzinfo=TzInfo(UTC)), issueUid='JDG-1995-05-11-a', countryCode='CH', providerCode='SNL', mediaUid='JDG', mediaType='newspaper'), ContentItem(uid='JDG-1995-05-18-a-i0028', copyrightStatus='in_cpy', type='ad', sourceMedium='print', title=None, transcript=None, locationEntities=[], personEntities=[], organisationEntities=[], newsAgenciesEntities=[], topics=[], transcriptLength=257.0, totalPages=1.0, languageCode='en', isOnFrontPage=False, publicationDate=datetime.datetime(1995, 5, 18, 0, 0, tzinfo=TzInfo(UTC)), issueUid='JDG-1995-05-18-a', countryCode='CH', providerCode='SNL', mediaUid='JDG', mediaType='newspaper'), ContentItem(uid='JDG-1995-06-02-a-i0094', copyrightStatus='in_cpy', type='ad', sourceMedium='print', title=None, transcript=None, locationEntities=[], personEntities=[], organisationEntities=[], newsAgenciesEntities=[], topics=[], transcriptLength=251.0, totalPages=1.0, languageCode='en', isOnFrontPage=False, publicationDate=datetime.datetime(1995, 6, 2, 0, 0, tzinfo=TzInfo(UTC)), issueUid='JDG-1995-06-02-a', countryCode='CH', providerCode='SNL', mediaUid='JDG', mediaType='newspaper'), ContentItem(uid='GDL-1995-06-02-a-i0134', copyrightStatus='in_cpy', type='ad', sourceMedium='print', title=None, transcript=None, locationEntities=[NamedEntity(uid='2-54-Switzerland', count=1.0), NamedEntity(uid='2-54-European_Union', count=1.0), NamedEntity(uid='2-54-Lausanne', count=1.0), NamedEntity(uid='2-54-Geneva', count=2.0)], personEntities=[], organisationEntities=[NamedEntity(uid='2-53-Europe', count=1.0), NamedEntity(uid='2-53-United_Kingdom', count=1.0)], newsAgenciesEntities=[], topics=[], transcriptLength=267.0, totalPages=1.0, languageCode='en', isOnFrontPage=False, publicationDate=datetime.datetime(1995, 6, 2, 0, 0, tzinfo=TzInfo(UTC)), issueUid='GDL-1995-06-02-a', countryCode='CH', providerCode='SNL', mediaUid='GDL', mediaType='newspaper'), ContentItem(uid='GDL-1995-06-07-a-i0039', copyrightStatus='in_cpy', type='ad', sourceMedium='print', title=None, transcript=None, locationEntities=[NamedEntity(uid='2-54-Genève', count=1.0)], personEntities=[], organisationEntities=[], newsAgenciesEntities=[], topics=[], transcriptLength=145.0, totalPages=1.0, languageCode='en', isOnFrontPage=False, publicationDate=datetime.datetime(1995, 6, 7, 0, 0, tzinfo=TzInfo(UTC)), issueUid='GDL-1995-06-07-a', countryCode='CH', providerCode='SNL', mediaUid='GDL', mediaType='newspaper'), ContentItem(uid='JDG-1995-06-07-a-i0039', copyrightStatus='in_cpy', type='ad', sourceMedium='print', title=None, transcript=None, locationEntities=[], personEntities=[], organisationEntities=[], newsAgenciesEntities=[], topics=[], transcriptLength=149.0, totalPages=1.0, languageCode='en', isOnFrontPage=False, publicationDate=datetime.datetime(1995, 6, 7, 0, 0, tzinfo=TzInfo(UTC)), issueUid='JDG-1995-06-07-a', countryCode='CH', providerCode='SNL', mediaUid='JDG', mediaType='newspaper'), ContentItem(uid='JDG-1995-10-17-a-i0244', copyrightStatus='in_cpy', type='ad', sourceMedium='print', title=None, transcript=None, locationEntities=[], personEntities=[], organisationEntities=[], newsAgenciesEntities=[], topics=[], transcriptLength=254.0, totalPages=1.0, languageCode='en', isOnFrontPage=False, publicationDate=datetime.datetime(1995, 10, 17, 0, 0, tzinfo=TzInfo(UTC)), issueUid='JDG-1995-10-17-a', countryCode='CH', providerCode='SNL', mediaUid='JDG', mediaType='newspaper'), ContentItem(uid='luxland-1995-11-10-a-i0058', copyrightStatus='in_cpy', type='ar', sourceMedium='print', title='[REDACTED]', transcript=None, locationEntities=[NamedEntity(uid='2-54-Bertrange_(Luxembourg)', count=1.0), NamedEntity(uid='2-54-Diekirch', count=1.0), NamedEntity(uid='2-54-Stadt_Brüssel', count=1.0), NamedEntity(uid='2-54-Palermo', count=1.0), NamedEntity(uid='2-54-Marseille', count=1.0)], personEntities=[NamedEntity(uid='2-50-Yves_Klein', count=1.0), NamedEntity(uid='2-50-Guy_Foissy', count=1.0), NamedEntity(uid='2-50-Victor_Haïm', count=1.0), NamedEntity(uid='2-50-John_Locke', count=1.0)], organisationEntities=[NamedEntity(uid='2-53-Théâtre_des_Capucins', count=1.0), NamedEntity(uid='2-53-Union_européenne', count=1.0)], newsAgenciesEntities=[], topics=[TopicMention(uid='tm-fr-all-v2.0_tp07_fr', relevance=0.228), TopicMention(uid='tm-fr-all-v2.0_tp58_fr', relevance=0.142), TopicMention(uid='tm-fr-all-v2.0_tp35_fr', relevance=0.122), TopicMention(uid='tm-fr-all-v2.0_tp96_fr', relevance=0.111), TopicMention(uid='tm-fr-all-v2.0_tp49_fr', relevance=0.088), TopicMention(uid='tm-fr-all-v2.0_tp61_fr', relevance=0.086)], transcriptLength=742.0, totalPages=1.0, languageCode='fr', isOnFrontPage=False, publicationDate=datetime.datetime(1995, 11, 10, 0, 0, tzinfo=TzInfo(UTC)), issueUid='luxland-1995-11-10-a', countryCode='LU', providerCode='BNL', mediaUid='luxland', mediaType='newspaper'), ContentItem(uid='GDL-1996-08-03-a-i0216', copyrightStatus='in_cpy', type='ar', sourceMedium='print', title=None, transcript=None, locationEntities=[], personEntities=[], organisationEntities=[], newsAgenciesEntities=[], topics=[TopicMention(uid='tm-fr-all-v2.0_tp94_fr', relevance=0.264), TopicMention(uid='tm-fr-all-v2.0_tp25_fr', relevance=0.241), TopicMention(uid='tm-fr-all-v2.0_tp55_fr', relevance=0.181)], transcriptLength=522.0, totalPages=1.0, languageCode='fr', isOnFrontPage=False, publicationDate=datetime.datetime(1996, 8, 3, 0, 0, tzinfo=TzInfo(UTC)), issueUid='GDL-1996-08-03-a', countryCode='CH', providerCode='SNL', mediaUid='GDL', mediaType='newspaper'), ContentItem(uid='LLE-1996-08-03-a-i0157', copyrightStatus='in_cpy', type='ar', sourceMedium='print', title='[REDACTED]', transcript=None, locationEntities=[], personEntities=[], organisationEntities=[], newsAgenciesEntities=[], topics=[TopicMention(uid='tm-fr-all-v2.0_tp94_fr', relevance=0.241), TopicMention(uid='tm-fr-all-v2.0_tp80_fr', relevance=0.158), TopicMention(uid='tm-fr-all-v2.0_tp58_fr', relevance=0.058)], transcriptLength=127.0, totalPages=1.0, languageCode='fr', isOnFrontPage=False, publicationDate=datetime.datetime(1996, 8, 3, 0, 0, tzinfo=TzInfo(UTC)), issueUid='LLE-1996-08-03-a', countryCode='CH', providerCode='SNL', mediaUid='LLE', mediaType='newspaper'), ContentItem(uid='EXP-1996-08-03-a-i0211', copyrightStatus='in_cpy', type='ar', sourceMedium='print', title=None, transcript=None, locationEntities=[NamedEntity(uid='2-54-Suisse', count=2.0), NamedEntity(uid='2-54-Londres', count=1.0)], personEntities=[NamedEntity(uid='2-50-Charles_Burney', count=1.0)], organisationEntities=[NamedEntity(uid='2-53-Football', count=1.0), NamedEntity(uid='2-53-Royal_Albert_Hall', count=1.0)], newsAgenciesEntities=[], topics=[TopicMention(uid='tm-fr-all-v2.0_tp81_fr', relevance=0.544), TopicMention(uid='tm-fr-all-v2.0_tp58_fr', relevance=0.1), TopicMention(uid='tm-fr-all-v2.0_tp50_fr', relevance=0.074)], transcriptLength=265.0, totalPages=1.0, languageCode='fr', isOnFrontPage=False, publicationDate=datetime.datetime(1996, 8, 3, 0, 0, tzinfo=TzInfo(UTC)), issueUid='EXP-1996-08-03-a', countryCode='CH', providerCode='SNL', mediaUid='EXP', mediaType='newspaper'), ContentItem(uid='IMP-1996-08-03-a-i0188', copyrightStatus='in_cpy', type='ar', sourceMedium='print', title=None, transcript=None, locationEntities=[], personEntities=[], organisationEntities=[], newsAgenciesEntities=[], topics=[TopicMention(uid='tm-fr-all-v2.0_tp81_fr', relevance=0.531), TopicMention(uid='tm-fr-all-v2.0_tp58_fr', relevance=0.092), TopicMention(uid='tm-fr-all-v2.0_tp50_fr', relevance=0.069)], transcriptLength=329.0, totalPages=1.0, languageCode='fr', isOnFrontPage=False, publicationDate=datetime.datetime(1996, 8, 3, 0, 0, tzinfo=TzInfo(UTC)), issueUid='IMP-1996-08-03-a', countryCode='CH', providerCode='SNL', mediaUid='IMP', mediaType='newspaper'), ContentItem(uid='JDG-1996-10-07-a-i0157', copyrightStatus='in_cpy', type='ar', sourceMedium='print', title='[REDACTED]', transcript=None, locationEntities=[], personEntities=[NamedEntity(uid='2-50-Piotr_Ilitch_Tchaïkovski', count=1.0), NamedEntity(uid='2-50-Frédéric_Chopin', count=1.0), NamedEntity(uid='2-50-Wolfgang_Amadeus_Mozart', count=1.0)], organisationEntities=[], newsAgenciesEntities=[], topics=[TopicMention(uid='tm-fr-all-v2.0_tp81_fr', relevance=0.46), TopicMention(uid='tm-fr-all-v2.0_tp96_fr', relevance=0.11), TopicMention(uid='tm-fr-all-v2.0_tp85_fr', relevance=0.087), TopicMention(uid='tm-fr-all-v2.0_tp52_fr', relevance=0.079), TopicMention(uid='tm-fr-all-v2.0_tp94_fr', relevance=0.078)], transcriptLength=518.0, totalPages=1.0, languageCode='fr', isOnFrontPage=False, publicationDate=datetime.datetime(1996, 10, 7, 0, 0, tzinfo=TzInfo(UTC)), issueUid='JDG-1996-10-07-a', countryCode='CH', providerCode='SNL', mediaUid='JDG', mediaType='newspaper'), ContentItem(uid='GDL-1997-01-21-a-i0284', copyrightStatus='in_cpy', type='ad', sourceMedium='print', title=None, transcript=None, locationEntities=[NamedEntity(uid='2-54-Rome', count=1.0)], personEntities=[], organisationEntities=[NamedEntity(uid='2-53-Treaty_of_Rome', count=1.0)], newsAgenciesEntities=[], topics=[], transcriptLength=181.0, totalPages=1.0, languageCode='en', isOnFrontPage=False, publicationDate=datetime.datetime(1997, 1, 21, 0, 0, tzinfo=TzInfo(UTC)), issueUid='GDL-1997-01-21-a', countryCode='CH', providerCode='SNL', mediaUid='GDL', mediaType='newspaper'), ContentItem(uid='JDG-1997-01-21-a-i0263', copyrightStatus='in_cpy', type='ad', sourceMedium='print', title=None, transcript=None, locationEntities=[], personEntities=[], organisationEntities=[], newsAgenciesEntities=[], topics=[], transcriptLength=177.0, totalPages=1.0, languageCode='en', isOnFrontPage=False, publicationDate=datetime.datetime(1997, 1, 21, 0, 0, tzinfo=TzInfo(UTC)), issueUid='JDG-1997-01-21-a', countryCode='CH', providerCode='SNL', mediaUid='JDG', mediaType='newspaper'), ContentItem(uid='FZG-1997-02-10-a-i0102', copyrightStatus='in_cpy', type='ar', sourceMedium='print', title='[REDACTED]', transcript=None, locationEntities=[], personEntities=[], organisationEntities=[], newsAgenciesEntities=[], topics=[TopicMention(uid='tm-de-all-v2.0_tp67_de', relevance=0.767), TopicMention(uid='tm-de-all-v2.0_tp70_de', relevance=0.069)], transcriptLength=179.0, totalPages=1.0, languageCode='de', isOnFrontPage=False, publicationDate=datetime.datetime(1997, 2, 10, 0, 0, tzinfo=TzInfo(UTC)), issueUid='FZG-1997-02-10-a', countryCode='CH', providerCode='SNL', mediaUid='FZG', mediaType='newspaper'), ContentItem(uid='luxland-1997-06-13-a-i0468', copyrightStatus='in_cpy', type='ar', sourceMedium='print', title='[REDACTED]', transcript=None, locationEntities=[], personEntities=[NamedEntity(uid='2-50-Pierre_Werner', count=1.0)], organisationEntities=[], newsAgenciesEntities=[], topics=[], transcriptLength=2789.0, totalPages=2.0, languageCode='en', isOnFrontPage=False, publicationDate=datetime.datetime(1997, 6, 13, 0, 0, tzinfo=TzInfo(UTC)), issueUid='luxland-1997-06-13-a', countryCode='LU', providerCode='BNL', mediaUid='luxland', mediaType='newspaper'), ContentItem(uid='luxland-1997-06-13-a-i0466', copyrightStatus='in_cpy', type='ar', sourceMedium='print', title='[REDACTED]', transcript=None, locationEntities=[], personEntities=[], organisationEntities=[], newsAgenciesEntities=[], topics=[], transcriptLength=2463.0, totalPages=2.0, languageCode='en', isOnFrontPage=False, publicationDate=datetime.datetime(1997, 6, 13, 0, 0, tzinfo=TzInfo(UTC)), issueUid='luxland-1997-06-13-a', countryCode='LU', providerCode='BNL', mediaUid='luxland', mediaType='newspaper'), ContentItem(uid='luxland-1997-08-22-a-i0038', copyrightStatus='in_cpy', type='ar', sourceMedium='print', title='[REDACTED]', transcript=None, locationEntities=[], personEntities=[], organisationEntities=[], newsAgenciesEntities=[], topics=[TopicMention(uid='tm-fr-all-v2.0_tp96_fr', relevance=0.572), TopicMention(uid='tm-fr-all-v2.0_tp44_fr', relevance=0.064)], transcriptLength=240.0, totalPages=1.0, languageCode='fr', isOnFrontPage=False, publicationDate=datetime.datetime(1997, 8, 22, 0, 0, tzinfo=TzInfo(UTC)), issueUid='luxland-1997-08-22-a', countryCode='LU', providerCode='BNL', mediaUid='luxland', mediaType='newspaper'), ContentItem(uid='FZG-1998-02-07-a-i0054', copyrightStatus='in_cpy', type='ar', sourceMedium='print', title='[REDACTED]', transcript=None, locationEntities=[], personEntities=[], organisationEntities=[], newsAgenciesEntities=[], topics=[TopicMention(uid='tm-de-all-v2.0_tp87_de', relevance=0.378), TopicMention(uid='tm-de-all-v2.0_tp45_de', relevance=0.232), TopicMention(uid='tm-de-all-v2.0_tp15_de', relevance=0.12), TopicMention(uid='tm-de-all-v2.0_tp42_de', relevance=0.087)], transcriptLength=729.0, totalPages=1.0, languageCode='de', isOnFrontPage=False, publicationDate=datetime.datetime(1998, 2, 7, 0, 0, tzinfo=TzInfo(UTC)), issueUid='FZG-1998-02-07-a', countryCode='CH', providerCode='SNL', mediaUid='FZG', mediaType='newspaper'), ContentItem(uid='luxland-1998-05-29-a-i0174', copyrightStatus='in_cpy', type='ad', sourceMedium='print', title='[REDACTED]', transcript=None, locationEntities=[NamedEntity(uid='2-54-Frome', count=1.0), NamedEntity(uid='2-54-Luxembourg', count=2.0)], personEntities=[NamedEntity(uid='2-50-Henri_Tudor', count=1.0)], organisationEntities=[], newsAgenciesEntities=[], topics=[], transcriptLength=83.0, totalPages=1.0, languageCode='fr', isOnFrontPage=False, publicationDate=datetime.datetime(1998, 5, 29, 0, 0, tzinfo=TzInfo(UTC)), issueUid='luxland-1998-05-29-a', countryCode='LU', providerCode='BNL', mediaUid='luxland', mediaType='newspaper'), ContentItem(uid='FedGazDe-1998-08-11-a-i0001', copyrightStatus='in_cpy', type='ar', sourceMedium='print', title='[REDACTED]', transcript=None, locationEntities=[NamedEntity(uid='2-54-Freiburg_im_Üechtland', count=1.0), NamedEntity(uid='2-54-Bern', count=1.0), NamedEntity(uid='2-54-Genève', count=1.0), NamedEntity(uid='2-54-Kanton_Zürich', count=1.0), NamedEntity(uid='2-54-Cambridge', count=1.0), NamedEntity(uid='2-54-Westeuropa', count=1.0), NamedEntity(uid='2-54-Dänemark', count=1.0), NamedEntity(uid='2-54-Vereinigtes_Königreich', count=1.0), NamedEntity(uid='2-54-Deutschland', count=1.0), NamedEntity(uid='2-54-Frankreich', count=1.0), NamedEntity(uid='2-54-Spanien', count=1.0), NamedEntity(uid='2-54-Schweden', count=1.0), NamedEntity(uid='2-54-Europa', count=1.0), NamedEntity(uid='2-54-Kanada', count=1.0), NamedEntity(uid='2-54-Königreich_Griechenland', count=1.0), NamedEntity(uid='2-54-Königreich_Ungarn', count=1.0), NamedEntity(uid='2-54-Mexiko', count=1.0), NamedEntity(uid='2-54-Polen', count=1.0), NamedEntity(uid='2-54-Tschechoslowakei', count=1.0), NamedEntity(uid='2-54-Türkei', count=1.0), NamedEntity(uid='2-54-Berlin', count=1.0), NamedEntity(uid='2-54-New_York_City', count=1.0), NamedEntity(uid='2-54-Paris', count=1.0), NamedEntity(uid='2-54-Belgien', count=1.0), NamedEntity(uid='2-54-Japanisches_Kaiserreich', count=1.0), NamedEntity(uid='2-54-Niederlande', count=2.0), NamedEntity(uid='2-54-Schweiz', count=1.0), NamedEntity(uid='2-54-Aachen', count=1.0)], personEntities=[NamedEntity(uid='2-50-Leo_Schürmann', count=1.0)], organisationEntities=[NamedEntity(uid='2-53-Bundesrat_(Schweiz)', count=2.0), NamedEntity(uid='2-53-Deutsche_Bundesbank', count=2.0), NamedEntity(uid='2-53-Schweizerische_Nationalbank', count=6.0), NamedEntity(uid='2-53-US-Dollar', count=1.0), NamedEntity(uid='2-53-Federal_Reserve_System', count=2.0), NamedEntity(uid='2-53-Internationaler_Währungsfonds', count=1.0), NamedEntity(uid='2-53-Eidgenössisches_Finanzdepartement', count=1.0), NamedEntity(uid='2-53-Schweizer_Demokraten', count=1.0), NamedEntity(uid='2-53-Evangelische_Volkspartei', count=1.0), NamedEntity(uid='2-53-Sozialdemokratische_Partei_Deutschlands', count=1.0), NamedEntity(uid='2-53-Schweizerische_Volkspartei', count=1.0), NamedEntity(uid='2-53-Europäische_Wirtschafts-_und_Währungsunion', count=2.0), NamedEntity(uid='2-53-Schweizer_Franken', count=2.0), NamedEntity(uid='2-53-Bundesverfassung_der_Schweizerischen_Eidgenossenschaft', count=1.0), NamedEntity(uid='2-53-Geld', count=1.0), NamedEntity(uid='2-53-Währungspolitik', count=1.0), NamedEntity(uid='2-53-Volkswirtschaft', count=1.0), NamedEntity(uid='2-53-Europäische_Zentralbank', count=5.0), NamedEntity(uid='2-53-Europäisches_System_der_Zentralbanken', count=1.0), NamedEntity(uid='2-53-Oesterreichische_Nationalbank', count=2.0), NamedEntity(uid='2-53-Europäische_Gemeinschaft', count=1.0), NamedEntity(uid='2-53-Sten', count=1.0), NamedEntity(uid='2-53-Europäische_Union', count=2.0), NamedEntity(uid='2-53-European_Parliament', count=1.0), NamedEntity(uid='2-53-Landesregierung', count=1.0), NamedEntity(uid='2-53-Sozialdemokratische_Partei_Österreichs', count=1.0), NamedEntity(uid='2-53-Bastian_(Vorname)', count=1.0), NamedEntity(uid='2-53-Schweizer_Bankwesen', count=1.0), NamedEntity(uid='2-53-Arbeitsgruppe', count=1.0), NamedEntity(uid='2-53-Vereinigtes_Königreich', count=1.0), NamedEntity(uid='2-53-Belgien', count=1.0), NamedEntity(uid='2-53-Gotham_City', count=1.0), NamedEntity(uid='2-53-Schweiz', count=1.0)], newsAgenciesEntities=[], topics=[], transcriptLength=29135.0, totalPages=74.0, languageCode='de', isOnFrontPage=True, publicationDate=datetime.datetime(1998, 8, 11, 0, 0, tzinfo=TzInfo(UTC)), issueUid='FedGazDe-1998-08-11-a', countryCode='CH', providerCode='SFA', mediaUid='FedGazDe', mediaType='newspaper'), ContentItem(uid='FedGazFr-1998-08-11-a-i0001', copyrightStatus='in_cpy', type='ar', sourceMedium='print', title='[REDACTED]', transcript=None, locationEntities=[NamedEntity(uid='2-54-Suisse', count=1.0), NamedEntity(uid='2-54-Berne', count=1.0), NamedEntity(uid='2-54-Zurich', count=1.0), NamedEntity(uid='2-54-Allemagne', count=1.0), NamedEntity(uid='2-54-Zürich', count=1.0), NamedEntity(uid='2-54-Cambridge', count=1.0), NamedEntity(uid=\"2-54-Europe_de_l'Ouest\", count=1.0), NamedEntity(uid='2-54-Rhinow', count=1.0), NamedEntity(uid='2-54-France', count=1.0), NamedEntity(uid='2-54-Espagne', count=1.0), NamedEntity(uid='2-54-Japon', count=1.0), NamedEntity(uid='2-54-Hongrie', count=1.0), NamedEntity(uid='2-54-Mexique', count=1.0), NamedEntity(uid='2-54-Pologne', count=1.0), NamedEntity(uid='2-54-Turquie', count=1.0), NamedEntity(uid='2-54-Berlin', count=1.0), NamedEntity(uid='2-54-Paris', count=1.0), NamedEntity(uid='2-54-Vienne_(Autriche)', count=1.0), NamedEntity(uid='2-54-États-Unis', count=1.0), NamedEntity(uid='2-54-Italie', count=1.0), NamedEntity(uid='2-54-Belgique', count=1.0), NamedEntity(uid='2-54-Suède', count=1.0), NamedEntity(uid='2-54-Autriche', count=1.0)], personEntities=[NamedEntity(uid='2-50-Peter_Nobel', count=1.0), NamedEntity(uid='2-50-Leo_Schürmann', count=1.0)], organisationEntities=[NamedEntity(uid='2-53-Franc_suisse', count=1.0), NamedEntity(uid='2-53-États-Unis', count=2.0), NamedEntity(uid='2-53-Fonds_monétaire_international', count=1.0), NamedEntity(uid='2-53-Association_suisse_des_banquiers', count=1.0), NamedEntity(uid='2-53-Assemblée_fédérale_(Suisse)', count=1.0), NamedEntity(uid='2-53-Département_fédéral_des_finances', count=1.0), NamedEntity(uid='2-53-Union_démocratique_fédérale', count=1.0), NamedEntity(uid='2-53-Démocrates_suisses', count=1.0), NamedEntity(uid='2-53-Union_suisse_des_arts_et_métiers', count=1.0), NamedEntity(uid='2-53-Union_économique_et_monétaire', count=1.0), NamedEntity(uid='2-53-Parti_socialiste_suisse', count=2.0), NamedEntity(uid='2-53-Union_démocratique_du_centre', count=1.0), NamedEntity(uid='2-53-Union_européenne', count=2.0), NamedEntity(uid='2-53-Alliance_des_indépendants', count=1.0), NamedEntity(uid='2-53-Vorort', count=1.0), NamedEntity(uid='2-53-Parti_radical-démocratique', count=1.0), NamedEntity(uid='2-53-Union_syndicale_suisse', count=1.0), NamedEntity(uid='2-53-Parti_suisse_du_travail', count=1.0), NamedEntity(uid='2-53-Fédéralisme', count=1.0), NamedEntity(uid='2-53-Banque_nationale_suisse', count=1.0), NamedEntity(uid='2-53-Royaume-Uni', count=1.0), NamedEntity(uid='2-53-Banque_centrale_européenne', count=2.0), NamedEntity(uid='2-53-Pologne', count=1.0), NamedEntity(uid='2-53-Conseil_européen', count=1.0), NamedEntity(uid='2-53-Suisse', count=1.0), NamedEntity(uid='2-53-Pays-Bas_(pays_constitutif)', count=1.0), NamedEntity(uid='2-53-Schweizerische_Nationalbank', count=1.0)], newsAgenciesEntities=[], topics=[], transcriptLength=37607.0, totalPages=75.0, languageCode='fr', isOnFrontPage=True, publicationDate=datetime.datetime(1998, 8, 11, 0, 0, tzinfo=TzInfo(UTC)), issueUid='FedGazFr-1998-08-11-a', countryCode='CH', providerCode='SFA', mediaUid='FedGazFr', mediaType='newspaper'), ContentItem(uid='luxland-1998-11-13-a-i0062', copyrightStatus='in_cpy', type='ar', sourceMedium='print', title='[REDACTED]', transcript=None, locationEntities=[], personEntities=[], organisationEntities=[], newsAgenciesEntities=[], topics=[TopicMention(uid='tm-fr-all-v2.0_tp35_fr', relevance=0.189), TopicMention(uid='tm-fr-all-v2.0_tp33_fr', relevance=0.131), TopicMention(uid='tm-fr-all-v2.0_tp19_fr', relevance=0.1), TopicMention(uid='tm-fr-all-v2.0_tp58_fr', relevance=0.073), TopicMention(uid='tm-fr-all-v2.0_tp57_fr', relevance=0.06)], transcriptLength=116.0, totalPages=1.0, languageCode='fr', isOnFrontPage=False, publicationDate=datetime.datetime(1998, 11, 13, 0, 0, tzinfo=TzInfo(UTC)), issueUid='luxland-1998-11-13-a', countryCode='LU', providerCode='BNL', mediaUid='luxland', mediaType='newspaper'), ContentItem(uid='FedGazDe-1999-06-01-a-i0001', copyrightStatus='in_cpy', type='ar', sourceMedium='print', title='[REDACTED]', transcript=None, locationEntities=[NamedEntity(uid='2-54-Bern', count=1.0), NamedEntity(uid='2-54-Liechtenstein', count=2.0), NamedEntity(uid='2-54-Schweiz', count=3.0), NamedEntity(uid='2-54-Kanton_Appenzell', count=1.0), NamedEntity(uid='2-54-Europäische_Freihandelsassoziation', count=1.0), NamedEntity(uid='2-54-Europa', count=1.0), NamedEntity(uid='2-54-Japan', count=1.0), NamedEntity(uid='2-54-Basel', count=1.0), NamedEntity(uid='2-54-Kanton_Zürich', count=1.0), NamedEntity(uid='2-54-Niederlande', count=1.0), NamedEntity(uid='2-54-Horden', count=1.0), NamedEntity(uid='2-54-Chicago', count=1.0), NamedEntity(uid='2-54-Zentralamerika', count=1.0), NamedEntity(uid='2-54-Belgien', count=1.0), NamedEntity(uid='2-54-Dänemark', count=1.0), NamedEntity(uid='2-54-Finnland', count=1.0), NamedEntity(uid='2-54-Norwegen', count=1.0), NamedEntity(uid='2-54-Schweden', count=1.0), NamedEntity(uid='2-54-Spanien', count=1.0), NamedEntity(uid='2-54-Alpen', count=1.0), NamedEntity(uid='2-54-Italien', count=1.0), NamedEntity(uid='2-54-Zurich', count=1.0), NamedEntity(uid='2-54-Helsinki', count=1.0), NamedEntity(uid='2-54-Vereinigte_Staaten', count=2.0), NamedEntity(uid='2-54-Nordwestschweiz', count=1.0), NamedEntity(uid='2-54-Vereinigtes_Königreich', count=1.0), NamedEntity(uid='2-54-Kanada', count=1.0), NamedEntity(uid='2-54-Nordostschweiz', count=1.0), NamedEntity(uid='2-54-Kanton_Tessin', count=1.0), NamedEntity(uid='2-54-Frankreich', count=1.0), NamedEntity(uid='2-54-Bussen', count=1.0), NamedEntity(uid='2-54-Eschweiler_(Allemagne)', count=1.0)], personEntities=[NamedEntity(uid='2-50-Eduard_David', count=1.0), NamedEntity(uid='2-50-Ruth_Dreifuss', count=2.0), NamedEntity(uid='2-50-François_Couchepin', count=1.0), NamedEntity(uid='2-50-Julius_Bär', count=1.0)], organisationEntities=[NamedEntity(uid='2-53-Bundesrat_(Schweiz)', count=1.0), NamedEntity(uid='2-53-Kanton_Appenzell_Ausserrhoden', count=1.0), NamedEntity(uid='2-53-Europäische_Union', count=1.0), NamedEntity(uid='2-53-Freihandelsabkommen', count=1.0), NamedEntity(uid='2-53-International', count=1.0), NamedEntity(uid='2-53-Welthandelsorganisation', count=3.0), NamedEntity(uid='2-53-Weltgesundheitsorganisation', count=3.0), NamedEntity(uid='2-53-Eidgenössisches_Departement_des_Innern', count=2.0), NamedEntity(uid='2-53-Kontrollstelle', count=1.0), NamedEntity(uid='2-53-Bundesverwaltung', count=2.0), NamedEntity(uid='2-53-Soziale_Sicherheit', count=1.0), NamedEntity(uid='2-53-Washington,_D.C.', count=1.0), NamedEntity(uid='2-53-New_York_City', count=1.0), NamedEntity(uid='2-53-HIV', count=1.0), NamedEntity(uid='2-53-Buchstabe', count=1.0), NamedEntity(uid='2-53-Gute_klinische_Praxis', count=1.0), NamedEntity(uid='2-53-Vereinigtes_Königreich', count=1.0), NamedEntity(uid='2-53-Swiss_Olympic', count=2.0), NamedEntity(uid='2-53-Test', count=1.0), NamedEntity(uid='2-53-Liste', count=1.0), NamedEntity(uid='2-53-Bundesamt_für_Gesundheit', count=1.0), NamedEntity(uid='2-53-Bundesamt_für_Sport', count=1.0), NamedEntity(uid='2-53-Bundesverfassung_der_Schweizerischen_Eidgenossenschaft', count=1.0), NamedEntity(uid=\"2-53-Département_fédéral_de_l'intérieur\", count=1.0), NamedEntity(uid='2-53-Europäische_Freihandelsassoziation', count=1.0), NamedEntity(uid='2-53-Europäischer_Wirtschaftsraum', count=1.0), NamedEntity(uid='2-53-Europäische_Wirtschaftsgemeinschaft', count=1.0), NamedEntity(uid='2-53-Food_and_Drug_Administration', count=1.0), NamedEntity(uid='2-53-Allgemeines_Abkommen_über_den_Handel_mit_Dienstleistungen', count=2.0), NamedEntity(uid='2-53-Allgemeines_Zoll-_und_Handelsabkommen', count=2.0), NamedEntity(uid='2-53-Vereinte_Nationen', count=2.0), NamedEntity(uid='2-53-Verkehr', count=1.0), NamedEntity(uid='2-53-Energie', count=1.0), NamedEntity(uid='2-53-Schweiz', count=1.0), NamedEntity(uid='2-53-Bundesrechtspflegegesetz', count=1.0)], newsAgenciesEntities=[NamedEntity(uid='4-55-Reuters', count=201.0)], topics=[], transcriptLength=76080.0, totalPages=205.0, languageCode='de', isOnFrontPage=True, publicationDate=datetime.datetime(1999, 6, 1, 0, 0, tzinfo=TzInfo(UTC)), issueUid='FedGazDe-1999-06-01-a', countryCode='CH', providerCode='SFA', mediaUid='FedGazDe', mediaType='newspaper'), ContentItem(uid='FZG-1999-08-13-a-i0008', copyrightStatus='in_cpy', type='ar', sourceMedium='print', title='[REDACTED]', transcript=None, locationEntities=[], personEntities=[], organisationEntities=[], newsAgenciesEntities=[], topics=[TopicMention(uid='tm-de-all-v2.0_tp15_de', relevance=0.556), TopicMention(uid='tm-de-all-v2.0_tp45_de', relevance=0.13), TopicMention(uid='tm-de-all-v2.0_tp20_de', relevance=0.11)], transcriptLength=516.0, totalPages=1.0, languageCode='de', isOnFrontPage=False, publicationDate=datetime.datetime(1999, 8, 13, 0, 0, tzinfo=TzInfo(UTC)), issueUid='FZG-1999-08-13-a', countryCode='CH', providerCode='SNL', mediaUid='FZG', mediaType='newspaper'), ContentItem(uid='luxland-1999-11-05-a-i0028', copyrightStatus='in_cpy', type='ar', sourceMedium='print', title='[REDACTED]', transcript=None, locationEntities=[NamedEntity(uid='2-54-Luxembourg', count=1.0)], personEntities=[], organisationEntities=[NamedEntity(uid='2-53-Union_européenne', count=1.0), NamedEntity(uid='2-53-Pétrusse', count=1.0)], newsAgenciesEntities=[], topics=[TopicMention(uid='tm-fr-all-v2.0_tp35_fr', relevance=0.149), TopicMention(uid='tm-fr-all-v2.0_tp33_fr', relevance=0.144), TopicMention(uid='tm-fr-all-v2.0_tp57_fr', relevance=0.118), TopicMention(uid='tm-fr-all-v2.0_tp58_fr', relevance=0.103)], transcriptLength=90.0, totalPages=1.0, languageCode='fr', isOnFrontPage=False, publicationDate=datetime.datetime(1999, 11, 5, 0, 0, tzinfo=TzInfo(UTC)), issueUid='luxland-1999-11-05-a', countryCode='LU', providerCode='BNL', mediaUid='luxland', mediaType='newspaper'), ContentItem(uid='luxland-2000-11-24-a-i0030', copyrightStatus='in_cpy', type='ar', sourceMedium='print', title='[REDACTED]', transcript=None, locationEntities=[NamedEntity(uid='2-54-Union_européenne', count=1.0), NamedEntity(uid='2-54-Luxembourg', count=1.0)], personEntities=[], organisationEntities=[NamedEntity(uid='2-53-Union_européenne', count=1.0)], newsAgenciesEntities=[], topics=[TopicMention(uid='tm-fr-all-v2.0_tp35_fr', relevance=0.169), TopicMention(uid='tm-fr-all-v2.0_tp58_fr', relevance=0.141), TopicMention(uid='tm-fr-all-v2.0_tp33_fr', relevance=0.085), TopicMention(uid='tm-fr-all-v2.0_tp57_fr', relevance=0.081), TopicMention(uid='tm-fr-all-v2.0_tp99_fr', relevance=0.058), TopicMention(uid='tm-fr-all-v2.0_tp19_fr', relevance=0.053)], transcriptLength=104.0, totalPages=1.0, languageCode='fr', isOnFrontPage=False, publicationDate=datetime.datetime(2000, 11, 24, 0, 0, tzinfo=TzInfo(UTC)), issueUid='luxland-2000-11-24-a', countryCode='LU', providerCode='BNL', mediaUid='luxland', mediaType='newspaper'), ContentItem(uid='LLE-2001-04-23-a-i0253', copyrightStatus='in_cpy', type='ar', sourceMedium='print', title='[REDACTED]', transcript=None, locationEntities=[], personEntities=[], organisationEntities=[], newsAgenciesEntities=[], topics=[TopicMention(uid='tm-fr-all-v2.0_tp89_fr', relevance=0.177), TopicMention(uid='tm-fr-all-v2.0_tp44_fr', relevance=0.168), TopicMention(uid='tm-fr-all-v2.0_tp00_fr', relevance=0.09), TopicMention(uid='tm-fr-all-v2.0_tp52_fr', relevance=0.074), TopicMention(uid='tm-fr-all-v2.0_tp46_fr', relevance=0.069), TopicMention(uid='tm-fr-all-v2.0_tp36_fr', relevance=0.066), TopicMention(uid='tm-fr-all-v2.0_tp35_fr', relevance=0.057), TopicMention(uid='tm-fr-all-v2.0_tp87_fr', relevance=0.051)], transcriptLength=1724.0, totalPages=1.0, languageCode='fr', isOnFrontPage=False, publicationDate=datetime.datetime(2001, 4, 23, 0, 0, tzinfo=TzInfo(UTC)), issueUid='LLE-2001-04-23-a', countryCode='CH', providerCode='SNL', mediaUid='LLE', mediaType='newspaper'), ContentItem(uid='FZG-2001-08-04-a-i0012', copyrightStatus='in_cpy', type='ar', sourceMedium='print', title='[REDACTED]', transcript=None, locationEntities=[], personEntities=[], organisationEntities=[], newsAgenciesEntities=[], topics=[TopicMention(uid='tm-de-all-v2.0_tp45_de', relevance=0.726), TopicMention(uid='tm-de-all-v2.0_tp67_de', relevance=0.074), TopicMention(uid='tm-de-all-v2.0_tp62_de', relevance=0.069)], transcriptLength=1395.0, totalPages=1.0, languageCode='de', isOnFrontPage=False, publicationDate=datetime.datetime(2001, 8, 4, 0, 0, tzinfo=TzInfo(UTC)), issueUid='FZG-2001-08-04-a', countryCode='CH', providerCode='SNL', mediaUid='FZG', mediaType='newspaper'), ContentItem(uid='FZG-2001-10-04-a-i0220', copyrightStatus='in_cpy', type='ar', sourceMedium='print', title='[REDACTED]', transcript=None, locationEntities=[], personEntities=[], organisationEntities=[], newsAgenciesEntities=[], topics=[TopicMention(uid='tm-de-all-v2.0_tp62_de', relevance=0.377), TopicMention(uid='tm-de-all-v2.0_tp45_de', relevance=0.21), TopicMention(uid='tm-de-all-v2.0_tp83_de', relevance=0.072)], transcriptLength=91.0, totalPages=1.0, languageCode='de', isOnFrontPage=False, publicationDate=datetime.datetime(2001, 10, 4, 0, 0, tzinfo=TzInfo(UTC)), issueUid='FZG-2001-10-04-a', countryCode='CH', providerCode='SNL', mediaUid='FZG', mediaType='newspaper'), ContentItem(uid='luxland-2001-11-16-a-i0018', copyrightStatus='in_cpy', type='ar', sourceMedium='print', title='[REDACTED]', transcript=None, locationEntities=[NamedEntity(uid='2-54-Luxembourg_City', count=1.0)], personEntities=[], organisationEntities=[NamedEntity(uid='2-53-European_Commission', count=1.0)], newsAgenciesEntities=[], topics=[], transcriptLength=353.0, totalPages=1.0, languageCode='en', isOnFrontPage=False, publicationDate=datetime.datetime(2001, 11, 16, 0, 0, tzinfo=TzInfo(UTC)), issueUid='luxland-2001-11-16-a', countryCode='LU', providerCode='BNL', mediaUid='luxland', mediaType='newspaper'), ContentItem(uid='luxland-2001-11-16-a-i0066', copyrightStatus='in_cpy', type='ar', sourceMedium='print', title='[REDACTED]', transcript=None, locationEntities=[], personEntities=[], organisationEntities=[], newsAgenciesEntities=[], topics=[TopicMention(uid='tm-fr-all-v2.0_tp96_fr', relevance=0.174), TopicMention(uid='tm-fr-all-v2.0_tp58_fr', relevance=0.138), TopicMention(uid='tm-fr-all-v2.0_tp99_fr', relevance=0.098), TopicMention(uid='tm-fr-all-v2.0_tp33_fr', relevance=0.077), TopicMention(uid='tm-fr-all-v2.0_tp35_fr', relevance=0.055)], transcriptLength=113.0, totalPages=1.0, languageCode='fr', isOnFrontPage=False, publicationDate=datetime.datetime(2001, 11, 16, 0, 0, tzinfo=TzInfo(UTC)), issueUid='luxland-2001-11-16-a', countryCode='LU', providerCode='BNL', mediaUid='luxland', mediaType='newspaper'), ContentItem(uid='luxland-2002-01-11-a-i0009', copyrightStatus='in_cpy', type='ar', sourceMedium='print', title='[REDACTED]', transcript=None, locationEntities=[NamedEntity(uid='2-54-États-Unis', count=1.0)], personEntities=[NamedEntity(uid='2-50-George_W._Bush', count=1.0), NamedEntity(uid='2-50-François_Biltgen', count=1.0), NamedEntity(uid='2-50-Jacques_Chirac', count=1.0)], organisationEntities=[NamedEntity(uid='2-53-Commission_européenne', count=1.0), NamedEntity(uid='2-53-Union_européenne', count=1.0), NamedEntity(uid='2-53-Conseil_européen', count=1.0)], newsAgenciesEntities=[], topics=[TopicMention(uid='tm-fr-all-v2.0_tp87_fr', relevance=0.262), TopicMention(uid='tm-fr-all-v2.0_tp95_fr', relevance=0.229), TopicMention(uid='tm-fr-all-v2.0_tp52_fr', relevance=0.095), TopicMention(uid='tm-fr-all-v2.0_tp58_fr', relevance=0.067), TopicMention(uid='tm-fr-all-v2.0_tp25_fr', relevance=0.064), TopicMention(uid='tm-fr-all-v2.0_tp36_fr', relevance=0.062)], transcriptLength=1778.0, totalPages=2.0, languageCode='fr', isOnFrontPage=False, publicationDate=datetime.datetime(2002, 1, 11, 0, 0, tzinfo=TzInfo(UTC)), issueUid='luxland-2002-01-11-a', countryCode='LU', providerCode='BNL', mediaUid='luxland', mediaType='newspaper'), ContentItem(uid='luxland-2002-04-12-a-i0031', copyrightStatus='in_cpy', type='ar', sourceMedium='print', title='[REDACTED]', transcript=None, locationEntities=[NamedEntity(uid='2-54-Israel', count=1.0), NamedEntity(uid='2-54-West_Bank', count=1.0)], personEntities=[NamedEntity(uid='2-50-Romano_Prodi', count=1.0)], organisationEntities=[], newsAgenciesEntities=[], topics=[], transcriptLength=835.0, totalPages=1.0, languageCode='en', isOnFrontPage=False, publicationDate=datetime.datetime(2002, 4, 12, 0, 0, tzinfo=TzInfo(UTC)), issueUid='luxland-2002-04-12-a', countryCode='LU', providerCode='BNL', mediaUid='luxland', mediaType='newspaper'), ContentItem(uid='IMP-2002-06-11-a-i0198', copyrightStatus='in_cpy', type='ar', sourceMedium='print', title='[REDACTED]', transcript=None, locationEntities=[], personEntities=[], organisationEntities=[], newsAgenciesEntities=[], topics=[TopicMention(uid='tm-fr-all-v2.0_tp87_fr', relevance=0.14), TopicMention(uid='tm-fr-all-v2.0_tp78_fr', relevance=0.126), TopicMention(uid='tm-fr-all-v2.0_tp07_fr', relevance=0.124), TopicMention(uid='tm-fr-all-v2.0_tp31_fr', relevance=0.102), TopicMention(uid='tm-fr-all-v2.0_tp77_fr', relevance=0.096), TopicMention(uid='tm-fr-all-v2.0_tp55_fr', relevance=0.081), TopicMention(uid='tm-fr-all-v2.0_tp52_fr', relevance=0.069), TopicMention(uid='tm-fr-all-v2.0_tp58_fr', relevance=0.055)], transcriptLength=533.0, totalPages=1.0, languageCode='fr', isOnFrontPage=False, publicationDate=datetime.datetime(2002, 6, 11, 0, 0, tzinfo=TzInfo(UTC)), issueUid='IMP-2002-06-11-a', countryCode='CH', providerCode='SNL', mediaUid='IMP', mediaType='newspaper'), ContentItem(uid='EXP-2002-06-11-a-i0229', copyrightStatus='in_cpy', type='ar', sourceMedium='print', title='[REDACTED]', transcript=None, locationEntities=[NamedEntity(uid='2-54-Lausanne', count=4.0), NamedEntity(uid='2-54-Berlin', count=5.0), NamedEntity(uid='2-54-Barcelone', count=1.0), NamedEntity(uid='2-54-Santiago', count=1.0), NamedEntity(uid='2-54-Paris', count=1.0), NamedEntity(uid='2-54-Bordeaux', count=1.0), NamedEntity(uid='2-54-Londres', count=4.0)], personEntities=[NamedEntity(uid='2-50-Louisa_Hutton', count=4.0)], organisationEntities=[NamedEntity(uid='2-53-Architectural_Association_School_of_Architecture', count=1.0)], newsAgenciesEntities=[], topics=[TopicMention(uid='tm-fr-all-v2.0_tp77_fr', relevance=0.139), TopicMention(uid='tm-fr-all-v2.0_tp07_fr', relevance=0.126), TopicMention(uid='tm-fr-all-v2.0_tp78_fr', relevance=0.11), TopicMention(uid='tm-fr-all-v2.0_tp52_fr', relevance=0.093), TopicMention(uid='tm-fr-all-v2.0_tp55_fr', relevance=0.088), TopicMention(uid='tm-fr-all-v2.0_tp31_fr', relevance=0.085), TopicMention(uid='tm-fr-all-v2.0_tp92_fr', relevance=0.067), TopicMention(uid='tm-fr-all-v2.0_tp58_fr', relevance=0.062)], transcriptLength=605.0, totalPages=1.0, languageCode='fr', isOnFrontPage=False, publicationDate=datetime.datetime(2002, 6, 11, 0, 0, tzinfo=TzInfo(UTC)), issueUid='EXP-2002-06-11-a', countryCode='CH', providerCode='SNL', mediaUid='EXP', mediaType='newspaper'), ContentItem(uid='luxland-2003-07-04-a-i0007', copyrightStatus='in_cpy', type='ar', sourceMedium='print', title='[REDACTED]', transcript=None, locationEntities=[NamedEntity(uid='2-54-Warschau', count=1.0), NamedEntity(uid='2-54-Niederlande', count=1.0), NamedEntity(uid='2-54-Den_Haag', count=1.0), NamedEntity(uid='2-54-Dublin', count=1.0), NamedEntity(uid='2-54-Polen', count=1.0)], personEntities=[], organisationEntities=[NamedEntity(uid='2-53-Den_Haag', count=1.0), NamedEntity(uid='2-53-Europäischer_Konvent', count=1.0)], newsAgenciesEntities=[], topics=[TopicMention(uid='tm-de-all-v2.0_tp20_de', relevance=0.241), TopicMention(uid='tm-de-all-v2.0_tp61_de', relevance=0.166), TopicMention(uid='tm-de-all-v2.0_tp29_de', relevance=0.08), TopicMention(uid='tm-de-all-v2.0_tp14_de', relevance=0.079), TopicMention(uid='tm-de-all-v2.0_tp86_de', relevance=0.063), TopicMention(uid='tm-de-all-v2.0_tp24_de', relevance=0.061)], transcriptLength=1759.0, totalPages=2.0, languageCode='de', isOnFrontPage=False, publicationDate=datetime.datetime(2003, 7, 4, 0, 0, tzinfo=TzInfo(UTC)), issueUid='luxland-2003-07-04-a', countryCode='LU', providerCode='BNL', mediaUid='luxland', mediaType='newspaper'), ContentItem(uid='luxland-2003-10-31-a-i0029', copyrightStatus='in_cpy', type='ar', sourceMedium='print', title='[REDACTED]', transcript=None, locationEntities=[], personEntities=[], organisationEntities=[NamedEntity(uid='2-53-Union_européenne', count=1.0)], newsAgenciesEntities=[], topics=[TopicMention(uid='tm-fr-all-v2.0_tp96_fr', relevance=0.227), TopicMention(uid='tm-fr-all-v2.0_tp58_fr', relevance=0.092), TopicMention(uid='tm-fr-all-v2.0_tp35_fr', relevance=0.085), TopicMention(uid='tm-fr-all-v2.0_tp33_fr', relevance=0.068), TopicMention(uid='tm-fr-all-v2.0_tp99_fr', relevance=0.061), TopicMention(uid='tm-fr-all-v2.0_tp69_fr', relevance=0.057)], transcriptLength=121.0, totalPages=1.0, languageCode='fr', isOnFrontPage=False, publicationDate=datetime.datetime(2003, 10, 31, 0, 0, tzinfo=TzInfo(UTC)), issueUid='luxland-2003-10-31-a', countryCode='LU', providerCode='BNL', mediaUid='luxland', mediaType='newspaper'), ContentItem(uid='luxland-2004-01-30-a-i0049', copyrightStatus='in_cpy', type='ar', sourceMedium='print', title='[REDACTED]', transcript=None, locationEntities=[NamedEntity(uid='2-54-Lille', count=1.0), NamedEntity(uid='2-54-France', count=1.0)], personEntities=[], organisationEntities=[NamedEntity(uid='2-53-Interreg', count=1.0), NamedEntity(uid='2-53-European_Union', count=2.0), NamedEntity(uid='2-53-Euro', count=1.0)], newsAgenciesEntities=[], topics=[], transcriptLength=418.0, totalPages=1.0, languageCode='en', isOnFrontPage=False, publicationDate=datetime.datetime(2004, 1, 30, 0, 0, tzinfo=TzInfo(UTC)), issueUid='luxland-2004-01-30-a', countryCode='LU', providerCode='BNL', mediaUid='luxland', mediaType='newspaper'), ContentItem(uid='luxland-2004-04-30-a-i0093', copyrightStatus='in_cpy', type='ar', sourceMedium='print', title='[REDACTED]', transcript=None, locationEntities=[], personEntities=[NamedEntity(uid='2-50-Daniel_Gros', count=1.0)], organisationEntities=[], newsAgenciesEntities=[], topics=[], transcriptLength=2561.0, totalPages=2.0, languageCode='en', isOnFrontPage=False, publicationDate=datetime.datetime(2004, 4, 30, 0, 0, tzinfo=TzInfo(UTC)), issueUid='luxland-2004-04-30-a', countryCode='LU', providerCode='BNL', mediaUid='luxland', mediaType='newspaper'), ContentItem(uid='luxland-2004-04-30-a-i0096', copyrightStatus='in_cpy', type='ar', sourceMedium='print', title='[REDACTED]', transcript=None, locationEntities=[NamedEntity(uid='2-54-Virginia', count=1.0), NamedEntity(uid='2-54-Vilnius', count=2.0), NamedEntity(uid='2-54-Lithuania', count=1.0), NamedEntity(uid='2-54-Latvia', count=1.0), NamedEntity(uid='2-54-Estonia', count=1.0), NamedEntity(uid='2-54-Spain', count=1.0), NamedEntity(uid='2-54-Europe', count=1.0)], personEntities=[], organisationEntities=[NamedEntity(uid='2-53-Bratislava', count=1.0), NamedEntity(uid='2-53-European_Union', count=1.0), NamedEntity(uid='2-53-European_Commission', count=1.0), NamedEntity(uid='2-53-Differdange', count=1.0)], newsAgenciesEntities=[], topics=[], transcriptLength=950.0, totalPages=1.0, languageCode='en', isOnFrontPage=False, publicationDate=datetime.datetime(2004, 4, 30, 0, 0, tzinfo=TzInfo(UTC)), issueUid='luxland-2004-04-30-a', countryCode='LU', providerCode='BNL', mediaUid='luxland', mediaType='newspaper'), ContentItem(uid='luxland-2004-05-07-a-i0198', copyrightStatus='in_cpy', type='ar', sourceMedium='print', title='[REDACTED]', transcript=None, locationEntities=[NamedEntity(uid='2-54-United_States', count=1.0), NamedEntity(uid='2-54-China', count=1.0), NamedEntity(uid='2-54-France', count=2.0), NamedEntity(uid='2-54-Europe', count=1.0)], personEntities=[], organisationEntities=[], newsAgenciesEntities=[], topics=[], transcriptLength=2298.0, totalPages=2.0, languageCode='en', isOnFrontPage=False, publicationDate=datetime.datetime(2004, 5, 7, 0, 0, tzinfo=TzInfo(UTC)), issueUid='luxland-2004-05-07-a', countryCode='LU', providerCode='BNL', mediaUid='luxland', mediaType='newspaper'), ContentItem(uid='luxland-2004-05-21-a-i0025', copyrightStatus='in_cpy', type='ar', sourceMedium='print', title='[REDACTED]', transcript=None, locationEntities=[], personEntities=[], organisationEntities=[], newsAgenciesEntities=[], topics=[], transcriptLength=594.0, totalPages=1.0, languageCode='en', isOnFrontPage=False, publicationDate=datetime.datetime(2004, 5, 21, 0, 0, tzinfo=TzInfo(UTC)), issueUid='luxland-2004-05-21-a', countryCode='LU', providerCode='BNL', mediaUid='luxland', mediaType='newspaper'), ContentItem(uid='FZG-2004-05-28-a-i0093', copyrightStatus='in_cpy', type='ar', sourceMedium='print', title='[REDACTED]', transcript=None, locationEntities=[], personEntities=[], organisationEntities=[], newsAgenciesEntities=[], topics=[TopicMention(uid='tm-de-all-v2.0_tp20_de', relevance=0.275), TopicMention(uid='tm-de-all-v2.0_tp06_de', relevance=0.272), TopicMention(uid='tm-de-all-v2.0_tp82_de', relevance=0.097), TopicMention(uid='tm-de-all-v2.0_tp79_de', relevance=0.07), TopicMention(uid='tm-de-all-v2.0_tp48_de', relevance=0.058)], transcriptLength=162.0, totalPages=1.0, languageCode='de', isOnFrontPage=False, publicationDate=datetime.datetime(2004, 5, 28, 0, 0, tzinfo=TzInfo(UTC)), issueUid='FZG-2004-05-28-a', countryCode='CH', providerCode='SNL', mediaUid='FZG', mediaType='newspaper'), ContentItem(uid='LLE-2004-05-28-a-i0100', copyrightStatus='in_cpy', type='ar', sourceMedium='print', title='[REDACTED]', transcript=None, locationEntities=[NamedEntity(uid='2-54-Suisse', count=5.0), NamedEntity(uid='2-54-Eindhoven', count=1.0), NamedEntity(uid='2-54-Belgique', count=1.0), NamedEntity(uid='2-54-France', count=1.0), NamedEntity(uid='2-54-Allemagne', count=1.0), NamedEntity(uid='2-54-Italie', count=1.0), NamedEntity(uid='2-54-Royaume-Uni', count=1.0), NamedEntity(uid='2-54-Pays-Bas', count=1.0)], personEntities=[NamedEntity(uid='2-50-Samuel_Schmid', count=6.0), NamedEntity(uid='2-50-Christophe_Keckeis', count=1.0)], organisationEntities=[NamedEntity(uid='2-53-Direction_départementale_de_la_Protection_des_populations', count=2.0), NamedEntity(uid='2-53-Royaume', count=1.0), NamedEntity(uid='2-53-Pays', count=1.0), NamedEntity(uid='2-53-Roger_Pratt', count=1.0), NamedEntity(uid='2-53-Conseil_de_sécurité_des_Nations_unies', count=1.0), NamedEntity(uid='2-53-Force_de_stabilisation', count=1.0), NamedEntity(uid=\"2-53-Force_de_l'Union_européenne\", count=1.0)], newsAgenciesEntities=[], topics=[TopicMention(uid='tm-fr-all-v2.0_tp92_fr', relevance=0.178), TopicMention(uid='tm-fr-all-v2.0_tp88_fr', relevance=0.131), TopicMention(uid='tm-fr-all-v2.0_tp46_fr', relevance=0.083), TopicMention(uid='tm-fr-all-v2.0_tp52_fr', relevance=0.081), TopicMention(uid='tm-fr-all-v2.0_tp58_fr', relevance=0.078), TopicMention(uid='tm-fr-all-v2.0_tp20_fr', relevance=0.065)], transcriptLength=955.0, totalPages=1.0, languageCode='fr', isOnFrontPage=False, publicationDate=datetime.datetime(2004, 5, 28, 0, 0, tzinfo=TzInfo(UTC)), issueUid='LLE-2004-05-28-a', countryCode='CH', providerCode='SNL', mediaUid='LLE', mediaType='newspaper'), ContentItem(uid='LLE-2004-08-03-a-i0245', copyrightStatus='in_cpy', type='ar', sourceMedium='print', title='[REDACTED]', transcript=None, locationEntities=[NamedEntity(uid='2-54-Strasbourg', count=4.0), NamedEntity(uid='2-54-Canton_de_Saint-Estève', count=1.0)], personEntities=[NamedEntity(uid='2-50-Zaha_Hadid', count=6.0), NamedEntity(uid='2-50-Ludwig_Mies_van_der_Rohe', count=2.0)], organisationEntities=[], newsAgenciesEntities=[], topics=[TopicMention(uid='tm-fr-all-v2.0_tp31_fr', relevance=0.424), TopicMention(uid='tm-fr-all-v2.0_tp55_fr', relevance=0.176), TopicMention(uid='tm-fr-all-v2.0_tp87_fr', relevance=0.131), TopicMention(uid='tm-fr-all-v2.0_tp58_fr', relevance=0.058)], transcriptLength=453.0, totalPages=1.0, languageCode='fr', isOnFrontPage=False, publicationDate=datetime.datetime(2004, 8, 3, 0, 0, tzinfo=TzInfo(UTC)), issueUid='LLE-2004-08-03-a', countryCode='CH', providerCode='SNL', mediaUid='LLE', mediaType='newspaper'), ContentItem(uid='FZG-2004-09-03-a-i0049', copyrightStatus='in_cpy', type='ar', sourceMedium='print', title='[REDACTED]', transcript=None, locationEntities=[], personEntities=[], organisationEntities=[], newsAgenciesEntities=[], topics=[TopicMention(uid='tm-de-all-v2.0_tp48_de', relevance=0.227), TopicMention(uid='tm-de-all-v2.0_tp06_de', relevance=0.209), TopicMention(uid='tm-de-all-v2.0_tp20_de', relevance=0.08), TopicMention(uid='tm-de-all-v2.0_tp00_de', relevance=0.059)], transcriptLength=175.0, totalPages=1.0, languageCode='de', isOnFrontPage=False, publicationDate=datetime.datetime(2004, 9, 3, 0, 0, tzinfo=TzInfo(UTC)), issueUid='FZG-2004-09-03-a', countryCode='CH', providerCode='SNL', mediaUid='FZG', mediaType='newspaper'), ContentItem(uid='IMP-2004-09-30-a-i0199', copyrightStatus='in_cpy', type='ar', sourceMedium='print', title='[REDACTED]', transcript=None, locationEntities=[], personEntities=[], organisationEntities=[], newsAgenciesEntities=[], topics=[TopicMention(uid='tm-fr-all-v2.0_tp71_fr', relevance=0.18), TopicMention(uid='tm-fr-all-v2.0_tp03_fr', relevance=0.132), TopicMention(uid='tm-fr-all-v2.0_tp52_fr', relevance=0.106), TopicMention(uid='tm-fr-all-v2.0_tp87_fr', relevance=0.097), TopicMention(uid='tm-fr-all-v2.0_tp46_fr', relevance=0.085), TopicMention(uid='tm-fr-all-v2.0_tp92_fr', relevance=0.067)], transcriptLength=474.0, totalPages=1.0, languageCode='fr', isOnFrontPage=False, publicationDate=datetime.datetime(2004, 9, 30, 0, 0, tzinfo=TzInfo(UTC)), issueUid='IMP-2004-09-30-a', countryCode='CH', providerCode='SNL', mediaUid='IMP', mediaType='newspaper'), ContentItem(uid='EXP-2004-09-30-a-i0226', copyrightStatus='in_cpy', type='ar', sourceMedium='print', title='[REDACTED]', transcript=None, locationEntities=[NamedEntity(uid='2-54-Berne', count=2.0), NamedEntity(uid='2-54-Europe', count=3.0), NamedEntity(uid='2-54-Sarajevo', count=1.0), NamedEntity(uid='2-54-Italie', count=1.0), NamedEntity(uid='2-54-Portugal', count=1.0)], personEntities=[], organisationEntities=[NamedEntity(uid='2-53-Union_européenne', count=3.0), NamedEntity(uid='2-53-Bruxelles', count=1.0), NamedEntity(uid='2-53-Suisse', count=1.0), NamedEntity(uid=\"2-53-Organisation_du_traité_de_l'Atlantique_nord\", count=1.0)], newsAgenciesEntities=[], topics=[TopicMention(uid='tm-fr-all-v2.0_tp71_fr', relevance=0.271), TopicMention(uid='tm-fr-all-v2.0_tp52_fr', relevance=0.119), TopicMention(uid='tm-fr-all-v2.0_tp46_fr', relevance=0.082), TopicMention(uid='tm-fr-all-v2.0_tp87_fr', relevance=0.074)], transcriptLength=467.0, totalPages=1.0, languageCode='fr', isOnFrontPage=False, publicationDate=datetime.datetime(2004, 9, 30, 0, 0, tzinfo=TzInfo(UTC)), issueUid='EXP-2004-09-30-a', countryCode='CH', providerCode='SNL', mediaUid='EXP', mediaType='newspaper'), ContentItem(uid='luxland-2004-11-05-a-i0037', copyrightStatus='in_cpy', type='ar', sourceMedium='print', title='[REDACTED]', transcript=None, locationEntities=[], personEntities=[], organisationEntities=[], newsAgenciesEntities=[], topics=[TopicMention(uid='tm-fr-all-v2.0_tp58_fr', relevance=0.145), TopicMention(uid='tm-fr-all-v2.0_tp96_fr', relevance=0.136), TopicMention(uid='tm-fr-all-v2.0_tp90_fr', relevance=0.103), TopicMention(uid='tm-fr-all-v2.0_tp35_fr', relevance=0.1), TopicMention(uid='tm-fr-all-v2.0_tp99_fr', relevance=0.097), TopicMention(uid='tm-fr-all-v2.0_tp40_fr', relevance=0.082)], transcriptLength=143.0, totalPages=1.0, languageCode='fr', isOnFrontPage=False, publicationDate=datetime.datetime(2004, 11, 5, 0, 0, tzinfo=TzInfo(UTC)), issueUid='luxland-2004-11-05-a', countryCode='LU', providerCode='BNL', mediaUid='luxland', mediaType='newspaper'), ContentItem(uid='luxland-2004-12-03-a-i0060', copyrightStatus='in_cpy', type='ar', sourceMedium='print', title='[REDACTED]', transcript=None, locationEntities=[NamedEntity(uid='2-54-Europe', count=1.0)], personEntities=[], organisationEntities=[NamedEntity(uid='2-53-European_Union', count=2.0)], newsAgenciesEntities=[], topics=[], transcriptLength=1023.0, totalPages=1.0, languageCode='en', isOnFrontPage=False, publicationDate=datetime.datetime(2004, 12, 3, 0, 0, tzinfo=TzInfo(UTC)), issueUid='luxland-2004-12-03-a', countryCode='LU', providerCode='BNL', mediaUid='luxland', mediaType='newspaper'), ContentItem(uid='luxland-2004-12-03-a-i0167', copyrightStatus='in_cpy', type='ar', sourceMedium='print', title='[REDACTED]', transcript=None, locationEntities=[], personEntities=[], organisationEntities=[], newsAgenciesEntities=[], topics=[TopicMention(uid='tm-de-all-v2.0_tp87_de', relevance=0.177), TopicMention(uid='tm-de-all-v2.0_tp03_de', relevance=0.151), TopicMention(uid='tm-de-all-v2.0_tp58_de', relevance=0.106), TopicMention(uid='tm-de-all-v2.0_tp30_de', relevance=0.1), TopicMention(uid='tm-de-all-v2.0_tp45_de', relevance=0.085), TopicMention(uid='tm-de-all-v2.0_tp79_de', relevance=0.077)], transcriptLength=849.0, totalPages=1.0, languageCode='de', isOnFrontPage=False, publicationDate=datetime.datetime(2004, 12, 3, 0, 0, tzinfo=TzInfo(UTC)), issueUid='luxland-2004-12-03-a', countryCode='LU', providerCode='BNL', mediaUid='luxland', mediaType='newspaper'), ContentItem(uid='luxland-2004-12-10-a-i0123', copyrightStatus='in_cpy', type='ar', sourceMedium='print', title='[REDACTED]', transcript=None, locationEntities=[NamedEntity(uid='2-54-Europe', count=1.0), NamedEntity(uid='2-54-Luxembourg', count=1.0), NamedEntity(uid='2-54-Luxemburg', count=1.0), NamedEntity(uid='2-54-Strasbourg', count=1.0), NamedEntity(uid='2-54-Lisbon', count=1.0)], personEntities=[NamedEntity(uid='2-50-Morgan_Meyer', count=1.0), NamedEntity(uid='2-50-Louis_Pasteur', count=1.0)], organisationEntities=[NamedEntity(uid='2-53-Université_du_Luxembourg', count=1.0)], newsAgenciesEntities=[], topics=[], transcriptLength=1669.0, totalPages=1.0, languageCode='en', isOnFrontPage=False, publicationDate=datetime.datetime(2004, 12, 10, 0, 0, tzinfo=TzInfo(UTC)), issueUid='luxland-2004-12-10-a', countryCode='LU', providerCode='BNL', mediaUid='luxland', mediaType='newspaper'), ContentItem(uid='FZG-2004-12-17-a-i0121', copyrightStatus='in_cpy', type='ar', sourceMedium='print', title='[REDACTED]', transcript=None, locationEntities=[], personEntities=[], organisationEntities=[], newsAgenciesEntities=[], topics=[TopicMention(uid='tm-de-all-v2.0_tp06_de', relevance=0.316), TopicMention(uid='tm-de-all-v2.0_tp48_de', relevance=0.199), TopicMention(uid='tm-de-all-v2.0_tp20_de', relevance=0.075)], transcriptLength=112.0, totalPages=1.0, languageCode='de', isOnFrontPage=False, publicationDate=datetime.datetime(2004, 12, 17, 0, 0, tzinfo=TzInfo(UTC)), issueUid='FZG-2004-12-17-a', countryCode='CH', providerCode='SNL', mediaUid='FZG', mediaType='newspaper'), ContentItem(uid='luxland-2005-01-21-a-i0027', copyrightStatus='in_cpy', type='ar', sourceMedium='print', title='[REDACTED]', transcript=None, locationEntities=[NamedEntity(uid='2-54-Europe', count=1.0)], personEntities=[], organisationEntities=[], newsAgenciesEntities=[], topics=[], transcriptLength=476.0, totalPages=1.0, languageCode='en', isOnFrontPage=False, publicationDate=datetime.datetime(2005, 1, 21, 0, 0, tzinfo=TzInfo(UTC)), issueUid='luxland-2005-01-21-a', countryCode='LU', providerCode='BNL', mediaUid='luxland', mediaType='newspaper'), ContentItem(uid='luxland-2005-02-25-a-i0067', copyrightStatus='in_cpy', type='ar', sourceMedium='print', title='[REDACTED]', transcript=None, locationEntities=[NamedEntity(uid='2-54-Luxemburg', count=1.0)], personEntities=[], organisationEntities=[], newsAgenciesEntities=[], topics=[TopicMention(uid='tm-de-all-v2.0_tp20_de', relevance=0.235), TopicMention(uid='tm-de-all-v2.0_tp90_de', relevance=0.145), TopicMention(uid='tm-de-all-v2.0_tp11_de', relevance=0.141), TopicMention(uid='tm-de-all-v2.0_tp82_de', relevance=0.063)], transcriptLength=99.0, totalPages=1.0, languageCode='de', isOnFrontPage=False, publicationDate=datetime.datetime(2005, 2, 25, 0, 0, tzinfo=TzInfo(UTC)), issueUid='luxland-2005-02-25-a', countryCode='LU', providerCode='BNL', mediaUid='luxland', mediaType='newspaper'), ContentItem(uid='luxland-2005-03-25-a-i0031', copyrightStatus='in_cpy', type='ar', sourceMedium='print', title='[REDACTED]', transcript=None, locationEntities=[NamedEntity(uid='2-54-Europe', count=1.0)], personEntities=[], organisationEntities=[], newsAgenciesEntities=[], topics=[], transcriptLength=1493.0, totalPages=1.0, languageCode='en', isOnFrontPage=False, publicationDate=datetime.datetime(2005, 3, 25, 0, 0, tzinfo=TzInfo(UTC)), issueUid='luxland-2005-03-25-a', countryCode='LU', providerCode='BNL', mediaUid='luxland', mediaType='newspaper'), ContentItem(uid='luxland-2005-04-22-a-i0124', copyrightStatus='in_cpy', type='ar', sourceMedium='print', title='[REDACTED]', transcript=None, locationEntities=[NamedEntity(uid='2-54-United_States', count=2.0), NamedEntity(uid='2-54-Luxembourg', count=2.0)], personEntities=[], organisationEntities=[], newsAgenciesEntities=[], topics=[], transcriptLength=2157.0, totalPages=2.0, languageCode='en', isOnFrontPage=False, publicationDate=datetime.datetime(2005, 4, 22, 0, 0, tzinfo=TzInfo(UTC)), issueUid='luxland-2005-04-22-a', countryCode='LU', providerCode='BNL', mediaUid='luxland', mediaType='newspaper'), ContentItem(uid='luxland-2005-07-01-a-i0035', copyrightStatus='in_cpy', type='ar', sourceMedium='print', title='[REDACTED]', transcript=None, locationEntities=[NamedEntity(uid='2-54-France', count=1.0), NamedEntity(uid='2-54-Europe', count=1.0), NamedEntity(uid='2-54-Luxembourg', count=1.0)], personEntities=[NamedEntity(uid='2-50-John_Locke', count=1.0)], organisationEntities=[], newsAgenciesEntities=[], topics=[], transcriptLength=704.0, totalPages=1.0, languageCode='en', isOnFrontPage=False, publicationDate=datetime.datetime(2005, 7, 1, 0, 0, tzinfo=TzInfo(UTC)), issueUid='luxland-2005-07-01-a', countryCode='LU', providerCode='BNL', mediaUid='luxland', mediaType='newspaper'), ContentItem(uid='luxland-2005-09-09-a-i0019', copyrightStatus='in_cpy', type='ar', sourceMedium='print', title='[REDACTED]', transcript=None, locationEntities=[NamedEntity(uid='2-54-Europe', count=1.0), NamedEntity(uid='2-54-Luxembourg', count=1.0), NamedEntity(uid='2-54-Rome', count=1.0)], personEntities=[NamedEntity(uid='2-50-Jacques_Chirac', count=1.0)], organisationEntities=[], newsAgenciesEntities=[], topics=[], transcriptLength=1079.0, totalPages=1.0, languageCode='en', isOnFrontPage=False, publicationDate=datetime.datetime(2005, 9, 9, 0, 0, tzinfo=TzInfo(UTC)), issueUid='luxland-2005-09-09-a', countryCode='LU', providerCode='BNL', mediaUid='luxland', mediaType='newspaper'), ContentItem(uid='luxland-2005-11-11-a-i0136', copyrightStatus='in_cpy', type='ar', sourceMedium='print', title='[REDACTED]', transcript=None, locationEntities=[NamedEntity(uid='2-54-Luxembourg', count=1.0), NamedEntity(uid='2-54-Austria', count=1.0), NamedEntity(uid='2-54-Europe', count=1.0), NamedEntity(uid='2-54-France', count=1.0), NamedEntity(uid='2-54-Ankara', count=1.0), NamedEntity(uid='2-54-Cologne', count=1.0)], personEntities=[NamedEntity(uid='2-50-Denis_de_Rougemont', count=1.0)], organisationEntities=[NamedEntity(uid='2-53-Foreign_Policy_Centre', count=1.0)], newsAgenciesEntities=[], topics=[], transcriptLength=2986.0, totalPages=3.0, languageCode='en', isOnFrontPage=False, publicationDate=datetime.datetime(2005, 11, 11, 0, 0, tzinfo=TzInfo(UTC)), issueUid='luxland-2005-11-11-a', countryCode='LU', providerCode='BNL', mediaUid='luxland', mediaType='newspaper'), ContentItem(uid='luxland-2005-11-25-a-i0168', copyrightStatus='in_cpy', type='ad', sourceMedium='print', title='[REDACTED]', transcript=None, locationEntities=[NamedEntity(uid='2-54-France', count=1.0), NamedEntity(uid='2-54-Boston', count=1.0)], personEntities=[NamedEntity(uid='2-50-Jean-Claude_Juncker', count=1.0)], organisationEntities=[NamedEntity(uid='2-53-Laurence', count=1.0), NamedEntity(uid='2-53-Yves_Mersch', count=1.0)], newsAgenciesEntities=[], topics=[], transcriptLength=224.0, totalPages=1.0, languageCode='en', isOnFrontPage=False, publicationDate=datetime.datetime(2005, 11, 25, 0, 0, tzinfo=TzInfo(UTC)), issueUid='luxland-2005-11-25-a', countryCode='LU', providerCode='BNL', mediaUid='luxland', mediaType='newspaper'), ContentItem(uid='luxland-2006-10-20-a-i0072', copyrightStatus='in_cpy', type='ar', sourceMedium='print', title='[REDACTED]', transcript=None, locationEntities=[NamedEntity(uid='2-54-Luxembourg', count=1.0)], personEntities=[], organisationEntities=[], newsAgenciesEntities=[], topics=[TopicMention(uid='tm-fr-all-v2.0_tp96_fr', relevance=0.201), TopicMention(uid='tm-fr-all-v2.0_tp99_fr', relevance=0.165), TopicMention(uid='tm-fr-all-v2.0_tp35_fr', relevance=0.115), TopicMention(uid='tm-fr-all-v2.0_tp58_fr', relevance=0.112), TopicMention(uid='tm-fr-all-v2.0_tp33_fr', relevance=0.079)], transcriptLength=162.0, totalPages=1.0, languageCode='fr', isOnFrontPage=False, publicationDate=datetime.datetime(2006, 10, 20, 0, 0, tzinfo=TzInfo(UTC)), issueUid='luxland-2006-10-20-a', countryCode='LU', providerCode='BNL', mediaUid='luxland', mediaType='newspaper'), ContentItem(uid='luxland-2006-12-22-a-i0172', copyrightStatus='in_cpy', type='ar', sourceMedium='print', title='[REDACTED]', transcript=None, locationEntities=[NamedEntity(uid='2-54-Stadt_Brüssel', count=1.0), NamedEntity(uid='2-54-Provinz_Namur', count=1.0), NamedEntity(uid='2-54-Esch_an_der_Alzette', count=1.0), NamedEntity(uid='2-54-Luxemburg', count=1.0)], personEntities=[NamedEntity(uid='2-50-Jean-Claude_Juncker', count=1.0)], organisationEntities=[], newsAgenciesEntities=[], topics=[TopicMention(uid='tm-de-all-v2.0_tp58_de', relevance=0.255), TopicMention(uid='tm-de-all-v2.0_tp20_de', relevance=0.234), TopicMention(uid='tm-de-all-v2.0_tp43_de', relevance=0.079), TopicMention(uid='tm-de-all-v2.0_tp21_de', relevance=0.064), TopicMention(uid='tm-de-all-v2.0_tp59_de', relevance=0.06), TopicMention(uid='tm-de-all-v2.0_tp79_de', relevance=0.051)], transcriptLength=939.0, totalPages=1.0, languageCode='de', isOnFrontPage=False, publicationDate=datetime.datetime(2006, 12, 22, 0, 0, tzinfo=TzInfo(UTC)), issueUid='luxland-2006-12-22-a', countryCode='LU', providerCode='BNL', mediaUid='luxland', mediaType='newspaper'), ContentItem(uid='luxland-2007-05-11-a-i0041', copyrightStatus='in_cpy', type='ar', sourceMedium='print', title='[REDACTED]', transcript=None, locationEntities=[NamedEntity(uid='2-54-Frankreich', count=1.0), NamedEntity(uid='2-54-Manchester', count=1.0), NamedEntity(uid='2-54-Luxemburg', count=1.0)], personEntities=[NamedEntity(uid='2-50-Maurice_Ravel', count=1.0), NamedEntity(uid='2-50-Ludwig_van_Beethoven', count=1.0), NamedEntity(uid='2-50-Johann_Sebastian_Bach', count=1.0), NamedEntity(uid='2-50-Claude_Lorrain', count=1.0), NamedEntity(uid='2-50-Karl_Marx', count=1.0), NamedEntity(uid='2-50-Joseph_Haydn', count=1.0)], organisationEntities=[], newsAgenciesEntities=[], topics=[TopicMention(uid='tm-de-all-v2.0_tp15_de', relevance=0.538), TopicMention(uid='tm-de-all-v2.0_tp87_de', relevance=0.188), TopicMention(uid='tm-de-all-v2.0_tp79_de', relevance=0.079)], transcriptLength=632.0, totalPages=1.0, languageCode='de', isOnFrontPage=False, publicationDate=datetime.datetime(2007, 5, 11, 0, 0, tzinfo=TzInfo(UTC)), issueUid='luxland-2007-05-11-a', countryCode='LU', providerCode='BNL', mediaUid='luxland', mediaType='newspaper'), ContentItem(uid='luxland-2007-08-10-a-i0040', copyrightStatus='in_cpy', type='ar', sourceMedium='print', title='[REDACTED]', transcript=None, locationEntities=[NamedEntity(uid='2-54-Europäische_Union', count=1.0), NamedEntity(uid='2-54-Luxemburg', count=1.0), NamedEntity(uid='2-54-Berlin', count=1.0), NamedEntity(uid='2-54-Schweiz', count=1.0), NamedEntity(uid='2-54-Europa', count=1.0)], personEntities=[NamedEntity(uid='2-50-Colin_Davis', count=1.0)], organisationEntities=[], newsAgenciesEntities=[], topics=[TopicMention(uid='tm-de-all-v2.0_tp15_de', relevance=0.455), TopicMention(uid='tm-de-all-v2.0_tp87_de', relevance=0.138), TopicMention(uid='tm-de-all-v2.0_tp20_de', relevance=0.105), TopicMention(uid='tm-de-all-v2.0_tp41_de', relevance=0.085)], transcriptLength=512.0, totalPages=1.0, languageCode='de', isOnFrontPage=False, publicationDate=datetime.datetime(2007, 8, 10, 0, 0, tzinfo=TzInfo(UTC)), issueUid='luxland-2007-08-10-a', countryCode='LU', providerCode='BNL', mediaUid='luxland', mediaType='newspaper'), ContentItem(uid='arbeitgeber-2008-02-14-a-i0022', copyrightStatus='in_cpy', type='page', sourceMedium='print', title=None, transcript=None, locationEntities=[], personEntities=[], organisationEntities=[], newsAgenciesEntities=[], topics=[TopicMention(uid='tm-de-all-v2.0_tp20_de', relevance=0.439), TopicMention(uid='tm-de-all-v2.0_tp29_de', relevance=0.185), TopicMention(uid='tm-de-all-v2.0_tp83_de', relevance=0.052), TopicMention(uid='tm-de-all-v2.0_tp79_de', relevance=0.051)], transcriptLength=571.0, totalPages=1.0, languageCode='de', isOnFrontPage=False, publicationDate=datetime.datetime(2008, 2, 14, 0, 0, tzinfo=TzInfo(UTC)), issueUid='arbeitgeber-2008-02-14-a', countryCode='CH', providerCode='SWA', mediaUid='arbeitgeber', mediaType='newspaper'), ContentItem(uid='arbeitgeber-2008-02-14-a-i0024', copyrightStatus='in_cpy', type='page', sourceMedium='print', title=None, transcript=None, locationEntities=[], personEntities=[], organisationEntities=[], newsAgenciesEntities=[], topics=[TopicMention(uid='tm-de-all-v2.0_tp20_de', relevance=0.467), TopicMention(uid='tm-de-all-v2.0_tp89_de', relevance=0.171), TopicMention(uid='tm-de-all-v2.0_tp29_de', relevance=0.168)], transcriptLength=585.0, totalPages=1.0, languageCode='de', isOnFrontPage=False, publicationDate=datetime.datetime(2008, 2, 14, 0, 0, tzinfo=TzInfo(UTC)), issueUid='arbeitgeber-2008-02-14-a', countryCode='CH', providerCode='SWA', mediaUid='arbeitgeber', mediaType='newspaper'), ContentItem(uid='LLE-2008-10-02-a-i0112', copyrightStatus='in_cpy', type='ar', sourceMedium='print', title='[REDACTED]', transcript=None, locationEntities=[], personEntities=[], organisationEntities=[], newsAgenciesEntities=[], topics=[TopicMention(uid='tm-fr-all-v2.0_tp71_fr', relevance=0.277), TopicMention(uid='tm-fr-all-v2.0_tp52_fr', relevance=0.141), TopicMention(uid='tm-fr-all-v2.0_tp76_fr', relevance=0.076)], transcriptLength=325.0, totalPages=1.0, languageCode='fr', isOnFrontPage=False, publicationDate=datetime.datetime(2008, 10, 2, 0, 0, tzinfo=TzInfo(UTC)), issueUid='LLE-2008-10-02-a', countryCode='CH', providerCode='SNL', mediaUid='LLE', mediaType='newspaper'), ContentItem(uid='IMP-2010-03-31-a-i0127', copyrightStatus='in_cpy', type='ar', sourceMedium='print', title='[REDACTED]', transcript=None, locationEntities=[], personEntities=[], organisationEntities=[], newsAgenciesEntities=[NamedEntity(uid='4-55-ATS_SDA', count=3.0), NamedEntity(uid='4-55-AFP', count=1.0)], topics=[TopicMention(uid='tm-fr-all-v2.0_tp58_fr', relevance=0.131), TopicMention(uid='tm-fr-all-v2.0_tp31_fr', relevance=0.1), TopicMention(uid='tm-fr-all-v2.0_tp07_fr', relevance=0.097), TopicMention(uid='tm-fr-all-v2.0_tp65_fr', relevance=0.079), TopicMention(uid='tm-fr-all-v2.0_tp81_fr', relevance=0.064), TopicMention(uid='tm-fr-all-v2.0_tp27_fr', relevance=0.055), TopicMention(uid='tm-fr-all-v2.0_tp37_fr', relevance=0.055)], transcriptLength=187.0, totalPages=1.0, languageCode='fr', isOnFrontPage=False, publicationDate=datetime.datetime(2010, 3, 31, 0, 0, tzinfo=TzInfo(UTC)), issueUid='IMP-2010-03-31-a', countryCode='CH', providerCode='SNL', mediaUid='IMP', mediaType='newspaper'), ContentItem(uid='EXP-2010-03-31-a-i0128', copyrightStatus='in_cpy', type='ar', sourceMedium='print', title='[REDACTED]', transcript=None, locationEntities=[NamedEntity(uid='2-54-Bâle', count=4.0), NamedEntity(uid='2-54-Canton_de_Bâle-Ville', count=1.0), NamedEntity(uid='2-54-Lugano', count=2.0)], personEntities=[NamedEntity(uid='2-50-Alain_Lombard', count=2.0), NamedEntity(uid='2-50-Vladimir_Ashkenazy', count=1.0), NamedEntity(uid='2-50-Sol_Gabetta', count=2.0), NamedEntity(uid='2-50-Heinz_Holliger', count=1.0)], organisationEntities=[NamedEntity(uid='2-53-Kunstmuseum_(Bâle)', count=1.0), NamedEntity(uid='2-53-Siné_Hebdo', count=2.0)], newsAgenciesEntities=[], topics=[TopicMention(uid='tm-fr-all-v2.0_tp58_fr', relevance=0.131), TopicMention(uid='tm-fr-all-v2.0_tp07_fr', relevance=0.104), TopicMention(uid='tm-fr-all-v2.0_tp65_fr', relevance=0.081), TopicMention(uid='tm-fr-all-v2.0_tp27_fr', relevance=0.07), TopicMention(uid='tm-fr-all-v2.0_tp37_fr', relevance=0.064), TopicMention(uid='tm-fr-all-v2.0_tp53_fr', relevance=0.051)], transcriptLength=187.0, totalPages=1.0, languageCode='fr', isOnFrontPage=False, publicationDate=datetime.datetime(2010, 3, 31, 0, 0, tzinfo=TzInfo(UTC)), issueUid='EXP-2010-03-31-a', countryCode='CH', providerCode='SNL', mediaUid='EXP', mediaType='newspaper'), ContentItem(uid='arbeitgeber-2010-04-08-a-i0013', copyrightStatus='in_cpy', type='page', sourceMedium='print', title=None, transcript=None, locationEntities=[], personEntities=[], organisationEntities=[], newsAgenciesEntities=[], topics=[TopicMention(uid='tm-de-all-v2.0_tp91_de', relevance=0.209), TopicMention(uid='tm-de-all-v2.0_tp79_de', relevance=0.164), TopicMention(uid='tm-de-all-v2.0_tp92_de', relevance=0.147), TopicMention(uid='tm-de-all-v2.0_tp20_de', relevance=0.146)], transcriptLength=509.0, totalPages=1.0, languageCode='de', isOnFrontPage=False, publicationDate=datetime.datetime(2010, 4, 8, 0, 0, tzinfo=TzInfo(UTC)), issueUid='arbeitgeber-2010-04-08-a', countryCode='CH', providerCode='SWA', mediaUid='arbeitgeber', mediaType='newspaper'), ContentItem(uid='arbeitgeber-2010-04-08-a-i0012', copyrightStatus='in_cpy', type='page', sourceMedium='print', title=None, transcript=None, locationEntities=[], personEntities=[], organisationEntities=[], newsAgenciesEntities=[], topics=[TopicMention(uid='tm-de-all-v2.0_tp20_de', relevance=0.261), TopicMention(uid='tm-de-all-v2.0_tp91_de', relevance=0.184), TopicMention(uid='tm-de-all-v2.0_tp79_de', relevance=0.082), TopicMention(uid='tm-de-all-v2.0_tp87_de', relevance=0.079)], transcriptLength=452.0, totalPages=1.0, languageCode='de', isOnFrontPage=False, publicationDate=datetime.datetime(2010, 4, 8, 0, 0, tzinfo=TzInfo(UTC)), issueUid='arbeitgeber-2010-04-08-a', countryCode='CH', providerCode='SWA', mediaUid='arbeitgeber', mediaType='newspaper'), ContentItem(uid='arbeitgeber-2010-04-08-a-i0014', copyrightStatus='in_cpy', type='page', sourceMedium='print', title=None, transcript=None, locationEntities=[], personEntities=[], organisationEntities=[], newsAgenciesEntities=[], topics=[TopicMention(uid='tm-de-all-v2.0_tp20_de', relevance=0.191), TopicMention(uid='tm-de-all-v2.0_tp87_de', relevance=0.147), TopicMention(uid='tm-de-all-v2.0_tp93_de', relevance=0.14), TopicMention(uid='tm-de-all-v2.0_tp92_de', relevance=0.122), TopicMention(uid='tm-de-all-v2.0_tp91_de', relevance=0.083)], transcriptLength=530.0, totalPages=1.0, languageCode='de', isOnFrontPage=False, publicationDate=datetime.datetime(2010, 4, 8, 0, 0, tzinfo=TzInfo(UTC)), issueUid='arbeitgeber-2010-04-08-a', countryCode='CH', providerCode='SWA', mediaUid='arbeitgeber', mediaType='newspaper'), ContentItem(uid='LLE-2012-05-03-a-i0180', copyrightStatus='in_cpy', type='ar', sourceMedium='print', title='[REDACTED]', transcript=None, locationEntities=[NamedEntity(uid='2-54-Canton_de_Fribourg', count=1.0), NamedEntity(uid='2-54-Suisse', count=1.0), NamedEntity(uid='2-54-Sainte-Thérèse', count=1.0), NamedEntity(uid='2-54-Alpes_suisses', count=1.0), NamedEntity(uid='2-54-Avry', count=1.0)], personEntities=[NamedEntity(uid='2-50-Thierry_Jobin', count=1.0), NamedEntity(uid='2-50-Georges_Schwizgebel', count=1.0)], organisationEntities=[NamedEntity(uid='2-53-Union_européenne', count=1.0), NamedEntity(uid='2-53-Fédération_romande_des_consommateurs', count=1.0), NamedEntity(uid='2-53-Gare_de_Fribourg', count=1.0), NamedEntity(uid='2-53-Salle', count=1.0), NamedEntity(uid='2-53-Migros', count=1.0)], newsAgenciesEntities=[], topics=[TopicMention(uid='tm-fr-all-v2.0_tp58_fr', relevance=0.233), TopicMention(uid='tm-fr-all-v2.0_tp92_fr', relevance=0.141), TopicMention(uid='tm-fr-all-v2.0_tp86_fr', relevance=0.079), TopicMention(uid='tm-fr-all-v2.0_tp70_fr', relevance=0.077), TopicMention(uid='tm-fr-all-v2.0_tp61_fr', relevance=0.072), TopicMention(uid='tm-fr-all-v2.0_tp25_fr', relevance=0.055)], transcriptLength=306.0, totalPages=1.0, languageCode='fr', isOnFrontPage=False, publicationDate=datetime.datetime(2012, 5, 3, 0, 0, tzinfo=TzInfo(UTC)), issueUid='LLE-2012-05-03-a', countryCode='CH', providerCode='SNL', mediaUid='LLE', mediaType='newspaper')], pagination=Pagination(total=91, limit=100, offset=0))"
      ]
     },
     "execution_count": 5,
     "metadata": {},
     "output_type": "execute_result"
    }
   ],
   "source": [
    "result.pydantic"
   ]
  },
  {
   "cell_type": "markdown",
   "metadata": {},
   "source": [
    "### Pandas\n",
    "We can also get the search results as a [Pandas](https://pandas.pydata.org/) DataFrame. \n",
    "This allows us to easily manipulate and analyze the data using pandas' powerful data manipulation capabilities."
   ]
  },
  {
   "cell_type": "code",
   "execution_count": 6,
   "metadata": {},
   "outputs": [
    {
     "data": {
      "text/html": [
       "<div>\n",
       "<style scoped>\n",
       "    .dataframe tbody tr th:only-of-type {\n",
       "        vertical-align: middle;\n",
       "    }\n",
       "\n",
       "    .dataframe tbody tr th {\n",
       "        vertical-align: top;\n",
       "    }\n",
       "\n",
       "    .dataframe thead th {\n",
       "        text-align: right;\n",
       "    }\n",
       "</style>\n",
       "<table border=\"1\" class=\"dataframe\">\n",
       "  <thead>\n",
       "    <tr style=\"text-align: right;\">\n",
       "      <th></th>\n",
       "      <th>copyrightStatus</th>\n",
       "      <th>type</th>\n",
       "      <th>sourceMedium</th>\n",
       "      <th>title</th>\n",
       "      <th>locationEntities</th>\n",
       "      <th>personEntities</th>\n",
       "      <th>organisationEntities</th>\n",
       "      <th>newsAgenciesEntities</th>\n",
       "      <th>topics</th>\n",
       "      <th>transcriptLength</th>\n",
       "      <th>totalPages</th>\n",
       "      <th>languageCode</th>\n",
       "      <th>isOnFrontPage</th>\n",
       "      <th>publicationDate</th>\n",
       "      <th>issueUid</th>\n",
       "      <th>countryCode</th>\n",
       "      <th>providerCode</th>\n",
       "      <th>mediaUid</th>\n",
       "      <th>mediaType</th>\n",
       "    </tr>\n",
       "    <tr>\n",
       "      <th>uid</th>\n",
       "      <th></th>\n",
       "      <th></th>\n",
       "      <th></th>\n",
       "      <th></th>\n",
       "      <th></th>\n",
       "      <th></th>\n",
       "      <th></th>\n",
       "      <th></th>\n",
       "      <th></th>\n",
       "      <th></th>\n",
       "      <th></th>\n",
       "      <th></th>\n",
       "      <th></th>\n",
       "      <th></th>\n",
       "      <th></th>\n",
       "      <th></th>\n",
       "      <th></th>\n",
       "      <th></th>\n",
       "      <th></th>\n",
       "    </tr>\n",
       "  </thead>\n",
       "  <tbody>\n",
       "    <tr>\n",
       "      <th>luxwort-1948-11-25-a-i0033</th>\n",
       "      <td>in_cpy</td>\n",
       "      <td>ar</td>\n",
       "      <td>print</td>\n",
       "      <td>[REDACTED]</td>\n",
       "      <td>[]</td>\n",
       "      <td>[{'uid': '2-50-Pius_XII.', 'count': 1}]</td>\n",
       "      <td>[]</td>\n",
       "      <td>[]</td>\n",
       "      <td>[{'uid': 'tm-de-all-v2.0_tp25_de', 'relevance'...</td>\n",
       "      <td>733</td>\n",
       "      <td>1</td>\n",
       "      <td>de</td>\n",
       "      <td>False</td>\n",
       "      <td>1948-11-25T00:00:00+00:00</td>\n",
       "      <td>luxwort-1948-11-25-a</td>\n",
       "      <td>LU</td>\n",
       "      <td>BNL</td>\n",
       "      <td>luxwort</td>\n",
       "      <td>newspaper</td>\n",
       "    </tr>\n",
       "    <tr>\n",
       "      <th>FZG-1950-06-17-a-i0045</th>\n",
       "      <td>in_cpy</td>\n",
       "      <td>ar</td>\n",
       "      <td>print</td>\n",
       "      <td>[REDACTED]</td>\n",
       "      <td>[]</td>\n",
       "      <td>[{'uid': '2-50-Konrad_Adenauer', 'count': 1}, ...</td>\n",
       "      <td>[]</td>\n",
       "      <td>[]</td>\n",
       "      <td>[{'uid': 'tm-de-all-v2.0_tp86_de', 'relevance'...</td>\n",
       "      <td>1200</td>\n",
       "      <td>1</td>\n",
       "      <td>de</td>\n",
       "      <td>True</td>\n",
       "      <td>1950-06-17T00:00:00+00:00</td>\n",
       "      <td>FZG-1950-06-17-a</td>\n",
       "      <td>CH</td>\n",
       "      <td>SNL</td>\n",
       "      <td>FZG</td>\n",
       "      <td>newspaper</td>\n",
       "    </tr>\n",
       "  </tbody>\n",
       "</table>\n",
       "</div>"
      ],
      "text/plain": [
       "                           copyrightStatus type sourceMedium       title  \\\n",
       "uid                                                                        \n",
       "luxwort-1948-11-25-a-i0033          in_cpy   ar        print  [REDACTED]   \n",
       "FZG-1950-06-17-a-i0045              in_cpy   ar        print  [REDACTED]   \n",
       "\n",
       "                           locationEntities  \\\n",
       "uid                                           \n",
       "luxwort-1948-11-25-a-i0033               []   \n",
       "FZG-1950-06-17-a-i0045                   []   \n",
       "\n",
       "                                                               personEntities  \\\n",
       "uid                                                                             \n",
       "luxwort-1948-11-25-a-i0033            [{'uid': '2-50-Pius_XII.', 'count': 1}]   \n",
       "FZG-1950-06-17-a-i0045      [{'uid': '2-50-Konrad_Adenauer', 'count': 1}, ...   \n",
       "\n",
       "                           organisationEntities newsAgenciesEntities  \\\n",
       "uid                                                                    \n",
       "luxwort-1948-11-25-a-i0033                   []                   []   \n",
       "FZG-1950-06-17-a-i0045                       []                   []   \n",
       "\n",
       "                                                                       topics  \\\n",
       "uid                                                                             \n",
       "luxwort-1948-11-25-a-i0033  [{'uid': 'tm-de-all-v2.0_tp25_de', 'relevance'...   \n",
       "FZG-1950-06-17-a-i0045      [{'uid': 'tm-de-all-v2.0_tp86_de', 'relevance'...   \n",
       "\n",
       "                            transcriptLength  totalPages languageCode  \\\n",
       "uid                                                                     \n",
       "luxwort-1948-11-25-a-i0033               733           1           de   \n",
       "FZG-1950-06-17-a-i0045                  1200           1           de   \n",
       "\n",
       "                            isOnFrontPage            publicationDate  \\\n",
       "uid                                                                    \n",
       "luxwort-1948-11-25-a-i0033          False  1948-11-25T00:00:00+00:00   \n",
       "FZG-1950-06-17-a-i0045               True  1950-06-17T00:00:00+00:00   \n",
       "\n",
       "                                        issueUid countryCode providerCode  \\\n",
       "uid                                                                         \n",
       "luxwort-1948-11-25-a-i0033  luxwort-1948-11-25-a          LU          BNL   \n",
       "FZG-1950-06-17-a-i0045          FZG-1950-06-17-a          CH          SNL   \n",
       "\n",
       "                           mediaUid  mediaType  \n",
       "uid                                             \n",
       "luxwort-1948-11-25-a-i0033  luxwort  newspaper  \n",
       "FZG-1950-06-17-a-i0045          FZG  newspaper  "
      ]
     },
     "execution_count": 6,
     "metadata": {},
     "output_type": "execute_result"
    }
   ],
   "source": [
    "df = result.df\n",
    "df.head(2)"
   ]
  },
  {
   "cell_type": "markdown",
   "metadata": {},
   "source": [
    "## Get a content item\n",
    "\n",
    "Below we will use the `content_items` resource to get an article by its ID:"
   ]
  },
  {
   "cell_type": "code",
   "execution_count": 7,
   "metadata": {},
   "outputs": [
    {
     "data": {
      "text/html": [
       "<div style=\"display: grid; \">\n",
       "<div>\n",
       "<h2>ContentItem result</h2>\n",
       "<div>Contains <b>1</b> items of <b>1</b> total items.</div>\n",
       "<br/>\n",
       "See this result in the <a href=\"https://impresso-project.ch/app/issue/NZZ-1794-08-09-a/view?articleId=i0002\">Impresso App</a>.\n",
       "</div>\n",
       "</div>\n",
       "<h3>Data preview:</h3>\n",
       "<div>\n",
       "<style scoped>\n",
       "    .dataframe tbody tr th:only-of-type {\n",
       "        vertical-align: middle;\n",
       "    }\n",
       "\n",
       "    .dataframe tbody tr th {\n",
       "        vertical-align: top;\n",
       "    }\n",
       "\n",
       "    .dataframe thead th {\n",
       "        text-align: right;\n",
       "    }\n",
       "</style>\n",
       "<table border=\"1\" class=\"dataframe\">\n",
       "  <thead>\n",
       "    <tr style=\"text-align: right;\">\n",
       "      <th></th>\n",
       "      <th>uid</th>\n",
       "      <th>copyrightStatus</th>\n",
       "      <th>type</th>\n",
       "      <th>sourceMedium</th>\n",
       "      <th>transcript</th>\n",
       "      <th>locationEntities</th>\n",
       "      <th>personEntities</th>\n",
       "      <th>organisationEntities</th>\n",
       "      <th>newsAgenciesEntities</th>\n",
       "      <th>topics</th>\n",
       "      <th>transcriptLength</th>\n",
       "      <th>totalPages</th>\n",
       "      <th>languageCode</th>\n",
       "      <th>isOnFrontPage</th>\n",
       "      <th>publicationDate</th>\n",
       "      <th>issueUid</th>\n",
       "      <th>countryCode</th>\n",
       "      <th>providerCode</th>\n",
       "      <th>mediaUid</th>\n",
       "      <th>mediaType</th>\n",
       "    </tr>\n",
       "  </thead>\n",
       "  <tbody>\n",
       "    <tr>\n",
       "      <th>0</th>\n",
       "      <td>NZZ-1794-08-09-a-i0002</td>\n",
       "      <td>in_cpy</td>\n",
       "      <td>page</td>\n",
       "      <td>print</td>\n",
       "      <td>[REDACTED]</td>\n",
       "      <td>[{'uid': '2-54-Paris', 'count': 1}, {'uid': '2...</td>\n",
       "      <td>[{'uid': '2-50-François_Hanriot', 'count': 1}]</td>\n",
       "      <td>[]</td>\n",
       "      <td>[]</td>\n",
       "      <td>[{'uid': 'tm-de-all-v2.0_tp47_de', 'relevance'...</td>\n",
       "      <td>988</td>\n",
       "      <td>1</td>\n",
       "      <td>de</td>\n",
       "      <td>False</td>\n",
       "      <td>1794-08-09T00:00:00+00:00</td>\n",
       "      <td>NZZ-1794-08-09-a</td>\n",
       "      <td>CH</td>\n",
       "      <td>NZZ</td>\n",
       "      <td>NZZ</td>\n",
       "      <td>newspaper</td>\n",
       "    </tr>\n",
       "  </tbody>\n",
       "</table>\n",
       "</div>"
      ],
      "text/plain": [
       "<impresso.resources.content_items.ContentItemDataContainer at 0x110fba900>"
      ]
     },
     "execution_count": 7,
     "metadata": {},
     "output_type": "execute_result"
    }
   ],
   "source": [
    "content_item = impresso.content_items.get(\"NZZ-1794-08-09-a-i0002\")\n",
    "content_item"
   ]
  },
  {
   "cell_type": "markdown",
   "metadata": {},
   "source": [
    "We can also get it as a Pydantic model or as a DataFrame."
   ]
  },
  {
   "cell_type": "code",
   "execution_count": 8,
   "metadata": {},
   "outputs": [
    {
     "data": {
      "text/plain": [
       "'[REDACTED]'"
      ]
     },
     "execution_count": 8,
     "metadata": {},
     "output_type": "execute_result"
    }
   ],
   "source": [
    "content_item.pydantic.transcript"
   ]
  },
  {
   "cell_type": "code",
   "execution_count": 9,
   "metadata": {},
   "outputs": [
    {
     "data": {
      "text/html": [
       "<div>\n",
       "<style scoped>\n",
       "    .dataframe tbody tr th:only-of-type {\n",
       "        vertical-align: middle;\n",
       "    }\n",
       "\n",
       "    .dataframe tbody tr th {\n",
       "        vertical-align: top;\n",
       "    }\n",
       "\n",
       "    .dataframe thead th {\n",
       "        text-align: right;\n",
       "    }\n",
       "</style>\n",
       "<table border=\"1\" class=\"dataframe\">\n",
       "  <thead>\n",
       "    <tr style=\"text-align: right;\">\n",
       "      <th></th>\n",
       "      <th>uid</th>\n",
       "      <th>countryCode</th>\n",
       "      <th>languageCode</th>\n",
       "    </tr>\n",
       "  </thead>\n",
       "  <tbody>\n",
       "    <tr>\n",
       "      <th>0</th>\n",
       "      <td>NZZ-1794-08-09-a-i0002</td>\n",
       "      <td>CH</td>\n",
       "      <td>de</td>\n",
       "    </tr>\n",
       "  </tbody>\n",
       "</table>\n",
       "</div>"
      ],
      "text/plain": [
       "                      uid countryCode languageCode\n",
       "0  NZZ-1794-08-09-a-i0002          CH           de"
      ]
     },
     "execution_count": 9,
     "metadata": {},
     "output_type": "execute_result"
    }
   ],
   "source": [
    "content_item.df[['uid', 'countryCode', 'languageCode']]\n"
   ]
  },
  {
   "cell_type": "markdown",
   "metadata": {},
   "source": [
    "## Search facets\n",
    "\n",
    "In this cell, we will search for facets related to the term \"fromage\" in the Impresso collection. This is a convenient way to see a breakdown of the search results by country.\n"
   ]
  },
  {
   "cell_type": "code",
   "execution_count": 10,
   "metadata": {},
   "outputs": [
    {
     "data": {
      "text/html": [
       "<div>\n",
       "<style scoped>\n",
       "    .dataframe tbody tr th:only-of-type {\n",
       "        vertical-align: middle;\n",
       "    }\n",
       "\n",
       "    .dataframe tbody tr th {\n",
       "        vertical-align: top;\n",
       "    }\n",
       "\n",
       "    .dataframe thead th {\n",
       "        text-align: right;\n",
       "    }\n",
       "</style>\n",
       "<table border=\"1\" class=\"dataframe\">\n",
       "  <thead>\n",
       "    <tr style=\"text-align: right;\">\n",
       "      <th></th>\n",
       "      <th>count</th>\n",
       "    </tr>\n",
       "    <tr>\n",
       "      <th>value</th>\n",
       "      <th></th>\n",
       "    </tr>\n",
       "  </thead>\n",
       "  <tbody>\n",
       "    <tr>\n",
       "      <th>CH</th>\n",
       "      <td>197704</td>\n",
       "    </tr>\n",
       "    <tr>\n",
       "      <th>FR</th>\n",
       "      <td>33993</td>\n",
       "    </tr>\n",
       "    <tr>\n",
       "      <th>LU</th>\n",
       "      <td>7474</td>\n",
       "    </tr>\n",
       "  </tbody>\n",
       "</table>\n",
       "</div>"
      ],
      "text/plain": [
       "        count\n",
       "value        \n",
       "CH     197704\n",
       "FR      33993\n",
       "LU       7474"
      ]
     },
     "execution_count": 10,
     "metadata": {},
     "output_type": "execute_result"
    }
   ],
   "source": [
    "country_facet = impresso.search.facet(\"country\", term=\"fromage\")\n",
    "country_facet.df"
   ]
  }
 ],
 "metadata": {
  "kernelspec": {
   "display_name": "impresso-py3.13 (3.13.7)",
   "language": "python",
   "name": "python3"
  },
  "language_info": {
   "codemirror_mode": {
    "name": "ipython",
    "version": 3
   },
   "file_extension": ".py",
   "mimetype": "text/x-python",
   "name": "python",
   "nbconvert_exporter": "python",
   "pygments_lexer": "ipython3",
   "version": "3.13.7"
  }
 },
 "nbformat": 4,
 "nbformat_minor": 2
}
