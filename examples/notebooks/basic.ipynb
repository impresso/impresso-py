{
 "cells": [
  {
   "cell_type": "markdown",
   "metadata": {},
   "source": [
    "# Initialize Impresso Client\n",
    "\n",
    "In this cell, we initialize the Impresso client to connect to the Impresso API. \n",
    "The `impresso` variable is an instance of `impresso.client.ImpressoClient`, which allows us to interact with the API \n",
    "and perform various operations such as searching for articles, retrieving article details, and fetching facets."
   ]
  },
  {
   "cell_type": "code",
   "execution_count": 1,
   "metadata": {},
   "outputs": [
    {
     "name": "stdout",
     "output_type": "stream",
     "text": [
      "🎉 You are now connected to the Impresso API!  🎉\n",
      "🔗 Using API: https://dev.impresso-project.ch/public-api/v1\n"
     ]
    }
   ],
   "source": [
    "from impresso import connect\n",
    "\n",
    "impresso = connect()"
   ]
  },
  {
   "cell_type": "markdown",
   "metadata": {},
   "source": [
    "## Search content items\n",
    "\n",
    "In this notebook, we will search for content items that contain the term \"European Union\" in the text. The results are ordered by date.\n",
    "\n",
    "Below the result container is rendered as an overview of what it contains.\n"
   ]
  },
  {
   "cell_type": "code",
   "execution_count": 2,
   "metadata": {},
   "outputs": [
    {
     "data": {
      "text/html": [
       "<div style=\"display: grid; \">\n",
       "<div>\n",
       "<h2>Search result</h2>\n",
       "<div>Contains <b>49</b> items of <b>49</b> total items.</div>\n",
       "<br/>\n",
       "See this result in the <a href=\"https://impresso-project.ch/app/search?orderBy=date&sq=ChIYByoORXVyb3BlYW4gVW5pb24=&p=1\">Impresso App</a>.\n",
       "</div>\n",
       "</div>\n",
       "<h3>Data preview:</h3>\n",
       "<div>\n",
       "<style scoped>\n",
       "    .dataframe tbody tr th:only-of-type {\n",
       "        vertical-align: middle;\n",
       "    }\n",
       "\n",
       "    .dataframe tbody tr th {\n",
       "        vertical-align: top;\n",
       "    }\n",
       "\n",
       "    .dataframe thead th {\n",
       "        text-align: right;\n",
       "    }\n",
       "</style>\n",
       "<table border=\"1\" class=\"dataframe\">\n",
       "  <thead>\n",
       "    <tr style=\"text-align: right;\">\n",
       "      <th></th>\n",
       "      <th>type</th>\n",
       "      <th>title</th>\n",
       "      <th>transcript</th>\n",
       "      <th>locations</th>\n",
       "      <th>persons</th>\n",
       "      <th>topics</th>\n",
       "      <th>transcriptLength</th>\n",
       "      <th>totalPages</th>\n",
       "      <th>languageCode</th>\n",
       "      <th>isOnFrontPage</th>\n",
       "      <th>publicationDate</th>\n",
       "      <th>countryCode</th>\n",
       "      <th>dataProviderCode</th>\n",
       "      <th>mediaCode</th>\n",
       "      <th>mediaType</th>\n",
       "    </tr>\n",
       "    <tr>\n",
       "      <th>uid</th>\n",
       "      <th></th>\n",
       "      <th></th>\n",
       "      <th></th>\n",
       "      <th></th>\n",
       "      <th></th>\n",
       "      <th></th>\n",
       "      <th></th>\n",
       "      <th></th>\n",
       "      <th></th>\n",
       "      <th></th>\n",
       "      <th></th>\n",
       "      <th></th>\n",
       "      <th></th>\n",
       "      <th></th>\n",
       "      <th></th>\n",
       "    </tr>\n",
       "  </thead>\n",
       "  <tbody>\n",
       "    <tr>\n",
       "      <th>luxwort-1948-11-25-a-i0033</th>\n",
       "      <td>ar</td>\n",
       "      <td>Europäischer Föderalistenkongreß in Rom</td>\n",
       "      <td></td>\n",
       "      <td>[]</td>\n",
       "      <td>[{'uid': '2-50-Pius_XII.'}]</td>\n",
       "      <td>[{'uid': 'tm-de-all-v2.0_tp25_de', 'relevance'...</td>\n",
       "      <td>733</td>\n",
       "      <td>1</td>\n",
       "      <td>de</td>\n",
       "      <td>False</td>\n",
       "      <td>1948-11-25T00:00:00+00:00</td>\n",
       "      <td>LU</td>\n",
       "      <td>BNL</td>\n",
       "      <td>luxwort</td>\n",
       "      <td>newspaper</td>\n",
       "    </tr>\n",
       "    <tr>\n",
       "      <th>luxland-1984-12-21-a-i0018</th>\n",
       "      <td>ar</td>\n",
       "      <td>Notizblock</td>\n",
       "      <td></td>\n",
       "      <td>[]</td>\n",
       "      <td>[{'uid': '2-50-Jean_Giono'}]</td>\n",
       "      <td>[{'uid': 'tm-de-all-v2.0_tp92_de', 'relevance'...</td>\n",
       "      <td>853</td>\n",
       "      <td>1</td>\n",
       "      <td>de</td>\n",
       "      <td>False</td>\n",
       "      <td>1984-12-21T00:00:00+00:00</td>\n",
       "      <td>LU</td>\n",
       "      <td>BNL</td>\n",
       "      <td>luxland</td>\n",
       "      <td>newspaper</td>\n",
       "    </tr>\n",
       "    <tr>\n",
       "      <th>arbeitgeber-1991-03-21-a-i0020</th>\n",
       "      <td>page</td>\n",
       "      <td>[REDACTED]</td>\n",
       "      <td>[REDACTED]</td>\n",
       "      <td>[{'uid': '2-54-Fontainebleau'}, {'uid': '2-54-...</td>\n",
       "      <td>[{'uid': '2-50-Henry'}, {'uid': '2-50-Pettigre...</td>\n",
       "      <td>[{'uid': 'tm-fr-all-v2.0_tp87_fr', 'relevance'...</td>\n",
       "      <td>864</td>\n",
       "      <td>1</td>\n",
       "      <td>fr</td>\n",
       "      <td>False</td>\n",
       "      <td>1991-03-21T00:00:00+00:00</td>\n",
       "      <td>CH</td>\n",
       "      <td>SWA</td>\n",
       "      <td>arbeitgeber</td>\n",
       "      <td>newspaper</td>\n",
       "    </tr>\n",
       "  </tbody>\n",
       "</table>\n",
       "</div>"
      ],
      "text/plain": [
       "<impresso.resources.search.SearchDataContainer at 0x11747b450>"
      ]
     },
     "execution_count": 2,
     "metadata": {},
     "output_type": "execute_result"
    }
   ],
   "source": [
    "result = impresso.search.find(\n",
    "    term=\"European Union\",\n",
    "    order_by=\"date\",\n",
    ")\n",
    "result"
   ]
  },
  {
   "cell_type": "markdown",
   "metadata": {},
   "source": [
    "Below, we will search for a term \"European Union\" in the Impresso data.\n",
    "Then we will use the `result` variable, to access and print the excerpts of the first three articles returned by the search query.\n",
    "\n",
    "The `pydantic` property is a [Pydantic](https://docs.pydantic.dev/latest/) model representing the response of the Impresso API. It provides a way to ensure that the data conforms to specified types and constraints, making it easier to work with structured data in a reliable and consistent manner.\n",
    "We use the `data` property of the response to iterate over the page of the results and return excerpts of the articles that contain the search term."
   ]
  },
  {
   "cell_type": "code",
   "execution_count": 3,
   "metadata": {},
   "outputs": [
    {
     "name": "stdout",
     "output_type": "stream",
     "text": [
      "\n",
      "\n",
      "[REDACTED]\n"
     ]
    }
   ],
   "source": [
    "result = impresso.search.find(\n",
    "    term=\"European Union\",\n",
    "    order_by=\"date\",\n",
    ")\n",
    "for article in result.pydantic.data[:3]:\n",
    "    print(article.transcript)"
   ]
  },
  {
   "cell_type": "markdown",
   "metadata": {},
   "source": [
    "There are several useful properties on the result object that let us know the total nubmer of results found, the current page and its size."
   ]
  },
  {
   "cell_type": "code",
   "execution_count": 4,
   "metadata": {},
   "outputs": [
    {
     "name": "stdout",
     "output_type": "stream",
     "text": [
      "49 results were found for this term. The current result object contains 49 items starting from the item number 0\n"
     ]
    }
   ],
   "source": [
    "print(\"%i results were found for this term. The current result object contains %i items starting from the item number %i\" % (result.total, result.size, result.offset))"
   ]
  },
  {
   "cell_type": "markdown",
   "metadata": {},
   "source": [
    "### Pydantic\n",
    "The full response from the Impresso API as a pydantic model."
   ]
  },
  {
   "cell_type": "code",
   "execution_count": 5,
   "metadata": {},
   "outputs": [
    {
     "data": {
      "text/plain": [
       "SearchResponseSchema(data=[ContentItem(uid='luxwort-1948-11-25-a-i0033', type='ar', title='Europäischer Föderalistenkongreß in Rom', transcript='', locations=[], persons=[EntityMention(uid='2-50-Pius_XII.', relevance=None)], topics=[TopicMention(uid='tm-de-all-v2.0_tp25_de', relevance=0.202), TopicMention(uid='tm-de-all-v2.0_tp52_de', relevance=0.16), TopicMention(uid='tm-de-all-v2.0_tp86_de', relevance=0.157), TopicMention(uid='tm-de-all-v2.0_tp14_de', relevance=0.112), TopicMention(uid='tm-de-all-v2.0_tp77_de', relevance=0.112), TopicMention(uid='tm-de-all-v2.0_tp95_de', relevance=0.096), TopicMention(uid='tm-de-all-v2.0_tp24_de', relevance=0.057)], transcriptLength=733.0, totalPages=1.0, languageCode='de', isOnFrontPage=False, publicationDate=datetime.datetime(1948, 11, 25, 0, 0, tzinfo=TzInfo(UTC)), countryCode='LU', dataProviderCode='BNL', mediaCode='luxwort', mediaType='newspaper'), ContentItem(uid='luxland-1984-12-21-a-i0018', type='ar', title='Notizblock', transcript='', locations=[], persons=[EntityMention(uid='2-50-Jean_Giono', relevance=None)], topics=[TopicMention(uid='tm-de-all-v2.0_tp92_de', relevance=0.365), TopicMention(uid='tm-de-all-v2.0_tp11_de', relevance=0.28), TopicMention(uid='tm-de-all-v2.0_tp20_de', relevance=0.074), TopicMention(uid='tm-de-all-v2.0_tp80_de', relevance=0.056)], transcriptLength=853.0, totalPages=1.0, languageCode='de', isOnFrontPage=False, publicationDate=datetime.datetime(1984, 12, 21, 0, 0, tzinfo=TzInfo(UTC)), countryCode='LU', dataProviderCode='BNL', mediaCode='luxland', mediaType='newspaper'), ContentItem(uid='arbeitgeber-1991-03-21-a-i0020', type='page', title='[REDACTED]', transcript='[REDACTED]', locations=[EntityMention(uid='2-54-Fontainebleau', relevance=None), EntityMention(uid='2-54-États-Unis', relevance=None), EntityMention(uid='2-54-Chine', relevance=None), EntityMention(uid='2-54-Aix-en-Provence', relevance=None), EntityMention(uid='2-54-Université_du_Wisconsin_à_Madison', relevance=None), EntityMention(uid='2-54-New_York', relevance=None), EntityMention(uid=\"2-54-Institut_européen_d'administration_des_affaires\", relevance=None)], persons=[EntityMention(uid='2-50-Henry', relevance=None), EntityMention(uid='2-50-Pettigrew', relevance=None), EntityMention(uid='2-50-Henry_James', relevance=None)], topics=[TopicMention(uid='tm-fr-all-v2.0_tp87_fr', relevance=0.242), TopicMention(uid='tm-fr-all-v2.0_tp80_fr', relevance=0.106), TopicMention(uid='tm-fr-all-v2.0_tp08_fr', relevance=0.08), TopicMention(uid='tm-fr-all-v2.0_tp58_fr', relevance=0.073), TopicMention(uid='tm-fr-all-v2.0_tp73_fr', relevance=0.072)], transcriptLength=864.0, totalPages=1.0, languageCode='fr', isOnFrontPage=False, publicationDate=datetime.datetime(1991, 3, 21, 0, 0, tzinfo=TzInfo(UTC)), countryCode='CH', dataProviderCode='SWA', mediaCode='arbeitgeber', mediaType='newspaper'), ContentItem(uid='FedGazDe-1994-01-25-a-i0002', type='ar', title='Bericht über die Aussenpolitik der Schweiz in den 90er Jahren Anhang: [...]', transcript='', locations=[EntityMention(uid='2-54-Innenpolitik', relevance=None), EntityMention(uid='2-54-Mitteleuropa', relevance=None), EntityMention(uid='2-54-Sowjetunion', relevance=None), EntityMention(uid='2-54-Westeuropäische_Union', relevance=None), EntityMention(uid='2-54-Europäische_Union', relevance=None), EntityMention(uid='2-54-Jugoslawien', relevance=None), EntityMention(uid='2-54-Gemeinschaft_Unabhängiger_Staaten', relevance=None), EntityMention(uid='2-54-Vereinigte_Staaten', relevance=None), EntityMention(uid='2-54-Ostblock', relevance=None), EntityMention(uid='2-54-Vereinte_Nationen', relevance=None), EntityMention(uid='2-54-Melbourne', relevance=None), EntityMention(uid='2-54-Japanisches_Kaiserreich', relevance=None), EntityMention(uid='2-54-Kanada', relevance=None), EntityMention(uid='2-54-Deutsches_Kaiserreich', relevance=None), EntityMention(uid='2-54-Dritte_Französische_Republik', relevance=None), EntityMention(uid='2-54-Vereinigtes_Königreich', relevance=None), EntityMention(uid='2-54-Mittlerer_Osten', relevance=None), EntityMention(uid='2-54-Kambodscha', relevance=None), EntityMention(uid='2-54-Afrika', relevance=None), EntityMention(uid='2-54-Mittelmeer', relevance=None), EntityMention(uid='2-54-Europäische_Freihandelsassoziation', relevance=None), EntityMention(uid='2-54-Mexiko', relevance=None), EntityMention(uid='2-54-Zweite_Polnische_Republik', relevance=None), EntityMention(uid='2-54-Argentinien', relevance=None), EntityMention(uid='2-54-Türkei', relevance=None), EntityMention(uid='2-54-Schweiz', relevance=None), EntityMention(uid='2-54-Rio_de_Janeiro', relevance=None), EntityMention(uid='2-54-Norwegen', relevance=None), EntityMention(uid='2-54-Schweden', relevance=None), EntityMention(uid='2-54-Erste_Republik', relevance=None), EntityMention(uid='2-54-Welt', relevance=None), EntityMention(uid='2-54-Rotes_Kreuz', relevance=None), EntityMention(uid='2-54-Nordstaaten', relevance=None), EntityMention(uid='2-54-Westeuropa', relevance=None), EntityMention(uid='2-54-Uruguay', relevance=None), EntityMention(uid='2-54-Schwellenland', relevance=None), EntityMention(uid='2-54-Norden', relevance=None), EntityMention(uid='2-54-Süden', relevance=None), EntityMention(uid='2-54-Genfersee', relevance=None), EntityMention(uid='2-54-Genf', relevance=None), EntityMention(uid='2-54-Schwefeldioxid', relevance=None), EntityMention(uid='2-54-Luzern', relevance=None), EntityMention(uid='2-54-Kanton_Zürich', relevance=None), EntityMention(uid='2-54-Ausland', relevance=None), EntityMention(uid='2-54-Europarat', relevance=None), EntityMention(uid='2-54-Freiheit', relevance=None), EntityMention(uid='2-54-Wandel', relevance=None), EntityMention(uid='2-54-Neutralität_der_Schweiz', relevance=None), EntityMention(uid='2-54-Neutral', relevance=None), EntityMention(uid='2-54-Arabische_Union', relevance=None), EntityMention(uid='2-54-Arabische_Liga', relevance=None), EntityMention(uid='2-54-Ostung', relevance=None), EntityMention(uid='2-54-Europa', relevance=None), EntityMention(uid='2-54-Basis', relevance=None), EntityMention(uid='2-54-Osteuropa', relevance=None), EntityMention(uid='2-54-Volksrepublik_China', relevance=None), EntityMention(uid='2-54-Russland', relevance=None), EntityMention(uid='2-54-Rhodesien', relevance=None), EntityMention(uid='2-54-Südafrikanische_Union', relevance=None), EntityMention(uid='2-54-Irak', relevance=None), EntityMention(uid='2-54-Liberia', relevance=None), EntityMention(uid='2-54-Libyen', relevance=None), EntityMention(uid='2-54-Serbien', relevance=None), EntityMention(uid='2-54-Königreich_Montenegro', relevance=None), EntityMention(uid='2-54-Nordkorea', relevance=None), EntityMention(uid='2-54-Switzerland', relevance=None), EntityMention(uid='2-54-Europe', relevance=None), EntityMention(uid='2-54-New_York_City', relevance=None), EntityMention(uid='2-54-Niederlande', relevance=None), EntityMention(uid='2-54-Europäische_Gemeinschaft', relevance=None), EntityMention(uid='2-54-Österreich', relevance=None), EntityMention(uid='2-54-Finnland', relevance=None), EntityMention(uid='2-54-Demokratie', relevance=None)], persons=[EntityMention(uid='2-50-Helmut_Hubacher', relevance=None), EntityMention(uid='2-50-Ledergerber', relevance=None), EntityMention(uid='2-50-Zimmerli', relevance=None), EntityMention(uid='2-50-Rechsteiner', relevance=None), EntityMention(uid='2-50-CERN', relevance=None), EntityMention(uid='2-50-EUREKA', relevance=None), EntityMention(uid='2-50-Konferenz_der_Vereinten_Nationen_für_Handel_und_Entwicklung', relevance=None), EntityMention(uid='2-50-Organisation_der_Vereinten_Nationen_für_industrielle_Entwicklung', relevance=None), EntityMention(uid='2-50-Dritter', relevance=None), EntityMention(uid='2-50-Schweiz', relevance=None), EntityMention(uid='2-50-Golfe', relevance=None)], topics=[], transcriptLength=27914.0, totalPages=90.0, languageCode='de', isOnFrontPage=False, publicationDate=datetime.datetime(1994, 1, 25, 0, 0, tzinfo=TzInfo(UTC)), countryCode='CH', dataProviderCode='SFA', mediaCode='FedGazDe', mediaType='newspaper'), ContentItem(uid='arbeitgeber-1995-01-05-a-i0021', type='page', title='[REDACTED]', transcript='[REDACTED]', locations=[EntityMention(uid='2-54-Schweiz', relevance=None), EntityMention(uid='2-54-Volksrepublik_China', relevance=None), EntityMention(uid='2-54-Genf', relevance=None)], persons=[EntityMention(uid='2-50-Max_Fritz_(Maler)', relevance=None), EntityMention(uid='2-50-HR', relevance=None)], topics=[TopicMention(uid='tm-de-all-v2.0_tp20_de', relevance=0.435), TopicMention(uid='tm-de-all-v2.0_tp21_de', relevance=0.212), TopicMention(uid='tm-de-all-v2.0_tp79_de', relevance=0.073)], transcriptLength=576.0, totalPages=1.0, languageCode='de', isOnFrontPage=False, publicationDate=datetime.datetime(1995, 1, 5, 0, 0, tzinfo=TzInfo(UTC)), countryCode='CH', dataProviderCode='SWA', mediaCode='arbeitgeber', mediaType='newspaper'), ContentItem(uid='luxland-1995-05-05-a-i0062', type='ar', title='Agenda', transcript='', locations=[EntityMention(uid='2-54-Europa', relevance=None), EntityMention(uid='2-54-Europe', relevance=None), EntityMention(uid='2-54-Luxembourg', relevance=None), EntityMention(uid='2-54-Centre', relevance=None), EntityMention(uid='2-54-Esch_an_der_Alzette', relevance=None), EntityMention(uid='2-54-Café', relevance=None), EntityMention(uid='2-54-Cercle', relevance=None)], persons=[EntityMention(uid='2-50-Pierre-Joseph_Redouté', relevance=None), EntityMention(uid='2-50-Georges_Prêtre', relevance=None), EntityMention(uid='2-50-Johannes_Brahms', relevance=None)], topics=[TopicMention(uid='tm-fr-all-v2.0_tp07_fr', relevance=0.232), TopicMention(uid='tm-fr-all-v2.0_tp60_fr', relevance=0.132), TopicMention(uid='tm-fr-all-v2.0_tp25_fr', relevance=0.11), TopicMention(uid='tm-fr-all-v2.0_tp24_fr', relevance=0.091), TopicMention(uid='tm-fr-all-v2.0_tp52_fr', relevance=0.083), TopicMention(uid='tm-fr-all-v2.0_tp58_fr', relevance=0.075)], transcriptLength=415.0, totalPages=1.0, languageCode='fr', isOnFrontPage=False, publicationDate=datetime.datetime(1995, 5, 5, 0, 0, tzinfo=TzInfo(UTC)), countryCode='LU', dataProviderCode='BNL', mediaCode='luxland', mediaType='newspaper'), ContentItem(uid='luxland-1995-11-10-a-i0058', type='ar', title='Agenda', transcript='', locations=[EntityMention(uid='2-54-Bertrange_(Luxembourg)', relevance=None), EntityMention(uid='2-54-Diekirch', relevance=None), EntityMention(uid='2-54-Order', relevance=None), EntityMention(uid='2-54-Engel_(Begriffsklärung)', relevance=None), EntityMention(uid='2-54-Villa', relevance=None), EntityMention(uid='2-54-Start_(Luftfahrt)', relevance=None), EntityMention(uid='2-54-Stadt_Brüssel', relevance=None), EntityMention(uid='2-54-Palermo', relevance=None), EntityMention(uid='2-54-Marseille', relevance=None)], persons=[EntityMention(uid='2-50-Joseph', relevance=None), EntityMention(uid='2-50-Yves_Klein', relevance=None), EntityMention(uid='2-50-Robert', relevance=None), EntityMention(uid='2-50-Guy_Foissy', relevance=None), EntityMention(uid='2-50-Victor_Haïm', relevance=None), EntityMention(uid='2-50-Valérie', relevance=None), EntityMention(uid='2-50-Marc', relevance=None), EntityMention(uid='2-50-John_Locke', relevance=None)], topics=[TopicMention(uid='tm-fr-all-v2.0_tp07_fr', relevance=0.228), TopicMention(uid='tm-fr-all-v2.0_tp58_fr', relevance=0.142), TopicMention(uid='tm-fr-all-v2.0_tp35_fr', relevance=0.122), TopicMention(uid='tm-fr-all-v2.0_tp96_fr', relevance=0.111), TopicMention(uid='tm-fr-all-v2.0_tp49_fr', relevance=0.088), TopicMention(uid='tm-fr-all-v2.0_tp61_fr', relevance=0.086)], transcriptLength=742.0, totalPages=1.0, languageCode='fr', isOnFrontPage=False, publicationDate=datetime.datetime(1995, 11, 10, 0, 0, tzinfo=TzInfo(UTC)), countryCode='LU', dataProviderCode='BNL', mediaCode='luxland', mediaType='newspaper'), ContentItem(uid='luxland-1997-06-13-a-i0466', type='ar', title=\"Positioning in a Changing World The world's capital markets, domestic [...]\", transcript='', locations=[], persons=[], topics=[], transcriptLength=2463.0, totalPages=2.0, languageCode='en', isOnFrontPage=False, publicationDate=datetime.datetime(1997, 6, 13, 0, 0, tzinfo=TzInfo(UTC)), countryCode='LU', dataProviderCode='BNL', mediaCode='luxland', mediaType='newspaper'), ContentItem(uid='luxland-1997-06-13-a-i0468', type='ar', title='An Institution in Transition In May 1998 the Institut Monétaire Luxemb[...]', transcript='', locations=[], persons=[EntityMention(uid='2-50-Pierre_Werner', relevance=None)], topics=[], transcriptLength=2789.0, totalPages=2.0, languageCode='en', isOnFrontPage=False, publicationDate=datetime.datetime(1997, 6, 13, 0, 0, tzinfo=TzInfo(UTC)), countryCode='LU', dataProviderCode='BNL', mediaCode='luxland', mediaType='newspaper'), ContentItem(uid='luxland-1997-08-22-a-i0038', type='ar', title='En avant les musiques', transcript='', locations=[], persons=[EntityMention(uid='2-50-John_Hudson', relevance=None)], topics=[TopicMention(uid='tm-fr-all-v2.0_tp96_fr', relevance=0.572), TopicMention(uid='tm-fr-all-v2.0_tp44_fr', relevance=0.064)], transcriptLength=240.0, totalPages=1.0, languageCode='fr', isOnFrontPage=False, publicationDate=datetime.datetime(1997, 8, 22, 0, 0, tzinfo=TzInfo(UTC)), countryCode='LU', dataProviderCode='BNL', mediaCode='luxland', mediaType='newspaper'), ContentItem(uid='luxland-1998-05-29-a-i0174', type='ad', title='Publicité 7 Page 32', transcript='', locations=[EntityMention(uid='2-54-Luxembourg', relevance=None), EntityMention(uid='2-54-Télécopieur', relevance=None), EntityMention(uid='2-54-Kirchberg', relevance=None)], persons=[EntityMention(uid='2-50-Frome', relevance=None), EntityMention(uid='2-50-Henri_Tudor', relevance=None)], topics=[], transcriptLength=83.0, totalPages=1.0, languageCode='fr', isOnFrontPage=False, publicationDate=datetime.datetime(1998, 5, 29, 0, 0, tzinfo=TzInfo(UTC)), countryCode='LU', dataProviderCode='BNL', mediaCode='luxland', mediaType='newspaper'), ContentItem(uid='FedGazDe-1998-08-11-a-i0001', type='ar', title='Botschaft über einen neuen Geld- und Währungsartikel in der Bundesverf[...]', transcript='', locations=[EntityMention(uid='2-54-Freiburg_im_Üechtland', relevance=None), EntityMention(uid='2-54-Bern', relevance=None), EntityMention(uid='2-54-Gold', relevance=None), EntityMention(uid='2-54-Ausland', relevance=None), EntityMention(uid='2-54-BRB', relevance=None), EntityMention(uid='2-54-Bremse', relevance=None), EntityMention(uid='2-54-Franken', relevance=None), EntityMention(uid='2-54-Genève', relevance=None), EntityMention(uid='2-54-Kanton_Zürich', relevance=None), EntityMention(uid='2-54-Münzregal', relevance=None), EntityMention(uid='2-54-Wandel', relevance=None), EntityMention(uid='2-54-Bundesverwaltung', relevance=None), EntityMention(uid='2-54-Münzen', relevance=None), EntityMention(uid='2-54-Cambridge', relevance=None), EntityMention(uid='2-54-Westeuropa', relevance=None), EntityMention(uid='2-54-Ganz', relevance=None), EntityMention(uid='2-54-Europäische_Wirtschafts-_und_Währungsunion', relevance=None), EntityMention(uid='2-54-Dänemark', relevance=None), EntityMention(uid='2-54-Vereinigtes_Königreich', relevance=None), EntityMention(uid='2-54-Deutschland', relevance=None), EntityMention(uid='2-54-Frankreich', relevance=None), EntityMention(uid='2-54-Spanien', relevance=None), EntityMention(uid='2-54-Erste_Republik', relevance=None), EntityMention(uid='2-54-Mitgliedstaaten_der_Europäischen_Union', relevance=None), EntityMention(uid='2-54-Schweden', relevance=None), EntityMention(uid='2-54-Europa', relevance=None), EntityMention(uid='2-54-Neuseeland', relevance=None), EntityMention(uid='2-54-Kanada', relevance=None), EntityMention(uid='2-54-Königreich_Griechenland', relevance=None), EntityMention(uid='2-54-Königreich_Ungarn', relevance=None), EntityMention(uid='2-54-Mexiko', relevance=None), EntityMention(uid='2-54-Polen', relevance=None), EntityMention(uid='2-54-Tschechoslowakei', relevance=None), EntityMention(uid='2-54-Türkei', relevance=None), EntityMention(uid='2-54-Berlin', relevance=None), EntityMention(uid='2-54-New_York_City', relevance=None), EntityMention(uid='2-54-Paris', relevance=None), EntityMention(uid='2-54-Wien', relevance=None), EntityMention(uid='2-54-Erste_Bank', relevance=None), EntityMention(uid='2-54-Belgien', relevance=None), EntityMention(uid='2-54-Japanisches_Kaiserreich', relevance=None), EntityMention(uid='2-54-Niederlande', relevance=None), EntityMention(uid='2-54-Euro', relevance=None), EntityMention(uid='2-54-Währungsunion', relevance=None), EntityMention(uid='2-54-Schweiz', relevance=None), EntityMention(uid='2-54-Milliarde', relevance=None), EntityMention(uid='2-54-Aachen', relevance=None)], persons=[EntityMention(uid='2-50-Couchepin', relevance=None), EntityMention(uid='2-50-Leo_Schürmann', relevance=None), EntityMention(uid='2-50-Junod', relevance=None), EntityMention(uid='2-50-Weber', relevance=None), EntityMention(uid='2-50-Gordon', relevance=None), EntityMention(uid='2-50-England', relevance=None)], topics=[], transcriptLength=29135.0, totalPages=74.0, languageCode='de', isOnFrontPage=True, publicationDate=datetime.datetime(1998, 8, 11, 0, 0, tzinfo=TzInfo(UTC)), countryCode='CH', dataProviderCode='SFA', mediaCode='FedGazDe', mediaType='newspaper'), ContentItem(uid='FedGazFr-1998-08-11-a-i0001', type='ar', title='Message concernant un nouvel article constitutionnel sur la monnaie du[...]', transcript='', locations=[EntityMention(uid='2-54-Suisse', relevance=None), EntityMention(uid='2-54-Fribourg', relevance=None), EntityMention(uid='2-54-Berne', relevance=None), EntityMention(uid='2-54-Zurich', relevance=None), EntityMention(uid='2-54-Genève', relevance=None), EntityMention(uid='2-54-Système_monétaire_européen', relevance=None), EntityMention(uid='2-54-Union_européenne', relevance=None), EntityMention(uid='2-54-Allemagne', relevance=None), EntityMention(uid='2-54-Zürich', relevance=None), EntityMention(uid='2-54-Cambridge', relevance=None), EntityMention(uid=\"2-54-Europe_de_l'Ouest\", relevance=None), EntityMention(uid='2-54-Rhinow', relevance=None), EntityMention(uid='2-54-Communautés_européennes', relevance=None), EntityMention(uid='2-54-France', relevance=None), EntityMention(uid='2-54-Espagne', relevance=None), EntityMention(uid='2-54-Japon', relevance=None), EntityMention(uid='2-54-Grèce', relevance=None), EntityMention(uid='2-54-Hongrie', relevance=None), EntityMention(uid='2-54-Mexique', relevance=None), EntityMention(uid='2-54-Pologne', relevance=None), EntityMention(uid='2-54-Turquie', relevance=None), EntityMention(uid='2-54-Banque_centrale_européenne', relevance=None), EntityMention(uid='2-54-Berlin', relevance=None), EntityMention(uid='2-54-New_York_(homonymie)', relevance=None), EntityMention(uid='2-54-Paris', relevance=None), EntityMention(uid='2-54-Vienne_(Autriche)', relevance=None), EntityMention(uid='2-54-Bahreïn', relevance=None), EntityMention(uid='2-54-États-Unis', relevance=None), EntityMention(uid='2-54-Italie', relevance=None), EntityMention(uid='2-54-Belgique', relevance=None), EntityMention(uid='2-54-Suède', relevance=None), EntityMention(uid='2-54-Angleterre', relevance=None), EntityMention(uid='2-54-Fondation', relevance=None), EntityMention(uid='2-54-Royaume', relevance=None), EntityMention(uid='2-54-Autriche', relevance=None)], persons=[EntityMention(uid='2-50-Leo_Schürmann', relevance=None), EntityMention(uid='2-50-Weber_(Begriffsklärung)', relevance=None), EntityMention(uid='2-50-Gordon', relevance=None)], topics=[], transcriptLength=37607.0, totalPages=75.0, languageCode='fr', isOnFrontPage=True, publicationDate=datetime.datetime(1998, 8, 11, 0, 0, tzinfo=TzInfo(UTC)), countryCode='CH', dataProviderCode='SFA', mediaCode='FedGazFr', mediaType='newspaper'), ContentItem(uid='luxland-1998-11-13-a-i0062', type='ar', title='Ministère de la Culture', transcript='', locations=[], persons=[], topics=[TopicMention(uid='tm-fr-all-v2.0_tp35_fr', relevance=0.189), TopicMention(uid='tm-fr-all-v2.0_tp33_fr', relevance=0.131), TopicMention(uid='tm-fr-all-v2.0_tp19_fr', relevance=0.1), TopicMention(uid='tm-fr-all-v2.0_tp58_fr', relevance=0.073), TopicMention(uid='tm-fr-all-v2.0_tp57_fr', relevance=0.06)], transcriptLength=116.0, totalPages=1.0, languageCode='fr', isOnFrontPage=False, publicationDate=datetime.datetime(1998, 11, 13, 0, 0, tzinfo=TzInfo(UTC)), countryCode='LU', dataProviderCode='BNL', mediaCode='luxland', mediaType='newspaper'), ContentItem(uid='FedGazDe-1999-06-01-a-i0001', type='ar', title='Botschaft zu einem Bundesgesetz über Arzneimittel und Medizinprodukte [...]', transcript='', locations=[EntityMention(uid='2-54-Radio', relevance=None), EntityMention(uid='2-54-Schweizer_Radio_und_Fernsehen', relevance=None), EntityMention(uid='2-54-Bern', relevance=None), EntityMention(uid='2-54-Bundesverwaltung', relevance=None), EntityMention(uid='2-54-Schweizer_Franken', relevance=None), EntityMention(uid='2-54-Schweiz', relevance=None), EntityMention(uid='2-54-Großhandel', relevance=None), EntityMention(uid='2-54-BSV', relevance=None), EntityMention(uid='2-54-Europäische_Union', relevance=None), EntityMention(uid='2-54-Europa', relevance=None), EntityMention(uid='2-54-Japan', relevance=None), EntityMention(uid='2-54-WHA', relevance=None), EntityMention(uid='2-54-Basel', relevance=None), EntityMention(uid='2-54-In_vitro', relevance=None), EntityMention(uid='2-54-Vier', relevance=None), EntityMention(uid='2-54-Kanton_Zürich', relevance=None), EntityMention(uid='2-54-Niederlande', relevance=None), EntityMention(uid='2-54-Tier', relevance=None), EntityMention(uid='2-54-Ausland', relevance=None), EntityMention(uid='2-54-Grau', relevance=None), EntityMention(uid='2-54-Chicago', relevance=None), EntityMention(uid='2-54-Zentralamerika', relevance=None), EntityMention(uid='2-54-Finnen', relevance=None), EntityMention(uid='2-54-Vereinte_Nationen', relevance=None), EntityMention(uid='2-54-United_Nations', relevance=None), EntityMention(uid='2-54-Belgien', relevance=None), EntityMention(uid='2-54-Dänemark', relevance=None), EntityMention(uid='2-54-Deutsches_Kaiserreich', relevance=None), EntityMention(uid='2-54-Finnland', relevance=None), EntityMention(uid='2-54-Norwegen', relevance=None), EntityMention(uid='2-54-Cisleithanien', relevance=None), EntityMention(uid='2-54-Schweden', relevance=None), EntityMention(uid='2-54-Spanien', relevance=None), EntityMention(uid='2-54-Richtlinie', relevance=None), EntityMention(uid='2-54-HIV', relevance=None), EntityMention(uid='2-54-Alpen', relevance=None), EntityMention(uid='2-54-Italien', relevance=None), EntityMention(uid='2-54-Zurich', relevance=None), EntityMention(uid='2-54-Helsinki', relevance=None), EntityMention(uid='2-54-Vereinigte_Staaten', relevance=None), EntityMention(uid='2-54-Kanton', relevance=None), EntityMention(uid='2-54-Nordwestschweiz', relevance=None), EntityMention(uid='2-54-Vereinigtes_Königreich', relevance=None), EntityMention(uid='2-54-Kanada', relevance=None), EntityMention(uid='2-54-Romandie', relevance=None), EntityMention(uid='2-54-Nordostschweiz', relevance=None), EntityMention(uid='2-54-Kanton_Tessin', relevance=None), EntityMention(uid='2-54-Spannungsfeld', relevance=None), EntityMention(uid='2-54-Bundesamt_für_Umwelt', relevance=None), EntityMention(uid='2-54-Gremium', relevance=None), EntityMention(uid='2-54-Frankreich', relevance=None), EntityMention(uid='2-54-Bundesgericht', relevance=None), EntityMention(uid='2-54-Doping', relevance=None), EntityMention(uid='2-54-Eschweiler_(Allemagne)', relevance=None), EntityMention(uid='2-54-Cannabis_als_Rauschmittel', relevance=None), EntityMention(uid='2-54-Blut', relevance=None), EntityMention(uid='2-54-Knochenmark', relevance=None), EntityMention(uid='2-54-Österreichische_Gesellschaft_für_Eisenbahngeschichte', relevance=None), EntityMention(uid='2-54-BAWAG_(Begriffsklärung)', relevance=None), EntityMention(uid='2-54-Bundesrat_(Schweiz)', relevance=None)], persons=[EntityMention(uid='2-50-Präsident_der_Vereinigten_Staaten', relevance=None), EntityMention(uid='2-50-Dubois', relevance=None), EntityMention(uid='2-50-Eduard_David', relevance=None), EntityMention(uid='2-50-Cavalli', relevance=None), EntityMention(uid='2-50-Ruth_Dreifuss', relevance=None), EntityMention(uid='2-50-Bundeskanzler', relevance=None), EntityMention(uid='2-50-François_Couchepin', relevance=None), EntityMention(uid='2-50-Liechtenstein', relevance=None), EntityMention(uid='2-50-Kanton', relevance=None), EntityMention(uid='2-50-Julius_Bär', relevance=None), EntityMention(uid='2-50-Kanton_Appenzell', relevance=None), EntityMention(uid='2-50-Europäische_Freihandelsassoziation', relevance=None), EntityMention(uid='2-50-Kanton_Bern', relevance=None), EntityMention(uid='2-50-Hochreutener', relevance=None), EntityMention(uid='2-50-Kosmetik', relevance=None), EntityMention(uid='2-50-PH', relevance=None), EntityMention(uid='2-50-Penicilline', relevance=None), EntityMention(uid='2-50-Horden', relevance=None), EntityMention(uid='2-50-Pemolin', relevance=None), EntityMention(uid='2-50-Methaqualon', relevance=None), EntityMention(uid='2-50-HIV', relevance=None), EntityMention(uid='2-50-Viren', relevance=None), EntityMention(uid='2-50-Hepatitis', relevance=None), EntityMention(uid='2-50-Clenbuterol', relevance=None), EntityMention(uid='2-50-Kapitel', relevance=None), EntityMention(uid='2-50-Sponsoring', relevance=None), EntityMention(uid='2-50-EDI', relevance=None), EntityMention(uid='2-50-Bussen', relevance=None), EntityMention(uid='2-50-Haschisch', relevance=None), EntityMention(uid='2-50-KVG', relevance=None), EntityMention(uid='2-50-Tessin_(Begriffsklärung)', relevance=None)], topics=[], transcriptLength=76080.0, totalPages=205.0, languageCode='de', isOnFrontPage=True, publicationDate=datetime.datetime(1999, 6, 1, 0, 0, tzinfo=TzInfo(UTC)), countryCode='CH', dataProviderCode='SFA', mediaCode='FedGazDe', mediaType='newspaper'), ContentItem(uid='luxland-1999-11-05-a-i0028', type='ar', title='Ministère de la Culture', transcript='', locations=[EntityMention(uid='2-54-Luxembourg', relevance=None)], persons=[], topics=[TopicMention(uid='tm-fr-all-v2.0_tp35_fr', relevance=0.149), TopicMention(uid='tm-fr-all-v2.0_tp33_fr', relevance=0.144), TopicMention(uid='tm-fr-all-v2.0_tp57_fr', relevance=0.118), TopicMention(uid='tm-fr-all-v2.0_tp58_fr', relevance=0.103)], transcriptLength=90.0, totalPages=1.0, languageCode='fr', isOnFrontPage=False, publicationDate=datetime.datetime(1999, 11, 5, 0, 0, tzinfo=TzInfo(UTC)), countryCode='LU', dataProviderCode='BNL', mediaCode='luxland', mediaType='newspaper'), ContentItem(uid='luxland-2000-11-24-a-i0030', type='ar', title=\"Ministère de la Culture, de l'Enseignement supérieur et de la Recherch[...]\", transcript='', locations=[EntityMention(uid='2-54-Union_européenne', relevance=None), EntityMention(uid='2-54-Luxembourg', relevance=None)], persons=[], topics=[TopicMention(uid='tm-fr-all-v2.0_tp35_fr', relevance=0.169), TopicMention(uid='tm-fr-all-v2.0_tp58_fr', relevance=0.141), TopicMention(uid='tm-fr-all-v2.0_tp33_fr', relevance=0.085), TopicMention(uid='tm-fr-all-v2.0_tp57_fr', relevance=0.081), TopicMention(uid='tm-fr-all-v2.0_tp99_fr', relevance=0.058), TopicMention(uid='tm-fr-all-v2.0_tp19_fr', relevance=0.053)], transcriptLength=104.0, totalPages=1.0, languageCode='fr', isOnFrontPage=False, publicationDate=datetime.datetime(2000, 11, 24, 0, 0, tzinfo=TzInfo(UTC)), countryCode='LU', dataProviderCode='BNL', mediaCode='luxland', mediaType='newspaper'), ContentItem(uid='luxland-2001-11-16-a-i0018', type='ar', title='European Planning Observation Network', transcript='', locations=[EntityMention(uid='2-54-Union', relevance=None), EntityMention(uid='2-54-Luxembourg_City', relevance=None), EntityMention(uid='2-54-Fax', relevance=None)], persons=[], topics=[], transcriptLength=353.0, totalPages=1.0, languageCode='en', isOnFrontPage=False, publicationDate=datetime.datetime(2001, 11, 16, 0, 0, tzinfo=TzInfo(UTC)), countryCode='LU', dataProviderCode='BNL', mediaCode='luxland', mediaType='newspaper'), ContentItem(uid='luxland-2001-11-16-a-i0066', type='ar', title=\"Ministère de la Culture, de l'Enseignement supérieur et de la Recherch[...]\", transcript='', locations=[], persons=[EntityMention(uid='2-50-Vladimir_Ashkenazy', relevance=None)], topics=[TopicMention(uid='tm-fr-all-v2.0_tp96_fr', relevance=0.174), TopicMention(uid='tm-fr-all-v2.0_tp58_fr', relevance=0.138), TopicMention(uid='tm-fr-all-v2.0_tp99_fr', relevance=0.098), TopicMention(uid='tm-fr-all-v2.0_tp33_fr', relevance=0.077), TopicMention(uid='tm-fr-all-v2.0_tp35_fr', relevance=0.055)], transcriptLength=113.0, totalPages=1.0, languageCode='fr', isOnFrontPage=False, publicationDate=datetime.datetime(2001, 11, 16, 0, 0, tzinfo=TzInfo(UTC)), countryCode='LU', dataProviderCode='BNL', mediaCode='luxland', mediaType='newspaper'), ContentItem(uid='luxland-2002-01-11-a-i0009', type='ar', title='Protection des données', transcript='', locations=[EntityMention(uid='2-54-États-Unis', relevance=None)], persons=[EntityMention(uid='2-50-George_W._Bush', relevance=None), EntityMention(uid='2-50-François_Biltgen', relevance=None), EntityMention(uid='2-50-Jacques_Chirac', relevance=None)], topics=[TopicMention(uid='tm-fr-all-v2.0_tp87_fr', relevance=0.262), TopicMention(uid='tm-fr-all-v2.0_tp95_fr', relevance=0.229), TopicMention(uid='tm-fr-all-v2.0_tp52_fr', relevance=0.095), TopicMention(uid='tm-fr-all-v2.0_tp58_fr', relevance=0.067), TopicMention(uid='tm-fr-all-v2.0_tp25_fr', relevance=0.064), TopicMention(uid='tm-fr-all-v2.0_tp36_fr', relevance=0.062)], transcriptLength=1778.0, totalPages=2.0, languageCode='fr', isOnFrontPage=False, publicationDate=datetime.datetime(2002, 1, 11, 0, 0, tzinfo=TzInfo(UTC)), countryCode='LU', dataProviderCode='BNL', mediaCode='luxland', mediaType='newspaper'), ContentItem(uid='luxland-2002-04-12-a-i0031', type='ar', title='Petition to the European Union', transcript='', locations=[EntityMention(uid='2-54-Petition', relevance=None), EntityMention(uid='2-54-Union', relevance=None), EntityMention(uid='2-54-Israel', relevance=None), EntityMention(uid='2-54-West_Bank', relevance=None), EntityMention(uid='2-54-Defensive_wall', relevance=None)], persons=[EntityMention(uid='2-50-Romano_Prodi', relevance=None), EntityMention(uid='2-50-Hassan_Sabry_Pasha', relevance=None)], topics=[], transcriptLength=835.0, totalPages=1.0, languageCode='en', isOnFrontPage=False, publicationDate=datetime.datetime(2002, 4, 12, 0, 0, tzinfo=TzInfo(UTC)), countryCode='LU', dataProviderCode='BNL', mediaCode='luxland', mediaType='newspaper'), ContentItem(uid='luxland-2003-07-04-a-i0007', type='ar', title='Hochzeithalten mit Europa', transcript='', locations=[EntityMention(uid='2-54-Polen', relevance=None), EntityMention(uid='2-54-Warschau', relevance=None), EntityMention(uid='2-54-Niederlande', relevance=None), EntityMention(uid='2-54-Kai', relevance=None), EntityMention(uid='2-54-Den_Haag', relevance=None), EntityMention(uid='2-54-Dublin', relevance=None), EntityMention(uid='2-54-Katholizismus', relevance=None), EntityMention(uid='2-54-Stefan_Seit', relevance=None), EntityMention(uid='2-54-Existenzminimum', relevance=None), EntityMention(uid='2-54-Stadt_Brüssel', relevance=None), EntityMention(uid='2-54-Mitte', relevance=None)], persons=[], topics=[TopicMention(uid='tm-de-all-v2.0_tp20_de', relevance=0.241), TopicMention(uid='tm-de-all-v2.0_tp61_de', relevance=0.166), TopicMention(uid='tm-de-all-v2.0_tp29_de', relevance=0.08), TopicMention(uid='tm-de-all-v2.0_tp14_de', relevance=0.079), TopicMention(uid='tm-de-all-v2.0_tp86_de', relevance=0.063), TopicMention(uid='tm-de-all-v2.0_tp24_de', relevance=0.061)], transcriptLength=1759.0, totalPages=2.0, languageCode='de', isOnFrontPage=False, publicationDate=datetime.datetime(2003, 7, 4, 0, 0, tzinfo=TzInfo(UTC)), countryCode='LU', dataProviderCode='BNL', mediaCode='luxland', mediaType='newspaper'), ContentItem(uid='luxland-2003-10-31-a-i0029', type='ar', title='European Union Youth Orchestra-Euyo', transcript='', locations=[EntityMention(uid='2-54-Orchestre', relevance=None)], persons=[], topics=[TopicMention(uid='tm-fr-all-v2.0_tp96_fr', relevance=0.227), TopicMention(uid='tm-fr-all-v2.0_tp58_fr', relevance=0.092), TopicMention(uid='tm-fr-all-v2.0_tp35_fr', relevance=0.085), TopicMention(uid='tm-fr-all-v2.0_tp33_fr', relevance=0.068), TopicMention(uid='tm-fr-all-v2.0_tp99_fr', relevance=0.061), TopicMention(uid='tm-fr-all-v2.0_tp69_fr', relevance=0.057)], transcriptLength=121.0, totalPages=1.0, languageCode='fr', isOnFrontPage=False, publicationDate=datetime.datetime(2003, 10, 31, 0, 0, tzinfo=TzInfo(UTC)), countryCode='LU', dataProviderCode='BNL', mediaCode='luxland', mediaType='newspaper'), ContentItem(uid='luxland-2004-01-30-a-i0049', type='ar', title='Project and Events Officer (contract until end 2006) In charge of:', transcript='', locations=[EntityMention(uid='2-54-Lille', relevance=None), EntityMention(uid='2-54-France', relevance=None)], persons=[], topics=[], transcriptLength=418.0, totalPages=1.0, languageCode='en', isOnFrontPage=False, publicationDate=datetime.datetime(2004, 1, 30, 0, 0, tzinfo=TzInfo(UTC)), countryCode='LU', dataProviderCode='BNL', mediaCode='luxland', mediaType='newspaper'), ContentItem(uid='luxland-2004-04-30-a-i0093', type='ar', title='The New Europe', transcript='', locations=[], persons=[EntityMention(uid='2-50-Daniel_Gros', relevance=None)], topics=[], transcriptLength=2561.0, totalPages=2.0, languageCode='en', isOnFrontPage=False, publicationDate=datetime.datetime(2004, 4, 30, 0, 0, tzinfo=TzInfo(UTC)), countryCode='LU', dataProviderCode='BNL', mediaCode='luxland', mediaType='newspaper'), ContentItem(uid='luxland-2004-04-30-a-i0096', type='ar', title='A Lithuanian Perspective', transcript='', locations=[EntityMention(uid='2-54-Vilnius', relevance=None), EntityMention(uid='2-54-Lithuania', relevance=None), EntityMention(uid='2-54-Latvia', relevance=None), EntityMention(uid='2-54-Estonia', relevance=None), EntityMention(uid='2-54-West', relevance=None), EntityMention(uid='2-54-Spain', relevance=None), EntityMention(uid='2-54-Europe', relevance=None)], persons=[EntityMention(uid='2-50-Virginia', relevance=None)], topics=[], transcriptLength=950.0, totalPages=1.0, languageCode='en', isOnFrontPage=False, publicationDate=datetime.datetime(2004, 4, 30, 0, 0, tzinfo=TzInfo(UTC)), countryCode='LU', dataProviderCode='BNL', mediaCode='luxland', mediaType='newspaper'), ContentItem(uid='luxland-2004-05-07-a-i0198', type='ar', title='The BRussells Tribunal (14-17 April 2004)', transcript='', locations=[EntityMention(uid='2-54-United_States', relevance=None), EntityMention(uid='2-54-China', relevance=None), EntityMention(uid='2-54-France', relevance=None), EntityMention(uid='2-54-Europe', relevance=None), EntityMention(uid='2-54-Union', relevance=None)], persons=[EntityMention(uid='2-50-Paul', relevance=None), EntityMention(uid='2-50-Clark', relevance=None), EntityMention(uid='2-50-Ritter', relevance=None)], topics=[], transcriptLength=2298.0, totalPages=2.0, languageCode='en', isOnFrontPage=False, publicationDate=datetime.datetime(2004, 5, 7, 0, 0, tzinfo=TzInfo(UTC)), countryCode='LU', dataProviderCode='BNL', mediaCode='luxland', mediaType='newspaper'), ContentItem(uid='luxland-2004-05-21-a-i0025', type='ar', title='Economic Effects of EU Enlargement', transcript='', locations=[], persons=[], topics=[], transcriptLength=594.0, totalPages=1.0, languageCode='en', isOnFrontPage=False, publicationDate=datetime.datetime(2004, 5, 21, 0, 0, tzinfo=TzInfo(UTC)), countryCode='LU', dataProviderCode='BNL', mediaCode='luxland', mediaType='newspaper'), ContentItem(uid='luxland-2004-11-05-a-i0037', type='ar', title=\"Postes vacants Orchestre des Jeunes de l'Union Européenne\", transcript='', locations=[], persons=[EntityMention(uid='2-50-John_Gardiner', relevance=None)], topics=[TopicMention(uid='tm-fr-all-v2.0_tp58_fr', relevance=0.145), TopicMention(uid='tm-fr-all-v2.0_tp96_fr', relevance=0.136), TopicMention(uid='tm-fr-all-v2.0_tp90_fr', relevance=0.103), TopicMention(uid='tm-fr-all-v2.0_tp35_fr', relevance=0.1), TopicMention(uid='tm-fr-all-v2.0_tp99_fr', relevance=0.097), TopicMention(uid='tm-fr-all-v2.0_tp40_fr', relevance=0.082)], transcriptLength=143.0, totalPages=1.0, languageCode='fr', isOnFrontPage=False, publicationDate=datetime.datetime(2004, 11, 5, 0, 0, tzinfo=TzInfo(UTC)), countryCode='LU', dataProviderCode='BNL', mediaCode='luxland', mediaType='newspaper'), ContentItem(uid='luxland-2004-12-03-a-i0060', type='ar', title='Design industry', transcript='', locations=[EntityMention(uid='2-54-Europe', relevance=None), EntityMention(uid='2-54-New', relevance=None), EntityMention(uid='2-54-Union', relevance=None)], persons=[], topics=[], transcriptLength=1023.0, totalPages=1.0, languageCode='en', isOnFrontPage=False, publicationDate=datetime.datetime(2004, 12, 3, 0, 0, tzinfo=TzInfo(UTC)), countryCode='LU', dataProviderCode='BNL', mediaCode='luxland', mediaType='newspaper'), ContentItem(uid='luxland-2004-12-03-a-i0167', type='ar', title=\"d'Ländchen Humoristesch-satiresch Säit vum Lëtzebuerger Land\", transcript='', locations=[], persons=[EntityMention(uid='2-50-Gaston', relevance=None), EntityMention(uid='2-50-Norbert', relevance=None), EntityMention(uid='2-50-Lucien', relevance=None), EntityMention(uid='2-50-Thierry', relevance=None)], topics=[TopicMention(uid='tm-de-all-v2.0_tp87_de', relevance=0.177), TopicMention(uid='tm-de-all-v2.0_tp03_de', relevance=0.151), TopicMention(uid='tm-de-all-v2.0_tp58_de', relevance=0.106), TopicMention(uid='tm-de-all-v2.0_tp30_de', relevance=0.1), TopicMention(uid='tm-de-all-v2.0_tp45_de', relevance=0.085), TopicMention(uid='tm-de-all-v2.0_tp79_de', relevance=0.077)], transcriptLength=849.0, totalPages=1.0, languageCode='de', isOnFrontPage=False, publicationDate=datetime.datetime(2004, 12, 3, 0, 0, tzinfo=TzInfo(UTC)), countryCode='LU', dataProviderCode='BNL', mediaCode='luxland', mediaType='newspaper'), ContentItem(uid='luxland-2004-12-10-a-i0123', type='ar', title='Université, CRP ... O, Jeeminee!', transcript='', locations=[EntityMention(uid='2-54-CRP', relevance=None), EntityMention(uid='2-54-Europe', relevance=None), EntityMention(uid='2-54-Luxembourg', relevance=None), EntityMention(uid='2-54-Luxemburg', relevance=None), EntityMention(uid='2-54-Strasbourg', relevance=None), EntityMention(uid='2-54-Lisbon', relevance=None)], persons=[EntityMention(uid='2-50-University', relevance=None), EntityMention(uid='2-50-Louis_Pasteur', relevance=None)], topics=[], transcriptLength=1669.0, totalPages=1.0, languageCode='en', isOnFrontPage=False, publicationDate=datetime.datetime(2004, 12, 10, 0, 0, tzinfo=TzInfo(UTC)), countryCode='LU', dataProviderCode='BNL', mediaCode='luxland', mediaType='newspaper'), ContentItem(uid='luxland-2005-01-21-a-i0027', type='ar', title='National preference versus European objectives', transcript='', locations=[EntityMention(uid='2-54-Europe', relevance=None)], persons=[], topics=[], transcriptLength=476.0, totalPages=1.0, languageCode='en', isOnFrontPage=False, publicationDate=datetime.datetime(2005, 1, 21, 0, 0, tzinfo=TzInfo(UTC)), countryCode='LU', dataProviderCode='BNL', mediaCode='luxland', mediaType='newspaper'), ContentItem(uid='luxland-2005-02-25-a-i0067', type='ar', title='Armand Clesse', transcript='', locations=[EntityMention(uid='2-54-Luxemburg', relevance=None)], persons=[], topics=[TopicMention(uid='tm-de-all-v2.0_tp20_de', relevance=0.235), TopicMention(uid='tm-de-all-v2.0_tp90_de', relevance=0.145), TopicMention(uid='tm-de-all-v2.0_tp11_de', relevance=0.141), TopicMention(uid='tm-de-all-v2.0_tp82_de', relevance=0.063)], transcriptLength=99.0, totalPages=1.0, languageCode='de', isOnFrontPage=False, publicationDate=datetime.datetime(2005, 2, 25, 0, 0, tzinfo=TzInfo(UTC)), countryCode='LU', dataProviderCode='BNL', mediaCode='luxland', mediaType='newspaper'), ContentItem(uid='luxland-2005-03-25-a-i0031', type='ar', title='Implementing Kyoto in Europe', transcript='', locations=[EntityMention(uid='2-54-Union', relevance=None), EntityMention(uid='2-54-Europe', relevance=None)], persons=[], topics=[], transcriptLength=1493.0, totalPages=1.0, languageCode='en', isOnFrontPage=False, publicationDate=datetime.datetime(2005, 3, 25, 0, 0, tzinfo=TzInfo(UTC)), countryCode='LU', dataProviderCode='BNL', mediaCode='luxland', mediaType='newspaper'), ContentItem(uid='luxland-2005-04-22-a-i0124', type='ar', title='The segmented-assimilation theory', transcript='', locations=[EntityMention(uid='2-54-United_States', relevance=None), EntityMention(uid='2-54-Europe', relevance=None), EntityMention(uid='2-54-Luxembourg_nationality_law', relevance=None), EntityMention(uid='2-54-Luxembourg', relevance=None), EntityMention(uid='2-54-Center', relevance=None)], persons=[EntityMention(uid='2-50-Berg_(Begriffsklärung)', relevance=None), EntityMention(uid='2-50-Zhou', relevance=None)], topics=[], transcriptLength=2157.0, totalPages=2.0, languageCode='en', isOnFrontPage=False, publicationDate=datetime.datetime(2005, 4, 22, 0, 0, tzinfo=TzInfo(UTC)), countryCode='LU', dataProviderCode='BNL', mediaCode='luxland', mediaType='newspaper'), ContentItem(uid='luxland-2005-07-01-a-i0035', type='ar', title='European Union', transcript='', locations=[EntityMention(uid='2-54-Union', relevance=None), EntityMention(uid='2-54-France', relevance=None), EntityMention(uid='2-54-Europe', relevance=None), EntityMention(uid='2-54-Luxembourg', relevance=None)], persons=[EntityMention(uid='2-50-John_Locke', relevance=None)], topics=[], transcriptLength=704.0, totalPages=1.0, languageCode='en', isOnFrontPage=False, publicationDate=datetime.datetime(2005, 7, 1, 0, 0, tzinfo=TzInfo(UTC)), countryCode='LU', dataProviderCode='BNL', mediaCode='luxland', mediaType='newspaper'), ContentItem(uid='luxland-2005-09-09-a-i0019', type='ar', title=\"Conflicting views about Europe's future\", transcript='', locations=[EntityMention(uid='2-54-Europe', relevance=None), EntityMention(uid='2-54-Luxembourg', relevance=None), EntityMention(uid='2-54-Rome', relevance=None)], persons=[EntityMention(uid='2-50-Jacques_Chirac', relevance=None)], topics=[], transcriptLength=1079.0, totalPages=1.0, languageCode='en', isOnFrontPage=False, publicationDate=datetime.datetime(2005, 9, 9, 0, 0, tzinfo=TzInfo(UTC)), countryCode='LU', dataProviderCode='BNL', mediaCode='luxland', mediaType='newspaper'), ContentItem(uid='luxland-2005-11-11-a-i0136', type='ar', title='The Luxembourg Institute for European and International Studies at Akd[...]', transcript='', locations=[EntityMention(uid='2-54-Luxembourg', relevance=None), EntityMention(uid='2-54-Austria', relevance=None), EntityMention(uid='2-54-Union', relevance=None), EntityMention(uid='2-54-Europe', relevance=None), EntityMention(uid='2-54-Muscogee', relevance=None), EntityMention(uid='2-54-European_Union–Turkey_relations', relevance=None), EntityMention(uid='2-54-France', relevance=None), EntityMention(uid='2-54-Balkans', relevance=None), EntityMention(uid='2-54-Ankara', relevance=None), EntityMention(uid='2-54-West', relevance=None), EntityMention(uid='2-54-Cologne', relevance=None), EntityMention(uid='2-54-Justice_Party_(Turkey)', relevance=None)], persons=[EntityMention(uid='2-50-Denis_de_Rougemont', relevance=None)], topics=[], transcriptLength=2986.0, totalPages=3.0, languageCode='en', isOnFrontPage=False, publicationDate=datetime.datetime(2005, 11, 11, 0, 0, tzinfo=TzInfo(UTC)), countryCode='LU', dataProviderCode='BNL', mediaCode='luxland', mediaType='newspaper'), ContentItem(uid='luxland-2005-11-25-a-i0168', type='ad', title='Publicité 2 Page 35', transcript='', locations=[EntityMention(uid='2-54-France', relevance=None), EntityMention(uid='2-54-Boston', relevance=None), EntityMention(uid='2-54-Yves', relevance=None), EntityMention(uid='2-54-Central', relevance=None)], persons=[EntityMention(uid='2-50-Thierry', relevance=None), EntityMention(uid='2-50-Jean-Claude_Juncker', relevance=None)], topics=[], transcriptLength=224.0, totalPages=1.0, languageCode='en', isOnFrontPage=False, publicationDate=datetime.datetime(2005, 11, 25, 0, 0, tzinfo=TzInfo(UTC)), countryCode='LU', dataProviderCode='BNL', mediaCode='luxland', mediaType='newspaper'), ContentItem(uid='luxland-2006-10-20-a-i0072', type='ar', title='European Union Youth Orchestra – EUYO www.euyo.org.uk', transcript='', locations=[EntityMention(uid='2-54-Union_européenne', relevance=None), EntityMention(uid='2-54-Luxembourg', relevance=None)], persons=[], topics=[TopicMention(uid='tm-fr-all-v2.0_tp96_fr', relevance=0.201), TopicMention(uid='tm-fr-all-v2.0_tp99_fr', relevance=0.165), TopicMention(uid='tm-fr-all-v2.0_tp35_fr', relevance=0.115), TopicMention(uid='tm-fr-all-v2.0_tp58_fr', relevance=0.112), TopicMention(uid='tm-fr-all-v2.0_tp33_fr', relevance=0.079)], transcriptLength=162.0, totalPages=1.0, languageCode='fr', isOnFrontPage=False, publicationDate=datetime.datetime(2006, 10, 20, 0, 0, tzinfo=TzInfo(UTC)), countryCode='LU', dataProviderCode='BNL', mediaCode='luxland', mediaType='newspaper'), ContentItem(uid='luxland-2006-12-22-a-i0172', type='ar', title='Blog', transcript='', locations=[EntityMention(uid='2-54-Stadt_Brüssel', relevance=None), EntityMention(uid='2-54-Demokratische_Partei', relevance=None), EntityMention(uid='2-54-Union', relevance=None), EntityMention(uid='2-54-Confédération_générale_du_travail', relevance=None), EntityMention(uid='2-54-Provinz_Namur', relevance=None), EntityMention(uid='2-54-Esch_an_der_Alzette', relevance=None), EntityMention(uid='2-54-Luxemburg', relevance=None), EntityMention(uid='2-54-Kaempf', relevance=None), EntityMention(uid='2-54-Neuhaus', relevance=None)], persons=[EntityMention(uid='2-50-Jean-Claude_Juncker', relevance=None), EntityMention(uid='2-50-Leon', relevance=None)], topics=[TopicMention(uid='tm-de-all-v2.0_tp58_de', relevance=0.255), TopicMention(uid='tm-de-all-v2.0_tp20_de', relevance=0.234), TopicMention(uid='tm-de-all-v2.0_tp43_de', relevance=0.079), TopicMention(uid='tm-de-all-v2.0_tp21_de', relevance=0.064), TopicMention(uid='tm-de-all-v2.0_tp59_de', relevance=0.06), TopicMention(uid='tm-de-all-v2.0_tp79_de', relevance=0.051)], transcriptLength=939.0, totalPages=1.0, languageCode='de', isOnFrontPage=False, publicationDate=datetime.datetime(2006, 12, 22, 0, 0, tzinfo=TzInfo(UTC)), countryCode='LU', dataProviderCode='BNL', mediaCode='luxland', mediaType='newspaper'), ContentItem(uid='luxland-2007-05-11-a-i0041', type='ar', title='Echternacher Festival', transcript='', locations=[EntityMention(uid='2-54-Frankreich', relevance=None), EntityMention(uid='2-54-Manchester', relevance=None), EntityMention(uid='2-54-Santiago_de_Chile', relevance=None), EntityMention(uid='2-54-Luxemburg', relevance=None), EntityMention(uid='2-54-Burgund', relevance=None)], persons=[EntityMention(uid='2-50-Maurice_Ravel', relevance=None), EntityMention(uid='2-50-John_Williams', relevance=None), EntityMention(uid='2-50-Ludwig_van_Beethoven', relevance=None), EntityMention(uid='2-50-Richter', relevance=None), EntityMention(uid='2-50-Jean_Müller_Elektrotechnische_Fabrik', relevance=None), EntityMention(uid='2-50-Johann_Sebastian_Bach', relevance=None), EntityMention(uid='2-50-Claude_Lorrain', relevance=None), EntityMention(uid='2-50-Karl_Marx', relevance=None), EntityMention(uid='2-50-Joseph_Haydn', relevance=None)], topics=[TopicMention(uid='tm-de-all-v2.0_tp15_de', relevance=0.538), TopicMention(uid='tm-de-all-v2.0_tp87_de', relevance=0.188), TopicMention(uid='tm-de-all-v2.0_tp79_de', relevance=0.079)], transcriptLength=632.0, totalPages=1.0, languageCode='de', isOnFrontPage=False, publicationDate=datetime.datetime(2007, 5, 11, 0, 0, tzinfo=TzInfo(UTC)), countryCode='LU', dataProviderCode='BNL', mediaCode='luxland', mediaType='newspaper'), ContentItem(uid='luxland-2007-08-10-a-i0040', type='ar', title='Klassik', transcript='', locations=[EntityMention(uid='2-54-Europäische_Union', relevance=None), EntityMention(uid='2-54-Luxemburg', relevance=None), EntityMention(uid='2-54-Hochschule_für_Musik_Hanns_Eisler_Berlin', relevance=None), EntityMention(uid='2-54-Berlin', relevance=None), EntityMention(uid='2-54-Europa', relevance=None), EntityMention(uid='2-54-Union_Youth', relevance=None)], persons=[EntityMention(uid='2-50-Vladimir', relevance=None), EntityMention(uid='2-50-Colin_Davis', relevance=None), EntityMention(uid='2-50-Schweiz', relevance=None), EntityMention(uid='2-50-Generalsekretär', relevance=None)], topics=[TopicMention(uid='tm-de-all-v2.0_tp15_de', relevance=0.455), TopicMention(uid='tm-de-all-v2.0_tp87_de', relevance=0.138), TopicMention(uid='tm-de-all-v2.0_tp20_de', relevance=0.105), TopicMention(uid='tm-de-all-v2.0_tp41_de', relevance=0.085)], transcriptLength=512.0, totalPages=1.0, languageCode='de', isOnFrontPage=False, publicationDate=datetime.datetime(2007, 8, 10, 0, 0, tzinfo=TzInfo(UTC)), countryCode='LU', dataProviderCode='BNL', mediaCode='luxland', mediaType='newspaper'), ContentItem(uid='arbeitgeber-2008-02-14-a-i0024', type='page', title='[REDACTED]', transcript='[REDACTED]', locations=[EntityMention(uid='2-54-Schweiz', relevance=None)], persons=[], topics=[TopicMention(uid='tm-de-all-v2.0_tp20_de', relevance=0.467), TopicMention(uid='tm-de-all-v2.0_tp89_de', relevance=0.171), TopicMention(uid='tm-de-all-v2.0_tp29_de', relevance=0.168)], transcriptLength=585.0, totalPages=1.0, languageCode='de', isOnFrontPage=False, publicationDate=datetime.datetime(2008, 2, 14, 0, 0, tzinfo=TzInfo(UTC)), countryCode='CH', dataProviderCode='SWA', mediaCode='arbeitgeber', mediaType='newspaper'), ContentItem(uid='arbeitgeber-2008-02-14-a-i0022', type='page', title='[REDACTED]', transcript='[REDACTED]', locations=[EntityMention(uid='2-54-Union', relevance=None), EntityMention(uid='2-54-Unternehmen', relevance=None), EntityMention(uid='2-54-Europa', relevance=None), EntityMention(uid='2-54-Schweizer', relevance=None)], persons=[], topics=[TopicMention(uid='tm-de-all-v2.0_tp20_de', relevance=0.439), TopicMention(uid='tm-de-all-v2.0_tp29_de', relevance=0.185), TopicMention(uid='tm-de-all-v2.0_tp83_de', relevance=0.052), TopicMention(uid='tm-de-all-v2.0_tp79_de', relevance=0.051)], transcriptLength=571.0, totalPages=1.0, languageCode='de', isOnFrontPage=False, publicationDate=datetime.datetime(2008, 2, 14, 0, 0, tzinfo=TzInfo(UTC)), countryCode='CH', dataProviderCode='SWA', mediaCode='arbeitgeber', mediaType='newspaper'), ContentItem(uid='arbeitgeber-2010-04-08-a-i0012', type='page', title='[REDACTED]', transcript='[REDACTED]', locations=[EntityMention(uid='2-54-Union', relevance=None), EntityMention(uid='2-54-Küsnacht', relevance=None)], persons=[], topics=[TopicMention(uid='tm-de-all-v2.0_tp20_de', relevance=0.261), TopicMention(uid='tm-de-all-v2.0_tp91_de', relevance=0.184), TopicMention(uid='tm-de-all-v2.0_tp79_de', relevance=0.082), TopicMention(uid='tm-de-all-v2.0_tp87_de', relevance=0.079)], transcriptLength=452.0, totalPages=1.0, languageCode='de', isOnFrontPage=False, publicationDate=datetime.datetime(2010, 4, 8, 0, 0, tzinfo=TzInfo(UTC)), countryCode='CH', dataProviderCode='SWA', mediaCode='arbeitgeber', mediaType='newspaper'), ContentItem(uid='arbeitgeber-2010-04-08-a-i0013', type='page', title='[REDACTED]', transcript='[REDACTED]', locations=[], persons=[], topics=[TopicMention(uid='tm-de-all-v2.0_tp91_de', relevance=0.209), TopicMention(uid='tm-de-all-v2.0_tp79_de', relevance=0.164), TopicMention(uid='tm-de-all-v2.0_tp92_de', relevance=0.147), TopicMention(uid='tm-de-all-v2.0_tp20_de', relevance=0.146)], transcriptLength=509.0, totalPages=1.0, languageCode='de', isOnFrontPage=False, publicationDate=datetime.datetime(2010, 4, 8, 0, 0, tzinfo=TzInfo(UTC)), countryCode='CH', dataProviderCode='SWA', mediaCode='arbeitgeber', mediaType='newspaper'), ContentItem(uid='arbeitgeber-2010-04-08-a-i0014', type='page', title='[REDACTED]', transcript='[REDACTED]', locations=[EntityMention(uid='2-54-Stiftung', relevance=None), EntityMention(uid='2-54-Centre', relevance=None), EntityMention(uid='2-54-Europa', relevance=None), EntityMention(uid='2-54-Vereinigte_Staaten', relevance=None)], persons=[], topics=[TopicMention(uid='tm-de-all-v2.0_tp20_de', relevance=0.191), TopicMention(uid='tm-de-all-v2.0_tp87_de', relevance=0.147), TopicMention(uid='tm-de-all-v2.0_tp93_de', relevance=0.14), TopicMention(uid='tm-de-all-v2.0_tp92_de', relevance=0.122), TopicMention(uid='tm-de-all-v2.0_tp91_de', relevance=0.083)], transcriptLength=530.0, totalPages=1.0, languageCode='de', isOnFrontPage=False, publicationDate=datetime.datetime(2010, 4, 8, 0, 0, tzinfo=TzInfo(UTC)), countryCode='CH', dataProviderCode='SWA', mediaCode='arbeitgeber', mediaType='newspaper')], pagination=Pagination(total=49, limit=100, offset=0))"
      ]
     },
     "execution_count": 5,
     "metadata": {},
     "output_type": "execute_result"
    }
   ],
   "source": [
    "result.pydantic"
   ]
  },
  {
   "cell_type": "markdown",
   "metadata": {},
   "source": [
    "### Pandas\n",
    "We can also get the search results as a [Pandas](https://pandas.pydata.org/) DataFrame. \n",
    "This allows us to easily manipulate and analyze the data using pandas' powerful data manipulation capabilities."
   ]
  },
  {
   "cell_type": "code",
   "execution_count": 6,
   "metadata": {},
   "outputs": [
    {
     "data": {
      "text/html": [
       "<div>\n",
       "<style scoped>\n",
       "    .dataframe tbody tr th:only-of-type {\n",
       "        vertical-align: middle;\n",
       "    }\n",
       "\n",
       "    .dataframe tbody tr th {\n",
       "        vertical-align: top;\n",
       "    }\n",
       "\n",
       "    .dataframe thead th {\n",
       "        text-align: right;\n",
       "    }\n",
       "</style>\n",
       "<table border=\"1\" class=\"dataframe\">\n",
       "  <thead>\n",
       "    <tr style=\"text-align: right;\">\n",
       "      <th></th>\n",
       "      <th>type</th>\n",
       "      <th>title</th>\n",
       "      <th>transcript</th>\n",
       "      <th>locations</th>\n",
       "      <th>persons</th>\n",
       "      <th>topics</th>\n",
       "      <th>transcriptLength</th>\n",
       "      <th>totalPages</th>\n",
       "      <th>languageCode</th>\n",
       "      <th>isOnFrontPage</th>\n",
       "      <th>publicationDate</th>\n",
       "      <th>countryCode</th>\n",
       "      <th>dataProviderCode</th>\n",
       "      <th>mediaCode</th>\n",
       "      <th>mediaType</th>\n",
       "    </tr>\n",
       "    <tr>\n",
       "      <th>uid</th>\n",
       "      <th></th>\n",
       "      <th></th>\n",
       "      <th></th>\n",
       "      <th></th>\n",
       "      <th></th>\n",
       "      <th></th>\n",
       "      <th></th>\n",
       "      <th></th>\n",
       "      <th></th>\n",
       "      <th></th>\n",
       "      <th></th>\n",
       "      <th></th>\n",
       "      <th></th>\n",
       "      <th></th>\n",
       "      <th></th>\n",
       "    </tr>\n",
       "  </thead>\n",
       "  <tbody>\n",
       "    <tr>\n",
       "      <th>luxwort-1948-11-25-a-i0033</th>\n",
       "      <td>ar</td>\n",
       "      <td>Europäischer Föderalistenkongreß in Rom</td>\n",
       "      <td></td>\n",
       "      <td>[]</td>\n",
       "      <td>[{'uid': '2-50-Pius_XII.'}]</td>\n",
       "      <td>[{'uid': 'tm-de-all-v2.0_tp25_de', 'relevance'...</td>\n",
       "      <td>733</td>\n",
       "      <td>1</td>\n",
       "      <td>de</td>\n",
       "      <td>False</td>\n",
       "      <td>1948-11-25T00:00:00+00:00</td>\n",
       "      <td>LU</td>\n",
       "      <td>BNL</td>\n",
       "      <td>luxwort</td>\n",
       "      <td>newspaper</td>\n",
       "    </tr>\n",
       "    <tr>\n",
       "      <th>luxland-1984-12-21-a-i0018</th>\n",
       "      <td>ar</td>\n",
       "      <td>Notizblock</td>\n",
       "      <td></td>\n",
       "      <td>[]</td>\n",
       "      <td>[{'uid': '2-50-Jean_Giono'}]</td>\n",
       "      <td>[{'uid': 'tm-de-all-v2.0_tp92_de', 'relevance'...</td>\n",
       "      <td>853</td>\n",
       "      <td>1</td>\n",
       "      <td>de</td>\n",
       "      <td>False</td>\n",
       "      <td>1984-12-21T00:00:00+00:00</td>\n",
       "      <td>LU</td>\n",
       "      <td>BNL</td>\n",
       "      <td>luxland</td>\n",
       "      <td>newspaper</td>\n",
       "    </tr>\n",
       "  </tbody>\n",
       "</table>\n",
       "</div>"
      ],
      "text/plain": [
       "                           type                                    title  \\\n",
       "uid                                                                        \n",
       "luxwort-1948-11-25-a-i0033   ar  Europäischer Föderalistenkongreß in Rom   \n",
       "luxland-1984-12-21-a-i0018   ar                               Notizblock   \n",
       "\n",
       "                           transcript locations                       persons  \\\n",
       "uid                                                                             \n",
       "luxwort-1948-11-25-a-i0033                   []   [{'uid': '2-50-Pius_XII.'}]   \n",
       "luxland-1984-12-21-a-i0018                   []  [{'uid': '2-50-Jean_Giono'}]   \n",
       "\n",
       "                                                                       topics  \\\n",
       "uid                                                                             \n",
       "luxwort-1948-11-25-a-i0033  [{'uid': 'tm-de-all-v2.0_tp25_de', 'relevance'...   \n",
       "luxland-1984-12-21-a-i0018  [{'uid': 'tm-de-all-v2.0_tp92_de', 'relevance'...   \n",
       "\n",
       "                            transcriptLength  totalPages languageCode  \\\n",
       "uid                                                                     \n",
       "luxwort-1948-11-25-a-i0033               733           1           de   \n",
       "luxland-1984-12-21-a-i0018               853           1           de   \n",
       "\n",
       "                            isOnFrontPage            publicationDate  \\\n",
       "uid                                                                    \n",
       "luxwort-1948-11-25-a-i0033          False  1948-11-25T00:00:00+00:00   \n",
       "luxland-1984-12-21-a-i0018          False  1984-12-21T00:00:00+00:00   \n",
       "\n",
       "                           countryCode dataProviderCode mediaCode  mediaType  \n",
       "uid                                                                           \n",
       "luxwort-1948-11-25-a-i0033          LU              BNL   luxwort  newspaper  \n",
       "luxland-1984-12-21-a-i0018          LU              BNL   luxland  newspaper  "
      ]
     },
     "execution_count": 6,
     "metadata": {},
     "output_type": "execute_result"
    }
   ],
   "source": [
    "df = result.df\n",
    "df.head(2)"
   ]
  },
  {
   "cell_type": "markdown",
   "metadata": {},
   "source": [
    "## Get a content item\n",
    "\n",
    "Below we will use the `content_items` resource to get an article by its ID:"
   ]
  },
  {
   "cell_type": "code",
   "execution_count": 7,
   "metadata": {},
   "outputs": [
    {
     "data": {
      "text/html": [
       "<div style=\"display: grid; \">\n",
       "<div>\n",
       "<h2>ContentItem result</h2>\n",
       "<div>Contains <b>1</b> items of <b>1</b> total items.</div>\n",
       "<br/>\n",
       "See this result in the <a href=\"https://impresso-project.ch/app/issue/NZZ-1794-08-09-a/view?articleId=i0002\">Impresso App</a>.\n",
       "</div>\n",
       "</div>\n",
       "<h3>Data preview:</h3>\n",
       "<div>\n",
       "<style scoped>\n",
       "    .dataframe tbody tr th:only-of-type {\n",
       "        vertical-align: middle;\n",
       "    }\n",
       "\n",
       "    .dataframe tbody tr th {\n",
       "        vertical-align: top;\n",
       "    }\n",
       "\n",
       "    .dataframe thead th {\n",
       "        text-align: right;\n",
       "    }\n",
       "</style>\n",
       "<table border=\"1\" class=\"dataframe\">\n",
       "  <thead>\n",
       "    <tr style=\"text-align: right;\">\n",
       "      <th></th>\n",
       "      <th>uid</th>\n",
       "      <th>type</th>\n",
       "      <th>title</th>\n",
       "      <th>transcript</th>\n",
       "      <th>locations</th>\n",
       "      <th>persons</th>\n",
       "      <th>topics</th>\n",
       "      <th>transcriptLength</th>\n",
       "      <th>totalPages</th>\n",
       "      <th>languageCode</th>\n",
       "      <th>isOnFrontPage</th>\n",
       "      <th>publicationDate</th>\n",
       "      <th>countryCode</th>\n",
       "      <th>dataProviderCode</th>\n",
       "      <th>mediaCode</th>\n",
       "      <th>mediaType</th>\n",
       "    </tr>\n",
       "  </thead>\n",
       "  <tbody>\n",
       "    <tr>\n",
       "      <th>0</th>\n",
       "      <td>NZZ-1794-08-09-a-i0002</td>\n",
       "      <td>page</td>\n",
       "      <td>[REDACTED]</td>\n",
       "      <td>[REDACTED]</td>\n",
       "      <td>[{'uid': '2-54-Paris'}, {'uid': '2-54-Fort'}, ...</td>\n",
       "      <td>[{'uid': '2-50-François_Hanriot'}, {'uid': '2-...</td>\n",
       "      <td>[{'uid': 'tm-de-all-v2.0_tp47_de', 'relevance'...</td>\n",
       "      <td>988</td>\n",
       "      <td>1</td>\n",
       "      <td>de</td>\n",
       "      <td>False</td>\n",
       "      <td>1794-08-09T00:00:00+00:00</td>\n",
       "      <td>CH</td>\n",
       "      <td>NZZ</td>\n",
       "      <td>NZZ</td>\n",
       "      <td>newspaper</td>\n",
       "    </tr>\n",
       "  </tbody>\n",
       "</table>\n",
       "</div>"
      ],
      "text/plain": [
       "<impresso.resources.content_items.ContentItemDataContainer at 0x117727650>"
      ]
     },
     "execution_count": 7,
     "metadata": {},
     "output_type": "execute_result"
    }
   ],
   "source": [
    "content_item = impresso.content_items.get(\"NZZ-1794-08-09-a-i0002\")\n",
    "content_item"
   ]
  },
  {
   "cell_type": "markdown",
   "metadata": {},
   "source": [
    "We can also get it as a Pydantic model or as a DataFrame."
   ]
  },
  {
   "cell_type": "code",
   "execution_count": 8,
   "metadata": {},
   "outputs": [
    {
     "data": {
      "text/plain": [
       "'[REDACTED]'"
      ]
     },
     "execution_count": 8,
     "metadata": {},
     "output_type": "execute_result"
    }
   ],
   "source": [
    "content_item.pydantic.transcript"
   ]
  },
  {
   "cell_type": "code",
   "execution_count": 9,
   "metadata": {},
   "outputs": [
    {
     "data": {
      "text/html": [
       "<div>\n",
       "<style scoped>\n",
       "    .dataframe tbody tr th:only-of-type {\n",
       "        vertical-align: middle;\n",
       "    }\n",
       "\n",
       "    .dataframe tbody tr th {\n",
       "        vertical-align: top;\n",
       "    }\n",
       "\n",
       "    .dataframe thead th {\n",
       "        text-align: right;\n",
       "    }\n",
       "</style>\n",
       "<table border=\"1\" class=\"dataframe\">\n",
       "  <thead>\n",
       "    <tr style=\"text-align: right;\">\n",
       "      <th></th>\n",
       "      <th>uid</th>\n",
       "      <th>countryCode</th>\n",
       "      <th>languageCode</th>\n",
       "    </tr>\n",
       "  </thead>\n",
       "  <tbody>\n",
       "    <tr>\n",
       "      <th>0</th>\n",
       "      <td>NZZ-1794-08-09-a-i0002</td>\n",
       "      <td>CH</td>\n",
       "      <td>de</td>\n",
       "    </tr>\n",
       "  </tbody>\n",
       "</table>\n",
       "</div>"
      ],
      "text/plain": [
       "                      uid countryCode languageCode\n",
       "0  NZZ-1794-08-09-a-i0002          CH           de"
      ]
     },
     "execution_count": 9,
     "metadata": {},
     "output_type": "execute_result"
    }
   ],
   "source": [
    "content_item.df[['uid', 'countryCode', 'languageCode']]\n"
   ]
  },
  {
   "cell_type": "markdown",
   "metadata": {},
   "source": [
    "## Search facets\n",
    "\n",
    "In this cell, we will search for facets related to the term \"fromage\" in the Impresso collection. This is a convenient way to see a breakdown of the search results by country.\n"
   ]
  },
  {
   "cell_type": "code",
   "execution_count": 10,
   "metadata": {},
   "outputs": [
    {
     "data": {
      "text/html": [
       "<div>\n",
       "<style scoped>\n",
       "    .dataframe tbody tr th:only-of-type {\n",
       "        vertical-align: middle;\n",
       "    }\n",
       "\n",
       "    .dataframe tbody tr th {\n",
       "        vertical-align: top;\n",
       "    }\n",
       "\n",
       "    .dataframe thead th {\n",
       "        text-align: right;\n",
       "    }\n",
       "</style>\n",
       "<table border=\"1\" class=\"dataframe\">\n",
       "  <thead>\n",
       "    <tr style=\"text-align: right;\">\n",
       "      <th></th>\n",
       "      <th>count</th>\n",
       "    </tr>\n",
       "    <tr>\n",
       "      <th>value</th>\n",
       "      <th></th>\n",
       "    </tr>\n",
       "  </thead>\n",
       "  <tbody>\n",
       "    <tr>\n",
       "      <th>CH</th>\n",
       "      <td>194</td>\n",
       "    </tr>\n",
       "    <tr>\n",
       "      <th>FR</th>\n",
       "      <td>15</td>\n",
       "    </tr>\n",
       "    <tr>\n",
       "      <th>LU</th>\n",
       "      <td>648</td>\n",
       "    </tr>\n",
       "  </tbody>\n",
       "</table>\n",
       "</div>"
      ],
      "text/plain": [
       "       count\n",
       "value       \n",
       "CH       194\n",
       "FR        15\n",
       "LU       648"
      ]
     },
     "execution_count": 10,
     "metadata": {},
     "output_type": "execute_result"
    }
   ],
   "source": [
    "country_facet = impresso.search.facet(\"country\", term=\"fromage\")\n",
    "country_facet.df"
   ]
  }
 ],
 "metadata": {
  "kernelspec": {
   "display_name": "impresso-py3.11",
   "language": "python",
   "name": "python3"
  },
  "language_info": {
   "codemirror_mode": {
    "name": "ipython",
    "version": 3
   },
   "file_extension": ".py",
   "mimetype": "text/x-python",
   "name": "python",
   "nbconvert_exporter": "python",
   "pygments_lexer": "ipython3",
   "version": "3.11.11"
  }
 },
 "nbformat": 4,
 "nbformat_minor": 2
}
