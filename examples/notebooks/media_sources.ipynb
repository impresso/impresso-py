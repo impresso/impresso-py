{
 "cells": [
  {
   "cell_type": "code",
   "execution_count": 1,
   "metadata": {},
   "outputs": [
    {
     "name": "stdout",
     "output_type": "stream",
     "text": [
      "🎉 You are now connected to the Impresso API!  🎉\n",
      "🔗 Using API: http://localhost:3030\n"
     ]
    }
   ],
   "source": [
    "from impresso import connect\n",
    "\n",
    "impresso = connect()"
   ]
  },
  {
   "cell_type": "markdown",
   "metadata": {},
   "source": [
    "# Search media sources\n",
    "\n",
    "Find newspapers having the term 'wort' in their name."
   ]
  },
  {
   "cell_type": "code",
   "execution_count": 7,
   "metadata": {},
   "outputs": [
    {
     "data": {
      "text/html": [
       "<div style=\"display: grid; \">\n",
       "<div>\n",
       "<h2>FindMediaSources result</h2>\n",
       "<div>Contains <b>2</b> items of <b>2</b> total items.</div>\n",
       "<br/>\n",
       "See this result in the <a href=\"https://impresso-project.ch/app/newspapers?orderBy=lastIssue&q=wort\">Impresso App</a>.\n",
       "</div>\n",
       "</div>\n",
       "<h3>Data preview:</h3>\n",
       "<div>\n",
       "<style scoped>\n",
       "    .dataframe tbody tr th:only-of-type {\n",
       "        vertical-align: middle;\n",
       "    }\n",
       "\n",
       "    .dataframe tbody tr th {\n",
       "        vertical-align: top;\n",
       "    }\n",
       "\n",
       "    .dataframe thead th {\n",
       "        text-align: right;\n",
       "    }\n",
       "</style>\n",
       "<table border=\"1\" class=\"dataframe\">\n",
       "  <thead>\n",
       "    <tr style=\"text-align: right;\">\n",
       "      <th></th>\n",
       "      <th>type</th>\n",
       "      <th>name</th>\n",
       "      <th>languageCodes</th>\n",
       "      <th>publishedPeriodYears</th>\n",
       "      <th>availableDatesRange</th>\n",
       "      <th>properties</th>\n",
       "      <th>totals.articles</th>\n",
       "      <th>totals.issues</th>\n",
       "      <th>totals.pages</th>\n",
       "    </tr>\n",
       "    <tr>\n",
       "      <th>uid</th>\n",
       "      <th></th>\n",
       "      <th></th>\n",
       "      <th></th>\n",
       "      <th></th>\n",
       "      <th></th>\n",
       "      <th></th>\n",
       "      <th></th>\n",
       "      <th></th>\n",
       "      <th></th>\n",
       "    </tr>\n",
       "  </thead>\n",
       "  <tbody>\n",
       "    <tr>\n",
       "      <th>landwortbild</th>\n",
       "      <td>newspaper</td>\n",
       "      <td>Luxemburger Land in Wort und Bild</td>\n",
       "      <td>[fr, de]</td>\n",
       "      <td>[1895, 1895]</td>\n",
       "      <td>[1895-04-07T00:00:00+00:00, 1895-12-29T00:00:0...</td>\n",
       "      <td>[]</td>\n",
       "      <td>735</td>\n",
       "      <td>39</td>\n",
       "      <td>314</td>\n",
       "    </tr>\n",
       "    <tr>\n",
       "      <th>luxwort</th>\n",
       "      <td>newspaper</td>\n",
       "      <td>Luxemburger Wort</td>\n",
       "      <td>[fr, de, lb]</td>\n",
       "      <td>[1848, 1950]</td>\n",
       "      <td>[1848-03-23T00:00:00+00:00, 1950-12-30T00:00:0...</td>\n",
       "      <td>[]</td>\n",
       "      <td>1113163</td>\n",
       "      <td>30372</td>\n",
       "      <td>161216</td>\n",
       "    </tr>\n",
       "  </tbody>\n",
       "</table>\n",
       "</div>"
      ],
      "text/plain": [
       "<impresso.resources.media_sources.FindMediaSourcesContainer at 0x1170df990>"
      ]
     },
     "execution_count": 7,
     "metadata": {},
     "output_type": "execute_result"
    }
   ],
   "source": [
    "result = impresso.media_sources.find(\n",
    "    term=\"wort\",\n",
    "    type=\"newspaper\",\n",
    "    order_by=\"lastIssue\",\n",
    ")\n",
    "result"
   ]
  }
 ],
 "metadata": {
  "kernelspec": {
   "display_name": ".venv",
   "language": "python",
   "name": "python3"
  },
  "language_info": {
   "codemirror_mode": {
    "name": "ipython",
    "version": 3
   },
   "file_extension": ".py",
   "mimetype": "text/x-python",
   "name": "python",
   "nbconvert_exporter": "python",
   "pygments_lexer": "ipython3",
   "version": "3.11.9"
  }
 },
 "nbformat": 4,
 "nbformat_minor": 2
}
